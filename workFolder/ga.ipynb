{
 "cells": [
  {
   "cell_type": "markdown",
   "metadata": {},
   "source": [
    "# Тесты с генетическим алгоритмом"
   ]
  },
  {
   "cell_type": "markdown",
   "metadata": {},
   "source": [
    "Требуется подобрать такие параметры НРС, чтобы при заданных условиях (например, при требуемом расходе воды и подаче на требуемое расстояние), состав сил и средств был минимальный.\n",
    "\n",
    "Критерии оптимизации (пример для расхода и расстояния):\n",
    "\n",
    "\n",
    "$$\n",
    "|\\sum_{i=1}^{n}{Q_i}-Q_{треб.}|\\longrightarrow min\n",
    "$$\n",
    "\n",
    "$$\n",
    "|L_{НРС}-L_{треб.}|\\longrightarrow min\n",
    "$$\n",
    "\n"
   ]
  },
  {
   "cell_type": "markdown",
   "metadata": {},
   "source": [
    "Мутации добавления отдельных элементов невозможны, поэтому нужно делать мутации блоками:\n",
    "\n",
    "* ствол с рукавной линией\n",
    "* магистральная рукавная линия\n",
    "\n",
    "Нет, не так!\n",
    "\n",
    "Типы мутаций:\n",
    "\n",
    "* Разбить составной элемент, вставив другой элемент,\n",
    "* Удалить элемент\n",
    "* Изменить параметры элемента (количество рукавов, тип рукавов)\n",
    "* Добавить рабочую рукавную линию\n",
    "\n",
    "Основные категории элементов НРС:\n",
    "\n",
    "* Насос ПА (Pump)\n",
    "* напорная рукавная линия (Hose)\n",
    "* всасывающая рукавная линия (InHose)\n",
    "* разветвление (Splitter)\n",
    "* водосборник (Joiner)\n",
    "* ствол (Nozzle)\n",
    "\n",
    "\n",
    "Также нужно добавить элемент который будет очищать мусор в модели."
   ]
  },
  {
   "cell_type": "markdown",
   "metadata": {},
   "source": [
    "## Обертка над NRS которая будет реализовывать более тонкие функции ГА"
   ]
  },
  {
   "cell_type": "code",
   "execution_count": 13,
   "metadata": {},
   "outputs": [],
   "source": [
    "from nrs import NRS_Model, Element, NRS_Revision, NRS_Observer_E    # классы НРС\n",
    "from nrs import NRS_Data                                            # Табличные данные НРС\n",
    "from nrs import q_out_simple, q_out_nozzle                          # модели расчета параметров\n",
    "import matplotlib.pyplot as plt                                     # библиотеки для отрисовки получаемых данных\n",
    "import networkx as nx\n",
    "import random\n",
    "\n",
    "import logging\n",
    "logger = logging.getLogger('NRS')\n",
    "logger.setLevel(logging.DEBUG)\n",
    "# logging.basicConfig(level=logging.DEBUG)"
   ]
  },
  {
   "cell_type": "code",
   "execution_count": 14,
   "metadata": {},
   "outputs": [
    {
     "name": "stdout",
     "output_type": "stream",
     "text": [
      "Новая модель: Тест простой модели для ГА\n",
      "3.3423464007615813\n",
      "\n",
      "Статус насоса:\n",
      "H_add: 40\n",
      "q: 3.3423464007615813\n"
     ]
    }
   ],
   "source": [
    "# from workFolder.nrs import q_out_simple\n",
    "\n",
    "\n",
    "class GA_model(NRS_Model):\n",
    "    '''\n",
    "    Класс модели НРС адаптированный для работы ГА\n",
    "    '''\n",
    "    def __init__(self, name):\n",
    "        self.pumps=[]\n",
    "        self.hoses=[]\n",
    "        self.inhoses=[]\n",
    "        self.splitters=[]\n",
    "        self.joiners=[]\n",
    "        self.nozzles=[]\n",
    "        super().__init__(name)\n",
    "\n",
    "    def appendElement(self, elmnt):\n",
    "        \n",
    "        # super().appendElement(elmnt)\n",
    "\n",
    "        if isinstance(elmnt, GA_Element_Pump):\n",
    "            self.pumps.append(elmnt)\n",
    "            if elmnt.name=='': elmnt.name='Н'+str(self.counter)\n",
    "        if isinstance(elmnt, GA_Element_Hose):\n",
    "            self.hoses.append(elmnt)\n",
    "            if elmnt.name=='': elmnt.name='НРЛ'+str(self.counter)\n",
    "        if isinstance(elmnt, GA_Element_InHose):\n",
    "            self.inhoses.append(elmnt)\n",
    "            if elmnt.name=='': elmnt.name='ВРЛ'+str(self.counter)\n",
    "        if isinstance(elmnt, GA_Element_Splitter):\n",
    "            self.splitters.append(elmnt)\n",
    "            if elmnt.name=='': elmnt.name='Р'+str(self.counter)\n",
    "        if isinstance(elmnt, GA_Element_Joiner):\n",
    "            self.joiners.append(elmnt)\n",
    "            if elmnt.name=='': elmnt.name='ВС'+str(self.counter)\n",
    "        if isinstance(elmnt, GA_Element_Nozzle):\n",
    "            self.nozzles.append(elmnt)\n",
    "            if elmnt.name=='': elmnt.name='Ств'+str(self.counter)\n",
    "            \n",
    "        return super().appendElement(elmnt)\n",
    "\n",
    "    def crossing(self, pair_model):\n",
    "        return self\n",
    "\n",
    "    def mutate(self):\n",
    "        return self\n",
    "\n",
    "    def check_pumps(self):\n",
    "        '''\n",
    "        Проверяет пожарные автомобили. \n",
    "        Для тех из них у которых есть только элементы на выход устанавливается e_type `0` (in).\n",
    "        Для тех у кого имеются и те и те, ставится e_type `1` (inter).\n",
    "        '''\n",
    "        for elmnt in self.elmnts:\n",
    "            if isinstance(elmnt, GA_Element_Pump):\n",
    "                e_in = len(elmnt.elements_previous)\n",
    "                e_out = len(elmnt.elements_next)\n",
    "                if e_in==0 and e_out>0:\n",
    "                    elmnt.type = 0\n",
    "                if e_in>0 and e_out>0:\n",
    "                    elmnt.type = 1\n",
    "        return self\n",
    "    \n",
    "\n",
    "class GA_Element_Pump(Element):\n",
    "    '''\n",
    "    Класс элемента `Пожарного автомобиля с насосом` адаптированный для работы ГА.\n",
    "    '''\n",
    "    def __init__(self, name, e_type, H_min=10, Q_min=0, H_max=100, Q_max=40, \n",
    "        q=3.7, s=0, H_in=0, h=0, H_add=0, z=0, p=1, n=1, l=0, ri=2, ro=2, q_out=...):\n",
    "        super().__init__(name, e_type, q, s, H_in, h, H_add, z, p, n, l, ri, ro, q_out)\n",
    "\n",
    "    def set_H_add(self, H_add):\n",
    "        if H_add > H_max:\n",
    "            self.H_add = H_max\n",
    "        else:\n",
    "            self.H_add = H_add\n",
    "        if H_add <= H_min:\n",
    "            self.H_add = H_min\n",
    "        else:\n",
    "            self.H_add = H_add\n",
    "\n",
    "    def mutate(self):\n",
    "        pass\n",
    "\n",
    "\n",
    "class GA_Element_Hose(Element):\n",
    "    '''\n",
    "    Класс элемента `Рукавной линии` адаптированный для работы ГА.\n",
    "    '''\n",
    "    def __init__(self, name, e_type=1, d='51', q=3.7, s=0, H_in=0, h=0, H_add=0, z=0, p=1, n=1, l=20, ri=1, ro=1, q_out=...):\n",
    "        self.d=d\n",
    "        super().__init__(name, e_type, q, s, H_in, h, H_add, z, p, n, l, ri, ro, q_out)\n",
    "\n",
    "    def mutate(self):\n",
    "        mutation_case = random.choice([0,1])\n",
    "        # мутация количества\n",
    "        if mutation_case==0:\n",
    "            change_val = random.choice([-1,1])\n",
    "            if self.n+change_val>0:\n",
    "                self.n = self.n+change_val\n",
    "        # мутация диаметра\n",
    "        if mutation_case==1:\n",
    "            new_d=random.choice(list(NRS_Data.ss.keys()))\n",
    "            self.d = new_d\n",
    "            self.s = NRS_Data.ss[new_d]\n",
    "        # мутация типа\n",
    "\n",
    "        # разбиение\n",
    "\n",
    "class GA_Element_InHose(Element):\n",
    "    '''\n",
    "    Класс элемента `Всасывающей рукавной линии` адаптированный для работы ГА.\n",
    "    '''\n",
    "    def __init__(self, name, e_type=1, q=3.7, s=0, H_in=0, h=0, H_add=0, z=0, p=1, n=1, l=4, ri=1, ro=1, q_out=...):\n",
    "        super().__init__(name, e_type, q, s, H_in, h, H_add, z, p, n, l, ri, ro, q_out)\n",
    "\n",
    "    def mutate(self):\n",
    "        pass\n",
    "\n",
    "class GA_Element_Splitter(Element):\n",
    "    '''\n",
    "    Класс элемента `Разветвление` адаптированный для работы ГА.\n",
    "    '''\n",
    "    def __init__(self, name, e_type=1, q=3.7, s=0, H_in=0, h=0, H_add=0, z=0, p=1, n=1, l=0, ri=1, ro=3, q_out=...):\n",
    "        super().__init__(name, e_type, q, s, H_in, h, H_add, z, p, n, l, ri, ro, q_out)\n",
    "\n",
    "    def mutate(self):\n",
    "        pass\n",
    "\n",
    "class GA_Element_Joiner(Element):\n",
    "    '''\n",
    "    Класс элемента `Водосборник` адаптированный для работы ГА.\n",
    "    '''\n",
    "    def __init__(self, name, e_type=1, q=3.7, s=0, H_in=0, h=0, H_add=0, z=0, p=1, n=1, l=0, ri=2, ro=1, q_out=...):\n",
    "        super().__init__(name, e_type, q, s, H_in, h, H_add, z, p, n, l, ri, ro, q_out)\n",
    "\n",
    "    def mutate(self):\n",
    "        pass\n",
    "\n",
    "class GA_Element_Nozzle(Element):\n",
    "    '''\n",
    "    Класс элемента `Ствол` адаптированный для работы ГА.\n",
    "    '''\n",
    "    def __init__(self, name, e_type=1, n_type='Б', q=3.7, s=0, H_in=0, h=0, H_add=0, z=0, p=1, n=1, l=0, ri=1, ro=0, q_out=...):\n",
    "        '''\n",
    "        `n_type` - тип ствола. `Б` - ручной ствол Б, `А` - ручной ствол А, `Л` - лафетный переносной, `ЛА` - лафетный автомобильный.\n",
    "        '''\n",
    "        self.n_type = n_type\n",
    "        super().__init__(name, e_type, q, s, H_in, h, H_add, z, p, n, l, ri, ro, q_out)\n",
    "\n",
    "    def mutate(self):\n",
    "        pass\n",
    "\n",
    "\n",
    "\n",
    "\n",
    "#====================================================================================================================================\n",
    "# Вычисляем проводимость насадка для ствола Б\n",
    "p_nozzleB = NRS_Revision.calc_p(3.7, 40)\n",
    "p_nozzleA = NRS_Revision.calc_p(7.4, 40)\n",
    "p_nozzleL = NRS_Revision.calc_p(16, 40)\n",
    "\n",
    "# Элементы\n",
    "# pump = GA_Element_Pump('Насос', e_type=0, H_add=40)                                \n",
    "# hoseW1 = GA_Element_Hose('РЛ1', e_type=1, s=NRS_Data.ss[\"51\"], n=5)             \n",
    "# nozzle1 = GA_Element_Nozzle('Ств1', e_type=2, p=p_nozzleB, q_out = q_out_nozzle)\n",
    "pump = GA_Element_Pump('', e_type=1, H_add=40)                                \n",
    "hoseW1 = GA_Element_Hose('', e_type=1, s=NRS_Data.ss[\"51\"], n=5)             \n",
    "nozzle1 = GA_Element_Nozzle('', e_type=2, p=p_nozzleB, q_out = q_out_nozzle)\n",
    "\n",
    "# Соединяем элементы\n",
    "pump.append(hoseW1).append(nozzle1)\n",
    "\n",
    "# Добавляем наблюдателей\n",
    "watcher_pump = NRS_Observer_E(pump, ['q', 'H_add'])         # Для насоса. Наблюдаем изменения расхода и дополнительного напора (создаваемого насосом)\n",
    "watcher_nozzle1 = NRS_Observer_E(nozzle1, ['q', 'H_in'])    # Для ствола. Наблюдаем изменения расхода и напора на входе\n",
    "\n",
    "# Сборка модели\n",
    "model = GA_model('Тест простой модели для ГА')\n",
    "# model.build(pump, interpretate=True).observersInit()\n",
    "# model.addElements([pump, hoseW1, nozzle1], interpretate=True).observersInit()\n",
    "model.addElements([pump, hoseW1, nozzle1]).check_pumps().interpretate().observersInit()\n",
    "\n",
    "\n",
    "# Расчет \n",
    "model.calc(accuracy=0.05)\n",
    "print(model.summaryQ(), end='\\n\\n')\n",
    "\n",
    "print('Статус насоса:')\n",
    "NRS_Revision.print_element_state(pump, ['H_add', 'q'])"
   ]
  },
  {
   "cell_type": "code",
   "execution_count": 15,
   "metadata": {},
   "outputs": [
    {
     "name": "stdout",
     "output_type": "stream",
     "text": [
      "all:\n",
      "  Н0\n",
      "  РРЛ1\n",
      "  Ств2\n",
      "in:\n",
      "  Н0\n",
      "out:\n",
      "  Ств2\n"
     ]
    }
   ],
   "source": [
    "NRS_Revision.print_model_elements(model)"
   ]
  },
  {
   "cell_type": "code",
   "execution_count": 16,
   "metadata": {},
   "outputs": [
    {
     "name": "stdout",
     "output_type": "stream",
     "text": [
      "elements_next: [<__main__.GA_Element_Hose object at 0x00000279837A4290>]\n",
      "elements_previous: []\n",
      "type: 0\n",
      "name: Н0\n",
      "q: 3.3423464007615813\n",
      "s: 0\n",
      "H_in: 0\n",
      "h: 0.0\n",
      "z: 0\n",
      "p: 1\n",
      "n: 1\n",
      "q_out: Ellipsis\n",
      "H_add: 40\n",
      "observer: <nrs.NRS_Observer_E object at 0x0000027984ED8050>\n",
      "l: 0\n",
      "ri: 2\n",
      "ro: 2\n",
      "H_out: 40.0\n"
     ]
    }
   ],
   "source": [
    "NRS_Revision.print_element_state(pump)"
   ]
  },
  {
   "cell_type": "code",
   "execution_count": 17,
   "metadata": {},
   "outputs": [
    {
     "data": {
      "text/plain": [
       "'250'"
      ]
     },
     "execution_count": 17,
     "metadata": {},
     "output_type": "execute_result"
    }
   ],
   "source": [
    "random.choice(list(NRS_Data.ss.keys()))"
   ]
  },
  {
   "cell_type": "code",
   "execution_count": 18,
   "metadata": {},
   "outputs": [
    {
     "data": {
      "text/plain": [
       "[<__main__.GA_Element_Pump at 0x27985611350>]"
      ]
     },
     "execution_count": 18,
     "metadata": {},
     "output_type": "execute_result"
    }
   ],
   "source": [
    "model.pumps"
   ]
  },
  {
   "cell_type": "code",
   "execution_count": 19,
   "metadata": {},
   "outputs": [
    {
     "name": "stdout",
     "output_type": "stream",
     "text": [
      "3.294450493638155\n",
      "\n",
      "Статус насоса:\n",
      "H_add: 40\n",
      "q: 3.294450493638155\n"
     ]
    }
   ],
   "source": [
    "# hoseW2 = GA_Element_Hose('РРЛ2', e_type=1, s=NRS_Data.ss[\"77\"], n=5)\n",
    "hoseW2 = GA_Element_Hose('', e_type=1, s=NRS_Data.ss[\"77\"], n=5)\n",
    "\n",
    "# Удаляем из ссылок текущего элемента ссылку на следующий элемент\n",
    "next_e = hoseW1.elements_next[0]\n",
    "del hoseW1.elements_next[0]\n",
    "del next_e.elements_previous[0]\n",
    "hoseW1.append(hoseW2).append(next_e)\n",
    "\n",
    "# Пересобираем модель\n",
    "# model.clear().build(hoseW1, interpretate=True).observersInit()\n",
    "# model.build(hoseW1, interpretate=True).observersInit()\n",
    "model.appendElement(hoseW2)\n",
    "model.check_pumps().interpretate()   #.observersInit()\n",
    "\n",
    "# Расчет \n",
    "model.calc(accuracy=0.05)\n",
    "print(model.summaryQ(), end='\\n\\n')\n",
    "\n",
    "print('Статус насоса:')\n",
    "NRS_Revision.print_element_state(pump, ['H_add', 'q'])"
   ]
  },
  {
   "cell_type": "code",
   "execution_count": 20,
   "metadata": {},
   "outputs": [
    {
     "name": "stdout",
     "output_type": "stream",
     "text": [
      "all:\n",
      "  Н0\n",
      "  РРЛ1\n",
      "  Ств2\n",
      "  РРЛ3\n",
      "in:\n",
      "  Н0\n",
      "out:\n",
      "  Ств2\n"
     ]
    }
   ],
   "source": [
    "NRS_Revision.print_model_elements(model)"
   ]
  },
  {
   "cell_type": "code",
   "execution_count": 21,
   "metadata": {},
   "outputs": [
    {
     "name": "stdout",
     "output_type": "stream",
     "text": [
      "4.581690610099076\n",
      "\n",
      "Статус насоса 1:\n",
      "H_add: 40\n",
      "q: 4.581690610099076\n",
      "Статус насоса 2:\n",
      "H_add: 40\n",
      "q: 4.581690610099076\n"
     ]
    }
   ],
   "source": [
    "pump2 = GA_Element_Pump('', e_type=1, H_add=40).addToModel(model)              \n",
    "hoseM2 = GA_Element_Hose('', e_type=1, s=NRS_Data.ss[\"77\"], n=10).addToModel(model)\n",
    "pump2.append(hoseM2).append(pump)\n",
    "\n",
    "# model.appendElement(hoseW2)\n",
    "model.check_pumps().interpretate()\n",
    "\n",
    "# Расчет \n",
    "model.calc(accuracy=0.05)\n",
    "print(model.summaryQ(), end='\\n\\n')\n",
    "\n",
    "print('Статус насоса 1:')\n",
    "NRS_Revision.print_element_state(pump, ['H_add', 'q'])\n",
    "print('Статус насоса 2:')\n",
    "NRS_Revision.print_element_state(pump2, ['H_add', 'q'])"
   ]
  },
  {
   "cell_type": "markdown",
   "metadata": {},
   "source": [
    "# Визуализация"
   ]
  },
  {
   "cell_type": "code",
   "execution_count": 22,
   "metadata": {},
   "outputs": [
    {
     "name": "stdout",
     "output_type": "stream",
     "text": [
      "Расстояние до Н0 200 м\n",
      "Расстояние до Н4 400 м\n"
     ]
    },
    {
     "data": {
      "image/png": "[encoded data removed]",
      "text/plain": [
       "<Figure size 640x480 with 1 Axes>"
      ]
     },
     "metadata": {},
     "output_type": "display_data"
    }
   ],
   "source": [
    "# model = model3\n",
    "# Построение графа НРС\n",
    "G = nx.DiGraph()\n",
    "# Узлы - на каждый элемент\n",
    "for elmnt in model.elmnts:\n",
    "    G.add_node(elmnt.name, q=elmnt.q)\n",
    "# Ребра - на каждую связь\n",
    "for elmnt in model.elmnts:\n",
    "    for elmnt_next in elmnt.elements_next:\n",
    "        G.add_edge(elmnt.name, elmnt_next.name, L=elmnt.get_L())\n",
    "\n",
    "# Расчет расстояния до элементов\n",
    "# for elmnt in model.elmnts_out:\n",
    "#     paths = nx.shortest_path_length(G, target = elmnt.name, weight='L')\n",
    "#     nx.set_node_attributes(G, paths, 'L')   # Здесь нужна другая логика\n",
    "#     print(f'Расстояние до {elmnt.name} {max(paths.values())} м')\n",
    "for elmnt in model.elmnts_in:\n",
    "    paths = nx.shortest_path_length(G, source = elmnt.name, weight='L')\n",
    "    nx.set_node_attributes(G, paths, 'L')   # Здесь нужна другая логика\n",
    "    print(f'Расстояние до {elmnt.name} {max(paths.values())} м')    \n",
    "\n",
    "# Печать графа НРС\n",
    "pos={}\n",
    "pos_list=[]\n",
    "level=0\n",
    "for eo in model.elmnts_in:\n",
    "    v = eo.name\n",
    "    spl = dict(nx.single_source_shortest_path_length(G, v))\n",
    "    for nd, p in spl.items():\n",
    "        if not nd in pos.keys():\n",
    "            level_rize=level\n",
    "            cpos = (p,level_rize)\n",
    "            while cpos in pos_list:\n",
    "                level_rize+=1\n",
    "                cpos = (p,level_rize)\n",
    "            pos[nd]=cpos\n",
    "            pos_list.append(cpos)\n",
    "    level+=1\n",
    "\n",
    "# nc = [nd[1]['q'] for nd in list(G.nodes(data=True))]\n",
    "nc = [nd[1]['L'] for nd in list(G.nodes(data=True))]\n",
    "nx.draw(G, pos=pos, with_labels=True, node_color=nc)\n",
    "plt.show()"
   ]
  },
  {
   "cell_type": "code",
   "execution_count": 10,
   "metadata": {},
   "outputs": [
    {
     "data": {
      "text/plain": [
       "[('Н0', {'q': 3.294450493638155, 'L': 0}),\n",
       " ('РРЛ1', {'q': 3.294450493638155, 'L': 0}),\n",
       " ('Ств2', {'q': 3.294450493638155, 'L': 200}),\n",
       " ('РРЛ3', {'q': 3.294450493638155, 'L': 100})]"
      ]
     },
     "execution_count": 10,
     "metadata": {},
     "output_type": "execute_result"
    }
   ],
   "source": [
    "list(G.nodes(data=True))"
   ]
  },
  {
   "cell_type": "markdown",
   "metadata": {},
   "source": [
    "# Тесты"
   ]
  },
  {
   "cell_type": "code",
   "execution_count": 23,
   "metadata": {},
   "outputs": [],
   "source": [
    "p_nozzleB = NRS_Revision.calc_p(3.7, 40)\n",
    "p_nozzleA = NRS_Revision.calc_p(7.4, 40)\n",
    "p_nozzleL = NRS_Revision.calc_p(16, 40)"
   ]
  },
  {
   "cell_type": "code",
   "execution_count": 67,
   "metadata": {},
   "outputs": [],
   "source": [
    "elements_sack = []\n",
    "elements_sack.append(GA_Element_Pump('Н1', e_type=1, H_add=40))\n",
    "elements_sack.append(GA_Element_Pump('Н2', e_type=0, H_add=60))\n",
    "elements_sack.append(GA_Element_Pump('Н3', e_type=0, H_add=80))\n",
    "elements_sack.append(GA_Element_Hose('', e_type=1, s=NRS_Data.ss[\"51\"], n=2))\n",
    "elements_sack.append(GA_Element_Hose('', e_type=1, s=NRS_Data.ss[\"51\"], n=4))\n",
    "elements_sack.append(GA_Element_Hose('', e_type=1, s=NRS_Data.ss[\"51\"], n=6))\n",
    "elements_sack.append(GA_Element_Hose('', e_type=1, s=NRS_Data.ss[\"77\"], n=2))\n",
    "elements_sack.append(GA_Element_Hose('', e_type=1, s=NRS_Data.ss[\"77\"], n=4))\n",
    "elements_sack.append(GA_Element_Hose('', e_type=1, s=NRS_Data.ss[\"77\"], n=6))\n",
    "elements_sack.append(GA_Element_Nozzle('', e_type=2, p=p_nozzleB, q_out = q_out_nozzle))\n",
    "elements_sack.append(GA_Element_Nozzle('', e_type=2, p=p_nozzleA, q_out = q_out_nozzle))\n",
    "elements_sack.append(GA_Element_Nozzle('', e_type=2, p=p_nozzleL, q_out = q_out_nozzle))\n",
    "elements_sack.append(GA_Element_Joiner('', e_type=1, ri=2, ro=1))\n",
    "elements_sack.append(GA_Element_Splitter('', e_type=1, ri=1, ro=3))"
   ]
  },
  {
   "cell_type": "code",
   "execution_count": 68,
   "metadata": {},
   "outputs": [
    {
     "name": "stdout",
     "output_type": "stream",
     "text": [
      "Новая модель: Тест слепой часовщик\n"
     ]
    },
    {
     "ename": "OverflowError",
     "evalue": "complex exponentiation",
     "output_type": "error",
     "traceback": [
      "\u001b[1;31m---------------------------------------------------------------------------\u001b[0m",
      "\u001b[1;31mOverflowError\u001b[0m                             Traceback (most recent call last)",
      "\u001b[1;32mg:\\GitRepositories\\NRS_modeller\\workFolder\\ga.ipynb Cell 20\u001b[0m line \u001b[0;36m1\n\u001b[0;32m     <a href='vscode-notebook-cell:/g%3A/GitRepositories/NRS_modeller/workFolder/ga.ipynb#X46sZmlsZQ%3D%3D?line=12'>13</a>\u001b[0m model\u001b[39m.\u001b[39maddElements(elements_sack)\u001b[39m.\u001b[39mcheck_pumps()\u001b[39m.\u001b[39minterpretate()  \u001b[39m#.observersInit()\u001b[39;00m\n\u001b[0;32m     <a href='vscode-notebook-cell:/g%3A/GitRepositories/NRS_modeller/workFolder/ga.ipynb#X46sZmlsZQ%3D%3D?line=14'>15</a>\u001b[0m \u001b[39m# Расчет \u001b[39;00m\n\u001b[1;32m---> <a href='vscode-notebook-cell:/g%3A/GitRepositories/NRS_modeller/workFolder/ga.ipynb#X46sZmlsZQ%3D%3D?line=15'>16</a>\u001b[0m model\u001b[39m.\u001b[39;49mcalc(accuracy\u001b[39m=\u001b[39;49m\u001b[39m0.05\u001b[39;49m)\n\u001b[0;32m     <a href='vscode-notebook-cell:/g%3A/GitRepositories/NRS_modeller/workFolder/ga.ipynb#X46sZmlsZQ%3D%3D?line=16'>17</a>\u001b[0m \u001b[39mprint\u001b[39m(model\u001b[39m.\u001b[39msummaryQ(), end\u001b[39m=\u001b[39m\u001b[39m'\u001b[39m\u001b[39m\\n\u001b[39;00m\u001b[39m\\n\u001b[39;00m\u001b[39m'\u001b[39m)\n\u001b[0;32m     <a href='vscode-notebook-cell:/g%3A/GitRepositories/NRS_modeller/workFolder/ga.ipynb#X46sZmlsZQ%3D%3D?line=18'>19</a>\u001b[0m \u001b[39mprint\u001b[39m(\u001b[39m'\u001b[39m\u001b[39mСтатус насоса:\u001b[39m\u001b[39m'\u001b[39m)\n",
      "File \u001b[1;32mg:\\GitRepositories\\NRS_modeller\\workFolder\\nrs.py:613\u001b[0m, in \u001b[0;36mNRS_Model.calc\u001b[1;34m(self, iters, callback, accuracy, fixStates)\u001b[0m\n\u001b[0;32m    609\u001b[0m \u001b[39mwhile\u001b[39;00m \u001b[39mabs\u001b[39m(Q[\u001b[39m2\u001b[39m]\u001b[39m-\u001b[39mQ[\u001b[39m1\u001b[39m])\u001b[39m>\u001b[39maccuracy \u001b[39mor\u001b[39;00m Q[\u001b[39m2\u001b[39m]\u001b[39m==\u001b[39mQ[\u001b[39m1\u001b[39m]:                \n\u001b[0;32m    610\u001b[0m     \u001b[39m# print(i)\u001b[39;00m\n\u001b[0;32m    611\u001b[0m     \u001b[39m# print(Q)\u001b[39;00m\n\u001b[0;32m    612\u001b[0m     \u001b[39mfor\u001b[39;00m elmnt \u001b[39min\u001b[39;00m \u001b[39mself\u001b[39m\u001b[39m.\u001b[39melmnts_in:\n\u001b[1;32m--> 613\u001b[0m         elmnt\u001b[39m.\u001b[39;49mset_H_in(elmnt\u001b[39m.\u001b[39;49mH_in)      \n\u001b[0;32m    614\u001b[0m         \u001b[39m# elmnt.set_H_in(elmnt.H_add + elmnt.H_in)\u001b[39;00m\n\u001b[0;32m    615\u001b[0m     \u001b[39mfor\u001b[39;00m elmnt \u001b[39min\u001b[39;00m \u001b[39mself\u001b[39m\u001b[39m.\u001b[39melmnts_out:\n",
      "File \u001b[1;32mg:\\GitRepositories\\NRS_modeller\\workFolder\\nrs.py:364\u001b[0m, in \u001b[0;36mElement.set_H_in\u001b[1;34m(self, H_in)\u001b[0m\n\u001b[0;32m    361\u001b[0m \u001b[39mself\u001b[39m\u001b[39m.\u001b[39mH_in \u001b[39m=\u001b[39m H_in\n\u001b[0;32m    362\u001b[0m \u001b[39mfor\u001b[39;00m elmnt \u001b[39min\u001b[39;00m \u001b[39mself\u001b[39m\u001b[39m.\u001b[39melements_next:\n\u001b[0;32m    363\u001b[0m     \u001b[39m# print(elmnt.name, self.get_H_out())\u001b[39;00m\n\u001b[1;32m--> 364\u001b[0m     elmnt\u001b[39m.\u001b[39mset_H_in(\u001b[39mself\u001b[39;49m\u001b[39m.\u001b[39;49mget_H_out())\n",
      "File \u001b[1;32mg:\\GitRepositories\\NRS_modeller\\workFolder\\nrs.py:322\u001b[0m, in \u001b[0;36mElement.get_H_out\u001b[1;34m(self)\u001b[0m\n\u001b[0;32m    315\u001b[0m \u001b[39mdef\u001b[39;00m \u001b[39mget_H_out\u001b[39m(\u001b[39mself\u001b[39m):\n\u001b[0;32m    316\u001b[0m \u001b[39m    \u001b[39m\u001b[39m'''\u001b[39;00m\n\u001b[0;32m    317\u001b[0m \u001b[39m    Установка напора на выходе из элемента.\u001b[39;00m\n\u001b[0;32m    318\u001b[0m \u001b[39m        Выход:\u001b[39;00m\n\u001b[0;32m    319\u001b[0m \u001b[39m            float: текущее значение напора на выходе из элемента.\u001b[39;00m\n\u001b[0;32m    320\u001b[0m \u001b[39m            Равно H_in + h_add - h - z\u001b[39;00m\n\u001b[0;32m    321\u001b[0m \u001b[39m    '''\u001b[39;00m\n\u001b[1;32m--> 322\u001b[0m     \u001b[39mself\u001b[39m\u001b[39m.\u001b[39mH_out \u001b[39m=\u001b[39m \u001b[39mself\u001b[39m\u001b[39m.\u001b[39mH_in \u001b[39m+\u001b[39m \u001b[39mself\u001b[39m\u001b[39m.\u001b[39mH_add \u001b[39m-\u001b[39m \u001b[39mself\u001b[39;49m\u001b[39m.\u001b[39;49mget_h() \u001b[39m-\u001b[39m \u001b[39mself\u001b[39m\u001b[39m.\u001b[39mz\n\u001b[0;32m    323\u001b[0m     \u001b[39mreturn\u001b[39;00m \u001b[39mself\u001b[39m\u001b[39m.\u001b[39mH_out\n",
      "File \u001b[1;32mg:\\GitRepositories\\NRS_modeller\\workFolder\\nrs.py:312\u001b[0m, in \u001b[0;36mElement.get_h\u001b[1;34m(self)\u001b[0m\n\u001b[0;32m    305\u001b[0m \u001b[39mdef\u001b[39;00m \u001b[39mget_h\u001b[39m(\u001b[39mself\u001b[39m):\n\u001b[0;32m    306\u001b[0m \u001b[39m    \u001b[39m\u001b[39m'''\u001b[39;00m\n\u001b[0;32m    307\u001b[0m \u001b[39m    Установка потери напора\u001b[39;00m\n\u001b[0;32m    308\u001b[0m \u001b[39m        Выход:\u001b[39;00m\n\u001b[0;32m    309\u001b[0m \u001b[39m            float: текущее значение потери напора для данного элемента. \u001b[39;00m\n\u001b[0;32m    310\u001b[0m \u001b[39m            Равно S*n*q^2\u001b[39;00m\n\u001b[0;32m    311\u001b[0m \u001b[39m    '''\u001b[39;00m\n\u001b[1;32m--> 312\u001b[0m     \u001b[39mself\u001b[39m\u001b[39m.\u001b[39mh \u001b[39m=\u001b[39m \u001b[39mself\u001b[39m\u001b[39m.\u001b[39ms \u001b[39m*\u001b[39m \u001b[39mself\u001b[39m\u001b[39m.\u001b[39mn \u001b[39m*\u001b[39m \u001b[39mself\u001b[39;49m\u001b[39m.\u001b[39;49mq\u001b[39m*\u001b[39;49m\u001b[39m*\u001b[39;49m\u001b[39m2\u001b[39;49m \n\u001b[0;32m    313\u001b[0m     \u001b[39mreturn\u001b[39;00m \u001b[39mself\u001b[39m\u001b[39m.\u001b[39mh\n",
      "\u001b[1;31mOverflowError\u001b[0m: complex exponentiation"
     ]
    }
   ],
   "source": [
    "tmp_list = [e for e in elements_sack]\n",
    "\n",
    "while len(tmp_list)>0:\n",
    "    elmnt = tmp_list.pop(random.randrange(len(tmp_list)))\n",
    "    # next_elmnt  = random.choice(elements_sack)\n",
    "    elements_for_append = [e for e in elements_sack if e!=elmnt]\n",
    "    elmnt.append(random.choice(elements_sack))\n",
    "\n",
    "# Сборка модели\n",
    "model = GA_model('Тест слепой часовщик')\n",
    "# model.build(pump, interpretate=True).observersInit()\n",
    "# model.addElements([pump, hoseW1, nozzle1], interpretate=True).observersInit()\n",
    "model.addElements(elements_sack).check_pumps().interpretate()  #.observersInit()\n",
    "\n",
    "# Расчет \n",
    "model.calc(accuracy=0.05)\n",
    "print(model.summaryQ(), end='\\n\\n')\n",
    "\n",
    "print('Статус насоса:')\n",
    "NRS_Revision.print_element_state(pump, ['H_add', 'q'])"
   ]
  },
  {
   "cell_type": "code",
   "execution_count": 69,
   "metadata": {},
   "outputs": [
    {
     "name": "stdout",
     "output_type": "stream",
     "text": [
      "all:\n",
      "  Н1\n",
      "  Н2\n",
      "  Н3\n",
      "  РРЛ3\n",
      "  РРЛ4\n",
      "  РРЛ5\n",
      "  РРЛ6\n",
      "  РРЛ7\n",
      "  РРЛ8\n",
      "  Ств9\n",
      "  Ств10\n",
      "  Ств11\n",
      "  ВС12\n",
      "  Р13\n",
      "in:\n",
      "  Н2\n",
      "  Н3\n",
      "out:\n",
      "  Ств9\n",
      "  Ств10\n",
      "  Ств11\n"
     ]
    }
   ],
   "source": [
    "NRS_Revision.print_model_elements(model)"
   ]
  },
  {
   "cell_type": "code",
   "execution_count": 70,
   "metadata": {},
   "outputs": [
    {
     "name": "stdout",
     "output_type": "stream",
     "text": [
      "H_add: 40\n",
      "q: 4.581690610099076\n"
     ]
    }
   ],
   "source": [
    "NRS_Revision.print_element_state(pump, ['H_add', 'q'])"
   ]
  },
  {
   "cell_type": "code",
   "execution_count": null,
   "metadata": {},
   "outputs": [],
   "source": [
    "print_NRS_graph(model)"
   ]
  },
  {
   "cell_type": "code",
   "execution_count": null,
   "metadata": {},
   "outputs": [],
   "source": []
  },
  {
   "cell_type": "code",
   "execution_count": null,
   "metadata": {},
   "outputs": [],
   "source": [
    "# def print_NRS_graph(model):\n",
    "# Построение графа НРС\n",
    "G = nx.DiGraph()\n",
    "# Узлы - на каждый элемент\n",
    "for elmnt in model.elmnts:\n",
    "    G.add_node(elmnt.name, q=elmnt.q)\n",
    "# Ребра - на каждую связь\n",
    "for elmnt in model.elmnts:\n",
    "    for elmnt_next in elmnt.elements_next:\n",
    "        G.add_edge(elmnt.name, elmnt_next.name, L=elmnt.get_L())\n",
    "\n",
    "# # Расчет расстояния до элементов\n",
    "# for elmnt in model.elmnts_in:\n",
    "#     paths = nx.shortest_path_length(G, source = elmnt.name, weight='L')\n",
    "#     nx.set_node_attributes(G, paths, 'L')   # Здесь нужна другая логика\n",
    "#     print(f'Расстояние до {elmnt.name} {max(paths.values())} м')    \n",
    "\n",
    "# Печать графа НРС\n",
    "pos={}\n",
    "pos_list=[]\n",
    "level=0\n",
    "for eo in model.elmnts_in:\n",
    "    v = eo.name\n",
    "    spl = dict(nx.single_source_shortest_path_length(G, v))\n",
    "    for nd, p in spl.items():\n",
    "        if not nd in pos.keys():\n",
    "            level_rize=level\n",
    "            cpos = (p,level_rize)\n",
    "            while cpos in pos_list:\n",
    "                level_rize+=1\n",
    "                cpos = (p,level_rize)\n",
    "            pos[nd]=cpos\n",
    "            pos_list.append(cpos)\n",
    "    level+=1\n",
    "\n",
    "# nc = [nd[1]['L'] for nd in list(G.nodes(data=True))]\n",
    "nx.draw(G, pos=pos, with_labels=True)   #, node_color=nc)\n",
    "plt.show()"
   ]
  },
  {
   "cell_type": "code",
   "execution_count": 60,
   "metadata": {},
   "outputs": [
    {
     "data": {
      "text/plain": [
       "{'Н2': (0, 0)}"
      ]
     },
     "execution_count": 60,
     "metadata": {},
     "output_type": "execute_result"
    }
   ],
   "source": [
    "pos"
   ]
  },
  {
   "cell_type": "code",
   "execution_count": 72,
   "metadata": {},
   "outputs": [
    {
     "data": {
      "image/png": "[encoded data removed]",
      "text/plain": [
       "<Figure size 640x480 with 1 Axes>"
      ]
     },
     "metadata": {},
     "output_type": "display_data"
    }
   ],
   "source": [
    "# Построение графа НРС\n",
    "G = nx.DiGraph()\n",
    "# Узлы - на каждый элемент\n",
    "for elmnt in model.elmnts:\n",
    "    G.add_node(elmnt.name, q=elmnt.q)\n",
    "# Ребра - на каждую связь\n",
    "for elmnt in model.elmnts:\n",
    "    for elmnt_next in elmnt.elements_next:\n",
    "        G.add_edge(elmnt.name, elmnt_next.name)\n",
    "\n",
    "nx.draw(G, with_labels=True)\n",
    "plt.show()"
   ]
  }
 ],
 "metadata": {
  "kernelspec": {
   "display_name": "ox",
   "language": "python",
   "name": "python3"
  },
  "language_info": {
   "codemirror_mode": {
    "name": "ipython",
    "version": 3
   },
   "file_extension": ".py",
   "mimetype": "text/x-python",
   "name": "python",
   "nbconvert_exporter": "python",
   "pygments_lexer": "ipython3",
   "version": "3.11.6"
  }
 },
 "nbformat": 4,
 "nbformat_minor": 2
}
