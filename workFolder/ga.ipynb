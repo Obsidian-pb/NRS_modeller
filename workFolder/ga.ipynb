{
 "cells": [
  {
   "cell_type": "markdown",
   "metadata": {},
   "source": [
    "# Тесты с генетическим алгоритмом"
   ]
  },
  {
   "cell_type": "markdown",
   "metadata": {},
   "source": [
    "Требуется подобрать такие параметры НРС, чтобы при заданных условиях (например, при требуемом расходе воды и подаче на требуемое расстояние), состав сил и средств был минимальный.\n",
    "\n",
    "Критерии оптимизации (пример для расхода и расстояния):\n",
    "\n",
    "\n",
    "$$\n",
    "|\\sum_{i=1}^{n}{Q_i}-Q_{треб.}|\\longrightarrow min\n",
    "$$\n",
    "\n",
    "$$\n",
    "|L_{НРС}-L_{треб.}|\\longrightarrow min\n",
    "$$\n",
    "\n"
   ]
  },
  {
   "cell_type": "markdown",
   "metadata": {},
   "source": [
    "Мутации добавления отдельных элементов невозможны, поэтому нужно делать мутации блоками:\n",
    "\n",
    "* ствол с рукавной линией\n",
    "* магистральная рукавная линия\n",
    "\n",
    "Нет, не так!\n",
    "\n",
    "Типы мутаций:\n",
    "\n",
    "* Разбить составной элемент, вставив другой элемент,\n",
    "* Удалить элемент\n",
    "* Изменить параметры элемента (количество рукавов, тип рукавов)\n",
    "* Добавить рабочую рукавную линию\n",
    "\n",
    "Основные категории элементов НРС:\n",
    "\n",
    "* Насос ПА (Pump)\n",
    "* напорная рукавная линия (Hose)\n",
    "* всасывающая рукавная линия (InHose)\n",
    "* разветвление (Splitter)\n",
    "* водосборник (Joiner)\n",
    "* ствол (Nozzle)\n",
    "\n",
    "\n",
    "Также нужно добавить элемент который будет очищать мусор в модели."
   ]
  },
  {
   "cell_type": "markdown",
   "metadata": {},
   "source": [
    "## Обертка над NRS которая будет реализовывать более тонкие функции ГА"
   ]
  },
  {
   "cell_type": "code",
   "execution_count": 1,
   "metadata": {},
   "outputs": [],
   "source": [
    "from nrs import NRS_Model, Element, NRS_Revision, NRS_Observer_E    # классы НРС\n",
    "from nrs import NRS_Data                                            # Табличные данные НРС\n",
    "from nrs import q_out_simple, q_out_nozzle                          # модели расчета параметров\n",
    "import matplotlib.pyplot as plt                                     # библиотеки для отрисовки получаемых данных\n",
    "import networkx as nx\n",
    "import random\n",
    "\n",
    "import logging\n",
    "logger = logging.getLogger('NRS')\n",
    "logger.setLevel(logging.DEBUG)\n",
    "# logging.basicConfig(level=logging.DEBUG)"
   ]
  },
  {
   "cell_type": "code",
   "execution_count": 15,
   "metadata": {},
   "outputs": [],
   "source": [
    "def print_NRS_graph(model):\n",
    "    '''\n",
    "    Построение графа НРС\n",
    "    '''\n",
    "    try:\n",
    "        G = nx.DiGraph()\n",
    "        # Узлы - на каждый элемент\n",
    "        for elmnt in model.elmnts:\n",
    "            G.add_node(elmnt.name, q=elmnt.q)\n",
    "        # Ребра - на каждую связь\n",
    "        for elmnt in model.elmnts:\n",
    "            for elmnt_next in elmnt.elements_next:\n",
    "                G.add_edge(elmnt.name, elmnt_next.name, L=elmnt.get_L())\n",
    "\n",
    "        # Расчет расстояния до элементов\n",
    "        for elmnt in model.elmnts_in:\n",
    "            paths = nx.shortest_path_length(G, source = elmnt.name, weight='L')\n",
    "            nx.set_node_attributes(G, paths, 'L')   # Здесь нужна другая логика\n",
    "            print(f'Расстояние до {elmnt.name} {max(paths.values())} м')    \n",
    "\n",
    "        # Печать графа НРС\n",
    "        pos={}\n",
    "        pos_list=[]\n",
    "        level=0\n",
    "        for eo in model.elmnts_in:\n",
    "            v = eo.name\n",
    "            spl = dict(nx.single_source_shortest_path_length(G, v))\n",
    "            for nd, p in spl.items():\n",
    "                if not nd in pos.keys():\n",
    "                    level_rize=level\n",
    "                    cpos = (p,level_rize)\n",
    "                    while cpos in pos_list:\n",
    "                        level_rize+=1\n",
    "                        cpos = (p,level_rize)\n",
    "                    pos[nd]=cpos\n",
    "                    pos_list.append(cpos)\n",
    "            level+=1\n",
    "\n",
    "        nc = [nd[1]['L'] for nd in list(G.nodes(data=True))]\n",
    "        nx.draw(G, pos=pos, with_labels=True, node_color=nc)\n",
    "        plt.show()\n",
    "\n",
    "        return G\n",
    "    except:\n",
    "        print('Полный граф изобразить не возможно, будет отображен упрощенный')\n",
    "        return print_NRS_graph_simple(model)\n",
    "\n",
    "def print_NRS_graph_simple(model):\n",
    "    '''\n",
    "    Построение графа НРС\n",
    "    '''\n",
    "    G = nx.DiGraph()\n",
    "    # Узлы - на каждый элемент\n",
    "    for elmnt in model.elmnts:\n",
    "        G.add_node(elmnt.name, q=elmnt.q)\n",
    "    # Ребра - на каждую связь\n",
    "    for elmnt in model.elmnts:\n",
    "        for elmnt_next in elmnt.elements_next:\n",
    "            G.add_edge(elmnt.name, elmnt_next.name)\n",
    "\n",
    "    nx.draw(G, with_labels=True)\n",
    "    plt.show()\n",
    "\n",
    "    return G"
   ]
  },
  {
   "cell_type": "code",
   "execution_count": 9,
   "metadata": {},
   "outputs": [
    {
     "name": "stdout",
     "output_type": "stream",
     "text": [
      "Новая модель: Тест простой модели для ГА\n",
      "3.3423464007615813\n",
      "\n",
      "Статус насоса:\n",
      "H_add: 40\n",
      "q: 3.3423464007615813\n"
     ]
    }
   ],
   "source": [
    "# from workFolder.nrs import q_out_simple\n",
    "\n",
    "\n",
    "class GA_model(NRS_Model):\n",
    "    '''\n",
    "    Класс модели НРС адаптированный для работы ГА\n",
    "    '''\n",
    "    def __init__(self, name):\n",
    "        self.pumps=[]\n",
    "        self.hoses=[]\n",
    "        self.inhoses=[]\n",
    "        self.splitters=[]\n",
    "        self.joiners=[]\n",
    "        self.nozzles=[]\n",
    "        super().__init__(name)\n",
    "\n",
    "    def appendElement(self, elmnt):\n",
    "        \n",
    "        # super().appendElement(elmnt)\n",
    "\n",
    "        if isinstance(elmnt, GA_Element_Pump):\n",
    "            self.pumps.append(elmnt)\n",
    "            if elmnt.name=='': elmnt.name='Н'+str(self.counter)\n",
    "        if isinstance(elmnt, GA_Element_Hose):\n",
    "            self.hoses.append(elmnt)\n",
    "            if elmnt.name=='': elmnt.name='НРЛ'+str(self.counter)\n",
    "        if isinstance(elmnt, GA_Element_InHose):\n",
    "            self.inhoses.append(elmnt)\n",
    "            if elmnt.name=='': elmnt.name='ВРЛ'+str(self.counter)\n",
    "        if isinstance(elmnt, GA_Element_Splitter):\n",
    "            self.splitters.append(elmnt)\n",
    "            if elmnt.name=='': elmnt.name='Р'+str(self.counter)\n",
    "        if isinstance(elmnt, GA_Element_Joiner):\n",
    "            self.joiners.append(elmnt)\n",
    "            if elmnt.name=='': elmnt.name='ВС'+str(self.counter)\n",
    "        if isinstance(elmnt, GA_Element_Nozzle):\n",
    "            self.nozzles.append(elmnt)\n",
    "            if elmnt.name=='': elmnt.name='Ств'+str(self.counter)\n",
    "            \n",
    "        return super().appendElement(elmnt)\n",
    "\n",
    "    def crossing(self, pair_model):\n",
    "        return self\n",
    "\n",
    "    def mutate(self):\n",
    "        return self\n",
    "\n",
    "    def check_pumps(self):\n",
    "        '''\n",
    "        Проверяет пожарные автомобили. \n",
    "        Для тех из них у которых есть только элементы на выход устанавливается e_type `0` (in).\n",
    "        Для тех у кого имеются и те и те, ставится e_type `1` (inter).\n",
    "        '''\n",
    "        for elmnt in self.elmnts:\n",
    "            if isinstance(elmnt, GA_Element_Pump):\n",
    "                e_in = len(elmnt.elements_previous)\n",
    "                e_out = len(elmnt.elements_next)\n",
    "                if e_in==0 and e_out>0:\n",
    "                    elmnt.type = 0\n",
    "                if e_in>0 and e_out>0:\n",
    "                    elmnt.type = 1\n",
    "        return self\n",
    "    \n",
    "\n",
    "class GA_Element_Pump(Element):\n",
    "    '''\n",
    "    Класс элемента `Пожарного автомобиля с насосом` адаптированный для работы ГА.\n",
    "    '''\n",
    "    def __init__(self, name, e_type, H_min=10, Q_min=0, H_max=100, Q_max=40, \n",
    "        q=3.7, s=0, H_in=0, h=0, H_add=0, z=0, p=1, n=1, l=0, ri=2, ro=2, q_out=...):\n",
    "        super().__init__(name, e_type, q, s, H_in, h, H_add, z, p, n, l, ri, ro, q_out)\n",
    "\n",
    "    def set_H_add(self, H_add):\n",
    "        if H_add > H_max:\n",
    "            self.H_add = H_max\n",
    "        else:\n",
    "            self.H_add = H_add\n",
    "        if H_add <= H_min:\n",
    "            self.H_add = H_min\n",
    "        else:\n",
    "            self.H_add = H_add\n",
    "\n",
    "    def mutate(self):\n",
    "        pass\n",
    "\n",
    "\n",
    "class GA_Element_Hose(Element):\n",
    "    '''\n",
    "    Класс элемента `Рукавной линии` адаптированный для работы ГА.\n",
    "    '''\n",
    "    def __init__(self, name, e_type=1, d='51', q=3.7, s=0, H_in=0, h=0, H_add=0, z=0, p=1, n=1, l=20, ri=1, ro=1, q_out=...):\n",
    "        self.d=d\n",
    "        super().__init__(name, e_type, q, s, H_in, h, H_add, z, p, n, l, ri, ro, q_out)\n",
    "\n",
    "    def mutate(self):\n",
    "        mutation_case = random.choice([0,1])\n",
    "        # мутация количества\n",
    "        if mutation_case==0:\n",
    "            change_val = random.choice([-1,1])\n",
    "            if self.n+change_val>0:\n",
    "                self.n = self.n+change_val\n",
    "        # мутация диаметра\n",
    "        if mutation_case==1:\n",
    "            new_d=random.choice(list(NRS_Data.ss.keys()))\n",
    "            self.d = new_d\n",
    "            self.s = NRS_Data.ss[new_d]\n",
    "        # мутация типа\n",
    "\n",
    "        # разбиение\n",
    "\n",
    "class GA_Element_InHose(Element):\n",
    "    '''\n",
    "    Класс элемента `Всасывающей рукавной линии` адаптированный для работы ГА.\n",
    "    '''\n",
    "    def __init__(self, name, e_type=1, q=3.7, s=0, H_in=0, h=0, H_add=0, z=0, p=1, n=1, l=4, ri=1, ro=1, q_out=...):\n",
    "        super().__init__(name, e_type, q, s, H_in, h, H_add, z, p, n, l, ri, ro, q_out)\n",
    "\n",
    "    def mutate(self):\n",
    "        pass\n",
    "\n",
    "class GA_Element_Splitter(Element):\n",
    "    '''\n",
    "    Класс элемента `Разветвление` адаптированный для работы ГА.\n",
    "    '''\n",
    "    def __init__(self, name, e_type=1, q=3.7, s=0, H_in=0, h=0, H_add=0, z=0, p=1, n=1, l=0, ri=1, ro=3, q_out=...):\n",
    "        super().__init__(name, e_type, q, s, H_in, h, H_add, z, p, n, l, ri, ro, q_out)\n",
    "\n",
    "    def mutate(self):\n",
    "        pass\n",
    "\n",
    "class GA_Element_Joiner(Element):\n",
    "    '''\n",
    "    Класс элемента `Водосборник` адаптированный для работы ГА.\n",
    "    '''\n",
    "    def __init__(self, name, e_type=1, q=3.7, s=0, H_in=0, h=0, H_add=0, z=0, p=1, n=1, l=0, ri=2, ro=1, q_out=...):\n",
    "        super().__init__(name, e_type, q, s, H_in, h, H_add, z, p, n, l, ri, ro, q_out)\n",
    "\n",
    "    def mutate(self):\n",
    "        pass\n",
    "\n",
    "class GA_Element_Nozzle(Element):\n",
    "    '''\n",
    "    Класс элемента `Ствол` адаптированный для работы ГА.\n",
    "    '''\n",
    "    def __init__(self, name, e_type=1, n_type='Б', q=3.7, s=0, H_in=0, h=0, H_add=0, z=0, p=1, n=1, l=0, ri=1, ro=0, q_out=...):\n",
    "        '''\n",
    "        `n_type` - тип ствола. `Б` - ручной ствол Б, `А` - ручной ствол А, `Л` - лафетный переносной, `ЛА` - лафетный автомобильный.\n",
    "        '''\n",
    "        self.n_type = n_type\n",
    "        super().__init__(name, e_type, q, s, H_in, h, H_add, z, p, n, l, ri, ro, q_out)\n",
    "\n",
    "    def mutate(self):\n",
    "        pass\n",
    "\n",
    "\n",
    "\n",
    "\n",
    "#====================================================================================================================================\n",
    "# Вычисляем проводимость насадка для ствола Б\n",
    "p_nozzleB = NRS_Revision.calc_p(3.7, 40)\n",
    "p_nozzleA = NRS_Revision.calc_p(7.4, 40)\n",
    "p_nozzleL = NRS_Revision.calc_p(16, 40)\n",
    "\n",
    "# Элементы\n",
    "# pump = GA_Element_Pump('Насос', e_type=0, H_add=40)                                \n",
    "# hoseW1 = GA_Element_Hose('РЛ1', e_type=1, s=NRS_Data.ss[\"51\"], n=5)             \n",
    "# nozzle1 = GA_Element_Nozzle('Ств1', e_type=2, p=p_nozzleB, q_out = q_out_nozzle)\n",
    "pump = GA_Element_Pump('', e_type=1, H_add=40)                                \n",
    "hoseW1 = GA_Element_Hose('', e_type=1, s=NRS_Data.ss[\"51\"], n=5)             \n",
    "nozzle1 = GA_Element_Nozzle('', e_type=2, p=p_nozzleB, q_out = q_out_nozzle)\n",
    "\n",
    "# Соединяем элементы\n",
    "pump.append(hoseW1).append(nozzle1)\n",
    "\n",
    "# Добавляем наблюдателей\n",
    "watcher_pump = NRS_Observer_E(pump, ['q', 'H_add'])         # Для насоса. Наблюдаем изменения расхода и дополнительного напора (создаваемого насосом)\n",
    "watcher_nozzle1 = NRS_Observer_E(nozzle1, ['q', 'H_in'])    # Для ствола. Наблюдаем изменения расхода и напора на входе\n",
    "\n",
    "# Сборка модели\n",
    "model = GA_model('Тест простой модели для ГА')\n",
    "# model.build(pump, interpretate=True).observersInit()\n",
    "# model.addElements([pump, hoseW1, nozzle1], interpretate=True).observersInit()\n",
    "model.addElements([pump, hoseW1, nozzle1]).check_pumps().interpretate().observersInit()\n",
    "\n",
    "\n",
    "# Расчет \n",
    "model.calc(accuracy=0.05)\n",
    "print(model.summaryQ(), end='\\n\\n')\n",
    "\n",
    "print('Статус насоса:')\n",
    "NRS_Revision.print_element_state(pump, ['H_add', 'q'])"
   ]
  },
  {
   "cell_type": "code",
   "execution_count": 4,
   "metadata": {},
   "outputs": [
    {
     "name": "stdout",
     "output_type": "stream",
     "text": [
      "all:\n",
      "  Н0\n",
      "  НРЛ1\n",
      "  Ств2\n",
      "in:\n",
      "  Н0\n",
      "out:\n",
      "  Ств2\n"
     ]
    }
   ],
   "source": [
    "NRS_Revision.print_model_elements(model)"
   ]
  },
  {
   "cell_type": "code",
   "execution_count": 5,
   "metadata": {},
   "outputs": [
    {
     "name": "stdout",
     "output_type": "stream",
     "text": [
      "elements_next: [<__main__.GA_Element_Hose object at 0x000001B1419ABC20>]\n",
      "elements_previous: []\n",
      "type: 0\n",
      "name: Н0\n",
      "q: 3.3423464007615813\n",
      "s: 0\n",
      "H_in: 0\n",
      "h: 0.0\n",
      "z: 0\n",
      "p: 1\n",
      "n: 1\n",
      "q_out: Ellipsis\n",
      "H_add: 40\n",
      "observer: <nrs.NRS_Observer_E object at 0x000001B141660E60>\n",
      "l: 0\n",
      "ri: 2\n",
      "ro: 2\n",
      "H_out: 40.0\n"
     ]
    }
   ],
   "source": [
    "NRS_Revision.print_element_state(pump)"
   ]
  },
  {
   "cell_type": "code",
   "execution_count": 6,
   "metadata": {},
   "outputs": [
    {
     "data": {
      "text/plain": [
       "'66нп'"
      ]
     },
     "execution_count": 6,
     "metadata": {},
     "output_type": "execute_result"
    }
   ],
   "source": [
    "random.choice(list(NRS_Data.ss.keys()))"
   ]
  },
  {
   "cell_type": "code",
   "execution_count": 7,
   "metadata": {},
   "outputs": [
    {
     "data": {
      "text/plain": [
       "[<__main__.GA_Element_Pump at 0x1b141bc3a10>]"
      ]
     },
     "execution_count": 7,
     "metadata": {},
     "output_type": "execute_result"
    }
   ],
   "source": [
    "model.pumps"
   ]
  },
  {
   "cell_type": "code",
   "execution_count": 10,
   "metadata": {},
   "outputs": [
    {
     "name": "stdout",
     "output_type": "stream",
     "text": [
      "3.294450493638155\n",
      "\n",
      "Статус насоса:\n",
      "H_add: 40\n",
      "q: 3.294450493638155\n"
     ]
    }
   ],
   "source": [
    "# hoseW2 = GA_Element_Hose('РРЛ2', e_type=1, s=NRS_Data.ss[\"77\"], n=5)\n",
    "hoseW2 = GA_Element_Hose('', e_type=1, s=NRS_Data.ss[\"77\"], n=5)\n",
    "\n",
    "# Удаляем из ссылок текущего элемента ссылку на следующий элемент\n",
    "# Выбираем текущий элемент\n",
    "# hoseW1\n",
    "# Определяем какой именно элемент из списка следующих удаляем\n",
    "next_e = hoseW1.elements_next[0]\n",
    "del hoseW1.elements_next[0]\n",
    "del next_e.elements_previous[0]\n",
    "hoseW1.append(hoseW2).append(next_e)\n",
    "\n",
    "# Пересобираем модель\n",
    "# model.clear().build(hoseW1, interpretate=True).observersInit()\n",
    "# model.build(hoseW1, interpretate=True).observersInit()\n",
    "model.appendElement(hoseW2)\n",
    "model.check_pumps().interpretate()   #.observersInit()\n",
    "\n",
    "# Расчет \n",
    "model.calc(accuracy=0.05)\n",
    "print(model.summaryQ(), end='\\n\\n')\n",
    "\n",
    "print('Статус насоса:')\n",
    "NRS_Revision.print_element_state(pump, ['H_add', 'q'])"
   ]
  },
  {
   "cell_type": "code",
   "execution_count": 11,
   "metadata": {},
   "outputs": [
    {
     "name": "stdout",
     "output_type": "stream",
     "text": [
      "all:\n",
      "  Н0\n",
      "  НРЛ1\n",
      "  Ств2\n",
      "  НРЛ3\n",
      "in:\n",
      "  Н0\n",
      "out:\n",
      "  Ств2\n"
     ]
    }
   ],
   "source": [
    "NRS_Revision.print_model_elements(model)"
   ]
  },
  {
   "cell_type": "code",
   "execution_count": 12,
   "metadata": {},
   "outputs": [
    {
     "name": "stdout",
     "output_type": "stream",
     "text": [
      "4.581690610099076\n",
      "\n",
      "Статус насоса 1:\n",
      "H_add: 40\n",
      "q: 4.581690610099076\n",
      "Статус насоса 2:\n",
      "H_add: 40\n",
      "q: 4.581690610099076\n"
     ]
    }
   ],
   "source": [
    "pump2 = GA_Element_Pump('', e_type=1, H_add=40).addToModel(model)              \n",
    "hoseM2 = GA_Element_Hose('', e_type=1, s=NRS_Data.ss[\"77\"], n=10).addToModel(model)\n",
    "pump2.append(hoseM2).append(pump)\n",
    "\n",
    "# model.appendElement(hoseW2)\n",
    "model.check_pumps().interpretate()\n",
    "\n",
    "# Расчет \n",
    "model.calc(accuracy=0.05)\n",
    "print(model.summaryQ(), end='\\n\\n')\n",
    "\n",
    "print('Статус насоса 1:')\n",
    "NRS_Revision.print_element_state(pump, ['H_add', 'q'])\n",
    "print('Статус насоса 2:')\n",
    "NRS_Revision.print_element_state(pump2, ['H_add', 'q'])"
   ]
  },
  {
   "cell_type": "markdown",
   "metadata": {},
   "source": [
    "# Визуализация"
   ]
  },
  {
   "cell_type": "code",
   "execution_count": 16,
   "metadata": {},
   "outputs": [
    {
     "name": "stdout",
     "output_type": "stream",
     "text": [
      "Расстояние до Н0 200 м\n",
      "Расстояние до Н4 400 м\n"
     ]
    },
    {
     "data": {
      "image/png": "[encoded data removed]",
      "text/plain": [
       "<Figure size 640x480 with 1 Axes>"
      ]
     },
     "metadata": {},
     "output_type": "display_data"
    }
   ],
   "source": [
    "G = print_NRS_graph(model)"
   ]
  },
  {
   "cell_type": "code",
   "execution_count": 17,
   "metadata": {},
   "outputs": [
    {
     "data": {
      "text/plain": [
       "[('Н0', {'q': 4.581690610099076, 'L': 200}),\n",
       " ('НРЛ1', {'q': 4.581690610099076, 'L': 200}),\n",
       " ('Ств2', {'q': 4.581690610099076, 'L': 400}),\n",
       " ('НРЛ3', {'q': 4.581690610099076, 'L': 300}),\n",
       " ('Н4', {'q': 4.581690610099076, 'L': 0}),\n",
       " ('НРЛ5', {'q': 4.581690610099076, 'L': 0})]"
      ]
     },
     "execution_count": 17,
     "metadata": {},
     "output_type": "execute_result"
    }
   ],
   "source": [
    "list(G.nodes(data=True))"
   ]
  },
  {
   "cell_type": "markdown",
   "metadata": {},
   "source": [
    "# Тесты"
   ]
  },
  {
   "cell_type": "code",
   "execution_count": 18,
   "metadata": {},
   "outputs": [],
   "source": [
    "p_nozzleB = NRS_Revision.calc_p(3.7, 40)\n",
    "p_nozzleA = NRS_Revision.calc_p(7.4, 40)\n",
    "p_nozzleL = NRS_Revision.calc_p(16, 40)"
   ]
  },
  {
   "cell_type": "code",
   "execution_count": 88,
   "metadata": {},
   "outputs": [],
   "source": [
    "elements_sack = []\n",
    "elements_sack.append(GA_Element_Pump('', e_type=1, H_add=40))\n",
    "elements_sack.append(GA_Element_Pump('', e_type=0, H_add=60))\n",
    "elements_sack.append(GA_Element_Pump('', e_type=0, H_add=80))\n",
    "elements_sack.append(GA_Element_Hose('', e_type=1, s=NRS_Data.ss[\"51\"], n=2))\n",
    "elements_sack.append(GA_Element_Hose('', e_type=1, s=NRS_Data.ss[\"51\"], n=4))\n",
    "elements_sack.append(GA_Element_Hose('', e_type=1, s=NRS_Data.ss[\"51\"], n=6))\n",
    "elements_sack.append(GA_Element_Hose('', e_type=1, s=NRS_Data.ss[\"77\"], n=2))\n",
    "elements_sack.append(GA_Element_Hose('', e_type=1, s=NRS_Data.ss[\"77\"], n=4))\n",
    "elements_sack.append(GA_Element_Hose('', e_type=1, s=NRS_Data.ss[\"77\"], n=6))\n",
    "elements_sack.append(GA_Element_Nozzle('', e_type=2, p=p_nozzleB, q_out = q_out_nozzle))\n",
    "elements_sack.append(GA_Element_Nozzle('', e_type=2, p=p_nozzleA, q_out = q_out_nozzle))\n",
    "elements_sack.append(GA_Element_Nozzle('', e_type=2, p=p_nozzleL, q_out = q_out_nozzle))\n",
    "elements_sack.append(GA_Element_Joiner('', e_type=1, ri=2, ro=1))\n",
    "elements_sack.append(GA_Element_Splitter('', e_type=1, ri=1, ro=3))"
   ]
  },
  {
   "cell_type": "markdown",
   "metadata": {},
   "source": [
    "## Слепой часовщик"
   ]
  },
  {
   "cell_type": "code",
   "execution_count": 52,
   "metadata": {},
   "outputs": [
    {
     "name": "stdout",
     "output_type": "stream",
     "text": [
      "Новая модель: Тест слепой часовщик\n"
     ]
    },
    {
     "ename": "KeyboardInterrupt",
     "evalue": "",
     "output_type": "error",
     "traceback": [
      "\u001b[1;31m---------------------------------------------------------------------------\u001b[0m",
      "\u001b[1;31mKeyboardInterrupt\u001b[0m                         Traceback (most recent call last)",
      "\u001b[1;32md:\\Git\\NRS_modeller\\workFolder\\ga.ipynb Cell 22\u001b[0m line \u001b[0;36m1\n\u001b[0;32m     <a href='vscode-notebook-cell:/d%3A/Git/NRS_modeller/workFolder/ga.ipynb#X25sZmlsZQ%3D%3D?line=12'>13</a>\u001b[0m model\u001b[39m.\u001b[39maddElements(elements_sack)\u001b[39m.\u001b[39mcheck_pumps()\u001b[39m.\u001b[39minterpretate()  \u001b[39m#.observersInit()\u001b[39;00m\n\u001b[0;32m     <a href='vscode-notebook-cell:/d%3A/Git/NRS_modeller/workFolder/ga.ipynb#X25sZmlsZQ%3D%3D?line=14'>15</a>\u001b[0m \u001b[39m# Расчет \u001b[39;00m\n\u001b[1;32m---> <a href='vscode-notebook-cell:/d%3A/Git/NRS_modeller/workFolder/ga.ipynb#X25sZmlsZQ%3D%3D?line=15'>16</a>\u001b[0m model\u001b[39m.\u001b[39;49mcalc(accuracy\u001b[39m=\u001b[39;49m\u001b[39m0.05\u001b[39;49m)\n\u001b[0;32m     <a href='vscode-notebook-cell:/d%3A/Git/NRS_modeller/workFolder/ga.ipynb#X25sZmlsZQ%3D%3D?line=16'>17</a>\u001b[0m \u001b[39mprint\u001b[39m(model\u001b[39m.\u001b[39msummaryQ(), end\u001b[39m=\u001b[39m\u001b[39m'\u001b[39m\u001b[39m\\n\u001b[39;00m\u001b[39m\\n\u001b[39;00m\u001b[39m'\u001b[39m)\n\u001b[0;32m     <a href='vscode-notebook-cell:/d%3A/Git/NRS_modeller/workFolder/ga.ipynb#X25sZmlsZQ%3D%3D?line=18'>19</a>\u001b[0m \u001b[39mprint\u001b[39m(\u001b[39m'\u001b[39m\u001b[39mСтатус насоса:\u001b[39m\u001b[39m'\u001b[39m)\n",
      "File \u001b[1;32md:\\Git\\NRS_modeller\\workFolder\\nrs.py:620\u001b[0m, in \u001b[0;36mNRS_Model.calc\u001b[1;34m(self, iters, callback, accuracy, fixStates)\u001b[0m\n\u001b[0;32m    618\u001b[0m     elmnt\u001b[39m.\u001b[39mset_q(elmnt\u001b[39m.\u001b[39mget_q_out())\n\u001b[0;32m    619\u001b[0m \u001b[39mif\u001b[39;00m fixStates:\n\u001b[1;32m--> 620\u001b[0m     \u001b[39mself\u001b[39;49m\u001b[39m.\u001b[39;49mfixState()\n\u001b[0;32m    621\u001b[0m     \u001b[39m# for elmnt in self.elmnts:\u001b[39;00m\n\u001b[0;32m    622\u001b[0m     \u001b[39m#     elmnt.fixState()\u001b[39;00m\n\u001b[0;32m    623\u001b[0m \u001b[39mif\u001b[39;00m callback:\n",
      "File \u001b[1;32md:\\Git\\NRS_modeller\\workFolder\\nrs.py:652\u001b[0m, in \u001b[0;36mNRS_Model.fixState\u001b[1;34m(self)\u001b[0m\n\u001b[0;32m    643\u001b[0m \u001b[39m    \u001b[39m\u001b[39m'''\u001b[39;00m\n\u001b[0;32m    644\u001b[0m \u001b[39m    Возвращает общий расход модели\u001b[39;00m\n\u001b[0;32m    645\u001b[0m \u001b[39m    \u001b[39;00m\n\u001b[1;32m   (...)\u001b[0m\n\u001b[0;32m    648\u001b[0m \u001b[39m    `float`: суммарный расход модели, л/с\u001b[39;00m\n\u001b[0;32m    649\u001b[0m \u001b[39m    '''\u001b[39;00m\n\u001b[0;32m    650\u001b[0m     \u001b[39mreturn\u001b[39;00m \u001b[39msum\u001b[39m([elmnt\u001b[39m.\u001b[39mget_q_out() \u001b[39mfor\u001b[39;00m elmnt \u001b[39min\u001b[39;00m \u001b[39mself\u001b[39m\u001b[39m.\u001b[39melmnts_out])\n\u001b[1;32m--> 652\u001b[0m \u001b[39mdef\u001b[39;00m \u001b[39mfixState\u001b[39m(\u001b[39mself\u001b[39m):\n\u001b[0;32m    653\u001b[0m \u001b[39m    \u001b[39m\u001b[39m'''\u001b[39;00m\n\u001b[0;32m    654\u001b[0m \u001b[39m    Фиксирует состояние параметров элементов модели\u001b[39;00m\n\u001b[0;32m    655\u001b[0m \u001b[39m    '''\u001b[39;00m\n\u001b[0;32m    656\u001b[0m     \u001b[39mfor\u001b[39;00m elmnt \u001b[39min\u001b[39;00m \u001b[39mself\u001b[39m\u001b[39m.\u001b[39melmnts:\n",
      "\u001b[1;31mKeyboardInterrupt\u001b[0m: "
     ]
    }
   ],
   "source": [
    "tmp_list = [e for e in elements_sack]\n",
    "\n",
    "while len(tmp_list)>0:\n",
    "    elmnt = tmp_list.pop(random.randrange(len(tmp_list)))\n",
    "    # next_elmnt  = random.choice(elements_sack)\n",
    "    elements_for_append = [e for e in elements_sack if e!=elmnt]\n",
    "    elmnt.append(random.choice(elements_for_append))\n",
    "\n",
    "# Сборка модели\n",
    "model = GA_model('Тест слепой часовщик')\n",
    "# model.build(pump, interpretate=True).observersInit()\n",
    "# model.addElements([pump, hoseW1, nozzle1], interpretate=True).observersInit()\n",
    "model.addElements(elements_sack).check_pumps().interpretate()  #.observersInit()\n",
    "\n",
    "# Расчет \n",
    "model.calc(accuracy=0.05)\n",
    "print(model.summaryQ(), end='\\n\\n')\n",
    "\n",
    "print('Статус насоса:')\n",
    "NRS_Revision.print_element_state(pump, ['H_add', 'q'])"
   ]
  },
  {
   "cell_type": "code",
   "execution_count": 54,
   "metadata": {},
   "outputs": [
    {
     "name": "stdout",
     "output_type": "stream",
     "text": [
      "Расстояние до Н0 0 м\n",
      "Полный граф изобразить не возможно, будет отображен упрощенный\n"
     ]
    },
    {
     "data": {
      "image/png": "[encoded data removed]",
      "text/plain": [
       "<Figure size 640x480 with 1 Axes>"
      ]
     },
     "metadata": {},
     "output_type": "display_data"
    },
    {
     "data": {
      "text/plain": [
       "<networkx.classes.digraph.DiGraph at 0x1b142e6adb0>"
      ]
     },
     "execution_count": 54,
     "metadata": {},
     "output_type": "execute_result"
    }
   ],
   "source": [
    "print_NRS_graph(model)"
   ]
  },
  {
   "cell_type": "code",
   "execution_count": 55,
   "metadata": {},
   "outputs": [
    {
     "name": "stdout",
     "output_type": "stream",
     "text": [
      "all:\n",
      "  Н0\n",
      "  Н1\n",
      "  Н2\n",
      "  НРЛ3\n",
      "  НРЛ4\n",
      "  НРЛ5\n",
      "  НРЛ6\n",
      "  НРЛ7\n",
      "  НРЛ8\n",
      "  Ств9\n",
      "  Ств10\n",
      "  Ств11\n",
      "  ВС12\n",
      "  Р13\n",
      "in:\n",
      "  Н0\n",
      "out:\n",
      "  Ств9\n",
      "  Ств10\n",
      "  Ств11\n"
     ]
    }
   ],
   "source": [
    "NRS_Revision.print_model_elements(model)"
   ]
  },
  {
   "cell_type": "markdown",
   "metadata": {},
   "source": [
    "## Построение деревьев"
   ]
  },
  {
   "cell_type": "code",
   "execution_count": 75,
   "metadata": {},
   "outputs": [],
   "source": [
    "def pop_random_element_by_class(lst, element_class, lst_left=False):\n",
    "    '''\n",
    "    Извлечение из списка элемента по классу\n",
    "    '''\n",
    "    elmnt = None\n",
    "    while not isinstance(elmnt, element_class):\n",
    "        elmnt = random.choice(lst)\n",
    "        \n",
    "    if lst_left:\n",
    "        return elmnt\n",
    "    else:\n",
    "        return lst.pop(NRS_Revision.get_element_by_name(lst, elmnt.name))\n",
    "    \n",
    "def element_class_test(lst, element_class):\n",
    "    for elmnt in lst:\n",
    "        if isinstance(elmnt, element_class):\n",
    "            return True\n",
    "    return False\n",
    "\n",
    "def drop_elements_links(lst):\n",
    "    for elmnt in lst:\n",
    "        elmnt.drop_links()"
   ]
  },
  {
   "cell_type": "code",
   "execution_count": 73,
   "metadata": {},
   "outputs": [
    {
     "data": {
      "text/plain": [
       "'Н0'"
      ]
     },
     "execution_count": 73,
     "metadata": {},
     "output_type": "execute_result"
    }
   ],
   "source": [
    "elmnt = pop_random_element_by_class(elements_sack, GA_Element_Pump, lst_left=True)\n",
    "elmnt.name"
   ]
  },
  {
   "cell_type": "code",
   "execution_count": 80,
   "metadata": {},
   "outputs": [
    {
     "name": "stdout",
     "output_type": "stream",
     "text": [
      "True\n",
      "False\n"
     ]
    }
   ],
   "source": [
    "print(element_class_test(elements_sack, GA_Element_Pump))\n",
    "print(element_class_test(elements_sack, GA_Element_InHose))"
   ]
  },
  {
   "cell_type": "code",
   "execution_count": 81,
   "metadata": {},
   "outputs": [
    {
     "data": {
      "text/plain": [
       "[<__main__.GA_Element_Pump at 0x1b141c152e0>,\n",
       " <__main__.GA_Element_Pump at 0x1b141c147a0>,\n",
       " <__main__.GA_Element_Pump at 0x1b141c155b0>,\n",
       " <__main__.GA_Element_Hose at 0x1b141c15b20>,\n",
       " <__main__.GA_Element_Hose at 0x1b142e6fce0>,\n",
       " <__main__.GA_Element_Hose at 0x1b142e6fd40>,\n",
       " <__main__.GA_Element_Hose at 0x1b142e6fe90>,\n",
       " <__main__.GA_Element_Hose at 0x1b142e6f6e0>,\n",
       " <__main__.GA_Element_Hose at 0x1b142e6fe60>,\n",
       " <__main__.GA_Element_Nozzle at 0x1b142e6ffe0>,\n",
       " <__main__.GA_Element_Nozzle at 0x1b142e6f350>,\n",
       " <__main__.GA_Element_Nozzle at 0x1b142e6fda0>,\n",
       " <__main__.GA_Element_Joiner at 0x1b142e6f110>,\n",
       " <__main__.GA_Element_Splitter at 0x1b142e6ef30>]"
      ]
     },
     "execution_count": 81,
     "metadata": {},
     "output_type": "execute_result"
    }
   ],
   "source": [
    "elements_sack"
   ]
  },
  {
   "cell_type": "code",
   "execution_count": 89,
   "metadata": {},
   "outputs": [
    {
     "name": "stdout",
     "output_type": "stream",
     "text": [
      "Новая модель: Тест деревья\n",
      "all:\n",
      "  Н0\n",
      "  НРЛ1\n",
      "  Ств2\n",
      "in:\n",
      "  Н0\n",
      "out:\n",
      "  Ств2\n",
      "Расстояние до Н0 120 м\n"
     ]
    },
    {
     "data": {
      "image/png": "[encoded data removed]",
      "text/plain": [
       "<Figure size 640x480 with 1 Axes>"
      ]
     },
     "metadata": {},
     "output_type": "display_data"
    },
    {
     "data": {
      "text/plain": [
       "<networkx.classes.digraph.DiGraph at 0x1b141c14e60>"
      ]
     },
     "execution_count": 89,
     "metadata": {},
     "output_type": "execute_result"
    }
   ],
   "source": [
    "# Сброс предыдущих связей\n",
    "drop_elements_links(elements_sack)\n",
    "\n",
    "# Но лучше просто делать копии элементов, наверное...\n",
    "model = GA_model('Тест деревья')\n",
    "pump = pop_random_element_by_class(elements_sack, GA_Element_Pump, lst_left=True)\n",
    "hose = pop_random_element_by_class(elements_sack, GA_Element_Hose, lst_left=True)\n",
    "nozzle = pop_random_element_by_class(elements_sack, GA_Element_Nozzle, lst_left=True)\n",
    "pump.append(hose).append(nozzle)\n",
    "\n",
    "\n",
    "model.addElements([pump,hose,nozzle]).check_pumps().interpretate()\n",
    "\n",
    "NRS_Revision.print_model_elements(model)\n",
    "\n",
    "print_NRS_graph(model)"
   ]
  },
  {
   "cell_type": "code",
   "execution_count": 83,
   "metadata": {},
   "outputs": [
    {
     "data": {
      "text/plain": [
       "True"
      ]
     },
     "execution_count": 83,
     "metadata": {},
     "output_type": "execute_result"
    }
   ],
   "source": [
    "pump"
   ]
  },
  {
   "cell_type": "code",
   "execution_count": null,
   "metadata": {},
   "outputs": [],
   "source": [
    "# Расчет \n",
    "model.calc(accuracy=0.05)\n",
    "print(model.summaryQ(), end='\\n\\n')"
   ]
  }
 ],
 "metadata": {
  "kernelspec": {
   "display_name": "ox",
   "language": "python",
   "name": "python3"
  },
  "language_info": {
   "codemirror_mode": {
    "name": "ipython",
    "version": 3
   },
   "file_extension": ".py",
   "mimetype": "text/x-python",
   "name": "python",
   "nbconvert_exporter": "python",
   "pygments_lexer": "ipython3",
   "version": "3.12.0"
  }
 },
 "nbformat": 4,
 "nbformat_minor": 2
}
