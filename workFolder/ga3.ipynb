{
 "cells": [
  {
   "cell_type": "markdown",
   "metadata": {},
   "source": [
    "# Тесты с генетическим алгоритмом (Скрещивание)"
   ]
  },
  {
   "cell_type": "markdown",
   "metadata": {},
   "source": [
    "Требуется подобрать такие параметры НРС, чтобы при заданных условиях (например, при требуемом расходе воды и подаче на требуемое расстояние), состав сил и средств был минимальный.\n",
    "\n",
    "Критерии оптимизации (пример для расхода и расстояния):\n",
    "\n",
    "\n",
    "$$\n",
    "|\\sum_{i=1}^{n}{Q_i}-Q_{треб.}|\\longrightarrow min\n",
    "$$\n",
    "\n",
    "$$\n",
    "|L_{НРС}-L_{треб.}|\\longrightarrow min\n",
    "$$\n",
    "\n"
   ]
  },
  {
   "cell_type": "markdown",
   "metadata": {},
   "source": [
    "Мутации добавления отдельных элементов невозможны, поэтому нужно делать мутации блоками:\n",
    "\n",
    "* ствол с рукавной линией\n",
    "* магистральная рукавная линия\n",
    "\n",
    "Нет, не так!\n",
    "\n",
    "Типы мутаций:\n",
    "\n",
    "* Разбить составной элемент, вставив другой элемент,\n",
    "* Удалить элемент\n",
    "* Изменить параметры элемента (количество рукавов, тип рукавов)\n",
    "* Добавить рабочую рукавную линию\n",
    "\n",
    "Основные категории элементов НРС:\n",
    "\n",
    "* Насос ПА (Pump)\n",
    "* напорная рукавная линия (Hose)\n",
    "* всасывающая рукавная линия (InHose)\n",
    "* разветвление (Splitter)\n",
    "* водосборник (Joiner)\n",
    "* ствол (Nozzle)\n",
    "\n",
    "\n",
    "Также нужно добавить элемент который будет очищать мусор в модели."
   ]
  },
  {
   "cell_type": "markdown",
   "metadata": {},
   "source": [
    "## Обертка над NRS которая будет реализовывать более тонкие функции ГА"
   ]
  },
  {
   "cell_type": "code",
   "execution_count": 1,
   "metadata": {},
   "outputs": [],
   "source": [
    "from nrs import NRS_Model, Element, NRS_Revision, NRS_Observer_E    # классы НРС\n",
    "from nrs import NRS_Data                                            # Табличные данные НРС\n",
    "from nrs import q_out_simple, q_out_nozzle                          # модели расчета параметров\n",
    "import matplotlib.pyplot as plt                                     # библиотеки для отрисовки получаемых данных\n",
    "import networkx as nx\n",
    "import numpy as np\n",
    "import random\n",
    "import copy\n",
    "from functools import reduce\n",
    "\n",
    "import logging\n",
    "logger = logging.getLogger('NRS')\n",
    "# logger.setLevel(logging.DEBUG)\n",
    "# logging.basicConfig(level=logging.DEBUG)"
   ]
  },
  {
   "cell_type": "code",
   "execution_count": 2,
   "metadata": {},
   "outputs": [],
   "source": [
    "def print_NRS_graph(model):\n",
    "    '''\n",
    "    Построение графа НРС\n",
    "    '''\n",
    "    # Цвета вершин\n",
    "    colors={\n",
    "        'GA_Element_Pump': 'gray',\n",
    "        'GA_Element_Hose': 'blue',\n",
    "        'GA_Element_InHose': 'black',\n",
    "        'GA_Element_Splitter': 'green',\n",
    "        'GA_Element_Joiner': 'green',\n",
    "        'GA_Element_Nozzle': 'red',\n",
    "    }\n",
    "\n",
    "    try:\n",
    "        G = nx.DiGraph()\n",
    "        # Узлы - на каждый элемент\n",
    "        for elmnt in model.elmnts:\n",
    "            G.add_node(elmnt.name, q=elmnt.q)\n",
    "        # Ребра - на каждую связь\n",
    "        for elmnt in model.elmnts:\n",
    "            for elmnt_next in elmnt.elements_next:\n",
    "                G.add_edge(elmnt.name, elmnt_next.name, L=elmnt.get_L())\n",
    "\n",
    "        # Расчет расстояния до элементов\n",
    "        for elmnt in model.elmnts_in:\n",
    "            paths = nx.shortest_path_length(G, source = elmnt.name, weight='L')\n",
    "            nx.set_node_attributes(G, paths, 'L')   # Здесь нужна другая логика\n",
    "            print(f'Расстояние до {elmnt.name} {max(paths.values())} м')    \n",
    "\n",
    "        # Печать графа НРС с позициями\n",
    "        pos={}\n",
    "        pos_list=[]\n",
    "        level=0\n",
    "        for eo in model.elmnts_in:\n",
    "            v = eo.name\n",
    "            spl = dict(nx.single_source_shortest_path_length(G, v))\n",
    "            for nd, p in spl.items():\n",
    "                if not nd in pos.keys():\n",
    "                    level_rize=level\n",
    "                    cpos = (p,level_rize)\n",
    "                    while cpos in pos_list:\n",
    "                        level_rize+=1\n",
    "                        cpos = (p,level_rize)\n",
    "                    pos[nd]=cpos\n",
    "                    pos_list.append(cpos)\n",
    "            level+=1\n",
    "\n",
    "        # nc = [nd[1]['L'] for nd in list(G.nodes(data=True))]\n",
    "        # nx.draw(G, pos=pos, with_labels=True, node_color=nc)\n",
    "        nc = [colors[e.id] for e in model.elmnts]\n",
    "        nx.draw(G, pos=pos, with_labels=True, node_color=nc)\n",
    "        plt.show()\n",
    "\n",
    "        return G\n",
    "    except:\n",
    "        print('Полный граф изобразить не возможно, будет отображен упрощенный')\n",
    "        return print_NRS_graph_simple(model)\n",
    "\n",
    "def print_NRS_graph_simple(model):\n",
    "    '''\n",
    "    Построение графа НРС\n",
    "    '''\n",
    "    G = nx.DiGraph()\n",
    "    # Узлы - на каждый элемент\n",
    "    for elmnt in model.elmnts:\n",
    "        G.add_node(elmnt.name, q=elmnt.q)\n",
    "    # Ребра - на каждую связь\n",
    "    for elmnt in model.elmnts:\n",
    "        for elmnt_next in elmnt.elements_next:\n",
    "            G.add_edge(elmnt.name, elmnt_next.name)\n",
    "\n",
    "    nx.draw(G, with_labels=True)\n",
    "    plt.show()\n",
    "\n",
    "    return G\n",
    "# from workFolder.nrs import q_out_simple\n",
    "\n",
    "#=========================================== Классы модели ГА ==============================================\n",
    "class GA_model(NRS_Model):\n",
    "    '''\n",
    "    Класс модели НРС адаптированный для работы ГА\n",
    "    '''\n",
    "    def __init__(self, name):\n",
    "        super().__init__(name)\n",
    "\n",
    "    def appendElement(self, elmnt):\n",
    "        \n",
    "        # super().appendElement(elmnt)\n",
    "        name_prefixes={\n",
    "            'GA_Element_Pump': 'Н',\n",
    "            'GA_Element_Hose': 'НРЛ',\n",
    "            'GA_Element_InHose': 'ВРЛ',\n",
    "            'GA_Element_Splitter': 'Р', \n",
    "            'GA_Element_Joiner': 'ВС',\n",
    "            'GA_Element_Nozzle': 'С',\n",
    "        }\n",
    "        if elmnt.name=='': elmnt.name=name_prefixes[elmnt.id]+str(self.counter)\n",
    "            \n",
    "        return super().appendElement(elmnt)\n",
    "\n",
    "    def crossing(self, pair_model):\n",
    "        return self\n",
    "\n",
    "    def mutate(self, mutation_count=1):\n",
    "        '''\n",
    "        Мутация элементов модели\n",
    "        '''\n",
    "        for _ in range(mutation_count):\n",
    "            random.choice(self.elmnts).mutate()\n",
    "\n",
    "\n",
    "    def check_pumps(self):\n",
    "        '''\n",
    "        Проверяет пожарные автомобили. \n",
    "        Для тех из них у которых есть только элементы на выход устанавливается e_type `0` (in).\n",
    "        Для тех у кого имеются и те и те, ставится e_type `1` (inter).\n",
    "        '''\n",
    "        for elmnt in self.elmnts:\n",
    "            if isinstance(elmnt, GA_Element_Pump):\n",
    "                e_in = len(elmnt.elements_previous)\n",
    "                e_out = len(elmnt.elements_next)\n",
    "                if e_in==0 and e_out>0:\n",
    "                    elmnt.type = 0\n",
    "                if e_in>0 and e_out>0:\n",
    "                    elmnt.type = 1\n",
    "        return self\n",
    "    \n",
    "\n",
    "class GA_Element_Pump(Element):\n",
    "    '''\n",
    "    Класс элемента `Пожарного автомобиля с насосом` адаптированный для работы ГА.\n",
    "    '''\n",
    "    def __init__(self, name, e_type, H_min=10, Q_min=0, H_max=100, Q_max=40, \n",
    "        q=0, s=0, H_in=0, h=0, H_add=0, z=0, p=1, n=1, l=0, ri=2, ro=2, q_out=...):\n",
    "        \n",
    "        self.id = 'GA_Element_Pump'\n",
    "        self.H_min = H_min\n",
    "        self.H_max = H_max\n",
    "        self.Q_min = Q_min\n",
    "        self.Q_max = Q_max\n",
    "        super().__init__(name, e_type, q, s, H_in, h, H_add, z, p, n, l, ri, ro, q_out)\n",
    "\n",
    "    def set_H_add(self, H_add):\n",
    "        if H_add > self.H_max:\n",
    "            self.H_add = self.H_max\n",
    "        else:\n",
    "            self.H_add = H_add\n",
    "        if H_add <= self.H_min:\n",
    "            self.H_add = self.H_min\n",
    "        else:\n",
    "            self.H_add = H_add\n",
    "\n",
    "    def mutate(self):\n",
    "        mutation_case = random.choices([0,1,2,3],weights=[4,2,1,1])[0]\n",
    "        # мутация напора\n",
    "        if mutation_case==0:\n",
    "            change_val = random.choice([-5,5])\n",
    "            # print('H added')\n",
    "            self.H_add+=change_val\n",
    "        # Мутация производительности насоса\n",
    "        if mutation_case==1:\n",
    "            change_val = random.choice([40,60,70,100])\n",
    "            self.Q_max = change_val\n",
    "        # Мутация количества напорных патрубков\n",
    "        if mutation_case==2:\n",
    "            change_val = random.choice([2,4])\n",
    "            self.set_ro(change_val)\n",
    "        # Мутация всасывающих патрубков\n",
    "        if mutation_case==3:\n",
    "            change_val = random.choice([1,2,3,4])\n",
    "            self.set_ri(change_val)\n",
    "\n",
    "\n",
    "\n",
    "\n",
    "class GA_Element_Hose(Element):\n",
    "    '''\n",
    "    Класс элемента `Рукавной линии` адаптированный для работы ГА.\n",
    "    '''\n",
    "    def __init__(self, name, e_type=1, d='51', q=0, s=0, H_in=0, h=0, H_add=0, z=0, p=1, n=1, l=20, ri=1, ro=1, q_out=...):\n",
    "        self.id = 'GA_Element_Hose'\n",
    "        self.d=d\n",
    "        super().__init__(name, e_type, q, s, H_in, h, H_add, z, p, n, l, ri, ro, q_out)\n",
    "\n",
    "    def mutate(self):\n",
    "        mutation_case = random.choice([0,1])\n",
    "        # мутация количества\n",
    "        if mutation_case==0:\n",
    "            change_val = random.choice([i for i in range(-5,5)])\n",
    "            if self.n+change_val>0:\n",
    "                self.n = self.n+change_val\n",
    "        # мутация диаметра\n",
    "        if mutation_case==1:\n",
    "            new_d=random.choice(list(NRS_Data.ss.keys()))\n",
    "            self.d = new_d\n",
    "            self.s = NRS_Data.ss[new_d]\n",
    "        # мутация типа\n",
    "\n",
    "        # разбиение\n",
    "\n",
    "class GA_Element_InHose(Element):\n",
    "    '''\n",
    "    Класс элемента `Всасывающей рукавной линии` адаптированный для работы ГА.\n",
    "    '''\n",
    "    def __init__(self, name, e_type=1, q=0, s=0, H_in=0, h=0, H_add=0, z=0, p=1, n=1, l=4, ri=1, ro=1, q_out=...):\n",
    "        self.id = 'GA_Element_InHose'\n",
    "        super().__init__(name, e_type, q, s, H_in, h, H_add, z, p, n, l, ri, ro, q_out)\n",
    "\n",
    "    def mutate(self):\n",
    "        pass\n",
    "\n",
    "class GA_Element_Splitter(Element):\n",
    "    '''\n",
    "    Класс элемента `Разветвление` адаптированный для работы ГА.\n",
    "    '''\n",
    "    def __init__(self, name, e_type=1, q=0, s=0, H_in=0, h=0, H_add=0, z=0, p=1, n=1, l=0, ri=1, ro=3, q_out=...):\n",
    "        self.id = 'GA_Element_Splitter'\n",
    "        super().__init__(name, e_type, q, s, H_in, h, H_add, z, p, n, l, ri, ro, q_out)\n",
    "\n",
    "    def mutate(self):\n",
    "        # мутация количества выходов\n",
    "        change_val = random.choice([2,3,4,5])\n",
    "        # if change_val < self.ro:\n",
    "        #     print('Удаляется', self.name)\n",
    "        self.set_ro(change_val)\n",
    "\n",
    "class GA_Element_Joiner(Element):\n",
    "    '''\n",
    "    Класс элемента `Водосборник` адаптированный для работы ГА.\n",
    "    '''\n",
    "    def __init__(self, name, e_type=1, q=0, s=0, H_in=0, h=0, H_add=0, z=0, p=1, n=1, l=0, ri=2, ro=1, q_out=...):\n",
    "        self.id = 'GA_Element_Joiner'\n",
    "        super().__init__(name, e_type, q, s, H_in, h, H_add, z, p, n, l, ri, ro, q_out)\n",
    "\n",
    "    def mutate(self):\n",
    "        # мутация количества входов\n",
    "        change_val = random.choice([2,3,4,5])\n",
    "        self.set_ri(change_val)\n",
    "\n",
    "class GA_Element_Nozzle(Element):\n",
    "    '''\n",
    "    Класс элемента `Ствол` адаптированный для работы ГА.\n",
    "    '''\n",
    "    def __init__(self, name, e_type=1, n_type='Б', q=0, s=0, H_in=0, h=0, H_add=0, z=0, p=1, n=1, l=0, ri=1, ro=0, q_out=...):\n",
    "        '''\n",
    "        `n_type` - тип ствола. `Б` - ручной ствол Б, `А` - ручной ствол А, `Л` - лафетный переносной, `ЛА` - лафетный автомобильный.\n",
    "        '''\n",
    "        self.id = 'GA_Element_Nozzle'\n",
    "        self.n_type = n_type\n",
    "        super().__init__(name, e_type, q, s, H_in, h, H_add, z, p, n, l, ri, ro, q_out)\n",
    "\n",
    "    def mutate(self):\n",
    "        # mutation_case = random.choice([0,1])\n",
    "        # Мутация типа ствола\n",
    "        change_val = random.choice(['А','Б','Л'])\n",
    "        self.n_type = change_val\n",
    "        if change_val=='А':\n",
    "            self.p = NRS_Revision.calc_p(7.4, 40)\n",
    "        if change_val=='Б':\n",
    "            self.p = NRS_Revision.calc_p(3.7, 40)\n",
    "        if change_val=='Л':\n",
    "            self.p = NRS_Revision.calc_p(16, 40)\n",
    "\n",
    "\n",
    "# Правила соединения элементов\n",
    "# Классы которые могут быть присоединены после элемента\n",
    "allowed_append_classes = {\n",
    "        'GA_Element_Pump': (GA_Element_Hose),\n",
    "        'GA_Element_Hose': (GA_Element_Pump,GA_Element_Hose,GA_Element_Nozzle,GA_Element_Joiner,GA_Element_Splitter),\n",
    "        'GA_Element_InHose': (GA_Element_Pump),\n",
    "        'GA_Element_Splitter': (GA_Element_Hose), #,GA_Element_Splitter),\n",
    "        'GA_Element_Joiner': (GA_Element_Pump,GA_Element_Hose,GA_Element_Nozzle,GA_Element_Splitter),\n",
    "        'GA_Element_Nozzle': (),\n",
    "    }\n",
    "# Классы которые могут быть присоединены перед элементом\n",
    "allowed_prepend_classes = {\n",
    "        'GA_Element_Pump': (GA_Element_Hose,GA_Element_Joiner,GA_Element_InHose),\n",
    "        'GA_Element_Hose': (GA_Element_Pump,GA_Element_Hose,GA_Element_Joiner,GA_Element_Splitter),\n",
    "        'GA_Element_InHose': (),\n",
    "        'GA_Element_Splitter': (GA_Element_Hose,GA_Element_Joiner,GA_Element_Splitter),\n",
    "        'GA_Element_Joiner': (GA_Element_Hose),\n",
    "        'GA_Element_Nozzle': (GA_Element_Hose,GA_Element_Joiner),\n",
    "    }\n",
    "\n",
    "\n",
    "\n",
    "#=====================================Оценщик=====================================================================================================\n",
    "class Appraiser(NRS_Revision):\n",
    "    '''\n",
    "    Класс-оценщик состояния модели\n",
    "    '''\n",
    "    \n",
    "    @staticmethod\n",
    "    def print_GA_NRS_model_elements_state(model:GA_model):\n",
    "        print('='*80)\n",
    "        print(model.name)\n",
    "        print('='*80)\n",
    "        \n",
    "        for elmnt in model.elmnts:\n",
    "            if isinstance(elmnt, GA_Element_Pump):\n",
    "                print(f'Насос ({elmnt.name}); напор: {elmnt.H_add} м; производительность: {elmnt.q} л/с; напор макс.: {elmnt.H_max}')\n",
    "        print('')\n",
    "        for elmnt in model.elmnts:\n",
    "            if isinstance(elmnt, GA_Element_Hose):\n",
    "                print(f'Рукавная линия ({elmnt.name}), длина: {elmnt.get_L()} м; диаметр: {elmnt.d} мм; сопротивление {elmnt.s}; потеря напора: {elmnt.h} м')\n",
    "        print('')\n",
    "        for elmnt in model.elmnts:\n",
    "            if isinstance(elmnt, GA_Element_Nozzle):\n",
    "                print(f'Ствол ({elmnt.name}): \"{elmnt.n_type}\"; проводимость: {elmnt.p}; напор: {elmnt.H_in}, м; расход: {elmnt.q}, л/с')\n",
    "\n",
    "    @staticmethod\n",
    "    def get_G(model:GA_model):\n",
    "        G = nx.DiGraph()\n",
    "\n",
    "        # Узлы - на каждый элемент\n",
    "        for elmnt in model.elmnts:\n",
    "            G.add_node(elmnt.name, q=elmnt.q)\n",
    "        # Ребра - на каждую связь\n",
    "        for elmnt in model.elmnts:\n",
    "            for elmnt_next in elmnt.elements_next:\n",
    "                G.add_edge(elmnt.name, elmnt_next.name, L=elmnt.get_L())\n",
    "        \n",
    "        return G\n",
    "    \n",
    "    @staticmethod\n",
    "    def get_Ls(G, model:GA_model):\n",
    "        ''' \n",
    "        Расчет расстояний до элементов\n",
    "\n",
    "        # Возвращает\n",
    "\n",
    "        `p`: dict, `min_L`:float, `max_L`:float\n",
    "            `p` - Словарь словарей, где ключ1 - имя насоса, ключ2 - имя ствола, значение - расстояние до него в метрах.\n",
    "            `min_L` - Минимальное расстояние из имеющихся, м.\n",
    "            `max_L` - Максимальное расстояние из имеющихся, м.\n",
    "        '''\n",
    "        max_L=0\n",
    "        min_L=100000\n",
    "        nozzles_names = [n.name for n in model.elmnts_out if n.type==2]\n",
    "        p={}\n",
    "        for e_pump in model.elmnts_in:\n",
    "            paths = nx.shortest_path_length(G, source = e_pump.name, weight='L')\n",
    "            dists = {k:v for k,v in paths.items() if k in nozzles_names}  \n",
    "            p[e_pump.name] = dists\n",
    "            cur_max_L = max(dists.values())\n",
    "            cur_min_L = min(dists.values())\n",
    "            if cur_max_L>max_L: max_L=cur_max_L\n",
    "            if cur_min_L<min_L: min_L=cur_min_L\n",
    "        return p, min_L, max_L\n",
    "    \n",
    "    @staticmethod\n",
    "    def metrics(model:GA_model):\n",
    "        '''\n",
    "        Оценка модели\n",
    "        '''\n",
    "        m={'hoses':0,'nozzles':0}\n",
    "        # Расчет длинн рукавных линий\n",
    "        G = Appraiser.get_G(model)\n",
    "        m['distances'], m['min_L'], m['max_L'] = Appraiser.get_Ls(G, model)        \n",
    "\n",
    "        # Количество рукавов\n",
    "        for elmnt in model.elmnts:\n",
    "            if isinstance(elmnt, GA_Element_Hose):\n",
    "                m['hoses']+=elmnt.n\n",
    "                try:\n",
    "                    m[elmnt.d]+=elmnt.n\n",
    "                except:\n",
    "                    m[elmnt.d]=elmnt.n\n",
    "            if isinstance(elmnt, GA_Element_Nozzle):\n",
    "                m['nozzles']+=elmnt.n\n",
    "                try:\n",
    "                    m[elmnt.n_type]+=1\n",
    "                except:\n",
    "                    m[elmnt.n_type]=1\n",
    "        \n",
    "        # Общий расход\n",
    "        m['Q'] = model.summaryQ()\n",
    "\n",
    "        return m\n",
    "    \n",
    "    @staticmethod\n",
    "    def print_metrics(model:GA_model):\n",
    "        for k, v in Appraiser.metrics(model).items():\n",
    "            print(k,v, sep='\\t')\n",
    "\n",
    "    @staticmethod\n",
    "    def evaluate(metrics: dict, aims: dict):\n",
    "        '''\n",
    "        Оценка модели\n",
    "\n",
    "        `metrics`: dict\n",
    "            Словарь метрик модели\n",
    "        `aims`: dict\n",
    "            Словарь целей оптимизации\n",
    "        ''' \n",
    "        X = []\n",
    "        Y = []\n",
    "        for aim, aim_val in aims.items():\n",
    "            if aim in metrics.keys():\n",
    "                metric_val = metrics[aim]\n",
    "                max_val = max(aim_val, metric_val)\n",
    "                X.append(metric_val/max_val)\n",
    "                Y.append(aim_val/max_val)\n",
    "\n",
    "        # Собственно оценка!\n",
    "        z=[]\n",
    "        for x,y in zip(X,Y):\n",
    "            z.append(abs(y-x))\n",
    "\n",
    "        return np.mean(z)\n",
    "\n",
    "\n",
    "\n",
    "\n",
    "\n",
    "#======================================================Дополнительные инструменты=================================================================\n",
    "def pop_random_element_by_class(lst, element_class=None, lst_left=False):\n",
    "    '''\n",
    "    Извлечение из списка элемента по классу\n",
    "\n",
    "    `lst`\n",
    "        Список элементов\n",
    "\n",
    "    `element_class`\n",
    "        Класс(ы) элементов\n",
    "\n",
    "    `lst_left`\n",
    "        Если True, то список сохраняется, иначе элемент будет удален.\n",
    "    '''\n",
    "    elmnt = None\n",
    "    if element_class is None:\n",
    "        elmnt = random.choice(lst)\n",
    "    else:\n",
    "        if element_class_test(lst, element_class):\n",
    "            while not isinstance(elmnt, element_class):\n",
    "                elmnt = random.choice(lst)\n",
    "        else:\n",
    "            return None\n",
    "        \n",
    "    if lst_left:\n",
    "        return copy.deepcopy(elmnt)\n",
    "    else:\n",
    "        idx = lst.index(elmnt)\n",
    "        return copy.deepcopy(lst.pop(idx))\n",
    "    \n",
    "def element_class_test(lst, element_class):\n",
    "    for elmnt in lst:\n",
    "        if isinstance(elmnt, element_class):\n",
    "            return True\n",
    "    return False\n",
    "\n",
    "def drop_elements_links(lst):\n",
    "    for elmnt in lst:\n",
    "        elmnt.drop_links()\n",
    "\n",
    "\n",
    "#==============================================Рекурсии=========================================================================\n",
    "# Рекурсивное построение дерева\n",
    "def append_new_element(elmnt, elmnts_examples, add_elmnts_p=0.5, lst_left=True):\n",
    "    '''\n",
    "    Рекурсивное построение дерева НРС\n",
    "    '''\n",
    "    global depth\n",
    "    if depth<=0:\n",
    "        print('Достигнут предел рекурсии')\n",
    "        return\n",
    "    depth-=1\n",
    "\n",
    "    # print(len(elements_sack))\n",
    "\n",
    "    # ограничение списка приемлемых классов\n",
    "    allowed_element_classes = allowed_append_classes[elmnt.id]\n",
    "    # print(elmnt.id, 'Можно:')\n",
    "    # print(allowed_element_classes)\n",
    "\n",
    "    if elmnt.ro>0:\n",
    "        # random_elmnt = copy.deepcopy(pop_random_element_by_class(elmnts_examples, element_class=allowed_element_classes, lst_left=lst_left))\n",
    "        # print(len(elmnts_examples))\n",
    "        random_elmnt = pop_random_element_by_class(elmnts_examples, element_class=allowed_element_classes, lst_left=lst_left)\n",
    "        if random_elmnt is None: return\n",
    "        # print(len(elmnts_examples))\n",
    "        if elmnt.append(random_elmnt):\n",
    "            append_new_element(random_elmnt, elmnts_examples, lst_left=lst_left)\n",
    "\n",
    "    for _ in range(elmnt.ro-1):\n",
    "        logger.debug(f'Элемент {type(elmnt)}, выходов {elmnt.ro}')\n",
    "        rnd = random.random()\n",
    "        if rnd<=add_elmnts_p:\n",
    "            # random_elmnt = copy.deepcopy(pop_random_element_by_class(elmnts_examples, element_class=allowed_element_classes, lst_left=lst_left))\n",
    "            # print(len(elmnts_examples))\n",
    "            random_elmnt = pop_random_element_by_class(elmnts_examples, element_class=allowed_element_classes, lst_left=lst_left)\n",
    "            if random_elmnt is None: return\n",
    "            # print(len(elmnts_examples))\n",
    "            if elmnt.append(random_elmnt):\n",
    "                append_new_element(random_elmnt, elmnts_examples, lst_left=lst_left)\n",
    "\n",
    "\n",
    "def fire_dead_elements_try(model:NRS_Model, elmnt: Element):\n",
    "    '''\n",
    "    Рекурсивная попытка удалить мертвые элементы из модели\n",
    "    '''\n",
    "    print(elmnt.name)\n",
    "    if elmnt.type==0 and len(elmnt.elements_next)==0:\n",
    "        elmnt.drop_links(linked_elements=True, current_element=False)\n",
    "        for ep in elmnt.elements_previous:\n",
    "            model = fire_dead_elements_try(model, ep)\n",
    "        model.delElement(elmnt)\n",
    "    elif elmnt.type==1 and (len(elmnt.elements_next)==0 or len(elmnt.elements_previous)==0):\n",
    "        elmnt.drop_links(linked_elements=True, current_element=False)\n",
    "        for en in elmnt.elements_next:\n",
    "            model = fire_dead_elements_try(model, en)\n",
    "        for ep in elmnt.elements_previous:\n",
    "            model = fire_dead_elements_try(model, ep)\n",
    "        model.delElement(elmnt)\n",
    "    elif elmnt.type==2 and len(elmnt.elements_previous)==0:\n",
    "        elmnt.drop_links(linked_elements=True, current_element=False)\n",
    "        for en in elmnt.elements_next:\n",
    "            model = fire_dead_elements_try(model, en)\n",
    "        model.delElement(elmnt)\n",
    "    return model"
   ]
  },
  {
   "cell_type": "markdown",
   "metadata": {},
   "source": [
    "# Пресеты"
   ]
  },
  {
   "cell_type": "code",
   "execution_count": 3,
   "metadata": {},
   "outputs": [
    {
     "name": "stdout",
     "output_type": "stream",
     "text": [
      "Новая модель: Простая НРС с одной РРЛ и одним стволом\n",
      "Расстояние до Н0 40 м\n"
     ]
    },
    {
     "data": {
      "image/png": "[encoded data removed]",
      "text/plain": [
       "<Figure size 640x480 with 1 Axes>"
      ]
     },
     "metadata": {},
     "output_type": "display_data"
    },
    {
     "data": {
      "text/plain": [
       "<networkx.classes.digraph.DiGraph at 0x133fec8ffe0>"
      ]
     },
     "execution_count": 3,
     "metadata": {},
     "output_type": "execute_result"
    }
   ],
   "source": [
    "class Presets():\n",
    "\n",
    "    @staticmethod\n",
    "    def single_line():\n",
    "        '''\n",
    "        Простая НРС с одной РРЛ и одним стволом\n",
    "\n",
    "            |=|>-------------|->\n",
    "        '''\n",
    "        p_nozzleB = NRS_Revision.calc_p(3.7, 40)\n",
    "\n",
    "        pump = GA_Element_Pump('', e_type=1, H_add=40)\n",
    "        hose = GA_Element_Hose('', e_type=1, s=NRS_Data.ss[\"51\"], n=2)\n",
    "        nozzle = GA_Element_Nozzle('', e_type=2, n_type='Б', p=p_nozzleB, q_out = q_out_nozzle)\n",
    "\n",
    "        pump.append(hose).append(nozzle)\n",
    "\n",
    "        model = GA_model('Простая НРС с одной РРЛ и одним стволом')\n",
    "        model.addElements([pump,hose,nozzle])\n",
    "        return model.check_pumps().interpretate()\n",
    "    \n",
    "    @staticmethod\n",
    "    def single_splitter(nozzles_count=2):\n",
    "        '''\n",
    "        Сложная НРС с одним разветвлением и nozzles_count рабочих линий\n",
    "\n",
    "                             ------|->\n",
    "            |=|>------{------|->\n",
    "                             ------|->\n",
    "            \n",
    "        '''\n",
    "        if not nozzles_count in [1,2,3]:\n",
    "            raise ValueError(\"Количество стволов не может быть меньше 1 и больше 3!\")\n",
    "\n",
    "        p_nozzleB = NRS_Revision.calc_p(3.7, 40)\n",
    "\n",
    "        model = GA_model('Сложная НРС с одним разветвлением и nozzles_count рабочих линий')\n",
    "\n",
    "        pump = GA_Element_Pump('', e_type=1, H_add=40)\n",
    "        hoseM = GA_Element_Hose('', e_type=1, d='77', s=NRS_Data.ss[\"77\"], n=2)\n",
    "        spliiter = GA_Element_Splitter('', e_type=1, ri=1, ro=3)\n",
    "        pump.append(hoseM).append(spliiter)\n",
    "\n",
    "        model.addElements([pump,hoseM,spliiter])\n",
    "\n",
    "        for _ in range(nozzles_count):\n",
    "            hoseW = GA_Element_Hose('', e_type=1, d='51', s=NRS_Data.ss[\"51\"], n=2)\n",
    "            nozzle = GA_Element_Nozzle('', e_type=2, n_type='Б', p=p_nozzleB, q_out = q_out_nozzle)\n",
    "            spliiter.append(hoseW).append(nozzle)\n",
    "            model.addElements([hoseW,nozzle])\n",
    "\n",
    "        return model.check_pumps().interpretate()\n",
    "    \n",
    "    @staticmethod\n",
    "    def two_splitter(nozzles_count1=2, nozzles_count2=2):\n",
    "        '''\n",
    "        Сложная НРС с двумя разветвлениями и nozzles_count рабочих линий первого и второго порядка\n",
    "\n",
    "                             ------|->          ------|->\n",
    "            |=|>------{------------------{------|->\n",
    "                             ------|->          ------|->\n",
    "            \n",
    "        '''\n",
    "        if not nozzles_count1 in [1,2]:\n",
    "            raise ValueError(\"Количество стволов не может быть меньше 1 и больше 2!\")\n",
    "        if not nozzles_count2 in [1,2,3]:\n",
    "            raise ValueError(\"Количество стволов не может быть меньше 1 и больше 3!\")\n",
    "\n",
    "        p_nozzleB = NRS_Revision.calc_p(3.7, 40)\n",
    "\n",
    "        model = GA_model('Сложная НРС с двумя разветвлениями и nozzles_count рабочих линий первого и второго порядка')\n",
    "\n",
    "        pump = GA_Element_Pump('', e_type=1, H_add=40)\n",
    "        hoseM1 = GA_Element_Hose('', e_type=1, d='77', s=NRS_Data.ss[\"77\"], n=2)\n",
    "        spliiter1 = GA_Element_Splitter('', e_type=1, ri=1, ro=3)\n",
    "        hoseM2 = GA_Element_Hose('', e_type=1, d='77', s=NRS_Data.ss[\"77\"], n=2)\n",
    "        spliiter2 = GA_Element_Splitter('', e_type=1, ri=1, ro=3)\n",
    "        pump.append(hoseM1).append(spliiter1).append(hoseM2).append(spliiter2)\n",
    "\n",
    "        model.addElements([pump,hoseM1,spliiter1,hoseM2,spliiter2])\n",
    "\n",
    "        for _ in range(nozzles_count1):\n",
    "            hoseW = GA_Element_Hose('', e_type=1, d='51', s=NRS_Data.ss[\"51\"], n=2)\n",
    "            nozzle = GA_Element_Nozzle('', e_type=2, n_type='Б', p=p_nozzleB, q_out = q_out_nozzle)\n",
    "            spliiter1.append(hoseW).append(nozzle)\n",
    "            model.addElements([hoseW,nozzle])\n",
    "        for _ in range(nozzles_count2):\n",
    "            hoseW = GA_Element_Hose('', e_type=1, d='51', s=NRS_Data.ss[\"51\"], n=2)\n",
    "            nozzle = GA_Element_Nozzle('', e_type=2, n_type='Б', p=p_nozzleB, q_out = q_out_nozzle)\n",
    "            spliiter2.append(hoseW).append(nozzle)\n",
    "            model.addElements([hoseW,nozzle])\n",
    "        \n",
    "        return model.check_pumps().interpretate()\n",
    "\n",
    "    @staticmethod\n",
    "    def single_joiner(nozzle_q=20, nozzle_workpress=60):\n",
    "        '''\n",
    "        Сложная НРС с одним водосборником и лафетным стволом\n",
    "\n",
    "            |=|>------\n",
    "                             }------|-,->\n",
    "            |=|>------\n",
    "            \n",
    "        '''\n",
    "\n",
    "        p_nozzleL = NRS_Revision.calc_p(nozzle_q, nozzle_workpress)\n",
    "\n",
    "        model = GA_model('Сложная НРС с одним водосборником и лафетным стволом')\n",
    "\n",
    "        pump1 = GA_Element_Pump('', e_type=1, H_add=80)\n",
    "        hoseM1 = GA_Element_Hose('', e_type=1, d='77', s=NRS_Data.ss[\"77\"], n=2)\n",
    "        pump2 = GA_Element_Pump('', e_type=1, H_add=80)\n",
    "        hoseM2 = GA_Element_Hose('', e_type=1, d='77', s=NRS_Data.ss[\"77\"], n=2)\n",
    "        joiner = GA_Element_Joiner('', e_type=1, ri=2, ro=1)\n",
    "        hoseW1 = GA_Element_Hose('', e_type=1, d='77', s=NRS_Data.ss[\"77\"], n=2)\n",
    "        nozzle = GA_Element_Nozzle('', e_type=2, n_type='Л', p=p_nozzleL, q_out = q_out_nozzle)\n",
    "\n",
    "        pump1.append(hoseM1).append(joiner)\n",
    "        pump2.append(hoseM2).append(joiner)\n",
    "        joiner.append(hoseW1).append(nozzle)\n",
    "\n",
    "        model.addElements([pump1,hoseM1,pump2,hoseM2,joiner,hoseW1,nozzle])\n",
    "\n",
    "        return model.check_pumps().interpretate()\n",
    "    \n",
    "    @staticmethod\n",
    "    def n_components(n=2):\n",
    "        '''\n",
    "        Простая НРС из n компонентов в виде простых НРС\n",
    "\n",
    "            n * |=|>-------------|->\n",
    "            \n",
    "        '''\n",
    "        model = GA_model(f'Простая НРС из {n} компонентов в виде простых НРС')\n",
    "\n",
    "        for _ in range(n):\n",
    "            for e in Presets.single_line().elmnts:\n",
    "                e.name=''\n",
    "                model.addElements([e])\n",
    "\n",
    "        return model.check_pumps().interpretate()\n",
    "\n",
    "\n",
    "model = Presets.single_line()\n",
    "print_NRS_graph(model)"
   ]
  },
  {
   "cell_type": "code",
   "execution_count": 4,
   "metadata": {},
   "outputs": [
    {
     "name": "stdout",
     "output_type": "stream",
     "text": [
      "Новая модель: Сложная НРС с одним разветвлением и nozzles_count рабочих линий\n",
      "Расстояние до Н0 80 м\n"
     ]
    },
    {
     "data": {
      "image/png": "[encoded data removed]",
      "text/plain": [
       "<Figure size 640x480 with 1 Axes>"
      ]
     },
     "metadata": {},
     "output_type": "display_data"
    },
    {
     "data": {
      "text/plain": [
       "<networkx.classes.digraph.DiGraph at 0x133fe6972c0>"
      ]
     },
     "execution_count": 4,
     "metadata": {},
     "output_type": "execute_result"
    }
   ],
   "source": [
    "model = Presets.single_splitter(3)\n",
    "print_NRS_graph(model)"
   ]
  },
  {
   "cell_type": "code",
   "execution_count": 5,
   "metadata": {},
   "outputs": [
    {
     "name": "stdout",
     "output_type": "stream",
     "text": [
      "Новая модель: Сложная НРС с двумя разветвлениями и nozzles_count рабочих линий первого и второго порядка\n",
      "Расстояние до Н0 120 м\n"
     ]
    },
    {
     "data": {
      "image/png": "[encoded data removed]",
      "text/plain": [
       "<Figure size 640x480 with 1 Axes>"
      ]
     },
     "metadata": {},
     "output_type": "display_data"
    },
    {
     "data": {
      "text/plain": [
       "<networkx.classes.digraph.DiGraph at 0x133fec31df0>"
      ]
     },
     "execution_count": 5,
     "metadata": {},
     "output_type": "execute_result"
    }
   ],
   "source": [
    "model = Presets.two_splitter(nozzles_count1=1, nozzles_count2=3)\n",
    "print_NRS_graph(model)"
   ]
  },
  {
   "cell_type": "code",
   "execution_count": 6,
   "metadata": {},
   "outputs": [
    {
     "name": "stdout",
     "output_type": "stream",
     "text": [
      "Новая модель: Сложная НРС с одним водосборником и лафетным стволом\n",
      "Расстояние до Н0 80 м\n",
      "Расстояние до Н2 80 м\n"
     ]
    },
    {
     "data": {
      "image/png": "[encoded data removed]",
      "text/plain": [
       "<Figure size 640x480 with 1 Axes>"
      ]
     },
     "metadata": {},
     "output_type": "display_data"
    },
    {
     "data": {
      "text/plain": [
       "<networkx.classes.digraph.DiGraph at 0x133feba95b0>"
      ]
     },
     "execution_count": 6,
     "metadata": {},
     "output_type": "execute_result"
    }
   ],
   "source": [
    "model = Presets.single_joiner(30)\n",
    "print_NRS_graph(model)"
   ]
  },
  {
   "cell_type": "code",
   "execution_count": 7,
   "metadata": {},
   "outputs": [
    {
     "name": "stdout",
     "output_type": "stream",
     "text": [
      "Новая модель: Простая НРС из 3 компонентов в виде простых НРС\n",
      "Новая модель: Простая НРС с одной РРЛ и одним стволом\n",
      "Новая модель: Простая НРС с одной РРЛ и одним стволом\n",
      "Новая модель: Простая НРС с одной РРЛ и одним стволом\n",
      "Расстояние до Н0 40 м\n",
      "Расстояние до Н3 40 м\n",
      "Расстояние до Н6 40 м\n"
     ]
    },
    {
     "data": {
      "image/png": "[encoded data removed]",
      "text/plain": [
       "<Figure size 640x480 with 1 Axes>"
      ]
     },
     "metadata": {},
     "output_type": "display_data"
    },
    {
     "data": {
      "text/plain": [
       "<networkx.classes.digraph.DiGraph at 0x133fd7ec0e0>"
      ]
     },
     "execution_count": 7,
     "metadata": {},
     "output_type": "execute_result"
    }
   ],
   "source": [
    "model = Presets.n_components(3)\n",
    "print_NRS_graph(model)"
   ]
  },
  {
   "cell_type": "code",
   "execution_count": 8,
   "metadata": {},
   "outputs": [
    {
     "name": "stdout",
     "output_type": "stream",
     "text": [
      "Общий расход системы: 10.640572147070957 л/с\n",
      "\n",
      "all:\n",
      "  Н0\n",
      "  НРЛ1\n",
      "  С2\n",
      "  Н3\n",
      "  НРЛ4\n",
      "  С5\n",
      "  Н6\n",
      "  НРЛ7\n",
      "  С8\n",
      "in:\n",
      "  Н0\n",
      "  Н3\n",
      "  Н6\n",
      "out:\n",
      "  С2\n",
      "  С5\n",
      "  С8\n",
      "================================================================================\n",
      "Простая НРС из 3 компонентов в виде простых НРС\n",
      "================================================================================\n",
      "Насос (Н0); напор: 40 м; производительность: 3.5468573823569858 л/с; напор макс.: 100\n",
      "Насос (Н3); напор: 40 м; производительность: 3.5468573823569858 л/с; напор макс.: 100\n",
      "Насос (Н6); напор: 40 м; производительность: 3.5468573823569858 л/с; напор макс.: 100\n",
      "\n",
      "Рукавная линия (НРЛ1), длина: 40 м; диаметр: 51 мм; сопротивление 0.13; потеря напора: 3.2426667909999995 м\n",
      "Рукавная линия (НРЛ4), длина: 40 м; диаметр: 51 мм; сопротивление 0.13; потеря напора: 3.2426667909999995 м\n",
      "Рукавная линия (НРЛ7), длина: 40 м; диаметр: 51 мм; сопротивление 0.13; потеря напора: 3.2426667909999995 м\n",
      "\n",
      "Ствол (С2): \"Б\"; проводимость: 0.5850213671311502; напор: 36.757333209, м; расход: 3.5468573823569858, л/с\n",
      "Ствол (С5): \"Б\"; проводимость: 0.5850213671311502; напор: 36.757333209, м; расход: 3.5468573823569858, л/с\n",
      "Ствол (С8): \"Б\"; проводимость: 0.5850213671311502; напор: 36.757333209, м; расход: 3.5468573823569858, л/с\n"
     ]
    }
   ],
   "source": [
    "# Расчет\n",
    "try:\n",
    "    model.calc(accuracy=0.05)\n",
    "except Exception as e:\n",
    "    print(e.args[0])\n",
    "print(f'Общий расход системы: {model.summaryQ()} л/с', end='\\n\\n')\n",
    "\n",
    "# Состав\n",
    "NRS_Revision.print_model_elements(model)\n",
    "Appraiser.print_GA_NRS_model_elements_state(model)"
   ]
  },
  {
   "cell_type": "markdown",
   "metadata": {},
   "source": [
    "# Тесты"
   ]
  },
  {
   "cell_type": "code",
   "execution_count": 9,
   "metadata": {},
   "outputs": [],
   "source": [
    "# p_nozzleB = NRS_Revision.calc_p(3.7, 40)\n",
    "# p_nozzleA = NRS_Revision.calc_p(7.4, 40)\n",
    "# p_nozzleL = NRS_Revision.calc_p(16, 40)\n",
    "# p_nozzleB, p_nozzleA, p_nozzleL"
   ]
  },
  {
   "cell_type": "markdown",
   "metadata": {},
   "source": [
    "# Мутации"
   ]
  },
  {
   "cell_type": "markdown",
   "metadata": {},
   "source": [
    "## Тест макромутаций\n",
    "\n",
    "Макромутации - мутации в структуре модели. Добавление, изменение и удаление элементов модели."
   ]
  },
  {
   "cell_type": "markdown",
   "metadata": {},
   "source": [
    "## Тест корректного удаления элементов"
   ]
  },
  {
   "cell_type": "code",
   "execution_count": 10,
   "metadata": {},
   "outputs": [
    {
     "name": "stdout",
     "output_type": "stream",
     "text": [
      "Новая модель: Сложная НРС с одним разветвлением и nozzles_count рабочих линий\n",
      "Расстояние до Н0 80 м\n"
     ]
    },
    {
     "data": {
      "image/png": "[encoded data removed]",
      "text/plain": [
       "<Figure size 640x480 with 1 Axes>"
      ]
     },
     "metadata": {},
     "output_type": "display_data"
    },
    {
     "data": {
      "text/plain": [
       "<networkx.classes.digraph.DiGraph at 0x133feef1160>"
      ]
     },
     "execution_count": 10,
     "metadata": {},
     "output_type": "execute_result"
    }
   ],
   "source": [
    "model = Presets.single_splitter(3)\n",
    "print_NRS_graph(model)"
   ]
  },
  {
   "cell_type": "code",
   "execution_count": 11,
   "metadata": {},
   "outputs": [
    {
     "name": "stdout",
     "output_type": "stream",
     "text": [
      "Новая модель: Сложная НРС с одним разветвлением и nozzles_count рабочих линий\n",
      "Расстояние до Н0 80 м\n"
     ]
    },
    {
     "data": {
      "image/png": "[encoded data removed]",
      "text/plain": [
       "<Figure size 640x480 with 1 Axes>"
      ]
     },
     "metadata": {},
     "output_type": "display_data"
    },
    {
     "data": {
      "text/plain": [
       "<networkx.classes.digraph.DiGraph at 0x133fec0c5c0>"
      ]
     },
     "execution_count": 11,
     "metadata": {},
     "output_type": "execute_result"
    }
   ],
   "source": [
    "model = Presets.single_splitter(3)\n",
    "model.getElement('Р2').set_ro(2)\n",
    "for e in model.elmnts:\n",
    "    model.fire_dead_elements_try(e)\n",
    "print_NRS_graph(model)"
   ]
  },
  {
   "cell_type": "markdown",
   "metadata": {},
   "source": [
    "### Проверка обучения\n",
    "\n",
    "С удалением ветвей"
   ]
  },
  {
   "cell_type": "code",
   "execution_count": 12,
   "metadata": {},
   "outputs": [
    {
     "name": "stdout",
     "output_type": "stream",
     "text": [
      "Новая модель: Сложная НРС с одним разветвлением и nozzles_count рабочих линий\n"
     ]
    }
   ],
   "source": [
    "model = Presets.single_splitter(3)"
   ]
  },
  {
   "cell_type": "code",
   "execution_count": 13,
   "metadata": {},
   "outputs": [
    {
     "name": "stdout",
     "output_type": "stream",
     "text": [
      "0\t0.7557426945653453\t19.304293301141488\n",
      "3\t0.7082388823717435\t15.511179120896442\n",
      "5\t0.708177008603017\t14.509379483818975\n",
      "6\t0.6296226695974022\t13.6669798681169\n",
      "14\t0.6243220134459009\t13.90550939493446\n",
      "23\t0.6029863368608828\t14.865614841260275\n",
      "46\t0.5792439458319157\t14.809022437563794\n",
      "66\t0.5782380000326731\t14.854289998529708\n",
      "72\t0.5717343187104383\t14.771955658030276\n",
      "87\t0.5700414892486801\t15.153420315223675\n",
      "89\t0.5524592830874075\t14.88933226106666\n",
      "115\t0.5447757197821\t14.860092609805502\n",
      "133\t0.5401653161477538\t14.31756077335108\n",
      "134\t0.5214177645773264\t15.161792370458745\n",
      "140\t0.398342447754764\t15.28070332673634\n",
      "153\t0.39575935249734334\t11.8794388501594\n",
      "171\t0.38956565863737164\t11.876060481757701\n",
      "182\t0.37755892748918884\t12.59646435064867\n",
      "195\t0.3606897620132814\t11.358614279203113\n",
      "215\t0.3597057836396038\t11.79265298162377\n",
      "229\t0.33516059930926373\t11.765364041444176\n",
      "256\t0.32323525089027116\t11.73088494658373\n",
      "271\t0.3126593588856263\t12.365438466862422\n",
      "311\t0.3026003120741857\t12.96898127554886\n",
      "314\t0.2904981621852635\t12.945110268884191\n",
      "316\t0.2882119786442991\t13.082281281342055\n",
      "338\t\r"
     ]
    },
    {
     "name": "stdout",
     "output_type": "stream",
     "text": [
      "359\t0.285540929990137\t14.367544200591777\n",
      "369\t0.275763097848344\t14.954214129099359\n",
      "502\t0.2632759328718345\t14.95344402768993\n",
      "529\t0.2507124200221174\t14.957254798672956\n",
      "533\t0.22679550522658468\t15.108509632040938\n",
      "614\t0.22479557493329191\t15.775894785920036\n",
      "641\t0.2145245880215657\t14.878524718706057\n",
      "659\t0.19116188767314757\t15.222979361895622\n",
      "691\t0.18846359565434523\t15.445675428600724\n",
      "740\t0.18318624560224533\t14.88382526386528\n",
      "Итог:\t0.18318624560224533\t14.88382526386528\n"
     ]
    }
   ],
   "source": [
    "aims = {'Q':15, '38дв':0, '51нп':0, '89':0,'110': 0, '150': 10, '200': 0, '225': 0, '250': 0, '300': 0, 'min_L': 800, 'max_L': 800}\n",
    "\n",
    "curQ = Appraiser.evaluate(Appraiser.metrics(model), aims)\n",
    "for i in range(2000):\n",
    "    print(f'{i}\\t', end='\\r')\n",
    "    model_back = copy.deepcopy(model)\n",
    "    to_print = i%100==0\n",
    "    try:\n",
    "        model.mutate(mutation_count=2)\n",
    "        for elmnt in model.elmnts:\n",
    "            model.fire_dead_elements_try(elmnt)\n",
    "        model.drop_q()\n",
    "        kwargs = model.calc(accuracy=0.5)\n",
    "        newQ = Appraiser.evaluate(Appraiser.metrics(model), aims)\n",
    "        if newQ>curQ:\n",
    "            model = model_back\n",
    "        if newQ<curQ:\n",
    "        # if to_print:\n",
    "            curQ=newQ\n",
    "            print(i, newQ, model.summaryQ(), sep='\\t')\n",
    "    except:\n",
    "        # print(i, 'Модель не жизнеспособна')\n",
    "        model = model_back\n",
    "\n",
    "print('Итог:', curQ, model.summaryQ(), sep='\\t')"
   ]
  },
  {
   "cell_type": "code",
   "execution_count": 14,
   "metadata": {},
   "outputs": [
    {
     "name": "stdout",
     "output_type": "stream",
     "text": [
      "================================================================================\n",
      "Сложная НРС с одним разветвлением и nozzles_count рабочих линий\n",
      "================================================================================\n",
      "Насос (Н0); напор: 65 м; производительность: 14.88382526386528 л/с; напор макс.: 100\n",
      "\n",
      "Рукавная линия (НРЛ1), длина: 120 м; диаметр: 77 мм; сопротивление 0.015; потеря напора: 20.88370314327344 м\n",
      "Рукавная линия (НРЛ3), длина: 680 м; диаметр: 66 мм; сопротивление 0.034; потеря напора: 13.428110178542825 м\n",
      "Рукавная линия (НРЛ5), длина: 100 м; диаметр: 150 мм; сопротивление 0.00046; потеря напора: 0.14282268567316342 м\n",
      "Рукавная линия (НРЛ7), длина: 100 м; диаметр: 150 мм; сопротивление 0.00046; потеря напора: 0.03578617761002397 м\n",
      "\n",
      "Ствол (С4): \"Б\"; проводимость: 0.5850213671311502; напор: 30.68818667818374, м; расход: 3.240838146314682, л/с\n",
      "Ствол (С6): \"А\"; проводимость: 1.1700427342623003; напор: 43.9734741710534, м; расход: 7.7588456705989515, л/с\n",
      "Ствол (С8): \"Б\"; проводимость: 0.5850213671311502; напор: 44.08051067911654, м; расход: 3.8841414469516473, л/с\n",
      "================================================================================\n",
      "hoses\t50\n",
      "nozzles\t3\n",
      "distances\t{'Н0': {'С6': 220, 'С8': 220, 'С4': 800}}\n",
      "min_L\t220\n",
      "max_L\t800\n",
      "77\t6\n",
      "66\t34\n",
      "Б\t2\n",
      "150\t10\n",
      "А\t1\n",
      "Q\t14.88382526386528\n",
      "Расстояние до Н0 800 м\n"
     ]
    },
    {
     "data": {
      "image/png": "[encoded data removed]",
      "text/plain": [
       "<Figure size 640x480 with 1 Axes>"
      ]
     },
     "metadata": {},
     "output_type": "display_data"
    },
    {
     "data": {
      "text/plain": [
       "<networkx.classes.digraph.DiGraph at 0x133816e3bf0>"
      ]
     },
     "execution_count": 14,
     "metadata": {},
     "output_type": "execute_result"
    }
   ],
   "source": [
    "Appraiser.print_GA_NRS_model_elements_state(model)\n",
    "print('='*80)\n",
    "Appraiser.print_metrics(model)\n",
    "print_NRS_graph(model)"
   ]
  },
  {
   "cell_type": "markdown",
   "metadata": {},
   "source": [
    "## Класс ветви"
   ]
  },
  {
   "cell_type": "code",
   "execution_count": 15,
   "metadata": {},
   "outputs": [
    {
     "name": "stdout",
     "output_type": "stream",
     "text": [
      "Новая модель: Сложная НРС с одним разветвлением и nozzles_count рабочих линий\n",
      "Новая модель: \n",
      "all:\n",
      "  НРЛ1\n",
      "  Н0\n",
      "in:\n",
      "  Н0\n",
      "out:\n",
      "ВХОДЯЩАЯ\n"
     ]
    }
   ],
   "source": [
    "class Branch(NRS_Model):\n",
    "    '''\n",
    "    Класс ветви модели. Может быть трех типов:\n",
    "\n",
    "    `FULL=0` Имеет и источник и потребитель (насос и ствол).\n",
    "        Например простая модель НРС АЦ->Рукав->Ствол.\n",
    "\n",
    "    `INWARD=1` Имеет только вход. Выход открыт (оканчивается рукавом)\n",
    "        Например, Рукавные линии начинающиеся от насосов. Могут подключаться на вход к водосборникам или насосам.\n",
    "\n",
    "    `OUTWARD=2` Имеет только выход. Вход открыт (начинается с рукава). \n",
    "        Например, рабочие рукавные линии. Могут подключаться на выход к разветвлениям или насосам.\n",
    "\n",
    "    `-1` Не распознана.\n",
    "    '''\n",
    "\n",
    "    def __init__(self, name=''):\n",
    "        self.elmnts_names = []\n",
    "        self._branch_type = -1\n",
    "        super().__init__(name)\n",
    "\n",
    "    def getBranch(self, model:NRS_Model, elmnt=None):\n",
    "        '''\n",
    "        Из `model` выделяется ветвь в которую входит элемент `elmnt`. \n",
    "        Если `elmnt` не передан, он выбирается случайно.\n",
    "        '''\n",
    "        # Если элемент не передан, выбираем его случайным образом\n",
    "        if elmnt is None:\n",
    "            elmnt = random.choice(model.elmnts)\n",
    "        # Если передано имя элемента, получаем его по имени, иначе предполагается использование объекта\n",
    "        if isinstance(elmnt, str):\n",
    "            elmnt = model.getElement(elmnt)\n",
    "        if not isinstance(elmnt, Element):\n",
    "            raise TypeError('Должен быть элемент НРС!')\n",
    "\n",
    "        self._elementAdd(elmnt)\n",
    "\n",
    "        return self\n",
    "    \n",
    "        \n",
    "    def _elementAdd(self, elmnt:Element):\n",
    "        '''\n",
    "        Рекурсивное добавление элементов в модель\n",
    "            Вход:\n",
    "                elmnt=Element: элемент который следует добавить модель. \n",
    "                Далее _elementAdd будет вызвана для всех подключенных к нему элементов\n",
    "        '''\n",
    "        if not elmnt in self.elmnts:\n",
    "            self.addElements([elmnt])\n",
    "            for linked in elmnt.elements_next:\n",
    "                if isinstance(linked, (GA_Element_Hose, GA_Element_Nozzle)):\n",
    "                    self._elementAdd(linked)\n",
    "            for linked in elmnt.elements_previous:\n",
    "                if isinstance(linked, (GA_Element_Hose, GA_Element_Pump)):\n",
    "                    self._elementAdd(linked)\n",
    "\n",
    "    def interpretate(self):\n",
    "\n",
    "        super().interpretate()\n",
    "        # Определение типа ветви\n",
    "        if len(self.elmnts_in)==1 and len(self.elmnts_out)==1:\n",
    "            self._branch_type = 0\n",
    "        elif len(self.elmnts_in)==1 and len(self.elmnts_out)==0:\n",
    "            self._branch_type = 1\n",
    "        elif  len(self.elmnts_in)==0 and len(self.elmnts_out)==1:\n",
    "            self._branch_type = 2\n",
    "        # Определение входных элементов\n",
    "        for elmnt in self.elmnts:\n",
    "            if len(self.elmnts_in) + len(self.elmnts_out) ==1:\n",
    "                self.plugin = elmnt\n",
    "\n",
    "        return self\n",
    "    \n",
    "    @property\n",
    "    def branch_type(self):\n",
    "        t = {0:'ПОЛНАЯ', 1:'ВХОДЯЩАЯ', 2:'ИСХОДЯЩАЯ'}\n",
    "        return t[self._branch_type]\n",
    "    \n",
    "    def deep_copy(self):\n",
    "        '''\n",
    "        Делает глубокую копию элементов. Требуется для удаления связей с исходной моделью.\n",
    "        '''\n",
    "        tmp_col = []\n",
    "        for elmnt in self.elmnts:\n",
    "            # print(tmp_col, elmnt.name)\n",
    "            tmp_col.append(copy.deepcopy(elmnt).drop_links())\n",
    "        for elmnt in self.elmnts:\n",
    "            # print(tmp_col, elmnt.name)\n",
    "            elmnt_copy = NRS_Revision.get_element_by_name(tmp_col, elmnt.name, False)\n",
    "            for linked in elmnt.elements_next:\n",
    "                linked_copy = NRS_Revision.get_element_by_name(tmp_col, linked.name, False)\n",
    "                if linked_copy:\n",
    "                    elmnt_copy.append(linked_copy)\n",
    "            for linked in elmnt.elements_previous:\n",
    "                linked_copy = NRS_Revision.get_element_by_name(tmp_col, linked.name, False)\n",
    "                if linked_copy:\n",
    "                    linked_copy.append(elmnt_copy)\n",
    "\n",
    "        self.elmnts = tmp_col\n",
    "        \n",
    "        return self\n",
    "    \n",
    "    def drop_names(self):\n",
    "        '''\n",
    "        Обезличивает (удаляет имена) элементов ветви.\n",
    "        Требуется для корректной передачи в другие модели, где элементы будут переименованы в соответствии с моделью.\n",
    "        '''\n",
    "        for elmnt in self.elmnts:\n",
    "            elmnt.name = ''\n",
    "        return self\n",
    "    \n",
    "    def plug(self, elmnt):\n",
    "        '''\n",
    "        Прививает ветвь к указанному элементу.\n",
    "\n",
    "        Если ветвь входящая, то прививается на вход (если возможно). \n",
    "        Если исходящая - на выход (если возможно)\n",
    "        Если полная или нераспознанная, ничего не происходит\n",
    "        '''\n",
    "        # ВХОДЯЩАЯ\n",
    "        if self._branch_type==1:\n",
    "            self.plugin.append(elmnt)\n",
    "        # ИСХОДЯЩАЯ\n",
    "        if self._branch_type==2:\n",
    "            elmnt.append(self.plugin)\n",
    "\n",
    "        return self\n",
    "\n",
    "\n",
    "# Рассматриваемая модель НРС\n",
    "model = Presets.single_splitter(3)\n",
    "\n",
    "branch = Branch().getBranch(model, 'НРЛ1').deep_copy().interpretate()  #.check_pumps().interpretate()\n",
    "NRS_Revision.print_model_elements(branch)\n",
    "\n",
    "\n",
    "# print_NRS_graph(branch)\n",
    "print(branch.branch_type)"
   ]
  },
  {
   "cell_type": "code",
   "execution_count": 16,
   "metadata": {},
   "outputs": [
    {
     "name": "stdout",
     "output_type": "stream",
     "text": [
      "================================================================================\n",
      "\n",
      "================================================================================\n",
      "Насос (Н0); напор: 40 м; производительность: 0 л/с; напор макс.: 100\n",
      "\n",
      "Рукавная линия (НРЛ1), длина: 40 м; диаметр: 77 мм; сопротивление 0.015; потеря напора: 0 м\n",
      "\n"
     ]
    }
   ],
   "source": [
    "Appraiser.print_GA_NRS_model_elements_state(branch)"
   ]
  },
  {
   "cell_type": "code",
   "execution_count": 17,
   "metadata": {},
   "outputs": [
    {
     "name": "stdout",
     "output_type": "stream",
     "text": [
      "Расстояние до Н0 80 м\n"
     ]
    },
    {
     "data": {
      "image/png": "[encoded data removed]",
      "text/plain": [
       "<Figure size 640x480 with 1 Axes>"
      ]
     },
     "metadata": {},
     "output_type": "display_data"
    },
    {
     "name": "stdout",
     "output_type": "stream",
     "text": [
      "Расстояние до Н0 0 м\n"
     ]
    },
    {
     "data": {
      "image/png": "[encoded data removed]",
      "text/plain": [
       "<Figure size 640x480 with 1 Axes>"
      ]
     },
     "metadata": {},
     "output_type": "display_data"
    },
    {
     "data": {
      "text/plain": [
       "<networkx.classes.digraph.DiGraph at 0x133ff05efc0>"
      ]
     },
     "execution_count": 17,
     "metadata": {},
     "output_type": "execute_result"
    }
   ],
   "source": [
    "print_NRS_graph(model)\n",
    "print_NRS_graph(branch)"
   ]
  },
  {
   "cell_type": "markdown",
   "metadata": {},
   "source": [
    "### Прививка ветви другой модели (на выход)"
   ]
  },
  {
   "cell_type": "code",
   "execution_count": 18,
   "metadata": {},
   "outputs": [
    {
     "name": "stdout",
     "output_type": "stream",
     "text": [
      "Новая модель: Сложная НРС с одним разветвлением и nozzles_count рабочих линий\n",
      "Новая модель: Сложная НРС с одним разветвлением и nozzles_count рабочих линий\n",
      "all:\n",
      "  Н0\n",
      "  НРЛ1\n",
      "  Р2\n",
      "  НРЛ3\n",
      "  С4\n",
      "  НРЛ5\n",
      "  С6\n",
      "in:\n",
      "  Н0\n",
      "out:\n",
      "  С4\n",
      "  С6\n",
      "================================================================================\n",
      "Модель для прививки\n",
      "================================================================================\n",
      "Насос (Н0); напор: 40 м; производительность: 0 л/с; напор макс.: 100\n",
      "\n",
      "Рукавная линия (НРЛ1), длина: 40 м; диаметр: 77 мм; сопротивление 0.015; потеря напора: 0 м\n",
      "Рукавная линия (НРЛ3), длина: 40 м; диаметр: 51 мм; сопротивление 0.13; потеря напора: 0 м\n",
      "Рукавная линия (НРЛ5), длина: 40 м; диаметр: 51 мм; сопротивление 0.13; потеря напора: 0 м\n",
      "\n",
      "Ствол (С4): \"Б\"; проводимость: 0.5850213671311502; напор: 0, м; расход: 0, л/с\n",
      "Ствол (С6): \"Б\"; проводимость: 0.5850213671311502; напор: 0, м; расход: 0, л/с\n",
      "Расстояние до Н0 80 м\n"
     ]
    },
    {
     "data": {
      "image/png": "[encoded data removed]",
      "text/plain": [
       "<Figure size 640x480 with 1 Axes>"
      ]
     },
     "metadata": {},
     "output_type": "display_data"
    },
    {
     "name": "stdout",
     "output_type": "stream",
     "text": [
      "Новая модель: \n",
      "all:\n",
      "  С6\n",
      "  НРЛ5\n",
      "in:\n",
      "out:\n",
      "  С6\n",
      "ИСХОДЯЩАЯ\n"
     ]
    },
    {
     "data": {
      "text/plain": [
       "<__main__.GA_model at 0x133fef62d80>"
      ]
     },
     "execution_count": 18,
     "metadata": {},
     "output_type": "execute_result"
    }
   ],
   "source": [
    "# Модель у которой получаем ветвь\n",
    "model1 = Presets.single_splitter(3)\n",
    "# Модель которой будем ее прививать\n",
    "model2 = Presets.single_splitter()\n",
    "model2.name = 'Модель для прививки'\n",
    "NRS_Revision.print_model_elements(model2)\n",
    "Appraiser.print_GA_NRS_model_elements_state(model2)\n",
    "print_NRS_graph(model2)\n",
    "\n",
    "# Получение ветви\n",
    "branch = Branch().getBranch(model1, 'С6').deep_copy().interpretate()\n",
    "NRS_Revision.print_model_elements(branch)\n",
    "print(branch.branch_type)\n",
    "\n",
    "# Прививка ветви\n",
    "branch.drop_names().plug(NRS_Revision.get_element_by_name(model2.elmnts, 'Р2', False))\n",
    "model2.addElements(branch.elmnts).interpretate().check_pumps()"
   ]
  },
  {
   "cell_type": "code",
   "execution_count": 19,
   "metadata": {},
   "outputs": [
    {
     "name": "stdout",
     "output_type": "stream",
     "text": [
      "all:\n",
      "  Н0\n",
      "  НРЛ1\n",
      "  Р2\n",
      "  НРЛ3\n",
      "  С4\n",
      "  НРЛ5\n",
      "  С6\n",
      "  С7\n",
      "  НРЛ8\n",
      "in:\n",
      "  Н0\n",
      "out:\n",
      "  С4\n",
      "  С6\n",
      "  С7\n",
      "Расстояние до Н0 80 м\n"
     ]
    },
    {
     "data": {
      "image/png": "[encoded data removed]",
      "text/plain": [
       "<Figure size 640x480 with 1 Axes>"
      ]
     },
     "metadata": {},
     "output_type": "display_data"
    },
    {
     "data": {
      "text/plain": [
       "<networkx.classes.digraph.DiGraph at 0x133febabb00>"
      ]
     },
     "execution_count": 19,
     "metadata": {},
     "output_type": "execute_result"
    }
   ],
   "source": [
    "NRS_Revision.print_model_elements(model2)\n",
    "print_NRS_graph(model2)"
   ]
  },
  {
   "cell_type": "code",
   "execution_count": 20,
   "metadata": {},
   "outputs": [
    {
     "name": "stdout",
     "output_type": "stream",
     "text": [
      "all:\n",
      "  Н0\n",
      "  НРЛ1\n",
      "  Р2\n",
      "  НРЛ3\n",
      "  С4\n",
      "  НРЛ5\n",
      "  С6\n",
      "  С7\n",
      "  НРЛ8\n",
      "in:\n",
      "  Н0\n",
      "out:\n",
      "  С4\n",
      "  С6\n",
      "  С7\n",
      "Расстояние до Н0 80 м\n"
     ]
    },
    {
     "data": {
      "image/png": "[encoded data removed]",
      "text/plain": [
       "<Figure size 640x480 with 1 Axes>"
      ]
     },
     "metadata": {},
     "output_type": "display_data"
    },
    {
     "name": "stdout",
     "output_type": "stream",
     "text": [
      "0\t0.5826167350795141\t9.782246921421866\n",
      "6\t0.5777900343241585\t9.999448455412866\n",
      "13\t0.5204286743700802\t12.58070965334639\n",
      "29\t0.46726291894893396\t14.973168647297973\n",
      "89\t0.43982240548534374\t15.297805694762246\n",
      "92\t0.37732005391731943\t15.49523005907174\n",
      "98\t0.3526588675753097\t14.130350959111066\n",
      "111\t\r"
     ]
    },
    {
     "name": "stdout",
     "output_type": "stream",
     "text": [
      "135\t0.34704826299340535\t14.382828165296758\n",
      "145\t0.3354752036847793\t15.097007498268296\n",
      "168\t0.3144321885593475\t15.918983060827701\n",
      "183\t0.23943062126120387\t15.91887714811216\n",
      "253\t0.2358757203405102\t15.682221836025837\n",
      "269\t0.23319821791536627\t15.508570564163385\n",
      "287\t0.2290411728213458\t15.246454225756073\n",
      "361\t0.21535470281906408\t15.17326059922804\n",
      "476\t0.18591509460720507\t12.095094323567695\n",
      "506\t0.17842614722681674\t12.544431166390995\n",
      "563\t0.17821199701264834\t12.557280179241099\n",
      "580\t0.16799689065100448\t13.17018656093973\n",
      "624\t0.15823647949723782\t13.75581123016573\n",
      "625\t0.1534270087362389\t14.044379475825664\n",
      "632\t0.15053969734760939\t14.217618159143436\n",
      "649\t0.14822231126372307\t13.606661324176615\n",
      "653\t0.11933976060798832\t12.303900077806416\n",
      "673\t0.1122232890516528\t12.730888371186547\n",
      "715\t0.09956922216193467\t12.740132384569634\n",
      "764\t0.09804782678445265\t12.831416107218555\n",
      "770\t0.08931540660977069\t13.355361317699472\n",
      "784\t0.07297576433109057\t14.33573985442028\n",
      "789\t0.06458975337408668\t14.838900511840514\n",
      "870\t0.06044431707870379\t12.087626689563487\n",
      "890\t0.05383730917653223\t12.48404716369378\n",
      "934\t0.02946945529453321\t15.310165169317393\n",
      "957\t0.02714897412037462\t14.835347267063238\n",
      "Итог:\t0.02714897412037462\t14.835347267063238\n",
      "all:\n",
      "  Н0\n",
      "  НРЛ1\n",
      "  Р2\n",
      "  НРЛ3\n",
      "  С4\n",
      "  НРЛ5\n",
      "  С6\n",
      "  С7\n",
      "  НРЛ8\n",
      "in:\n",
      "  Н0\n",
      "out:\n",
      "  С4\n",
      "  С6\n",
      "  С7\n",
      "Расстояние до Н0 420 м\n"
     ]
    },
    {
     "data": {
      "image/png": "[encoded data removed]",
      "text/plain": [
       "<Figure size 640x480 with 1 Axes>"
      ]
     },
     "metadata": {},
     "output_type": "display_data"
    },
    {
     "data": {
      "text/plain": [
       "<networkx.classes.digraph.DiGraph at 0x133fef4de50>"
      ]
     },
     "execution_count": 20,
     "metadata": {},
     "output_type": "execute_result"
    }
   ],
   "source": [
    "def fit(model, aims, epochs=1000):\n",
    "    curQ = Appraiser.evaluate(Appraiser.metrics(model), aims)\n",
    "    for i in range(epochs):\n",
    "        print(f'{i}\\t', end='\\r')\n",
    "        model_back = copy.deepcopy(model)\n",
    "        try:\n",
    "            model.mutate(mutation_count=2)\n",
    "            for elmnt in model.elmnts:\n",
    "                model.fire_dead_elements_try(elmnt)\n",
    "            model.drop_q()\n",
    "            kwargs = model.calc(accuracy=0.5)\n",
    "            newQ = Appraiser.evaluate(Appraiser.metrics(model), aims)\n",
    "            if newQ>curQ:\n",
    "                model = model_back\n",
    "            if newQ<curQ:\n",
    "                curQ=newQ\n",
    "                print(i, newQ, model.summaryQ(), sep='\\t')\n",
    "        except:\n",
    "            # print(i, 'Модель не жизнеспособна')\n",
    "            model = model_back\n",
    "\n",
    "    print('Итог:', curQ, model.summaryQ(), sep='\\t')\n",
    "    return model\n",
    "\n",
    "\n",
    "work_model = copy.deepcopy(model2)\n",
    "\n",
    "NRS_Revision.print_model_elements(work_model)\n",
    "print_NRS_graph(work_model)\n",
    "\n",
    "aims = {'Q':15, '38дв':0, '51нп':0, '89':0,'110': 0, '150': 10, '200': 0, '225': 0, '250': 0, '300': 0, 'min_L': 400, 'max_L': 400}\n",
    "work_model = fit(work_model, aims)\n",
    "\n",
    "NRS_Revision.print_model_elements(work_model)\n",
    "print_NRS_graph(work_model)"
   ]
  },
  {
   "cell_type": "code",
   "execution_count": 24,
   "metadata": {},
   "outputs": [
    {
     "name": "stdout",
     "output_type": "stream",
     "text": [
      "================================================================================\n",
      "Модель для прививки\n",
      "================================================================================\n",
      "Насос (Н0); напор: 80 м; производительность: 14.835347267063238 л/с; напор макс.: 100\n",
      "\n",
      "Рукавная линия (НРЛ1), длина: 220 м; диаметр: 77 мм; сопротивление 0.015; потеря напора: 38.80007264331307 м\n",
      "Рукавная линия (НРЛ3), длина: 200 м; диаметр: 150 мм; сопротивление 0.00046; потеря напора: 0.27470941097794227 м\n",
      "Рукавная линия (НРЛ5), длина: 160 м; диаметр: 77 мм; сопротивление 0.015; потеря напора: 1.7359158503133216 м\n",
      "Рукавная линия (НРЛ8), длина: 160 м; диаметр: 77 мм; сопротивление 0.015; потеря напора: 1.7359158503133216 м\n",
      "\n",
      "Ствол (С4): \"А\"; проводимость: 1.1700427342623003; напор: 40.92521794570899, м; расход: 7.485093410751506, л/с\n",
      "Ствол (С6): \"Б\"; проводимость: 0.5850213671311502; напор: 39.46401150637361, м; расход: 3.6751269281558656, л/с\n",
      "Ствол (С7): \"Б\"; проводимость: 0.5850213671311502; напор: 39.46401150637361, м; расход: 3.6751269281558656, л/с\n",
      "================================================================================\n",
      "hoses\t37\n",
      "nozzles\t3\n",
      "distances\t{'Н0': {'С6': 380, 'С7': 380, 'С4': 420}}\n",
      "min_L\t380\n",
      "max_L\t420\n",
      "77\t27\n",
      "150\t10\n",
      "А\t1\n",
      "Б\t2\n",
      "Q\t14.835347267063238\n",
      "================================================================================\n"
     ]
    },
    {
     "data": {
      "text/plain": [
       "{'Q': 15,\n",
       " '38дв': 0,\n",
       " '51нп': 0,\n",
       " '89': 0,\n",
       " '110': 0,\n",
       " '150': 10,\n",
       " '200': 0,\n",
       " '225': 0,\n",
       " '250': 0,\n",
       " '300': 0,\n",
       " 'min_L': 400,\n",
       " 'max_L': 400}"
      ]
     },
     "execution_count": 24,
     "metadata": {},
     "output_type": "execute_result"
    }
   ],
   "source": [
    "Appraiser.print_GA_NRS_model_elements_state(work_model)\n",
    "print('='*80)\n",
    "Appraiser.print_metrics(work_model)\n",
    "print('='*80)\n",
    "aims"
   ]
  },
  {
   "cell_type": "markdown",
   "metadata": {},
   "source": [
    "### Прививка ко входу другой модели"
   ]
  },
  {
   "cell_type": "code",
   "execution_count": 29,
   "metadata": {},
   "outputs": [
    {
     "name": "stdout",
     "output_type": "stream",
     "text": [
      "Новая модель: Сложная НРС с одним разветвлением и nozzles_count рабочих линий\n",
      "Новая модель: Сложная НРС с одним водосборником и лафетным стволом\n",
      "================================================================================\n",
      "Модель для прививки\n",
      "================================================================================\n",
      "Насос (Н0); напор: 80 м; производительность: 0 л/с; напор макс.: 100\n",
      "Насос (Н2); напор: 80 м; производительность: 0 л/с; напор макс.: 100\n",
      "\n",
      "Рукавная линия (НРЛ1), длина: 40 м; диаметр: 77 мм; сопротивление 0.015; потеря напора: 0 м\n",
      "Рукавная линия (НРЛ3), длина: 40 м; диаметр: 77 мм; сопротивление 0.015; потеря напора: 0 м\n",
      "Рукавная линия (НРЛ5), длина: 40 м; диаметр: 77 мм; сопротивление 0.015; потеря напора: 0 м\n",
      "\n",
      "Ствол (С6): \"Л\"; проводимость: 2.581988897471611; напор: 0, м; расход: 0, л/с\n",
      "Расстояние до Н0 80 м\n",
      "Расстояние до Н2 80 м\n"
     ]
    },
    {
     "data": {
      "image/png": "[encoded data removed]",
      "text/plain": [
       "<Figure size 640x480 with 1 Axes>"
      ]
     },
     "metadata": {},
     "output_type": "display_data"
    },
    {
     "name": "stdout",
     "output_type": "stream",
     "text": [
      "Новая модель: \n",
      "all:\n",
      "  Н0\n",
      "  НРЛ1\n",
      "in:\n",
      "  Н0\n",
      "out:\n",
      "ВХОДЯЩАЯ\n",
      "================================================================================\n",
      "Модель для прививки\n",
      "================================================================================\n",
      "Насос (Н0); напор: 80 м; производительность: 0 л/с; напор макс.: 100\n",
      "Насос (Н7); напор: 40 м; производительность: 0 л/с; напор макс.: 100\n",
      "\n",
      "Рукавная линия (НРЛ1), длина: 40 м; диаметр: 77 мм; сопротивление 0.015; потеря напора: 0 м\n",
      "Рукавная линия (НРЛ5), длина: 40 м; диаметр: 77 мм; сопротивление 0.015; потеря напора: 0 м\n",
      "Рукавная линия (НРЛ8), длина: 40 м; диаметр: 77 мм; сопротивление 0.015; потеря напора: 0 м\n",
      "\n",
      "Ствол (С6): \"Л\"; проводимость: 2.581988897471611; напор: 0, м; расход: 0, л/с\n",
      "Расстояние до Н0 80 м\n",
      "Расстояние до Н7 80 м\n"
     ]
    },
    {
     "data": {
      "image/png": "[encoded data removed]",
      "text/plain": [
       "<Figure size 640x480 with 1 Axes>"
      ]
     },
     "metadata": {},
     "output_type": "display_data"
    },
    {
     "data": {
      "text/plain": [
       "<networkx.classes.digraph.DiGraph at 0x13381746990>"
      ]
     },
     "execution_count": 29,
     "metadata": {},
     "output_type": "execute_result"
    }
   ],
   "source": [
    "# Модель у которой получаем ветвь\n",
    "model1 = Presets.single_splitter(3)\n",
    "# Модель которой будем ее прививать\n",
    "model2 = Presets.single_joiner()\n",
    "model2.name = 'Модель для прививки'\n",
    "# NRS_Revision.print_model_elements(model2)\n",
    "Appraiser.print_GA_NRS_model_elements_state(model2)\n",
    "print_NRS_graph(model2)\n",
    "\n",
    "# Удаление одной из ветвей\n",
    "model2.delElement(NRS_Revision.get_element_by_name(model2.elmnts, 'Н2', False))\n",
    "# Appraiser.print_GA_NRS_model_elements_state(model2)\n",
    "# print_NRS_graph(model2)\n",
    "\n",
    "# Получение ветви\n",
    "branch = Branch().getBranch(model1, 'Н0').deep_copy().interpretate()\n",
    "NRS_Revision.print_model_elements(branch)\n",
    "print(branch.branch_type)\n",
    "\n",
    "# Прививка ветви\n",
    "branch.drop_names().plug(NRS_Revision.get_element_by_name(model2.elmnts, 'ВС4', False))\n",
    "model2.addElements(branch.elmnts).interpretate().check_pumps()\n",
    "Appraiser.print_GA_NRS_model_elements_state(model2)\n",
    "print_NRS_graph(model2)"
   ]
  },
  {
   "cell_type": "code",
   "execution_count": 32,
   "metadata": {},
   "outputs": [
    {
     "name": "stdout",
     "output_type": "stream",
     "text": [
      "0\t0.5427248947308166\t14.577379737113251\n",
      "7\t0.4729781156120228\t13.215984797458974\n",
      "8\t0.45516291765528133\t14.01766870551234\n",
      "13\t0.4384962509886147\t14.01766870551234\n",
      "17\t0.4216462178141995\t14.775920198361025\n",
      "22\t0.3730157869930395\t13.964289585313223\n",
      "25\t0.35786954498918205\t14.645870475486806\n",
      "34\t0.3154758790199152\t14.821447258805089\n",
      "36\t0.26010623144851386\t13.643626113089168\n",
      "56\t0.18283350417578662\t13.643626113089168\n",
      "77\t0.17244993337871936\t13.653003997276839\n",
      "136\t0.16233170674002756\t14.260097595598348\n",
      "159\t0.1549711610248026\t15.304320975783535\n",
      "233\t0.1522714878688612\t15.137538944305614\n",
      "496\t0.13648448844844607\t14.310930693093235\n",
      "530\t0.1306128373347029\t15.344504838561633\n",
      "568\t0.12954264778349817\t8.727441132990112\n",
      "575\t0.12443733632339274\t9.033759820596437\n",
      "609\t0.12186095311256259\t9.188342813246246\n",
      "631\t0.11714788356917005\t9.471126985849798\n",
      "649\t0.09876397045035426\t10.574161772978746\n",
      "654\t0.09365462168661426\t10.880722698803146\n",
      "663\t0.06395097337785235\t11.162941597328858\n",
      "708\t0.05911772625916195\t11.452936424450282\n",
      "723\t0.05440387388832099\t11.73576756670074\n",
      "745\t0.04980098234177213\t12.011941059493672\n",
      "787\t0.04530156621814849\t12.281906026911091\n",
      "793\t0.04089894568853397\t12.546063258687962\n",
      "873\t0.03658713010788156\t12.804772193527107\n",
      "880\t0.03236072239364998\t13.058356656381001\n",
      "958\t0.02821483981465875\t13.307109611120476\n",
      "988\t0.024145047873948278\t13.551297127563103\n",
      "Итог:\t0.024145047873948278\t13.551297127563103\n",
      "================================================================================\n",
      "Модель для прививки\n",
      "================================================================================\n",
      "Насос (Н0); напор: 110 м; производительность: 6.775648563781552 л/с; напор макс.: 100\n",
      "Насос (Н7); напор: 140 м; производительность: 6.775648563781552 л/с; напор макс.: 100\n",
      "\n",
      "Рукавная линия (НРЛ1), длина: 100 м; диаметр: 150 мм; сопротивление 0.00046; потеря напора: 0.11020450000000001 м\n",
      "Рукавная линия (НРЛ5), длина: 300 м; диаметр: 110 мм; сопротивление 0.002; потеря напора: 5.7498000000000005 м\n",
      "Рукавная линия (НРЛ8), длина: 100 м; диаметр: 150 мм; сопротивление 0.00046; потеря напора: 0.11020450000000001 м\n",
      "\n",
      "Ствол (С6): \"А\"; проводимость: 1.1700427342623003; напор: 134.1399955, м; расход: 13.551297127563103, л/с\n",
      "================================================================================\n",
      "hoses\t25\n",
      "nozzles\t1\n",
      "distances\t{'Н0': {'С6': 400}, 'Н7': {'С6': 400}}\n",
      "min_L\t400\n",
      "max_L\t400\n",
      "150\t10\n",
      "110\t15\n",
      "А\t1\n",
      "Q\t13.551297127563103\n",
      "================================================================================\n"
     ]
    },
    {
     "data": {
      "text/plain": [
       "{'Q': 15,\n",
       " '38дв': 0,\n",
       " '51нп': 0,\n",
       " '66нп': 0,\n",
       " '89': 0,\n",
       " '150': 10,\n",
       " '200': 0,\n",
       " '225': 0,\n",
       " '250': 0,\n",
       " '300': 0,\n",
       " 'min_L': 400,\n",
       " 'max_L': 400}"
      ]
     },
     "execution_count": 32,
     "metadata": {},
     "output_type": "execute_result"
    }
   ],
   "source": [
    "# Проверка расчета\n",
    "aims = {'Q':15, '38дв':0, '51нп':0, '66нп':0, '89':0, '150': 10, '200': 0, '225': 0, '250': 0, '300': 0, 'min_L': 400, 'max_L': 400}\n",
    "work_model = copy.deepcopy(model2)\n",
    "work_model = fit(work_model, aims)\n",
    "\n",
    "# Печать результатов\n",
    "Appraiser.print_GA_NRS_model_elements_state(work_model)\n",
    "print('='*80)\n",
    "Appraiser.print_metrics(work_model)\n",
    "print('='*80)\n",
    "aims"
   ]
  }
 ],
 "metadata": {
  "kernelspec": {
   "display_name": "ox",
   "language": "python",
   "name": "python3"
  },
  "language_info": {
   "codemirror_mode": {
    "name": "ipython",
    "version": 3
   },
   "file_extension": ".py",
   "mimetype": "text/x-python",
   "name": "python",
   "nbconvert_exporter": "python",
   "pygments_lexer": "ipython3",
   "version": "3.12.0"
  }
 },
 "nbformat": 4,
 "nbformat_minor": 2
}
