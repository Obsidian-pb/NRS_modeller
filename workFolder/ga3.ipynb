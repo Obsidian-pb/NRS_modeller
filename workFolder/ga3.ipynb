{
 "cells": [
  {
   "cell_type": "markdown",
   "metadata": {},
   "source": [
    "# Тесты с генетическим алгоритмом (Пресеты и ветви)"
   ]
  },
  {
   "cell_type": "markdown",
   "metadata": {},
   "source": [
    "Требуется подобрать такие параметры НРС, чтобы при заданных условиях (например, при требуемом расходе воды и подаче на требуемое расстояние), состав сил и средств был минимальный.\n",
    "\n",
    "Критерии оптимизации (пример для расхода и расстояния):\n",
    "\n",
    "\n",
    "$$\n",
    "|\\sum_{i=1}^{n}{Q_i}-Q_{треб.}|\\longrightarrow min\n",
    "$$\n",
    "\n",
    "$$\n",
    "|L_{НРС}-L_{треб.}|\\longrightarrow min\n",
    "$$\n",
    "\n"
   ]
  },
  {
   "cell_type": "markdown",
   "metadata": {},
   "source": [
    "Мутации добавления отдельных элементов невозможны, поэтому нужно делать мутации блоками:\n",
    "\n",
    "* ствол с рукавной линией\n",
    "* магистральная рукавная линия\n",
    "\n",
    "Нет, не так!\n",
    "\n",
    "Типы мутаций:\n",
    "\n",
    "* Разбить составной элемент, вставив другой элемент,\n",
    "* Удалить элемент\n",
    "* Изменить параметры элемента (количество рукавов, тип рукавов)\n",
    "* Добавить рабочую рукавную линию\n",
    "\n",
    "Основные категории элементов НРС:\n",
    "\n",
    "* Насос ПА (Pump)\n",
    "* напорная рукавная линия (Hose)\n",
    "* всасывающая рукавная линия (InHose)\n",
    "* разветвление (Splitter)\n",
    "* водосборник (Joiner)\n",
    "* ствол (Nozzle)\n",
    "\n",
    "\n",
    "Также нужно добавить элемент который будет очищать мусор в модели."
   ]
  },
  {
   "cell_type": "markdown",
   "metadata": {},
   "source": [
    "## Обертка над NRS которая будет реализовывать более тонкие функции ГА"
   ]
  },
  {
   "cell_type": "code",
   "execution_count": 1,
   "metadata": {},
   "outputs": [],
   "source": [
    "from nrs import NRS_Model, Element, NRS_Revision, NRS_Observer_E    # классы НРС\n",
    "from nrs import NRS_Data                                            # Табличные данные НРС\n",
    "from nrs import q_out_simple, q_out_nozzle                          # модели расчета параметров\n",
    "import matplotlib.pyplot as plt                                     # библиотеки для отрисовки получаемых данных\n",
    "import networkx as nx\n",
    "import numpy as np\n",
    "import random\n",
    "import copy\n",
    "from functools import reduce\n",
    "\n",
    "import logging\n",
    "logger = logging.getLogger('NRS')\n",
    "# logger.setLevel(logging.DEBUG)\n",
    "# logging.basicConfig(level=logging.DEBUG)"
   ]
  },
  {
   "cell_type": "code",
   "execution_count": 2,
   "metadata": {},
   "outputs": [],
   "source": [
    "def print_NRS_graph(model):\n",
    "    '''\n",
    "    Построение графа НРС\n",
    "    '''\n",
    "    # Цвета вершин\n",
    "    colors={\n",
    "        'GA_Element_Pump': 'gray',\n",
    "        'GA_Element_Hose': 'blue',\n",
    "        'GA_Element_InHose': 'black',\n",
    "        'GA_Element_Splitter': 'green',\n",
    "        'GA_Element_Joiner': 'green',\n",
    "        'GA_Element_Nozzle': 'red',\n",
    "    }\n",
    "\n",
    "    try:\n",
    "        G = nx.DiGraph()\n",
    "        # Узлы - на каждый элемент\n",
    "        for elmnt in model.elmnts:\n",
    "            G.add_node(elmnt.name, q=elmnt.q)\n",
    "        # Ребра - на каждую связь\n",
    "        for elmnt in model.elmnts:\n",
    "            for elmnt_next in elmnt.elements_next:\n",
    "                G.add_edge(elmnt.name, elmnt_next.name, L=elmnt.get_L())\n",
    "\n",
    "        # Расчет расстояния до элементов\n",
    "        for elmnt in model.elmnts_in:\n",
    "            paths = nx.shortest_path_length(G, source = elmnt.name, weight='L')\n",
    "            nx.set_node_attributes(G, paths, 'L')   # Здесь нужна другая логика\n",
    "            print(f'Расстояние до {elmnt.name} {max(paths.values())} м')    \n",
    "\n",
    "        # Печать графа НРС с позициями\n",
    "        pos={}\n",
    "        pos_list=[]\n",
    "        level=0\n",
    "        for eo in model.elmnts_in:\n",
    "            v = eo.name\n",
    "            spl = dict(nx.single_source_shortest_path_length(G, v))\n",
    "            for nd, p in spl.items():\n",
    "                if not nd in pos.keys():\n",
    "                    level_rize=level\n",
    "                    cpos = (p,level_rize)\n",
    "                    while cpos in pos_list:\n",
    "                        level_rize+=1\n",
    "                        cpos = (p,level_rize)\n",
    "                    pos[nd]=cpos\n",
    "                    pos_list.append(cpos)\n",
    "            level+=1\n",
    "\n",
    "        # nc = [nd[1]['L'] for nd in list(G.nodes(data=True))]\n",
    "        # nx.draw(G, pos=pos, with_labels=True, node_color=nc)\n",
    "        nc = [colors[e.id] for e in model.elmnts]\n",
    "        nx.draw(G, pos=pos, with_labels=True, node_color=nc)\n",
    "        plt.show()\n",
    "\n",
    "        return G\n",
    "    except:\n",
    "        print('Полный граф изобразить не возможно, будет отображен упрощенный')\n",
    "        return print_NRS_graph_simple(model)\n",
    "\n",
    "def print_NRS_graph_simple(model):\n",
    "    '''\n",
    "    Построение графа НРС\n",
    "    '''\n",
    "    G = nx.DiGraph()\n",
    "    # Узлы - на каждый элемент\n",
    "    for elmnt in model.elmnts:\n",
    "        G.add_node(elmnt.name, q=elmnt.q)\n",
    "    # Ребра - на каждую связь\n",
    "    for elmnt in model.elmnts:\n",
    "        for elmnt_next in elmnt.elements_next:\n",
    "            G.add_edge(elmnt.name, elmnt_next.name)\n",
    "\n",
    "    nx.draw(G, with_labels=True)\n",
    "    plt.show()\n",
    "\n",
    "    return G\n",
    "# from workFolder.nrs import q_out_simple\n",
    "\n",
    "#=========================================== Классы модели ГА ==============================================\n",
    "class GA_model(NRS_Model):\n",
    "    '''\n",
    "    Класс модели НРС адаптированный для работы ГА\n",
    "    '''\n",
    "    def __init__(self, name):\n",
    "        super().__init__(name)\n",
    "\n",
    "    def appendElement(self, elmnt):\n",
    "        \n",
    "        # super().appendElement(elmnt)\n",
    "        name_prefixes={\n",
    "            'GA_Element_Pump': 'Н',\n",
    "            'GA_Element_Hose': 'НРЛ',\n",
    "            'GA_Element_InHose': 'ВРЛ',\n",
    "            'GA_Element_Splitter': 'Р', \n",
    "            'GA_Element_Joiner': 'ВС',\n",
    "            'GA_Element_Nozzle': 'С',\n",
    "        }\n",
    "        if elmnt.name=='': elmnt.name=name_prefixes[elmnt.id]+str(self.counter)\n",
    "            \n",
    "        return super().appendElement(elmnt)\n",
    "       \n",
    "    def insertElement(self, elmnt:Element, elmntInsert:Element, pos=0):\n",
    "        '''\n",
    "        Вставка элемента в модель НРС.\n",
    "\n",
    "        `elmnt`: Element\n",
    "            Элемент относительно которого нужно вставить. Если не указан, вставляется элемент по правилам.\n",
    "\n",
    "        `pos`: int\n",
    "            Позиция: 0 - до элемента, 1 после.\n",
    "        '''\n",
    "\n",
    "        # До элемента\n",
    "        if pos==0:\n",
    "            print(0)\n",
    "            if len(elmnt.elements_previous)>0:\n",
    "                elmnt_in = random.choice(elmnt.elements_previous)\n",
    "                elmnt.elements_previous.remove(elmnt_in)\n",
    "                elmnt_in.elements_next.remove(elmnt)\n",
    "\n",
    "                elmnt_in.append(elmntInsert).append(elmnt)\n",
    "        # После элемента\n",
    "        elif pos==1:\n",
    "            print(1)\n",
    "            if len(elmnt.elements_next)>0:\n",
    "                elmnt_to = random.choice(elmnt.elements_next)\n",
    "                elmnt.elements_next.remove(elmnt_to)\n",
    "                elmnt_to.elements_previous.remove(elmnt)\n",
    "\n",
    "                elmnt.append(elmntInsert).append(elmnt_to)            \n",
    "\n",
    "        return self\n",
    "\n",
    "    def getNewElement(self, elmnt:Element, pos=0):\n",
    "        '''\n",
    "        Правила добавления новых элементов\n",
    "        '''\n",
    "        if pos==0:\n",
    "            return allowed_prepend_classes[elmnt.id]\n",
    "        elif pos==1:\n",
    "            return allowed_append_classes[elmnt.id]\n",
    "\n",
    "\n",
    "    def crossing(self, pair_model):\n",
    "        return self\n",
    "\n",
    "    def mutate(self, mutation_count=1):\n",
    "        '''\n",
    "        Мутация элементов модели\n",
    "        '''\n",
    "\n",
    "        # Микромутации\n",
    "        for _ in range(mutation_count):\n",
    "            var = random.choice([0,1,2,3,4])\n",
    "            \n",
    "            # микромутации\n",
    "            if var==0:\n",
    "                random.choice(self.elmnts).mutate()\n",
    "            # удаление элемента\n",
    "            if var==1:\n",
    "                print('удаление элемента')\n",
    "                self.delElement(random.choice(self.elmnts))\n",
    "            # замена элемента\n",
    "            if var==2:\n",
    "                print('замена элемента')\n",
    "                # pump <-> joiner <-> splitter\n",
    "                # nozzle -> splitter\n",
    "                elmnt_classes = [GA_Element_Pump, GA_Element_Joiner, GA_Element_Splitter, GA_Element_Nozzle]\n",
    "                elmnt_class = random.choice(\n",
    "                    elmnt_classes\n",
    "                    )\n",
    "                elmnt = pop_random_element_by_class(self.elmnts, elmnt_class)\n",
    "                if elmnt:\n",
    "                    if isinstance(elmnt, elmnt_classes[0]):\n",
    "                        # Если насос:\n",
    "                        if random.choice(True,False):\n",
    "                            # В разветвление:\n",
    "                            new_elmnt = GA_Element_Splitter('', e_type=1, ri=1, ro=self.ro)\n",
    "                        else:\n",
    "                            # В водосборник\n",
    "                            new_elmnt = GA_Element_Joiner('', e_type=1, ri=self.ri, ro=1)\n",
    "                    elif isinstance(elmnt, elmnt_classes[1]):\n",
    "                        # Если водосборник\n",
    "                        # В насос\n",
    "                        new_elmnt = GA_Element_Pump('', e_type=1, H_add=40)\n",
    "                    elif isinstance(elmnt, elmnt_classes[2]):\n",
    "                        # Если разветвление\n",
    "                        if random.choice(True,False):\n",
    "                            # В насос\n",
    "                            new_elmnt = GA_Element_Pump('', e_type=1, H_add=40)\n",
    "                        else:\n",
    "                            # В ствол (пока только А)\n",
    "                            new_elmnt = GA_Element_Nozzle('', e_type=2, n_type='А', p=NRS_Revision.calc_p(7.4, 40), q_out = q_out_nozzle)\n",
    "                    elif isinstance(elmnt, elmnt_classes[3]):\n",
    "                        # Если ствол\n",
    "                        # В разветвление\n",
    "                        new_elmnt = GA_Element_Splitter('', e_type=1, ri=1, ro=3)\n",
    "\n",
    "                    elmnts_next = elmnt.elements_next\n",
    "                    elmnts_prev = elmnt.elements_previous\n",
    "                    self.delElement(elmnt)\n",
    "                    new_elmnt.add_links(elmnts_prev, elmnts_next)\n",
    "                        \n",
    "\n",
    "            # вставка элемента\n",
    "            if var==3:\n",
    "                print('вставка элемента')\n",
    "                elmnt = random.choice(self.elmnts)\n",
    "                pos = random.choice([0,1])\n",
    "                new_elmnt = self.getNewElement(elmnt, pos)\n",
    "                self.insertElement(elmnt, new_elmnt, pos)\n",
    "            # добавление ветви из пресета\n",
    "            if var==4:\n",
    "                print('добавление ветви из пресета')\n",
    "                # Определяем какие есть входы и выходы и исходя из этого добавляем ветвь нужного типа\n",
    "            \n",
    "            # Если несколько компонентов;\n",
    "            # соединение выход -> вход\n",
    "\n",
    "            # соединение вход -> выход\n",
    "\n",
    "        return self\n",
    "\n",
    "\n",
    "    def check_pumps(self):\n",
    "        '''\n",
    "        Проверяет пожарные автомобили. \n",
    "        Для тех из них у которых есть только элементы на выход устанавливается e_type `0` (in).\n",
    "        Для тех у кого имеются и те и те, ставится e_type `1` (inter).\n",
    "        '''\n",
    "        for elmnt in self.elmnts:\n",
    "            if isinstance(elmnt, GA_Element_Pump):\n",
    "                e_in = len(elmnt.elements_previous)\n",
    "                e_out = len(elmnt.elements_next)\n",
    "                if e_in==0 and e_out>0:\n",
    "                    elmnt.type = 0\n",
    "                if e_in>0 and e_out>0:\n",
    "                    elmnt.type = 1\n",
    "        return self\n",
    "    \n",
    "\n",
    "class GA_Element_Pump(Element):\n",
    "    '''\n",
    "    Класс элемента `Пожарного автомобиля с насосом` адаптированный для работы ГА.\n",
    "    '''\n",
    "    def __init__(self, name, e_type, H_min=10, Q_min=0, H_max=100, Q_max=40, \n",
    "        q=0, s=0, H_in=0, h=0, H_add=0, z=0, p=1, n=1, l=0, ri=2, ro=2, q_out=...):\n",
    "        \n",
    "        self.id = 'GA_Element_Pump'\n",
    "        self.H_min = H_min\n",
    "        self.H_max = H_max\n",
    "        self.Q_min = Q_min\n",
    "        self.Q_max = Q_max\n",
    "        super().__init__(name, e_type, q, s, H_in, h, H_add, z, p, n, l, ri, ro, q_out)\n",
    "\n",
    "    def set_H_add(self, H_add):\n",
    "        if H_add > self.H_max:\n",
    "            self.H_add = self.H_max\n",
    "        else:\n",
    "            self.H_add = H_add\n",
    "        if H_add <= self.H_min:\n",
    "            self.H_add = self.H_min\n",
    "        else:\n",
    "            self.H_add = H_add\n",
    "\n",
    "    def mutate(self):\n",
    "        mutation_case = random.choices([0,1,2,3],weights=[4,2,1,1])[0]\n",
    "        # мутация напора\n",
    "        if mutation_case==0:\n",
    "            change_val = random.choice([-5,5])\n",
    "            # print('H added')\n",
    "            self.H_add+=change_val\n",
    "        # Мутация производительности насоса\n",
    "        if mutation_case==1:\n",
    "            change_val = random.choice([40,60,70,100])\n",
    "            self.Q_max = change_val\n",
    "        # Мутация количества напорных патрубков\n",
    "        if mutation_case==2:\n",
    "            change_val = random.choice([2,4])\n",
    "            self.set_ro(change_val)\n",
    "        # Мутация всасывающих патрубков\n",
    "        if mutation_case==3:\n",
    "            change_val = random.choice([1,2,3,4])\n",
    "            self.set_ri(change_val)\n",
    "\n",
    "\n",
    "\n",
    "\n",
    "class GA_Element_Hose(Element):\n",
    "    '''\n",
    "    Класс элемента `Рукавной линии` адаптированный для работы ГА.\n",
    "    '''\n",
    "    def __init__(self, name, e_type=1, d='51', q=0, s=0, H_in=0, h=0, H_add=0, z=0, p=1, n=1, l=20, ri=1, ro=1, q_out=...):\n",
    "        self.id = 'GA_Element_Hose'\n",
    "        self.d=d\n",
    "        super().__init__(name, e_type, q, s, H_in, h, H_add, z, p, n, l, ri, ro, q_out)\n",
    "\n",
    "    def mutate(self):\n",
    "        mutation_case = random.choice([0,1])\n",
    "        # мутация количества\n",
    "        if mutation_case==0:\n",
    "            change_val = random.choice([i for i in range(-5,5)])\n",
    "            if self.n+change_val>0:\n",
    "                self.n = self.n+change_val\n",
    "        # мутация диаметра\n",
    "        if mutation_case==1:\n",
    "            new_d=random.choice(list(NRS_Data.ss.keys()))\n",
    "            self.d = new_d\n",
    "            self.s = NRS_Data.ss[new_d]\n",
    "        # мутация типа\n",
    "\n",
    "        # разбиение\n",
    "\n",
    "class GA_Element_InHose(Element):\n",
    "    '''\n",
    "    Класс элемента `Всасывающей рукавной линии` адаптированный для работы ГА.\n",
    "    '''\n",
    "    def __init__(self, name, e_type=1, q=0, s=0, H_in=0, h=0, H_add=0, z=0, p=1, n=1, l=4, ri=1, ro=1, q_out=...):\n",
    "        self.id = 'GA_Element_InHose'\n",
    "        super().__init__(name, e_type, q, s, H_in, h, H_add, z, p, n, l, ri, ro, q_out)\n",
    "\n",
    "    def mutate(self):\n",
    "        pass\n",
    "\n",
    "class GA_Element_Splitter(Element):\n",
    "    '''\n",
    "    Класс элемента `Разветвление` адаптированный для работы ГА.\n",
    "    '''\n",
    "    def __init__(self, name, e_type=1, q=0, s=0, H_in=0, h=0, H_add=0, z=0, p=1, n=1, l=0, ri=1, ro=3, q_out=...):\n",
    "        self.id = 'GA_Element_Splitter'\n",
    "        super().__init__(name, e_type, q, s, H_in, h, H_add, z, p, n, l, ri, ro, q_out)\n",
    "\n",
    "    def mutate(self):\n",
    "        # мутация количества выходов\n",
    "        change_val = random.choice([2,3,4,5])\n",
    "        # if change_val < self.ro:\n",
    "        #     print('Удаляется', self.name)\n",
    "        self.set_ro(change_val)\n",
    "\n",
    "class GA_Element_Joiner(Element):\n",
    "    '''\n",
    "    Класс элемента `Водосборник` адаптированный для работы ГА.\n",
    "    '''\n",
    "    def __init__(self, name, e_type=1, q=0, s=0, H_in=0, h=0, H_add=0, z=0, p=1, n=1, l=0, ri=2, ro=1, q_out=...):\n",
    "        self.id = 'GA_Element_Joiner'\n",
    "        super().__init__(name, e_type, q, s, H_in, h, H_add, z, p, n, l, ri, ro, q_out)\n",
    "\n",
    "    def mutate(self):\n",
    "        # мутация количества входов\n",
    "        change_val = random.choice([2,3,4,5])\n",
    "        self.set_ri(change_val)\n",
    "\n",
    "class GA_Element_Nozzle(Element):\n",
    "    '''\n",
    "    Класс элемента `Ствол` адаптированный для работы ГА.\n",
    "    '''\n",
    "    def __init__(self, name, e_type=1, n_type='Б', q=0, s=0, H_in=0, h=0, H_add=0, z=0, p=1, n=1, l=0, ri=1, ro=0, q_out=...):\n",
    "        '''\n",
    "        `n_type` - тип ствола. `Б` - ручной ствол Б, `А` - ручной ствол А, `Л` - лафетный переносной, `ЛА` - лафетный автомобильный.\n",
    "        '''\n",
    "        self.id = 'GA_Element_Nozzle'\n",
    "        self.n_type = n_type\n",
    "        super().__init__(name, e_type, q, s, H_in, h, H_add, z, p, n, l, ri, ro, q_out)\n",
    "\n",
    "    def mutate(self):\n",
    "        # mutation_case = random.choice([0,1])\n",
    "        # Мутация типа ствола\n",
    "        change_val = random.choice(['А','Б','Л'])\n",
    "        self.n_type = change_val\n",
    "        if change_val=='А':\n",
    "            self.p = NRS_Revision.calc_p(7.4, 40)\n",
    "        if change_val=='Б':\n",
    "            self.p = NRS_Revision.calc_p(3.7, 40)\n",
    "        if change_val=='Л':\n",
    "            self.p = NRS_Revision.calc_p(16, 40)\n",
    "\n",
    "\n",
    "# Правила соединения элементов\n",
    "# Классы которые могут быть присоединены после элемента\n",
    "allowed_append_classes = {\n",
    "        'GA_Element_Pump': (GA_Element_Hose),\n",
    "        'GA_Element_Hose': (GA_Element_Pump,GA_Element_Hose,GA_Element_Nozzle,GA_Element_Joiner,GA_Element_Splitter),\n",
    "        'GA_Element_InHose': (GA_Element_Pump),\n",
    "        'GA_Element_Splitter': (GA_Element_Hose), #,GA_Element_Splitter),\n",
    "        'GA_Element_Joiner': (GA_Element_Pump,GA_Element_Hose,GA_Element_Nozzle,GA_Element_Splitter),\n",
    "        'GA_Element_Nozzle': (),\n",
    "    }\n",
    "# Классы которые могут быть присоединены перед элементом\n",
    "allowed_prepend_classes = {\n",
    "        'GA_Element_Pump': (GA_Element_Hose,GA_Element_Joiner,GA_Element_InHose),\n",
    "        'GA_Element_Hose': (GA_Element_Pump,GA_Element_Hose,GA_Element_Joiner,GA_Element_Splitter),\n",
    "        'GA_Element_InHose': (),\n",
    "        'GA_Element_Splitter': (GA_Element_Hose,GA_Element_Joiner,GA_Element_Splitter),\n",
    "        'GA_Element_Joiner': (GA_Element_Hose),\n",
    "        'GA_Element_Nozzle': (GA_Element_Hose,GA_Element_Joiner),\n",
    "    }\n",
    "\n",
    "\n",
    "\n",
    "#=====================================Оценщик=====================================================================================================\n",
    "class Appraiser(NRS_Revision):\n",
    "    '''\n",
    "    Класс-оценщик состояния модели\n",
    "    '''\n",
    "    \n",
    "    @staticmethod\n",
    "    def print_GA_NRS_model_elements_state(model:GA_model):\n",
    "        print('='*80)\n",
    "        print(model.name)\n",
    "        print('='*80)\n",
    "        \n",
    "        for elmnt in model.elmnts:\n",
    "            if isinstance(elmnt, GA_Element_Pump):\n",
    "                print(f'Насос ({elmnt.name}); напор: {elmnt.H_add} м; производительность: {elmnt.q} л/с; напор макс.: {elmnt.H_max}')\n",
    "        print('')\n",
    "        for elmnt in model.elmnts:\n",
    "            if isinstance(elmnt, GA_Element_Hose):\n",
    "                print(f'Рукавная линия ({elmnt.name}), длина: {elmnt.get_L()} м; диаметр: {elmnt.d} мм; сопротивление {elmnt.s}; потеря напора: {elmnt.h} м')\n",
    "        print('')\n",
    "        for elmnt in model.elmnts:\n",
    "            if isinstance(elmnt, GA_Element_Nozzle):\n",
    "                print(f'Ствол ({elmnt.name}): \"{elmnt.n_type}\"; проводимость: {elmnt.p}; напор: {elmnt.H_in}, м; расход: {elmnt.q}, л/с')\n",
    "\n",
    "    @staticmethod\n",
    "    def get_G(model:GA_model):\n",
    "        G = nx.DiGraph()\n",
    "\n",
    "        # Узлы - на каждый элемент\n",
    "        for elmnt in model.elmnts:\n",
    "            G.add_node(elmnt.name, q=elmnt.q)\n",
    "        # Ребра - на каждую связь\n",
    "        for elmnt in model.elmnts:\n",
    "            for elmnt_next in elmnt.elements_next:\n",
    "                G.add_edge(elmnt.name, elmnt_next.name, L=elmnt.get_L())\n",
    "        \n",
    "        return G\n",
    "    \n",
    "    @staticmethod\n",
    "    def get_Ls(G, model:GA_model):\n",
    "        ''' \n",
    "        Расчет расстояний до элементов\n",
    "\n",
    "        # Возвращает\n",
    "\n",
    "        `p`: dict, `min_L`:float, `max_L`:float\n",
    "            `p` - Словарь словарей, где ключ1 - имя насоса, ключ2 - имя ствола, значение - расстояние до него в метрах.\n",
    "            `min_L` - Минимальное расстояние из имеющихся, м.\n",
    "            `max_L` - Максимальное расстояние из имеющихся, м.\n",
    "        '''\n",
    "        max_L=0\n",
    "        min_L=100000\n",
    "        nozzles_names = [n.name for n in model.elmnts_out if n.type==2]\n",
    "        p={}\n",
    "        for e_pump in model.elmnts_in:\n",
    "            paths = nx.shortest_path_length(G, source = e_pump.name, weight='L')\n",
    "            dists = {k:v for k,v in paths.items() if k in nozzles_names}  \n",
    "            p[e_pump.name] = dists\n",
    "            cur_max_L = max(dists.values())\n",
    "            cur_min_L = min(dists.values())\n",
    "            if cur_max_L>max_L: max_L=cur_max_L\n",
    "            if cur_min_L<min_L: min_L=cur_min_L\n",
    "        return p, min_L, max_L\n",
    "    \n",
    "    @staticmethod\n",
    "    def metrics(model:GA_model):\n",
    "        '''\n",
    "        Оценка модели\n",
    "        '''\n",
    "        m={'hoses':0,'nozzles':0}\n",
    "        # Расчет длинн рукавных линий\n",
    "        G = Appraiser.get_G(model)\n",
    "        m['distances'], m['min_L'], m['max_L'] = Appraiser.get_Ls(G, model)        \n",
    "\n",
    "        # Количество рукавов\n",
    "        for elmnt in model.elmnts:\n",
    "            if isinstance(elmnt, GA_Element_Hose):\n",
    "                m['hoses']+=elmnt.n\n",
    "                try:\n",
    "                    m[elmnt.d]+=elmnt.n\n",
    "                except:\n",
    "                    m[elmnt.d]=elmnt.n\n",
    "            if isinstance(elmnt, GA_Element_Nozzle):\n",
    "                m['nozzles']+=elmnt.n\n",
    "                try:\n",
    "                    m[elmnt.n_type]+=1\n",
    "                except:\n",
    "                    m[elmnt.n_type]=1\n",
    "        \n",
    "        # Общий расход\n",
    "        m['Q'] = model.summaryQ()\n",
    "\n",
    "        return m\n",
    "    \n",
    "    @staticmethod\n",
    "    def print_metrics(model:GA_model):\n",
    "        for k, v in Appraiser.metrics(model).items():\n",
    "            print(k,v, sep='\\t')\n",
    "\n",
    "    @staticmethod\n",
    "    def evaluate(metrics: dict, aims: dict, aims_not_more=None):\n",
    "        '''\n",
    "        Оценка модели\n",
    "\n",
    "        `metrics`: dict\n",
    "            Словарь метрик модели\n",
    "        `aims`: dict\n",
    "            Словарь целей оптимизации\n",
    "        `aims_not_more`: dict\n",
    "            Словарь целей оптимизации значения которых не могут быть выше некоторого значения.\n",
    "            Например, если в модели не должно присутствовать более 10 рукавов диаметром 77мм.\n",
    "        ''' \n",
    "        X = []\n",
    "        Y = []\n",
    "        for aim, aim_val in aims.items():\n",
    "            if aim in metrics.keys():\n",
    "                metric_val = metrics[aim]\n",
    "                max_val = max(aim_val, metric_val)\n",
    "                X.append(metric_val/max_val)\n",
    "                Y.append(aim_val/max_val)\n",
    "        if aims_not_more:\n",
    "            for aim, aim_val in aims_not_more.items():\n",
    "                if aim in metrics.keys():\n",
    "                    metric_val = metrics[aim]\n",
    "                    if metric_val>aim_val:\n",
    "                        max_val = max(aim_val, metric_val)\n",
    "                        X.append(metric_val/max_val)\n",
    "                        Y.append(aim_val/max_val)\n",
    "\n",
    "        # Собственно оценка!\n",
    "        z=[]\n",
    "        for x,y in zip(X,Y):\n",
    "            z.append(abs(y-x))\n",
    "\n",
    "        return np.mean(z)\n",
    "\n",
    "\n",
    "\n",
    "\n",
    "\n",
    "#======================================================Дополнительные инструменты=================================================================\n",
    "def pop_random_element_by_class(lst, element_class=None, lst_left=False):\n",
    "    '''\n",
    "    Извлечение из списка элемента по классу\n",
    "\n",
    "    `lst`\n",
    "        Список элементов\n",
    "\n",
    "    `element_class`\n",
    "        Класс(ы) элементов\n",
    "\n",
    "    `lst_left`\n",
    "        Если True, то список сохраняется, иначе элемент будет удален.\n",
    "    '''\n",
    "    elmnt = None\n",
    "    if element_class is None:\n",
    "        elmnt = random.choice(lst)\n",
    "    else:\n",
    "        if element_class_test(lst, element_class):\n",
    "            while not isinstance(elmnt, element_class):\n",
    "                elmnt = random.choice(lst)\n",
    "        else:\n",
    "            return None\n",
    "        \n",
    "    if lst_left:\n",
    "        return copy.deepcopy(elmnt)\n",
    "    else:\n",
    "        idx = lst.index(elmnt)\n",
    "        return copy.deepcopy(lst.pop(idx))\n",
    "    \n",
    "def element_class_test(lst, element_class):\n",
    "    for elmnt in lst:\n",
    "        if isinstance(elmnt, element_class):\n",
    "            return True\n",
    "    return False\n",
    "\n",
    "def drop_elements_links(lst):\n",
    "    for elmnt in lst:\n",
    "        elmnt.drop_links()\n",
    "\n",
    "\n",
    "#==============================================Рекурсии=========================================================================\n",
    "# Рекурсивное построение дерева\n",
    "def append_new_element(elmnt, elmnts_examples, add_elmnts_p=0.5, lst_left=True):\n",
    "    '''\n",
    "    Рекурсивное построение дерева НРС\n",
    "    '''\n",
    "    global depth\n",
    "    if depth<=0:\n",
    "        print('Достигнут предел рекурсии')\n",
    "        return\n",
    "    depth-=1\n",
    "\n",
    "    # print(len(elements_sack))\n",
    "\n",
    "    # ограничение списка приемлемых классов\n",
    "    allowed_element_classes = allowed_append_classes[elmnt.id]\n",
    "    # print(elmnt.id, 'Можно:')\n",
    "    # print(allowed_element_classes)\n",
    "\n",
    "    if elmnt.ro>0:\n",
    "        # random_elmnt = copy.deepcopy(pop_random_element_by_class(elmnts_examples, element_class=allowed_element_classes, lst_left=lst_left))\n",
    "        # print(len(elmnts_examples))\n",
    "        random_elmnt = pop_random_element_by_class(elmnts_examples, element_class=allowed_element_classes, lst_left=lst_left)\n",
    "        if random_elmnt is None: return\n",
    "        # print(len(elmnts_examples))\n",
    "        if elmnt.append(random_elmnt):\n",
    "            append_new_element(random_elmnt, elmnts_examples, lst_left=lst_left)\n",
    "\n",
    "    for _ in range(elmnt.ro-1):\n",
    "        logger.debug(f'Элемент {type(elmnt)}, выходов {elmnt.ro}')\n",
    "        rnd = random.random()\n",
    "        if rnd<=add_elmnts_p:\n",
    "            # random_elmnt = copy.deepcopy(pop_random_element_by_class(elmnts_examples, element_class=allowed_element_classes, lst_left=lst_left))\n",
    "            # print(len(elmnts_examples))\n",
    "            random_elmnt = pop_random_element_by_class(elmnts_examples, element_class=allowed_element_classes, lst_left=lst_left)\n",
    "            if random_elmnt is None: return\n",
    "            # print(len(elmnts_examples))\n",
    "            if elmnt.append(random_elmnt):\n",
    "                append_new_element(random_elmnt, elmnts_examples, lst_left=lst_left)\n",
    "\n",
    "\n",
    "def fire_dead_elements_try(model:NRS_Model, elmnt: Element):\n",
    "    '''\n",
    "    Рекурсивная попытка удалить мертвые элементы из модели\n",
    "    '''\n",
    "    print(elmnt.name)\n",
    "    if elmnt.type==0 and len(elmnt.elements_next)==0:\n",
    "        elmnt.drop_links(linked_elements=True, current_element=False)\n",
    "        for ep in elmnt.elements_previous:\n",
    "            model = fire_dead_elements_try(model, ep)\n",
    "        model.delElement(elmnt)\n",
    "    elif elmnt.type==1 and (len(elmnt.elements_next)==0 or len(elmnt.elements_previous)==0):\n",
    "        elmnt.drop_links(linked_elements=True, current_element=False)\n",
    "        for en in elmnt.elements_next:\n",
    "            model = fire_dead_elements_try(model, en)\n",
    "        for ep in elmnt.elements_previous:\n",
    "            model = fire_dead_elements_try(model, ep)\n",
    "        model.delElement(elmnt)\n",
    "    elif elmnt.type==2 and len(elmnt.elements_previous)==0:\n",
    "        elmnt.drop_links(linked_elements=True, current_element=False)\n",
    "        for en in elmnt.elements_next:\n",
    "            model = fire_dead_elements_try(model, en)\n",
    "        model.delElement(elmnt)\n",
    "    return model\n",
    "\n",
    "\n",
    "#==================================================== Класс ветви =================================================\n",
    "class Branch(NRS_Model):\n",
    "    '''\n",
    "    Класс ветви модели. Может быть трех типов:\n",
    "\n",
    "    `FULL=0` Имеет и источник и потребитель (насос и ствол).\n",
    "        Например простая модель НРС АЦ->Рукав->Ствол.\n",
    "\n",
    "    `INWARD=1` Имеет только вход. Выход открыт (оканчивается рукавом)\n",
    "        Например, Рукавные линии начинающиеся от насосов. Могут подключаться на вход к водосборникам или насосам.\n",
    "\n",
    "    `OUTWARD=2` Имеет только выход. Вход открыт (начинается с рукава). \n",
    "        Например, рабочие рукавные линии. Могут подключаться на выход к разветвлениям или насосам.\n",
    "\n",
    "    `-1` Не распознана.\n",
    "    '''\n",
    "\n",
    "    def __init__(self, name=''):\n",
    "        self.elmnts_names = []\n",
    "        self._branch_type = -1\n",
    "        super().__init__(name)\n",
    "\n",
    "    def getBranch(self, model:NRS_Model, elmnt=None):\n",
    "        '''\n",
    "        Из `model` выделяется ветвь в которую входит элемент `elmnt`. \n",
    "        Если `elmnt` не передан, он выбирается случайно.\n",
    "        '''\n",
    "        # Если элемент не передан, выбираем его случайным образом\n",
    "        if elmnt is None:\n",
    "            elmnt = random.choice(model.elmnts)\n",
    "        # Если передано имя элемента, получаем его по имени, иначе предполагается использование объекта\n",
    "        if isinstance(elmnt, str):\n",
    "            elmnt = model.getElement(elmnt)\n",
    "        if not isinstance(elmnt, Element):\n",
    "            raise TypeError('Должен быть элемент НРС!')\n",
    "\n",
    "        self._elementAdd(elmnt)\n",
    "\n",
    "        return self\n",
    "    \n",
    "        \n",
    "    def _elementAdd(self, elmnt:Element):\n",
    "        '''\n",
    "        Рекурсивное добавление элементов в модель\n",
    "            Вход:\n",
    "                elmnt=Element: элемент который следует добавить модель. \n",
    "                Далее _elementAdd будет вызвана для всех подключенных к нему элементов\n",
    "        '''\n",
    "        if not elmnt in self.elmnts:\n",
    "            self.addElements([elmnt])\n",
    "            for linked in elmnt.elements_next:\n",
    "                if isinstance(linked, (GA_Element_Hose, GA_Element_Nozzle)):\n",
    "                    self._elementAdd(linked)\n",
    "            for linked in elmnt.elements_previous:\n",
    "                if isinstance(linked, (GA_Element_Hose, GA_Element_Pump)):\n",
    "                    self._elementAdd(linked)\n",
    "\n",
    "    def interpretate(self):\n",
    "\n",
    "        super().interpretate()\n",
    "        # Определение типа ветви\n",
    "        if len(self.elmnts_in)>0 and len(self.elmnts_out)>0:\n",
    "            self._branch_type = 0\n",
    "        elif len(self.elmnts_in)>0 and len(self.elmnts_out)==0:\n",
    "            self._branch_type = 1\n",
    "        elif  len(self.elmnts_in)==0 and len(self.elmnts_out)>0:\n",
    "            self._branch_type = 2\n",
    "        # Определение входных элементов\n",
    "        for elmnt in self.elmnts:\n",
    "            if len(self.elmnts_in) + len(self.elmnts_out) ==1:\n",
    "                self.plugin = elmnt\n",
    "\n",
    "        return self\n",
    "    \n",
    "    @property\n",
    "    def branch_type(self):\n",
    "        t = {0:'ПОЛНАЯ', 1:'ВХОДЯЩАЯ', 2:'ИСХОДЯЩАЯ', -1:'НЕ РАСПОЗНАНО'}\n",
    "        return t[self._branch_type]\n",
    "    \n",
    "    def deep_copy(self):\n",
    "        '''\n",
    "        Делает глубокую копию элементов. Требуется для удаления связей с исходной моделью.\n",
    "        '''\n",
    "        tmp_col = []\n",
    "        for elmnt in self.elmnts:\n",
    "            # print(tmp_col, elmnt.name)\n",
    "            tmp_col.append(copy.deepcopy(elmnt).drop_links())\n",
    "        for elmnt in self.elmnts:\n",
    "            # print(tmp_col, elmnt.name)\n",
    "            elmnt_copy = NRS_Revision.get_element_by_name(tmp_col, elmnt.name, False)\n",
    "            for linked in elmnt.elements_next:\n",
    "                linked_copy = NRS_Revision.get_element_by_name(tmp_col, linked.name, False)\n",
    "                if linked_copy:\n",
    "                    elmnt_copy.append(linked_copy)\n",
    "            for linked in elmnt.elements_previous:\n",
    "                linked_copy = NRS_Revision.get_element_by_name(tmp_col, linked.name, False)\n",
    "                if linked_copy:\n",
    "                    linked_copy.append(elmnt_copy)\n",
    "\n",
    "        self.elmnts = tmp_col\n",
    "        \n",
    "        return self\n",
    "    \n",
    "    def drop_names(self):\n",
    "        '''\n",
    "        Обезличивает (удаляет имена) элементов ветви.\n",
    "        Требуется для корректной передачи в другие модели, где элементы будут переименованы в соответствии с моделью.\n",
    "        '''\n",
    "        for elmnt in self.elmnts:\n",
    "            elmnt.name = ''\n",
    "        return self\n",
    "    \n",
    "    def plug(self, elmnt):\n",
    "        '''\n",
    "        Прививает ветвь к указанному элементу.\n",
    "\n",
    "        Если ветвь входящая, то прививается на вход (если возможно). \n",
    "        Если исходящая - на выход (если возможно)\n",
    "        Если полная или нераспознанная, ничего не происходит\n",
    "        '''\n",
    "        # ВХОДЯЩАЯ\n",
    "        if self._branch_type==1:\n",
    "            self.plugin.append(elmnt)\n",
    "        # ИСХОДЯЩАЯ\n",
    "        if self._branch_type==2:\n",
    "            elmnt.append(self.plugin)\n",
    "\n",
    "        return self"
   ]
  },
  {
   "cell_type": "markdown",
   "metadata": {},
   "source": [
    "# Пресеты"
   ]
  },
  {
   "cell_type": "code",
   "execution_count": 3,
   "metadata": {},
   "outputs": [
    {
     "name": "stdout",
     "output_type": "stream",
     "text": [
      "Новая модель: Простая НРС с одной РРЛ и одним стволом\n",
      "Расстояние до Н0 40 м\n"
     ]
    },
    {
     "data": {
      "image/png": "[encoded data removed]",
      "text/plain": [
       "<Figure size 640x480 with 1 Axes>"
      ]
     },
     "metadata": {},
     "output_type": "display_data"
    },
    {
     "data": {
      "text/plain": [
       "<networkx.classes.digraph.DiGraph at 0x1cb811d8200>"
      ]
     },
     "execution_count": 3,
     "metadata": {},
     "output_type": "execute_result"
    }
   ],
   "source": [
    "class Presets():\n",
    "\n",
    "    @staticmethod\n",
    "    def single_line():\n",
    "        '''\n",
    "        Простая НРС с одной РРЛ и одним стволом\n",
    "\n",
    "            |=|>-------------|->\n",
    "        '''\n",
    "        p_nozzleB = NRS_Revision.calc_p(3.7, 40)\n",
    "\n",
    "        pump = GA_Element_Pump('', e_type=1, H_add=40)\n",
    "        hose = GA_Element_Hose('', e_type=1, s=NRS_Data.ss[\"51\"], n=2)\n",
    "        nozzle = GA_Element_Nozzle('', e_type=2, n_type='Б', p=p_nozzleB, q_out = q_out_nozzle)\n",
    "\n",
    "        pump.append(hose).append(nozzle)\n",
    "\n",
    "        model = GA_model('Простая НРС с одной РРЛ и одним стволом')\n",
    "        model.addElements([pump,hose,nozzle])\n",
    "        return model.check_pumps().interpretate()\n",
    "    \n",
    "    @staticmethod\n",
    "    def single_splitter(nozzles_count=2):\n",
    "        '''\n",
    "        Сложная НРС с одним разветвлением и nozzles_count рабочих линий\n",
    "\n",
    "                             ------|->\n",
    "            |=|>------{------|->\n",
    "                             ------|->\n",
    "            \n",
    "        '''\n",
    "        if not nozzles_count in [1,2,3]:\n",
    "            raise ValueError(\"Количество стволов не может быть меньше 1 и больше 3!\")\n",
    "\n",
    "        p_nozzleB = NRS_Revision.calc_p(3.7, 40)\n",
    "\n",
    "        model = GA_model('Сложная НРС с одним разветвлением и nozzles_count рабочих линий')\n",
    "\n",
    "        pump = GA_Element_Pump('', e_type=1, H_add=40)\n",
    "        hoseM = GA_Element_Hose('', e_type=1, d='77', s=NRS_Data.ss[\"77\"], n=2)\n",
    "        spliiter = GA_Element_Splitter('', e_type=1, ri=1, ro=3)\n",
    "        pump.append(hoseM).append(spliiter)\n",
    "\n",
    "        model.addElements([pump,hoseM,spliiter])\n",
    "\n",
    "        for _ in range(nozzles_count):\n",
    "            hoseW = GA_Element_Hose('', e_type=1, d='51', s=NRS_Data.ss[\"51\"], n=2)\n",
    "            nozzle = GA_Element_Nozzle('', e_type=2, n_type='Б', p=p_nozzleB, q_out = q_out_nozzle)\n",
    "            spliiter.append(hoseW).append(nozzle)\n",
    "            model.addElements([hoseW,nozzle])\n",
    "\n",
    "        return model.check_pumps().interpretate()\n",
    "    \n",
    "    @staticmethod\n",
    "    def two_splitter(nozzles_count1=2, nozzles_count2=2):\n",
    "        '''\n",
    "        Сложная НРС с двумя разветвлениями и nozzles_count рабочих линий первого и второго порядка\n",
    "\n",
    "                             ------|->          ------|->\n",
    "            |=|>------{------------------{------|->\n",
    "                             ------|->          ------|->\n",
    "            \n",
    "        '''\n",
    "        if not nozzles_count1 in [1,2]:\n",
    "            raise ValueError(\"Количество стволов не может быть меньше 1 и больше 2!\")\n",
    "        if not nozzles_count2 in [1,2,3]:\n",
    "            raise ValueError(\"Количество стволов не может быть меньше 1 и больше 3!\")\n",
    "\n",
    "        p_nozzleB = NRS_Revision.calc_p(3.7, 40)\n",
    "\n",
    "        model = GA_model('Сложная НРС с двумя разветвлениями и nozzles_count рабочих линий первого и второго порядка')\n",
    "\n",
    "        pump = GA_Element_Pump('', e_type=1, H_add=40)\n",
    "        hoseM1 = GA_Element_Hose('', e_type=1, d='77', s=NRS_Data.ss[\"77\"], n=2)\n",
    "        spliiter1 = GA_Element_Splitter('', e_type=1, ri=1, ro=3)\n",
    "        hoseM2 = GA_Element_Hose('', e_type=1, d='77', s=NRS_Data.ss[\"77\"], n=2)\n",
    "        spliiter2 = GA_Element_Splitter('', e_type=1, ri=1, ro=3)\n",
    "        pump.append(hoseM1).append(spliiter1).append(hoseM2).append(spliiter2)\n",
    "\n",
    "        model.addElements([pump,hoseM1,spliiter1,hoseM2,spliiter2])\n",
    "\n",
    "        for _ in range(nozzles_count1):\n",
    "            hoseW = GA_Element_Hose('', e_type=1, d='51', s=NRS_Data.ss[\"51\"], n=2)\n",
    "            nozzle = GA_Element_Nozzle('', e_type=2, n_type='Б', p=p_nozzleB, q_out = q_out_nozzle)\n",
    "            spliiter1.append(hoseW).append(nozzle)\n",
    "            model.addElements([hoseW,nozzle])\n",
    "        for _ in range(nozzles_count2):\n",
    "            hoseW = GA_Element_Hose('', e_type=1, d='51', s=NRS_Data.ss[\"51\"], n=2)\n",
    "            nozzle = GA_Element_Nozzle('', e_type=2, n_type='Б', p=p_nozzleB, q_out = q_out_nozzle)\n",
    "            spliiter2.append(hoseW).append(nozzle)\n",
    "            model.addElements([hoseW,nozzle])\n",
    "        \n",
    "        return model.check_pumps().interpretate()\n",
    "\n",
    "    @staticmethod\n",
    "    def single_joiner(nozzle_q=20, nozzle_workpress=60):\n",
    "        '''\n",
    "        Сложная НРС с одним водосборником и лафетным стволом\n",
    "\n",
    "            |=|>------\n",
    "                             }------|-,->\n",
    "            |=|>------\n",
    "            \n",
    "        '''\n",
    "\n",
    "        p_nozzleL = NRS_Revision.calc_p(nozzle_q, nozzle_workpress)\n",
    "\n",
    "        model = GA_model('Сложная НРС с одним водосборником и лафетным стволом')\n",
    "\n",
    "        pump1 = GA_Element_Pump('', e_type=1, H_add=80)\n",
    "        hoseM1 = GA_Element_Hose('', e_type=1, d='77', s=NRS_Data.ss[\"77\"], n=2)\n",
    "        pump2 = GA_Element_Pump('', e_type=1, H_add=80)\n",
    "        hoseM2 = GA_Element_Hose('', e_type=1, d='77', s=NRS_Data.ss[\"77\"], n=2)\n",
    "        joiner = GA_Element_Joiner('', e_type=1, ri=2, ro=1)\n",
    "        hoseW1 = GA_Element_Hose('', e_type=1, d='77', s=NRS_Data.ss[\"77\"], n=2)\n",
    "        nozzle = GA_Element_Nozzle('', e_type=2, n_type='Л', p=p_nozzleL, q_out = q_out_nozzle)\n",
    "\n",
    "        pump1.append(hoseM1).append(joiner)\n",
    "        pump2.append(hoseM2).append(joiner)\n",
    "        joiner.append(hoseW1).append(nozzle)\n",
    "\n",
    "        model.addElements([pump1,hoseM1,pump2,hoseM2,joiner,hoseW1,nozzle])\n",
    "\n",
    "        return model.check_pumps().interpretate()\n",
    "    \n",
    "    @staticmethod\n",
    "    def single_pump_to_joiner_by2(nozzle_q=20, nozzle_workpress=60):\n",
    "        '''\n",
    "        Простая НРС с одним, насосом, водосборником и лафетным стволом\n",
    "\n",
    "                    ------\n",
    "            |=|>...............}------|-,->\n",
    "                    ------\n",
    "            \n",
    "        '''\n",
    "\n",
    "        p_nozzleL = NRS_Revision.calc_p(nozzle_q, nozzle_workpress)\n",
    "\n",
    "        model = GA_model('Сложная НРС с одним водосборником и лафетным стволом')\n",
    "\n",
    "        pump1 = GA_Element_Pump('', e_type=1, H_add=80)\n",
    "        hoseM1 = GA_Element_Hose('', e_type=1, d='77', s=NRS_Data.ss[\"77\"], n=2)\n",
    "        hoseM2 = GA_Element_Hose('', e_type=1, d='77', s=NRS_Data.ss[\"77\"], n=2)\n",
    "        joiner = GA_Element_Joiner('', e_type=1, ri=2, ro=1)\n",
    "        hoseW = GA_Element_Hose('', e_type=1, d='77', s=NRS_Data.ss[\"77\"], n=1)\n",
    "        nozzle = GA_Element_Nozzle('', e_type=2, n_type='Л', p=p_nozzleL, q_out = q_out_nozzle)\n",
    "\n",
    "        pump1.append(hoseM1).append(joiner).append(hoseW).append(nozzle)\n",
    "        pump1.append(hoseM2).append(joiner)\n",
    "\n",
    "        model.addElements([pump1,hoseM1,hoseM2,joiner,hoseW,nozzle])\n",
    "\n",
    "        return model.check_pumps().interpretate()\n",
    "    \n",
    "    @staticmethod\n",
    "    def n_components(n=2):\n",
    "        '''\n",
    "        Простая НРС из n компонентов в виде простых НРС\n",
    "\n",
    "            n * |=|>-------------|->\n",
    "            \n",
    "        '''\n",
    "        model = GA_model(f'Простая НРС из {n} компонентов в виде простых НРС')\n",
    "\n",
    "        for _ in range(n):\n",
    "            for e in Presets.single_line().elmnts:\n",
    "                e.name=''\n",
    "                model.addElements([e])\n",
    "\n",
    "        return model.check_pumps().interpretate()\n",
    "\n",
    "\n",
    "model = Presets.single_line()\n",
    "print_NRS_graph(model)"
   ]
  },
  {
   "cell_type": "code",
   "execution_count": 4,
   "metadata": {},
   "outputs": [
    {
     "name": "stdout",
     "output_type": "stream",
     "text": [
      "Новая модель: Сложная НРС с одним разветвлением и nozzles_count рабочих линий\n",
      "Расстояние до Н0 80 м\n"
     ]
    },
    {
     "data": {
      "image/png": "[encoded data removed]",
      "text/plain": [
       "<Figure size 640x480 with 1 Axes>"
      ]
     },
     "metadata": {},
     "output_type": "display_data"
    },
    {
     "data": {
      "text/plain": [
       "<networkx.classes.digraph.DiGraph at 0x1cb80fb2180>"
      ]
     },
     "execution_count": 4,
     "metadata": {},
     "output_type": "execute_result"
    }
   ],
   "source": [
    "model = Presets.single_splitter(3)\n",
    "print_NRS_graph(model)"
   ]
  },
  {
   "cell_type": "code",
   "execution_count": 5,
   "metadata": {},
   "outputs": [
    {
     "name": "stdout",
     "output_type": "stream",
     "text": [
      "Новая модель: Сложная НРС с двумя разветвлениями и nozzles_count рабочих линий первого и второго порядка\n",
      "Расстояние до Н0 120 м\n"
     ]
    },
    {
     "data": {
      "image/png": "[encoded data removed]",
      "text/plain": [
       "<Figure size 640x480 with 1 Axes>"
      ]
     },
     "metadata": {},
     "output_type": "display_data"
    },
    {
     "data": {
      "text/plain": [
       "<networkx.classes.digraph.DiGraph at 0x1cb8119d730>"
      ]
     },
     "execution_count": 5,
     "metadata": {},
     "output_type": "execute_result"
    }
   ],
   "source": [
    "model = Presets.two_splitter(nozzles_count1=1, nozzles_count2=3)\n",
    "print_NRS_graph(model)"
   ]
  },
  {
   "cell_type": "code",
   "execution_count": 6,
   "metadata": {},
   "outputs": [
    {
     "name": "stdout",
     "output_type": "stream",
     "text": [
      "Новая модель: Сложная НРС с одним водосборником и лафетным стволом\n",
      "Расстояние до Н0 80 м\n",
      "Расстояние до Н2 80 м\n"
     ]
    },
    {
     "data": {
      "image/png": "[encoded data removed]",
      "text/plain": [
       "<Figure size 640x480 with 1 Axes>"
      ]
     },
     "metadata": {},
     "output_type": "display_data"
    },
    {
     "data": {
      "text/plain": [
       "<networkx.classes.digraph.DiGraph at 0x1cb8103a4e0>"
      ]
     },
     "execution_count": 6,
     "metadata": {},
     "output_type": "execute_result"
    }
   ],
   "source": [
    "model = Presets.single_joiner(30)\n",
    "print_NRS_graph(model)"
   ]
  },
  {
   "cell_type": "code",
   "execution_count": 7,
   "metadata": {},
   "outputs": [
    {
     "name": "stdout",
     "output_type": "stream",
     "text": [
      "Новая модель: Сложная НРС с одним водосборником и лафетным стволом\n",
      "Расстояние до Н0 60 м\n"
     ]
    },
    {
     "data": {
      "image/png": "[encoded data removed]",
      "text/plain": [
       "<Figure size 640x480 with 1 Axes>"
      ]
     },
     "metadata": {},
     "output_type": "display_data"
    },
    {
     "data": {
      "text/plain": [
       "<networkx.classes.digraph.DiGraph at 0x1cb80f8f440>"
      ]
     },
     "execution_count": 7,
     "metadata": {},
     "output_type": "execute_result"
    }
   ],
   "source": [
    "model = Presets.single_pump_to_joiner_by2()\n",
    "print_NRS_graph(model)"
   ]
  },
  {
   "cell_type": "code",
   "execution_count": 8,
   "metadata": {},
   "outputs": [
    {
     "name": "stdout",
     "output_type": "stream",
     "text": [
      "Новая модель: Простая НРС из 3 компонентов в виде простых НРС\n",
      "Новая модель: Простая НРС с одной РРЛ и одним стволом\n",
      "Новая модель: Простая НРС с одной РРЛ и одним стволом\n",
      "Новая модель: Простая НРС с одной РРЛ и одним стволом\n",
      "Расстояние до Н0 40 м\n",
      "Расстояние до Н3 40 м\n",
      "Расстояние до Н6 40 м\n"
     ]
    },
    {
     "data": {
      "image/png": "[encoded data removed]",
      "text/plain": [
       "<Figure size 640x480 with 1 Axes>"
      ]
     },
     "metadata": {},
     "output_type": "display_data"
    },
    {
     "data": {
      "text/plain": [
       "<networkx.classes.digraph.DiGraph at 0x1cb8120ac00>"
      ]
     },
     "execution_count": 8,
     "metadata": {},
     "output_type": "execute_result"
    }
   ],
   "source": [
    "model = Presets.n_components(3)\n",
    "print_NRS_graph(model)"
   ]
  },
  {
   "cell_type": "code",
   "execution_count": 8,
   "metadata": {},
   "outputs": [
    {
     "name": "stdout",
     "output_type": "stream",
     "text": [
      "Общий расход системы: 10.640572147070957 л/с\n",
      "\n",
      "all:\n",
      "  Н0\n",
      "  НРЛ1\n",
      "  С2\n",
      "  Н3\n",
      "  НРЛ4\n",
      "  С5\n",
      "  Н6\n",
      "  НРЛ7\n",
      "  С8\n",
      "in:\n",
      "  Н0\n",
      "  Н3\n",
      "  Н6\n",
      "out:\n",
      "  С2\n",
      "  С5\n",
      "  С8\n",
      "================================================================================\n",
      "Простая НРС из 3 компонентов в виде простых НРС\n",
      "================================================================================\n",
      "Насос (Н0); напор: 40 м; производительность: 3.5468573823569858 л/с; напор макс.: 100\n",
      "Насос (Н3); напор: 40 м; производительность: 3.5468573823569858 л/с; напор макс.: 100\n",
      "Насос (Н6); напор: 40 м; производительность: 3.5468573823569858 л/с; напор макс.: 100\n",
      "\n",
      "Рукавная линия (НРЛ1), длина: 40 м; диаметр: 51 мм; сопротивление 0.13; потеря напора: 3.2426667909999995 м\n",
      "Рукавная линия (НРЛ4), длина: 40 м; диаметр: 51 мм; сопротивление 0.13; потеря напора: 3.2426667909999995 м\n",
      "Рукавная линия (НРЛ7), длина: 40 м; диаметр: 51 мм; сопротивление 0.13; потеря напора: 3.2426667909999995 м\n",
      "\n",
      "Ствол (С2): \"Б\"; проводимость: 0.5850213671311502; напор: 36.757333209, м; расход: 3.5468573823569858, л/с\n",
      "Ствол (С5): \"Б\"; проводимость: 0.5850213671311502; напор: 36.757333209, м; расход: 3.5468573823569858, л/с\n",
      "Ствол (С8): \"Б\"; проводимость: 0.5850213671311502; напор: 36.757333209, м; расход: 3.5468573823569858, л/с\n"
     ]
    }
   ],
   "source": [
    "# Расчет\n",
    "try:\n",
    "    model.calc(accuracy=0.05)\n",
    "except Exception as e:\n",
    "    print(e.args[0])\n",
    "print(f'Общий расход системы: {model.summaryQ()} л/с', end='\\n\\n')\n",
    "\n",
    "# Состав\n",
    "NRS_Revision.print_model_elements(model)\n",
    "Appraiser.print_GA_NRS_model_elements_state(model)"
   ]
  },
  {
   "cell_type": "markdown",
   "metadata": {},
   "source": [
    "# Тесты"
   ]
  },
  {
   "cell_type": "code",
   "execution_count": 9,
   "metadata": {},
   "outputs": [],
   "source": [
    "# p_nozzleB = NRS_Revision.calc_p(3.7, 40)\n",
    "# p_nozzleA = NRS_Revision.calc_p(7.4, 40)\n",
    "# p_nozzleL = NRS_Revision.calc_p(16, 40)\n",
    "# p_nozzleB, p_nozzleA, p_nozzleL"
   ]
  },
  {
   "cell_type": "markdown",
   "metadata": {},
   "source": [
    "# Мутации"
   ]
  },
  {
   "cell_type": "markdown",
   "metadata": {},
   "source": [
    "## Тест макромутаций\n",
    "\n",
    "Макромутации - мутации в структуре модели. Добавление, изменение и удаление элементов модели."
   ]
  },
  {
   "cell_type": "markdown",
   "metadata": {},
   "source": [
    "## Тест корректного удаления элементов"
   ]
  },
  {
   "cell_type": "code",
   "execution_count": 10,
   "metadata": {},
   "outputs": [
    {
     "name": "stdout",
     "output_type": "stream",
     "text": [
      "Новая модель: Сложная НРС с одним разветвлением и nozzles_count рабочих линий\n",
      "Расстояние до Н0 80 м\n"
     ]
    },
    {
     "data": {
      "image/png": "[encoded data removed]",
      "text/plain": [
       "<Figure size 640x480 with 1 Axes>"
      ]
     },
     "metadata": {},
     "output_type": "display_data"
    },
    {
     "data": {
      "text/plain": [
       "<networkx.classes.digraph.DiGraph at 0x20e02c5cb00>"
      ]
     },
     "execution_count": 10,
     "metadata": {},
     "output_type": "execute_result"
    }
   ],
   "source": [
    "model = Presets.single_splitter(3)\n",
    "print_NRS_graph(model)"
   ]
  },
  {
   "cell_type": "code",
   "execution_count": 11,
   "metadata": {},
   "outputs": [
    {
     "name": "stdout",
     "output_type": "stream",
     "text": [
      "Новая модель: Сложная НРС с одним разветвлением и nozzles_count рабочих линий\n",
      "Расстояние до Н0 80 м\n"
     ]
    },
    {
     "data": {
      "image/png": "[encoded data removed]",
      "text/plain": [
       "<Figure size 640x480 with 1 Axes>"
      ]
     },
     "metadata": {},
     "output_type": "display_data"
    },
    {
     "data": {
      "text/plain": [
       "<networkx.classes.digraph.DiGraph at 0x20e0309de80>"
      ]
     },
     "execution_count": 11,
     "metadata": {},
     "output_type": "execute_result"
    }
   ],
   "source": [
    "model = Presets.single_splitter(3)\n",
    "model.getElement('Р2').set_ro(2)\n",
    "for e in model.elmnts:\n",
    "    model.fire_dead_elements_try(e)\n",
    "print_NRS_graph(model)"
   ]
  },
  {
   "cell_type": "markdown",
   "metadata": {},
   "source": [
    "### Проверка обучения\n",
    "\n",
    "С удалением ветвей"
   ]
  },
  {
   "cell_type": "code",
   "execution_count": 12,
   "metadata": {},
   "outputs": [
    {
     "name": "stdout",
     "output_type": "stream",
     "text": [
      "Новая модель: Сложная НРС с одним разветвлением и nozzles_count рабочих линий\n"
     ]
    }
   ],
   "source": [
    "model = Presets.single_splitter(3)"
   ]
  },
  {
   "cell_type": "code",
   "execution_count": 13,
   "metadata": {},
   "outputs": [
    {
     "name": "stdout",
     "output_type": "stream",
     "text": [
      "0\t0.7057158958283042\t10.24278468772631\n",
      "3\t0.6506974359351657\t12.718615382917545\n",
      "6\t0.6347474091523234\t12.311366588145447\n",
      "24\t0.6299109475987625\t12.154007358055685\n",
      "33\t0.61984215980225\t11.857102808898748\n",
      "47\t0.5988549394062084\t11.301527726720622\n",
      "59\t0.5838245833225325\t11.977893750486034\n",
      "74\t0.5676783368233119\t12.704474842950964\n",
      "100\t0.5635277471738233\t12.891251377177955\n",
      "103\t0.5480317315432245\t13.5885720805549\n",
      "121\t0.5159642843844695\t13.531607202698876\n",
      "139\t0.5012873474632548\t14.192069364153532\n",
      "149\t0.49848988053123144\t14.317955376094584\n",
      "154\t0.4910053516453196\t14.279759175960615\n",
      "155\t0.4895840572479416\t14.343717423842627\n",
      "167\t0.47541057242220996\t14.981524241000551\n",
      "179\t"
     ]
    },
    {
     "name": "stdout",
     "output_type": "stream",
     "text": [
      "\t0.4674203734102563\t14.591083196538467\n",
      "181\t0.43515050345183454\t14.543227344667446\n",
      "184\t0.42801843827573566\t15.137070942950178\n",
      "216\t0.3937437928438674\t15.094056781382289\n",
      "220\t0.3809429413940384\t13.98256763726827\n",
      "227\t0.3556857978564654\t14.369139096459055\n",
      "239\t0.34465648124806264\t14.865458343837181\n",
      "254\t0.3439058849718324\t14.899235176267544\n",
      "303\t0.3436319922052884\t14.911560350762024\n",
      "305\t0.33534732177812715\t14.909370519984279\n",
      "325\t0.31271309878830544\t14.427910554526255\n",
      "329\t0.295266017654266\t14.83802920555803\n",
      "331\t0.2840433068056169\t13.843051193747241\n",
      "350\t0.27573454916319823\t14.216945287656081\n",
      "424\t0.274392431348446\t14.27734058931993\n",
      "438\t0.2738660397296235\t14.29188187070353\n",
      "449\t0.2713295115771259\t14.40602563756592\n",
      "463\t0.2539404489261522\t14.82267979832315\n",
      "477\t0.22387209619823137\t14.675755671079589\n",
      "491\t0.22025947109981\t14.534431734011399\n",
      "507\t0.17026852050439667\t14.5338887697362\n",
      "594\t0.16996655283403284\t15.461784936548778\n",
      "652\t0.16754945577031624\t15.30921277106338\n",
      "653\t0.16620872943837867\t15.622313576436984\n",
      "710\t0.1586709346372223\t14.845597580303249\n",
      "1177\t0.15239064398039104\t14.856561361176537\n",
      "Итог:\t0.15239064398039104\t14.856561361176537\n"
     ]
    }
   ],
   "source": [
    "aims = {'Q':15, '38дв':0, '51нп':0, '89':0,'110': 0, '150': 10, '200': 0, '225': 0, '250': 0, '300': 0, 'min_L': 800, 'max_L': 800}\n",
    "\n",
    "curQ = Appraiser.evaluate(Appraiser.metrics(model), aims)\n",
    "for i in range(2000):\n",
    "    print(f'{i}\\t', end='\\r')\n",
    "    model_back = copy.deepcopy(model)\n",
    "    to_print = i%100==0\n",
    "    try:\n",
    "        model.mutate(mutation_count=2)\n",
    "        for elmnt in model.elmnts:\n",
    "            model.fire_dead_elements_try(elmnt)\n",
    "        model.drop_q()\n",
    "        kwargs = model.calc(accuracy=0.5)\n",
    "        newQ = Appraiser.evaluate(Appraiser.metrics(model), aims)\n",
    "        if newQ>curQ:\n",
    "            model = model_back\n",
    "        if newQ<curQ:\n",
    "        # if to_print:\n",
    "            curQ=newQ\n",
    "            print(i, newQ, model.summaryQ(), sep='\\t')\n",
    "    except:\n",
    "        # print(i, 'Модель не жизнеспособна')\n",
    "        model = model_back\n",
    "\n",
    "print('Итог:', curQ, model.summaryQ(), sep='\\t')"
   ]
  },
  {
   "cell_type": "code",
   "execution_count": 14,
   "metadata": {},
   "outputs": [
    {
     "name": "stdout",
     "output_type": "stream",
     "text": [
      "================================================================================\n",
      "Сложная НРС с одним разветвлением и nozzles_count рабочих линий\n",
      "================================================================================\n",
      "Насос (Н0); напор: 75 м; производительность: 14.856561361176537 л/с; напор макс.: 100\n",
      "\n",
      "Рукавная линия (НРЛ1), длина: 140 м; диаметр: 77 мм; сопротивление 0.015; потеря напора: 24.62569866940084 м\n",
      "Рукавная линия (НРЛ3), длина: 180 м; диаметр: 66 мм; сопротивление 0.034; потеря напора: 15.786681365181419 м\n",
      "Рукавная линия (НРЛ5), длина: 200 м; диаметр: 150 мм; сопротивление 0.00046; потеря напора: 0.08175667337710635 м\n",
      "Рукавная линия (НРЛ7), длина: 660 м; диаметр: 77 мм; сопротивление 0.015; потеря напора: 7.590508780603871 м\n",
      "\n",
      "Ствол (С4): \"А\"; проводимость: 1.1700427342623003; напор: 34.587619965417744, м; расход: 6.881166451456968, л/с\n",
      "Ствол (С6): \"Б\"; проводимость: 0.5850213671311502; напор: 50.29254465722205, м; расход: 4.148809878619922, л/с\n",
      "Ствол (С8): \"Б\"; проводимость: 0.5850213671311502; напор: 42.78379254999529, м; расход: 3.826585031099647, л/с\n",
      "================================================================================\n",
      "hoses\t59\n",
      "nozzles\t3\n",
      "distances\t{'Н0': {'С4': 320, 'С6': 340, 'С8': 800}}\n",
      "min_L\t320\n",
      "max_L\t800\n",
      "77\t40\n",
      "66\t9\n",
      "А\t1\n",
      "150\t10\n",
      "Б\t2\n",
      "Q\t14.856561361176537\n",
      "Расстояние до Н0 800 м\n"
     ]
    },
    {
     "data": {
      "image/png": "[encoded data removed]",
      "text/plain": [
       "<Figure size 640x480 with 1 Axes>"
      ]
     },
     "metadata": {},
     "output_type": "display_data"
    },
    {
     "data": {
      "text/plain": [
       "<networkx.classes.digraph.DiGraph at 0x20e0309c980>"
      ]
     },
     "execution_count": 14,
     "metadata": {},
     "output_type": "execute_result"
    }
   ],
   "source": [
    "Appraiser.print_GA_NRS_model_elements_state(model)\n",
    "print('='*80)\n",
    "Appraiser.print_metrics(model)\n",
    "print_NRS_graph(model)"
   ]
  },
  {
   "cell_type": "markdown",
   "metadata": {},
   "source": [
    "## Класс ветви"
   ]
  },
  {
   "cell_type": "code",
   "execution_count": 11,
   "metadata": {},
   "outputs": [
    {
     "name": "stdout",
     "output_type": "stream",
     "text": [
      "Новая модель: Сложная НРС с одним разветвлением и nozzles_count рабочих линий\n",
      "Новая модель: \n",
      "all:\n",
      "  НРЛ1\n",
      "  Н0\n",
      "in:\n",
      "  Н0\n",
      "out:\n",
      "ВХОДЯЩАЯ\n"
     ]
    }
   ],
   "source": [
    "# class Branch(NRS_Model):\n",
    "#     '''\n",
    "#     Класс ветви модели. Может быть трех типов:\n",
    "\n",
    "#     `FULL=0` Имеет и источник и потребитель (насос и ствол).\n",
    "#         Например простая модель НРС АЦ->Рукав->Ствол.\n",
    "\n",
    "#     `INWARD=1` Имеет только вход. Выход открыт (оканчивается рукавом)\n",
    "#         Например, Рукавные линии начинающиеся от насосов. Могут подключаться на вход к водосборникам или насосам.\n",
    "\n",
    "#     `OUTWARD=2` Имеет только выход. Вход открыт (начинается с рукава). \n",
    "#         Например, рабочие рукавные линии. Могут подключаться на выход к разветвлениям или насосам.\n",
    "\n",
    "#     `-1` Не распознана.\n",
    "#     '''\n",
    "\n",
    "#     def __init__(self, name=''):\n",
    "#         self.elmnts_names = []\n",
    "#         self._branch_type = -1\n",
    "#         super().__init__(name)\n",
    "\n",
    "#     def getBranch(self, model:NRS_Model, elmnt=None):\n",
    "#         '''\n",
    "#         Из `model` выделяется ветвь в которую входит элемент `elmnt`. \n",
    "#         Если `elmnt` не передан, он выбирается случайно.\n",
    "#         '''\n",
    "#         # Если элемент не передан, выбираем его случайным образом\n",
    "#         if elmnt is None:\n",
    "#             elmnt = random.choice(model.elmnts)\n",
    "#         # Если передано имя элемента, получаем его по имени, иначе предполагается использование объекта\n",
    "#         if isinstance(elmnt, str):\n",
    "#             elmnt = model.getElement(elmnt)\n",
    "#         if not isinstance(elmnt, Element):\n",
    "#             raise TypeError('Должен быть элемент НРС!')\n",
    "\n",
    "#         self._elementAdd(elmnt)\n",
    "\n",
    "#         return self\n",
    "    \n",
    "        \n",
    "#     def _elementAdd(self, elmnt:Element):\n",
    "#         '''\n",
    "#         Рекурсивное добавление элементов в модель\n",
    "#             Вход:\n",
    "#                 elmnt=Element: элемент который следует добавить модель. \n",
    "#                 Далее _elementAdd будет вызвана для всех подключенных к нему элементов\n",
    "#         '''\n",
    "#         if not elmnt in self.elmnts:\n",
    "#             self.addElements([elmnt])\n",
    "#             for linked in elmnt.elements_next:\n",
    "#                 if isinstance(linked, (GA_Element_Hose, GA_Element_Nozzle)):\n",
    "#                     self._elementAdd(linked)\n",
    "#             for linked in elmnt.elements_previous:\n",
    "#                 if isinstance(linked, (GA_Element_Hose, GA_Element_Pump)):\n",
    "#                     self._elementAdd(linked)\n",
    "\n",
    "#     def interpretate(self):\n",
    "\n",
    "#         super().interpretate()\n",
    "#         # Определение типа ветви\n",
    "#         if len(self.elmnts_in)>0 and len(self.elmnts_out)>0:\n",
    "#             self._branch_type = 0\n",
    "#         elif len(self.elmnts_in)>0 and len(self.elmnts_out)==0:\n",
    "#             self._branch_type = 1\n",
    "#         elif  len(self.elmnts_in)==0 and len(self.elmnts_out)>0:\n",
    "#             self._branch_type = 2\n",
    "#         # Определение входных элементов\n",
    "#         for elmnt in self.elmnts:\n",
    "#             if len(self.elmnts_in) + len(self.elmnts_out) ==1:\n",
    "#                 self.plugin = elmnt\n",
    "\n",
    "#         return self\n",
    "    \n",
    "#     @property\n",
    "#     def branch_type(self):\n",
    "#         t = {0:'ПОЛНАЯ', 1:'ВХОДЯЩАЯ', 2:'ИСХОДЯЩАЯ', -1:'НЕ РАСПОЗНАНО'}\n",
    "#         return t[self._branch_type]\n",
    "    \n",
    "#     def deep_copy(self):\n",
    "#         '''\n",
    "#         Делает глубокую копию элементов. Требуется для удаления связей с исходной моделью.\n",
    "#         '''\n",
    "#         tmp_col = []\n",
    "#         for elmnt in self.elmnts:\n",
    "#             # print(tmp_col, elmnt.name)\n",
    "#             tmp_col.append(copy.deepcopy(elmnt).drop_links())\n",
    "#         for elmnt in self.elmnts:\n",
    "#             # print(tmp_col, elmnt.name)\n",
    "#             elmnt_copy = NRS_Revision.get_element_by_name(tmp_col, elmnt.name, False)\n",
    "#             for linked in elmnt.elements_next:\n",
    "#                 linked_copy = NRS_Revision.get_element_by_name(tmp_col, linked.name, False)\n",
    "#                 if linked_copy:\n",
    "#                     elmnt_copy.append(linked_copy)\n",
    "#             for linked in elmnt.elements_previous:\n",
    "#                 linked_copy = NRS_Revision.get_element_by_name(tmp_col, linked.name, False)\n",
    "#                 if linked_copy:\n",
    "#                     linked_copy.append(elmnt_copy)\n",
    "\n",
    "#         self.elmnts = tmp_col\n",
    "        \n",
    "#         return self\n",
    "    \n",
    "#     def drop_names(self):\n",
    "#         '''\n",
    "#         Обезличивает (удаляет имена) элементов ветви.\n",
    "#         Требуется для корректной передачи в другие модели, где элементы будут переименованы в соответствии с моделью.\n",
    "#         '''\n",
    "#         for elmnt in self.elmnts:\n",
    "#             elmnt.name = ''\n",
    "#         return self\n",
    "    \n",
    "#     def plug(self, elmnt):\n",
    "#         '''\n",
    "#         Прививает ветвь к указанному элементу.\n",
    "\n",
    "#         Если ветвь входящая, то прививается на вход (если возможно). \n",
    "#         Если исходящая - на выход (если возможно)\n",
    "#         Если полная или нераспознанная, ничего не происходит\n",
    "#         '''\n",
    "#         # ВХОДЯЩАЯ\n",
    "#         if self._branch_type==1:\n",
    "#             self.plugin.append(elmnt)\n",
    "#         # ИСХОДЯЩАЯ\n",
    "#         if self._branch_type==2:\n",
    "#             elmnt.append(self.plugin)\n",
    "\n",
    "#         return self\n",
    "    \n",
    "\n",
    "\n",
    "\n",
    "# Рассматриваемая модель НРС\n",
    "model = Presets.single_splitter(3)\n",
    "\n",
    "branch = Branch().getBranch(model, 'НРЛ1').deep_copy().interpretate()  #.check_pumps().interpretate()\n",
    "NRS_Revision.print_model_elements(branch)\n",
    "\n",
    "\n",
    "# print_NRS_graph(branch)\n",
    "print(branch.branch_type)"
   ]
  },
  {
   "cell_type": "code",
   "execution_count": 16,
   "metadata": {},
   "outputs": [
    {
     "name": "stdout",
     "output_type": "stream",
     "text": [
      "================================================================================\n",
      "\n",
      "================================================================================\n",
      "Насос (Н0); напор: 40 м; производительность: 0 л/с; напор макс.: 100\n",
      "\n",
      "Рукавная линия (НРЛ1), длина: 40 м; диаметр: 77 мм; сопротивление 0.015; потеря напора: 0 м\n",
      "\n"
     ]
    }
   ],
   "source": [
    "Appraiser.print_GA_NRS_model_elements_state(branch)"
   ]
  },
  {
   "cell_type": "code",
   "execution_count": 17,
   "metadata": {},
   "outputs": [
    {
     "name": "stdout",
     "output_type": "stream",
     "text": [
      "Расстояние до Н0 80 м\n"
     ]
    },
    {
     "data": {
      "image/png": "[encoded data removed]",
      "text/plain": [
       "<Figure size 640x480 with 1 Axes>"
      ]
     },
     "metadata": {},
     "output_type": "display_data"
    },
    {
     "name": "stdout",
     "output_type": "stream",
     "text": [
      "Расстояние до Н0 0 м\n"
     ]
    },
    {
     "data": {
      "image/png": "[encoded data removed]",
      "text/plain": [
       "<Figure size 640x480 with 1 Axes>"
      ]
     },
     "metadata": {},
     "output_type": "display_data"
    },
    {
     "data": {
      "text/plain": [
       "<networkx.classes.digraph.DiGraph at 0x20e046fcf80>"
      ]
     },
     "execution_count": 17,
     "metadata": {},
     "output_type": "execute_result"
    }
   ],
   "source": [
    "print_NRS_graph(model)\n",
    "print_NRS_graph(branch)"
   ]
  },
  {
   "cell_type": "markdown",
   "metadata": {},
   "source": [
    "### Прививка ветви другой модели (на выход)"
   ]
  },
  {
   "cell_type": "code",
   "execution_count": 18,
   "metadata": {},
   "outputs": [
    {
     "name": "stdout",
     "output_type": "stream",
     "text": [
      "Новая модель: Сложная НРС с одним разветвлением и nozzles_count рабочих линий\n",
      "Новая модель: Сложная НРС с одним разветвлением и nozzles_count рабочих линий\n",
      "all:\n",
      "  Н0\n",
      "  НРЛ1\n",
      "  Р2\n",
      "  НРЛ3\n",
      "  С4\n",
      "  НРЛ5\n",
      "  С6\n",
      "in:\n",
      "  Н0\n",
      "out:\n",
      "  С4\n",
      "  С6\n",
      "================================================================================\n",
      "Модель для прививки\n",
      "================================================================================\n",
      "Насос (Н0); напор: 40 м; производительность: 0 л/с; напор макс.: 100\n",
      "\n",
      "Рукавная линия (НРЛ1), длина: 40 м; диаметр: 77 мм; сопротивление 0.015; потеря напора: 0 м\n",
      "Рукавная линия (НРЛ3), длина: 40 м; диаметр: 51 мм; сопротивление 0.13; потеря напора: 0 м\n",
      "Рукавная линия (НРЛ5), длина: 40 м; диаметр: 51 мм; сопротивление 0.13; потеря напора: 0 м\n",
      "\n",
      "Ствол (С4): \"Б\"; проводимость: 0.5850213671311502; напор: 0, м; расход: 0, л/с\n",
      "Ствол (С6): \"Б\"; проводимость: 0.5850213671311502; напор: 0, м; расход: 0, л/с\n",
      "Расстояние до Н0 80 м\n"
     ]
    },
    {
     "data": {
      "image/png": "[encoded data removed]",
      "text/plain": [
       "<Figure size 640x480 with 1 Axes>"
      ]
     },
     "metadata": {},
     "output_type": "display_data"
    },
    {
     "name": "stdout",
     "output_type": "stream",
     "text": [
      "Новая модель: \n",
      "all:\n",
      "  С6\n",
      "  НРЛ5\n",
      "in:\n",
      "out:\n",
      "  С6\n",
      "ИСХОДЯЩАЯ\n"
     ]
    },
    {
     "data": {
      "text/plain": [
       "<__main__.GA_model at 0x20e030ac320>"
      ]
     },
     "execution_count": 18,
     "metadata": {},
     "output_type": "execute_result"
    }
   ],
   "source": [
    "# Модель у которой получаем ветвь\n",
    "model1 = Presets.single_splitter(3)\n",
    "# Модель которой будем ее прививать\n",
    "model2 = Presets.single_splitter()\n",
    "model2.name = 'Модель для прививки'\n",
    "NRS_Revision.print_model_elements(model2)\n",
    "Appraiser.print_GA_NRS_model_elements_state(model2)\n",
    "print_NRS_graph(model2)\n",
    "\n",
    "# Получение ветви\n",
    "branch = Branch().getBranch(model1, 'С6').deep_copy().interpretate()\n",
    "NRS_Revision.print_model_elements(branch)\n",
    "print(branch.branch_type)\n",
    "\n",
    "# Прививка ветви\n",
    "branch.drop_names().plug(NRS_Revision.get_element_by_name(model2.elmnts, 'Р2', False))\n",
    "model2.addElements(branch.elmnts).interpretate().check_pumps()"
   ]
  },
  {
   "cell_type": "code",
   "execution_count": 19,
   "metadata": {},
   "outputs": [
    {
     "name": "stdout",
     "output_type": "stream",
     "text": [
      "all:\n",
      "  Н0\n",
      "  НРЛ1\n",
      "  Р2\n",
      "  НРЛ3\n",
      "  С4\n",
      "  НРЛ5\n",
      "  С6\n",
      "  С7\n",
      "  НРЛ8\n",
      "in:\n",
      "  Н0\n",
      "out:\n",
      "  С4\n",
      "  С6\n",
      "  С7\n",
      "Расстояние до Н0 80 м\n"
     ]
    },
    {
     "data": {
      "image/png": "[encoded data removed]",
      "text/plain": [
       "<Figure size 640x480 with 1 Axes>"
      ]
     },
     "metadata": {},
     "output_type": "display_data"
    },
    {
     "data": {
      "text/plain": [
       "<networkx.classes.digraph.DiGraph at 0x20e0309f410>"
      ]
     },
     "execution_count": 19,
     "metadata": {},
     "output_type": "execute_result"
    }
   ],
   "source": [
    "NRS_Revision.print_model_elements(model2)\n",
    "print_NRS_graph(model2)"
   ]
  },
  {
   "cell_type": "code",
   "execution_count": 20,
   "metadata": {},
   "outputs": [
    {
     "name": "stdout",
     "output_type": "stream",
     "text": [
      "all:\n",
      "  Н0\n",
      "  НРЛ1\n",
      "  Р2\n",
      "  НРЛ3\n",
      "  С4\n",
      "  НРЛ5\n",
      "  С6\n",
      "  С7\n",
      "  НРЛ8\n",
      "in:\n",
      "  Н0\n",
      "out:\n",
      "  С4\n",
      "  С6\n",
      "  С7\n",
      "Расстояние до Н0 80 м\n"
     ]
    },
    {
     "data": {
      "image/png": "[encoded data removed]",
      "text/plain": [
       "<Figure size 640x480 with 1 Axes>"
      ]
     },
     "metadata": {},
     "output_type": "display_data"
    },
    {
     "name": "stdout",
     "output_type": "stream",
     "text": [
      "0\t0.6370200845088362\t10.334096197102372\n",
      "1\t0.5806331969267332\t17.48047179424871\n",
      "5\t0.5371818850246357\t12.576815173891392\n",
      "8\t0.4865783408628577\t11.853974661171407\n",
      "14\t0.48651907664628286\t13.558855401223028\n",
      "15\t0.4728110350166838\t14.381337898998973\n",
      "28\t0.44398554269526463\t14.610867438284119\n",
      "30\t0.3444594312084618\t14.582434127492295\n",
      "32\t0.3435378235494755\t15.371235224081953\n",
      "38\t0.34199622113199035\t14.730226732080581\n",
      "51\t0.34058114493784764\t15.18717555634251\n",
      "53\t0.1394464469164282\t15.117703227321185\n",
      "54\t0.12556698844239908\t14.965980693456055\n",
      "219\t0.11571968860650023\t14.806818683609988\n",
      "314\t0.1141110429993257\t14.867623134326173\n",
      "420\t0.10132775565889682\t14.92033466046619\n",
      "503\t0.10039960664989933\t14.976023601006041\n",
      "731\t0.10002347128383707\t15.001408409258918\n",
      "960\t0.09908270601549629\t14.932433412474143\n",
      "Итог:\t0.09908270601549629\t14.932433412474143\n",
      "all:\n",
      "  Н0\n",
      "  НРЛ1\n",
      "  Р2\n",
      "  НРЛ3\n",
      "  С4\n",
      "  НРЛ5\n",
      "  С6\n",
      "  С7\n",
      "  НРЛ8\n",
      "in:\n",
      "  Н0\n",
      "out:\n",
      "  С4\n",
      "  С6\n",
      "  С7\n",
      "Расстояние до Н0 400 м\n"
     ]
    },
    {
     "data": {
      "image/png": "[encoded data removed]",
      "text/plain": [
       "<Figure size 640x480 with 1 Axes>"
      ]
     },
     "metadata": {},
     "output_type": "display_data"
    },
    {
     "data": {
      "text/plain": [
       "<networkx.classes.digraph.DiGraph at 0x20e031b29f0>"
      ]
     },
     "execution_count": 20,
     "metadata": {},
     "output_type": "execute_result"
    }
   ],
   "source": [
    "def fit(model, aims, aims_not_more=None, epochs=1000):\n",
    "    curQ = Appraiser.evaluate(Appraiser.metrics(model), aims, aims_not_more)\n",
    "    for i in range(epochs):\n",
    "        print(f'{i}\\t', end='\\r')\n",
    "        model_back = copy.deepcopy(model)\n",
    "        try:\n",
    "            model.mutate(mutation_count=2)\n",
    "            for elmnt in model.elmnts:\n",
    "                model.fire_dead_elements_try(elmnt)\n",
    "            model.drop_q()\n",
    "            kwargs = model.calc(accuracy=0.5)\n",
    "            newQ = Appraiser.evaluate(Appraiser.metrics(model), aims, aims_not_more)\n",
    "            if newQ>curQ:\n",
    "                model = model_back\n",
    "            if newQ<curQ:\n",
    "                curQ=newQ\n",
    "                print(i, newQ, model.summaryQ(), sep='\\t')\n",
    "        except:\n",
    "            # print(i, 'Модель не жизнеспособна')\n",
    "            model = model_back\n",
    "\n",
    "    print('Итог:', curQ, model.summaryQ(), sep='\\t')\n",
    "    return model\n",
    "\n",
    "\n",
    "work_model = copy.deepcopy(model2)\n",
    "\n",
    "NRS_Revision.print_model_elements(work_model)\n",
    "print_NRS_graph(work_model)\n",
    "\n",
    "aims = {'Q':15, '38дв':0, '51нп':0, '89':0,'110': 0, '150': 10, '200': 0, '225': 0, '250': 0, '300': 0, 'min_L': 400, 'max_L': 400}\n",
    "aims_not_more = {'77':10}\n",
    "work_model = fit(work_model, aims, aims_not_more)\n",
    "\n",
    "NRS_Revision.print_model_elements(work_model)\n",
    "print_NRS_graph(work_model)"
   ]
  },
  {
   "cell_type": "code",
   "execution_count": 21,
   "metadata": {},
   "outputs": [
    {
     "name": "stdout",
     "output_type": "stream",
     "text": [
      "================================================================================\n",
      "Модель для прививки\n",
      "================================================================================\n",
      "Насос (Н0); напор: 50 м; производительность: 14.932433412474143 л/с; напор макс.: 100\n",
      "\n",
      "Рукавная линия (НРЛ1), длина: 200 м; диаметр: 150 мм; сопротивление 0.00046; потеря напора: 0.9870941292440756 м\n",
      "Рукавная линия (НРЛ3), длина: 200 м; диаметр: 66 мм; сопротивление 0.034; потеря напора: 14.70605935400444 м\n",
      "Рукавная линия (НРЛ5), длина: 180 м; диаметр: 77 мм; сопротивление 0.015; потеря напора: 2.160648581281339 м\n",
      "Рукавная линия (НРЛ8), длина: 40 м; диаметр: 77 мм; сопротивление 0.015; потеря напора: 0.4972969284603088 м\n",
      "\n",
      "Ствол (С4): \"А\"; проводимость: 1.1700427342623003; напор: 34.306846516751484, м; расход: 6.853179764272404, л/с\n",
      "Ствол (С6): \"Б\"; проводимость: 0.5850213671311502; напор: 46.852257289474586, м; расход: 4.0043957168744795, л/с\n",
      "Ствол (С7): \"Б\"; проводимость: 0.5850213671311502; напор: 48.515608942295614, м; расход: 4.0748579313272595, л/с\n",
      "================================================================================\n",
      "hoses\t31\n",
      "nozzles\t3\n",
      "distances\t{'Н0': {'С7': 240, 'С6': 380, 'С4': 400}}\n",
      "min_L\t240\n",
      "max_L\t400\n",
      "150\t10\n",
      "66\t10\n",
      "А\t1\n",
      "77\t11\n",
      "Б\t2\n",
      "Q\t14.932433412474143\n",
      "================================================================================\n"
     ]
    },
    {
     "data": {
      "text/plain": [
       "{'Q': 15,\n",
       " '38дв': 0,\n",
       " '51нп': 0,\n",
       " '89': 0,\n",
       " '110': 0,\n",
       " '150': 10,\n",
       " '200': 0,\n",
       " '225': 0,\n",
       " '250': 0,\n",
       " '300': 0,\n",
       " 'min_L': 400,\n",
       " 'max_L': 400}"
      ]
     },
     "execution_count": 21,
     "metadata": {},
     "output_type": "execute_result"
    }
   ],
   "source": [
    "Appraiser.print_GA_NRS_model_elements_state(work_model)\n",
    "print('='*80)\n",
    "Appraiser.print_metrics(work_model)\n",
    "print('='*80)\n",
    "aims"
   ]
  },
  {
   "cell_type": "markdown",
   "metadata": {},
   "source": [
    "### Прививка ко входу другой модели"
   ]
  },
  {
   "cell_type": "code",
   "execution_count": 22,
   "metadata": {},
   "outputs": [
    {
     "name": "stdout",
     "output_type": "stream",
     "text": [
      "Новая модель: Сложная НРС с одним разветвлением и nozzles_count рабочих линий\n",
      "Новая модель: Сложная НРС с одним водосборником и лафетным стволом\n",
      "================================================================================\n",
      "Модель для прививки\n",
      "================================================================================\n",
      "Насос (Н0); напор: 80 м; производительность: 0 л/с; напор макс.: 100\n",
      "Насос (Н2); напор: 80 м; производительность: 0 л/с; напор макс.: 100\n",
      "\n",
      "Рукавная линия (НРЛ1), длина: 40 м; диаметр: 77 мм; сопротивление 0.015; потеря напора: 0 м\n",
      "Рукавная линия (НРЛ3), длина: 40 м; диаметр: 77 мм; сопротивление 0.015; потеря напора: 0 м\n",
      "Рукавная линия (НРЛ5), длина: 40 м; диаметр: 77 мм; сопротивление 0.015; потеря напора: 0 м\n",
      "\n",
      "Ствол (С6): \"Л\"; проводимость: 2.581988897471611; напор: 0, м; расход: 0, л/с\n",
      "Расстояние до Н0 80 м\n",
      "Расстояние до Н2 80 м\n"
     ]
    },
    {
     "data": {
      "image/png": "[encoded data removed]",
      "text/plain": [
       "<Figure size 640x480 with 1 Axes>"
      ]
     },
     "metadata": {},
     "output_type": "display_data"
    },
    {
     "name": "stdout",
     "output_type": "stream",
     "text": [
      "Новая модель: \n",
      "all:\n",
      "  Н0\n",
      "  НРЛ1\n",
      "in:\n",
      "  Н0\n",
      "out:\n",
      "ВХОДЯЩАЯ\n",
      "================================================================================\n",
      "Модель для прививки\n",
      "================================================================================\n",
      "Насос (Н0); напор: 80 м; производительность: 0 л/с; напор макс.: 100\n",
      "Насос (Н7); напор: 40 м; производительность: 0 л/с; напор макс.: 100\n",
      "\n",
      "Рукавная линия (НРЛ1), длина: 40 м; диаметр: 77 мм; сопротивление 0.015; потеря напора: 0 м\n",
      "Рукавная линия (НРЛ5), длина: 40 м; диаметр: 77 мм; сопротивление 0.015; потеря напора: 0 м\n",
      "Рукавная линия (НРЛ8), длина: 40 м; диаметр: 77 мм; сопротивление 0.015; потеря напора: 0 м\n",
      "\n",
      "Ствол (С6): \"Л\"; проводимость: 2.581988897471611; напор: 0, м; расход: 0, л/с\n",
      "Расстояние до Н0 80 м\n",
      "Расстояние до Н7 80 м\n"
     ]
    },
    {
     "data": {
      "image/png": "[encoded data removed]",
      "text/plain": [
       "<Figure size 640x480 with 1 Axes>"
      ]
     },
     "metadata": {},
     "output_type": "display_data"
    },
    {
     "data": {
      "text/plain": [
       "<networkx.classes.digraph.DiGraph at 0x20e04705460>"
      ]
     },
     "execution_count": 22,
     "metadata": {},
     "output_type": "execute_result"
    }
   ],
   "source": [
    "# Модель у которой получаем ветвь\n",
    "model1 = Presets.single_splitter(3)\n",
    "# Модель которой будем ее прививать\n",
    "model2 = Presets.single_joiner()\n",
    "model2.name = 'Модель для прививки'\n",
    "# NRS_Revision.print_model_elements(model2)\n",
    "Appraiser.print_GA_NRS_model_elements_state(model2)\n",
    "print_NRS_graph(model2)\n",
    "\n",
    "# Удаление одной из ветвей\n",
    "model2.delElement(NRS_Revision.get_element_by_name(model2.elmnts, 'Н2', False))\n",
    "# Appraiser.print_GA_NRS_model_elements_state(model2)\n",
    "# print_NRS_graph(model2)\n",
    "\n",
    "# Получение ветви\n",
    "branch = Branch().getBranch(model1, 'Н0').deep_copy().interpretate()\n",
    "NRS_Revision.print_model_elements(branch)\n",
    "print(branch.branch_type)\n",
    "\n",
    "# Прививка ветви\n",
    "branch.drop_names().plug(NRS_Revision.get_element_by_name(model2.elmnts, 'ВС4', False))\n",
    "model2.addElements(branch.elmnts).interpretate().check_pumps()\n",
    "Appraiser.print_GA_NRS_model_elements_state(model2)\n",
    "print_NRS_graph(model2)"
   ]
  },
  {
   "cell_type": "code",
   "execution_count": 23,
   "metadata": {},
   "outputs": [
    {
     "name": "stdout",
     "output_type": "stream",
     "text": [
      "0\t0.5836256075616821\t15.536030819666573\n",
      "1\t0.4942966490654757\t16.254640363088114\n",
      "8\t0.2928551308092448\t16.153706145099406\n",
      "13\t0.27444838978507635\t16.077589647981718\n",
      "15\t0.25834407101868284\t15.03920801697276\n",
      "25\t0.24857601729456277\t15.051098151150153\n",
      "31\t0.20907146003241817\t14.95571239805491\n",
      "34\t0.20139671123627068\t14.66619732582376\n",
      "43\t0.19940707158449075\t14.660575704930553\n",
      "45\t0.1810322061327675\t14.63806763203395\n",
      "73\t0.1560322061327675\t14.63806763203395\n",
      "80\t0.07843400782329477\t14.505497992140775\n",
      "104\t0.07836649778208371\t15.507029631750884\n",
      "120\t0.0658664977820837\t15.507029631750884\n",
      "128\t0.058707876726955766\t15.57976123051955\n",
      "130\t0.03289139919504616\t15.527091163511601\n",
      "161\t0.020986637290284244\t15.527091163511601\n",
      "174\t0.02010602165801023\t15.508765662605132\n",
      "248\t0.002532882499896657\t14.88602028750465\n",
      "250\t0.0018996618749224925\t14.88602028750465\n",
      "Итог:\t0.0018996618749224925\t14.88602028750465\n",
      "================================================================================\n",
      "Модель для прививки\n",
      "================================================================================\n",
      "Насос (Н0); напор: 75 м; производительность: 7.443010143752325 л/с; напор макс.: 100\n",
      "Насос (Н7); напор: 40 м; производительность: 7.443010143752325 л/с; напор макс.: 100\n",
      "\n",
      "Рукавная линия (НРЛ1), длина: 200 м; диаметр: 150 мм; сопротивление 0.00046; потеря напора: 0.24729600000000004 м\n",
      "Рукавная линия (НРЛ5), длина: 200 м; диаметр: 110 мм; сопротивление 0.002; потеря напора: 4.3008000000000015 м\n",
      "Рукавная линия (НРЛ8), длина: 200 м; диаметр: 110 мм; сопротивление 0.002; потеря напора: 1.0752000000000004 м\n",
      "\n",
      "Ствол (С6): \"Л\"; проводимость: 2.5298221281347035; напор: 34.623999999999995, м; расход: 14.88602028750465, л/с\n",
      "================================================================================\n",
      "hoses\t30\n",
      "nozzles\t1\n",
      "distances\t{'Н0': {'С6': 400}, 'Н7': {'С6': 400}}\n",
      "min_L\t400\n",
      "max_L\t400\n",
      "150\t10\n",
      "110\t20\n",
      "Л\t1\n",
      "Q\t14.88602028750465\n",
      "================================================================================\n"
     ]
    },
    {
     "data": {
      "text/plain": [
       "{'Q': 15,\n",
       " '38дв': 0,\n",
       " '51нп': 0,\n",
       " '66нп': 0,\n",
       " '89': 0,\n",
       " '150': 10,\n",
       " '200': 0,\n",
       " '225': 0,\n",
       " '250': 0,\n",
       " '300': 0,\n",
       " 'min_L': 400,\n",
       " 'max_L': 400}"
      ]
     },
     "execution_count": 23,
     "metadata": {},
     "output_type": "execute_result"
    }
   ],
   "source": [
    "# Проверка расчета\n",
    "aims = {'Q':15, '38дв':0, '51нп':0, '66нп':0, '89':0, '150': 10, '200': 0, '225': 0, '250': 0, '300': 0, 'min_L': 400, 'max_L': 400}\n",
    "work_model = copy.deepcopy(model2)\n",
    "work_model = fit(work_model, aims)\n",
    "\n",
    "# Печать результатов\n",
    "Appraiser.print_GA_NRS_model_elements_state(work_model)\n",
    "print('='*80)\n",
    "Appraiser.print_metrics(work_model)\n",
    "print('='*80)\n",
    "aims"
   ]
  },
  {
   "cell_type": "markdown",
   "metadata": {},
   "source": [
    "### Вставка простой НРС как полной ветви"
   ]
  },
  {
   "cell_type": "code",
   "execution_count": 24,
   "metadata": {},
   "outputs": [
    {
     "name": "stdout",
     "output_type": "stream",
     "text": [
      "Новая модель: Простая НРС с одной РРЛ и одним стволом\n",
      "Новая модель: Сложная НРС с одним разветвлением и nozzles_count рабочих линий\n",
      "================================================================================\n",
      "Модель для прививки\n",
      "================================================================================\n",
      "Насос (Н0); напор: 40 м; производительность: 0 л/с; напор макс.: 100\n",
      "\n",
      "Рукавная линия (НРЛ1), длина: 40 м; диаметр: 77 мм; сопротивление 0.015; потеря напора: 0 м\n",
      "Рукавная линия (НРЛ3), длина: 40 м; диаметр: 51 мм; сопротивление 0.13; потеря напора: 0 м\n",
      "Рукавная линия (НРЛ5), длина: 40 м; диаметр: 51 мм; сопротивление 0.13; потеря напора: 0 м\n",
      "Рукавная линия (НРЛ7), длина: 40 м; диаметр: 51 мм; сопротивление 0.13; потеря напора: 0 м\n",
      "\n",
      "Ствол (С4): \"Б\"; проводимость: 0.5850213671311502; напор: 0, м; расход: 0, л/с\n",
      "Ствол (С6): \"Б\"; проводимость: 0.5850213671311502; напор: 0, м; расход: 0, л/с\n",
      "Ствол (С8): \"Б\"; проводимость: 0.5850213671311502; напор: 0, м; расход: 0, л/с\n",
      "Новая модель: \n",
      "all:\n",
      "  Н0\n",
      "  НРЛ1\n",
      "  С2\n",
      "in:\n",
      "  Н0\n",
      "out:\n",
      "  С2\n",
      "ПОЛНАЯ\n",
      "================================================================================\n",
      "Модель для прививки\n",
      "================================================================================\n",
      "Насос (Н0); напор: 40 м; производительность: 0 л/с; напор макс.: 100\n",
      "Насос (Н9); напор: 40 м; производительность: 0 л/с; напор макс.: 100\n",
      "\n",
      "Рукавная линия (НРЛ1), длина: 40 м; диаметр: 77 мм; сопротивление 0.015; потеря напора: 0 м\n",
      "Рукавная линия (НРЛ3), длина: 40 м; диаметр: 51 мм; сопротивление 0.13; потеря напора: 0 м\n",
      "Рукавная линия (НРЛ5), длина: 40 м; диаметр: 51 мм; сопротивление 0.13; потеря напора: 0 м\n",
      "Рукавная линия (НРЛ7), длина: 40 м; диаметр: 51 мм; сопротивление 0.13; потеря напора: 0 м\n",
      "Рукавная линия (НРЛ10), длина: 40 м; диаметр: 51 мм; сопротивление 0.13; потеря напора: 0 м\n",
      "\n",
      "Ствол (С4): \"Б\"; проводимость: 0.5850213671311502; напор: 0, м; расход: 0, л/с\n",
      "Ствол (С6): \"Б\"; проводимость: 0.5850213671311502; напор: 0, м; расход: 0, л/с\n",
      "Ствол (С8): \"Б\"; проводимость: 0.5850213671311502; напор: 0, м; расход: 0, л/с\n",
      "Ствол (С11): \"Б\"; проводимость: 0.5850213671311502; напор: 0, м; расход: 0, л/с\n",
      "Расстояние до Н0 80 м\n",
      "Расстояние до Н9 40 м\n"
     ]
    },
    {
     "data": {
      "image/png": "[encoded data removed]",
      "text/plain": [
       "<Figure size 640x480 with 1 Axes>"
      ]
     },
     "metadata": {},
     "output_type": "display_data"
    },
    {
     "data": {
      "text/plain": [
       "<networkx.classes.digraph.DiGraph at 0x20e031a92b0>"
      ]
     },
     "execution_count": 24,
     "metadata": {},
     "output_type": "execute_result"
    }
   ],
   "source": [
    "# Модель у которой получаем ветвь\n",
    "model1 = Presets.single_line()\n",
    "# Модель которой будем ее прививать\n",
    "model2 = Presets.single_splitter(3)\n",
    "model2.name = 'Модель для прививки'\n",
    "# NRS_Revision.print_model_elements(model2)\n",
    "Appraiser.print_GA_NRS_model_elements_state(model2)\n",
    "# print_NRS_graph(model2)\n",
    "\n",
    "# Получение ветви\n",
    "branch = Branch().getBranch(model1, 'Н0').deep_copy().interpretate()\n",
    "NRS_Revision.print_model_elements(branch)\n",
    "print(branch.branch_type)\n",
    "\n",
    "# Прививка ветви\n",
    "branch.drop_names()\n",
    "model2.addElements(branch.elmnts).interpretate().check_pumps()\n",
    "Appraiser.print_GA_NRS_model_elements_state(model2)\n",
    "print_NRS_graph(model2)"
   ]
  },
  {
   "cell_type": "code",
   "execution_count": 28,
   "metadata": {},
   "outputs": [
    {
     "name": "stdout",
     "output_type": "stream",
     "text": [
      "0\t0.5634590124071369\t13.644344441678843\n",
      "1\t0.5586778351161968\t13.859497419771145\n",
      "6\t0.5541556851989901\t14.06299416604545\n",
      "8\t0.5431248581667175\t10.559381382497708\n",
      "23\t0.5342362904719842\t10.95936692876071\n",
      "26\t0.5258254397636394\t11.337855210636233\n",
      "28\t0.4532485006431917\t14.603817471056372\n",
      "34\t0.4449743184178547\t14.97615567119654\n",
      "46\t0.4244161754016014\t15.099382011512455\n",
      "49\t0.3785148459181282\t14.966831933684235\n",
      "62\t0.3473323846581411\t14.370042690383652\n",
      "73\t0.284151730047752\t14.213172147851159\n",
      "81\t0.2764231309504391\t14.560959107230243\n",
      "115\t0.26903854755386786\t14.893265360075947\n",
      "125\t0.2677136115074163\t14.952887482166268\n",
      "139\t0.25162515151370385\t14.676868181883329\n",
      "148\t0.2444904401777768\t14.997930192000045\n",
      "168\t0.22348733636346094\t14.94306986364426\n",
      "429\t0.2225529172264246\t15.014896053340372\n",
      "600\t0.2224810512397152\t14.988352694212816\n",
      "618\t0.22237393344718567\t15.00683011373812\n",
      "775\t0.2222385435572206\t14.999265539925073\n",
      "934\t0.19870838123076243\t16.618613529942266\n",
      "936\t0.1765815829615904\t16.009872023819838\n",
      "943\t0.16968426317563545\t15.66393340581342\n",
      "961\t0.1609640806619895\t15.247397801450797\n",
      "968\t0.15749148654984937\t15.087625807291932\n",
      "970\t0.13419002607506958\t14.961448826621869\n",
      "1098\t0.11479532981149232\t14.834210158482847\n",
      "1099\t0.11326842092840965\t15.097711322564724\n",
      "1117\t0.11267449484559693\t15.070683785694401\n",
      "1138\t0.08901955320831889\t14.994120105625651\n",
      "1160\t0.048695615408744564\t14.808697306606494\n",
      "1161\t0.04715244791562356\t14.878139843796939\n",
      "1174\t0.029091024482668315\t14.690903898279926\n",
      "1199\t0.024916071620551983\t15.12221087600926\n",
      "1214\t0.024858055012792146\t15.119557879311628\n",
      "1359\t0.023365237220807373\t15.05161265705974\n",
      "1434\t0.0210096523248879\t14.992065645380045\n",
      "1568\t0.00035416090892126384\t15.015954191954828\n",
      "2043\t0.000249133620615849\t14.988788987072287\n",
      "Итог:\t0.000249133620615849\t14.988788987072287\n",
      "================================================================================\n",
      "Модель для прививки\n",
      "================================================================================\n",
      "Насос (Н0); напор: 75 м; производительность: 8.516021697193706 л/с; напор макс.: 100\n",
      "Насос (Н9); напор: 50 м; производительность: 6.472767289878582 л/с; напор макс.: 100\n",
      "\n",
      "Рукавная линия (НРЛ1), длина: 100 м; диаметр: 66 мм; сопротивление 0.034; потеря напора: 12.100029905131864 м\n",
      "Рукавная линия (НРЛ5), длина: 200 м; диаметр: 150 мм; сопротивление 0.00046; потеря напора: 0.09827128015415466 м\n",
      "Рукавная линия (НРЛ7), длина: 200 м; диаметр: 51 мм; сопротивление 0.13; потеря напора: 18.916306374047117 м\n",
      "Рукавная линия (НРЛ10), длина: 300 м; диаметр: 66 мм; сопротивление 0.034; потеря напора: 19.39611658953826 м\n",
      "\n",
      "Ствол (С6): \"Б\"; проводимость: 0.5850213671311502; напор: 62.80169881471398, м; расход: 4.636149417278941, л/с\n",
      "Ствол (С8): \"Б\"; проводимость: 0.5850213671311502; напор: 43.98366372082102, м; расход: 3.879872279914765, л/с\n",
      "Ствол (С11): \"А\"; проводимость: 1.1700427342623003; напор: 30.60388341046174, м; расход: 6.472767289878582, л/с\n",
      "================================================================================\n",
      "hoses\t40\n",
      "nozzles\t3\n",
      "distances\t{'Н0': {'С6': 300, 'С8': 300}, 'Н9': {'С11': 300}}\n",
      "min_L\t300\n",
      "max_L\t300\n",
      "66\t20\n",
      "150\t10\n",
      "Б\t2\n",
      "51\t10\n",
      "А\t1\n",
      "Q\t14.988788987072287\n",
      "================================================================================\n",
      "{'Q': 15, '38дв': 0, '51нп': 0, '66нп': 0, '89': 0, '110': 0, '200': 0, '225': 0, '250': 0, '300': 0, 'min_L': 300, 'max_L': 300}\n",
      "{'150': 16, '77': 10}\n"
     ]
    }
   ],
   "source": [
    "# Проверка расчета\n",
    "aims = {'Q':15, '38дв':0, '51нп':0, '66нп':0, '89':0, '110':0, '200': 0, '225': 0, '250': 0, '300': 0, 'min_L': 300, 'max_L': 300}\n",
    "aims_not_more = {'150': 16, '77':10}\n",
    "work_model = copy.deepcopy(model2)\n",
    "work_model = fit(work_model, aims, aims_not_more, 5000)\n",
    "\n",
    "# Печать результатов\n",
    "Appraiser.print_GA_NRS_model_elements_state(work_model)\n",
    "print('='*80)\n",
    "Appraiser.print_metrics(work_model)\n",
    "print('='*80)\n",
    "print(aims)\n",
    "print(aims_not_more)"
   ]
  },
  {
   "cell_type": "code",
   "execution_count": 30,
   "metadata": {},
   "outputs": [
    {
     "name": "stdout",
     "output_type": "stream",
     "text": [
      "Расстояние до Н0 300 м\n",
      "Расстояние до Н9 300 м\n"
     ]
    },
    {
     "data": {
      "image/png": "[encoded data removed]",
      "text/plain": [
       "<Figure size 640x480 with 1 Axes>"
      ]
     },
     "metadata": {},
     "output_type": "display_data"
    },
    {
     "data": {
      "text/plain": [
       "<networkx.classes.digraph.DiGraph at 0x20e0465dee0>"
      ]
     },
     "execution_count": 30,
     "metadata": {},
     "output_type": "execute_result"
    }
   ],
   "source": [
    "print_NRS_graph(work_model)"
   ]
  },
  {
   "cell_type": "markdown",
   "metadata": {},
   "source": [
    "### Получение ветви от разветвления"
   ]
  },
  {
   "cell_type": "code",
   "execution_count": 13,
   "metadata": {},
   "outputs": [
    {
     "name": "stdout",
     "output_type": "stream",
     "text": [
      "Новая модель: Сложная НРС с одним разветвлением и nozzles_count рабочих линий\n",
      "Расстояние до Н0 80 м\n"
     ]
    },
    {
     "data": {
      "image/png": "[encoded data removed]",
      "text/plain": [
       "<Figure size 640x480 with 1 Axes>"
      ]
     },
     "metadata": {},
     "output_type": "display_data"
    },
    {
     "name": "stdout",
     "output_type": "stream",
     "text": [
      "Новая модель: \n",
      "all:\n",
      "  Р2\n",
      "  НРЛ3\n",
      "  С4\n",
      "  НРЛ5\n",
      "  С6\n",
      "  НРЛ7\n",
      "  С8\n",
      "  НРЛ1\n",
      "  Н0\n",
      "in:\n",
      "  Н0\n",
      "out:\n",
      "  С4\n",
      "  С6\n",
      "  С8\n",
      "Расстояние до Н0 80 м\n"
     ]
    },
    {
     "data": {
      "image/png": "[encoded data removed]",
      "text/plain": [
       "<Figure size 640x480 with 1 Axes>"
      ]
     },
     "metadata": {},
     "output_type": "display_data"
    },
    {
     "data": {
      "text/plain": [
       "<networkx.classes.digraph.DiGraph at 0x1cb829bb4d0>"
      ]
     },
     "execution_count": 13,
     "metadata": {},
     "output_type": "execute_result"
    }
   ],
   "source": [
    "# Модель которой будем ее прививать\n",
    "model = Presets.single_splitter(3)\n",
    "model.name = 'Модель для получения ветви'\n",
    "# NRS_Revision.print_model_elements(model2)\n",
    "# Appraiser.print_GA_NRS_model_elements_state(model2)\n",
    "print_NRS_graph(model)\n",
    "\n",
    "# Получение ветви\n",
    "branch = Branch().getBranch(model, 'Р2').deep_copy().interpretate()\n",
    "NRS_Revision.print_model_elements(branch)\n",
    "# print(branch.branch_type)\n",
    "\n",
    "# # Прививка ветви\n",
    "# branch.drop_names()\n",
    "# model2.addElements(branch.elmnts).interpretate().check_pumps()\n",
    "# Appraiser.print_GA_NRS_model_elements_state(model2)\n",
    "print_NRS_graph(branch)"
   ]
  }
 ],
 "metadata": {
  "kernelspec": {
   "display_name": "ox",
   "language": "python",
   "name": "python3"
  },
  "language_info": {
   "codemirror_mode": {
    "name": "ipython",
    "version": 3
   },
   "file_extension": ".py",
   "mimetype": "text/x-python",
   "name": "python",
   "nbconvert_exporter": "python",
   "pygments_lexer": "ipython3",
   "version": "3.12.0"
  }
 },
 "nbformat": 4,
 "nbformat_minor": 2
}
