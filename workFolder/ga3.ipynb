{
 "cells": [
  {
   "cell_type": "markdown",
   "metadata": {},
   "source": [
    "# Тесты с генетическим алгоритмом (Скрещивание)"
   ]
  },
  {
   "cell_type": "markdown",
   "metadata": {},
   "source": [
    "Требуется подобрать такие параметры НРС, чтобы при заданных условиях (например, при требуемом расходе воды и подаче на требуемое расстояние), состав сил и средств был минимальный.\n",
    "\n",
    "Критерии оптимизации (пример для расхода и расстояния):\n",
    "\n",
    "\n",
    "$$\n",
    "|\\sum_{i=1}^{n}{Q_i}-Q_{треб.}|\\longrightarrow min\n",
    "$$\n",
    "\n",
    "$$\n",
    "|L_{НРС}-L_{треб.}|\\longrightarrow min\n",
    "$$\n",
    "\n"
   ]
  },
  {
   "cell_type": "markdown",
   "metadata": {},
   "source": [
    "Мутации добавления отдельных элементов невозможны, поэтому нужно делать мутации блоками:\n",
    "\n",
    "* ствол с рукавной линией\n",
    "* магистральная рукавная линия\n",
    "\n",
    "Нет, не так!\n",
    "\n",
    "Типы мутаций:\n",
    "\n",
    "* Разбить составной элемент, вставив другой элемент,\n",
    "* Удалить элемент\n",
    "* Изменить параметры элемента (количество рукавов, тип рукавов)\n",
    "* Добавить рабочую рукавную линию\n",
    "\n",
    "Основные категории элементов НРС:\n",
    "\n",
    "* Насос ПА (Pump)\n",
    "* напорная рукавная линия (Hose)\n",
    "* всасывающая рукавная линия (InHose)\n",
    "* разветвление (Splitter)\n",
    "* водосборник (Joiner)\n",
    "* ствол (Nozzle)\n",
    "\n",
    "\n",
    "Также нужно добавить элемент который будет очищать мусор в модели."
   ]
  },
  {
   "cell_type": "markdown",
   "metadata": {},
   "source": [
    "## Обертка над NRS которая будет реализовывать более тонкие функции ГА"
   ]
  },
  {
   "cell_type": "code",
   "execution_count": 1,
   "metadata": {},
   "outputs": [],
   "source": [
    "from nrs import NRS_Model, Element, NRS_Revision, NRS_Observer_E    # классы НРС\n",
    "from nrs import NRS_Data                                            # Табличные данные НРС\n",
    "from nrs import q_out_simple, q_out_nozzle                          # модели расчета параметров\n",
    "import matplotlib.pyplot as plt                                     # библиотеки для отрисовки получаемых данных\n",
    "import networkx as nx\n",
    "import numpy as np\n",
    "import random\n",
    "import copy\n",
    "from functools import reduce\n",
    "\n",
    "import logging\n",
    "logger = logging.getLogger('NRS')\n",
    "# logger.setLevel(logging.DEBUG)\n",
    "# logging.basicConfig(level=logging.DEBUG)"
   ]
  },
  {
   "cell_type": "code",
   "execution_count": 43,
   "metadata": {},
   "outputs": [],
   "source": [
    "def print_NRS_graph(model):\n",
    "    '''\n",
    "    Построение графа НРС\n",
    "    '''\n",
    "    # Цвета вершин\n",
    "    colors={\n",
    "        'GA_Element_Pump': 'gray',\n",
    "        'GA_Element_Hose': 'blue',\n",
    "        'GA_Element_InHose': 'black',\n",
    "        'GA_Element_Splitter': 'green',\n",
    "        'GA_Element_Joiner': 'green',\n",
    "        'GA_Element_Nozzle': 'red',\n",
    "    }\n",
    "\n",
    "    try:\n",
    "        G = nx.DiGraph()\n",
    "        # Узлы - на каждый элемент\n",
    "        for elmnt in model.elmnts:\n",
    "            G.add_node(elmnt.name, q=elmnt.q)\n",
    "        # Ребра - на каждую связь\n",
    "        for elmnt in model.elmnts:\n",
    "            for elmnt_next in elmnt.elements_next:\n",
    "                G.add_edge(elmnt.name, elmnt_next.name, L=elmnt.get_L())\n",
    "\n",
    "        # Расчет расстояния до элементов\n",
    "        for elmnt in model.elmnts_in:\n",
    "            paths = nx.shortest_path_length(G, source = elmnt.name, weight='L')\n",
    "            nx.set_node_attributes(G, paths, 'L')   # Здесь нужна другая логика\n",
    "            print(f'Расстояние до {elmnt.name} {max(paths.values())} м')    \n",
    "\n",
    "        # Печать графа НРС с позициями\n",
    "        pos={}\n",
    "        pos_list=[]\n",
    "        level=0\n",
    "        for eo in model.elmnts_in:\n",
    "            v = eo.name\n",
    "            spl = dict(nx.single_source_shortest_path_length(G, v))\n",
    "            for nd, p in spl.items():\n",
    "                if not nd in pos.keys():\n",
    "                    level_rize=level\n",
    "                    cpos = (p,level_rize)\n",
    "                    while cpos in pos_list:\n",
    "                        level_rize+=1\n",
    "                        cpos = (p,level_rize)\n",
    "                    pos[nd]=cpos\n",
    "                    pos_list.append(cpos)\n",
    "            level+=1\n",
    "\n",
    "        # nc = [nd[1]['L'] for nd in list(G.nodes(data=True))]\n",
    "        # nx.draw(G, pos=pos, with_labels=True, node_color=nc)\n",
    "        nc = [colors[e.id] for e in model.elmnts]\n",
    "        nx.draw(G, pos=pos, with_labels=True, node_color=nc)\n",
    "        plt.show()\n",
    "\n",
    "        return G\n",
    "    except:\n",
    "        print('Полный граф изобразить не возможно, будет отображен упрощенный')\n",
    "        return print_NRS_graph_simple(model)\n",
    "\n",
    "def print_NRS_graph_simple(model):\n",
    "    '''\n",
    "    Построение графа НРС\n",
    "    '''\n",
    "    G = nx.DiGraph()\n",
    "    # Узлы - на каждый элемент\n",
    "    for elmnt in model.elmnts:\n",
    "        G.add_node(elmnt.name, q=elmnt.q)\n",
    "    # Ребра - на каждую связь\n",
    "    for elmnt in model.elmnts:\n",
    "        for elmnt_next in elmnt.elements_next:\n",
    "            G.add_edge(elmnt.name, elmnt_next.name)\n",
    "\n",
    "    nx.draw(G, with_labels=True)\n",
    "    plt.show()\n",
    "\n",
    "    return G\n",
    "# from workFolder.nrs import q_out_simple\n",
    "\n",
    "#=========================================== Классы модели ГА ==============================================\n",
    "class GA_model(NRS_Model):\n",
    "    '''\n",
    "    Класс модели НРС адаптированный для работы ГА\n",
    "    '''\n",
    "    def __init__(self, name):\n",
    "        super().__init__(name)\n",
    "\n",
    "    def appendElement(self, elmnt):\n",
    "        \n",
    "        # super().appendElement(elmnt)\n",
    "        name_prefixes={\n",
    "            'GA_Element_Pump': 'Н',\n",
    "            'GA_Element_Hose': 'НРЛ',\n",
    "            'GA_Element_InHose': 'ВРЛ',\n",
    "            'GA_Element_Splitter': 'Р', \n",
    "            'GA_Element_Joiner': 'ВС',\n",
    "            'GA_Element_Nozzle': 'С',\n",
    "        }\n",
    "        if elmnt.name=='': elmnt.name=name_prefixes[elmnt.id]+str(self.counter)\n",
    "            \n",
    "        return super().appendElement(elmnt)\n",
    "\n",
    "    def crossing(self, pair_model):\n",
    "        return self\n",
    "\n",
    "    def mutate(self, mutation_count=1):\n",
    "        '''\n",
    "        Мутация элементов модели\n",
    "        '''\n",
    "        for _ in range(mutation_count):\n",
    "            random.choice(self.elmnts).mutate()\n",
    "\n",
    "\n",
    "    def check_pumps(self):\n",
    "        '''\n",
    "        Проверяет пожарные автомобили. \n",
    "        Для тех из них у которых есть только элементы на выход устанавливается e_type `0` (in).\n",
    "        Для тех у кого имеются и те и те, ставится e_type `1` (inter).\n",
    "        '''\n",
    "        for elmnt in self.elmnts:\n",
    "            if isinstance(elmnt, GA_Element_Pump):\n",
    "                e_in = len(elmnt.elements_previous)\n",
    "                e_out = len(elmnt.elements_next)\n",
    "                if e_in==0 and e_out>0:\n",
    "                    elmnt.type = 0\n",
    "                if e_in>0 and e_out>0:\n",
    "                    elmnt.type = 1\n",
    "        return self\n",
    "    \n",
    "\n",
    "class GA_Element_Pump(Element):\n",
    "    '''\n",
    "    Класс элемента `Пожарного автомобиля с насосом` адаптированный для работы ГА.\n",
    "    '''\n",
    "    def __init__(self, name, e_type, H_min=10, Q_min=0, H_max=100, Q_max=40, \n",
    "        q=0, s=0, H_in=0, h=0, H_add=0, z=0, p=1, n=1, l=0, ri=2, ro=2, q_out=...):\n",
    "        \n",
    "        self.id = 'GA_Element_Pump'\n",
    "        self.H_min = H_min\n",
    "        self.H_max = H_max\n",
    "        self.Q_min = Q_min\n",
    "        self.Q_max = Q_max\n",
    "        super().__init__(name, e_type, q, s, H_in, h, H_add, z, p, n, l, ri, ro, q_out)\n",
    "\n",
    "    def set_H_add(self, H_add):\n",
    "        if H_add > self.H_max:\n",
    "            self.H_add = self.H_max\n",
    "        else:\n",
    "            self.H_add = H_add\n",
    "        if H_add <= self.H_min:\n",
    "            self.H_add = self.H_min\n",
    "        else:\n",
    "            self.H_add = H_add\n",
    "\n",
    "    def mutate(self):\n",
    "        mutation_case = random.choices([0,1,2,3],weights=[4,2,1,1])[0]\n",
    "        # мутация напора\n",
    "        if mutation_case==0:\n",
    "            change_val = random.choice([-5,5])\n",
    "            # print('H added')\n",
    "            self.H_add+=change_val\n",
    "        # Мутация производительности насоса\n",
    "        if mutation_case==1:\n",
    "            change_val = random.choice([40,60,70,100])\n",
    "            self.Q_max = change_val\n",
    "        # Мутация количества напорных патрубков\n",
    "        if mutation_case==2:\n",
    "            change_val = random.choice([2,4])\n",
    "            self.set_ro(change_val)\n",
    "        # Мутация всасывающих патрубков\n",
    "        if mutation_case==3:\n",
    "            change_val = random.choice([1,2,3,4])\n",
    "            self.set_ri(change_val)\n",
    "\n",
    "\n",
    "\n",
    "\n",
    "class GA_Element_Hose(Element):\n",
    "    '''\n",
    "    Класс элемента `Рукавной линии` адаптированный для работы ГА.\n",
    "    '''\n",
    "    def __init__(self, name, e_type=1, d='51', q=0, s=0, H_in=0, h=0, H_add=0, z=0, p=1, n=1, l=20, ri=1, ro=1, q_out=...):\n",
    "        self.id = 'GA_Element_Hose'\n",
    "        self.d=d\n",
    "        super().__init__(name, e_type, q, s, H_in, h, H_add, z, p, n, l, ri, ro, q_out)\n",
    "\n",
    "    def mutate(self):\n",
    "        mutation_case = random.choice([0,1])\n",
    "        # мутация количества\n",
    "        if mutation_case==0:\n",
    "            change_val = random.choice([i for i in range(-5,5)])\n",
    "            if self.n+change_val>0:\n",
    "                self.n = self.n+change_val\n",
    "        # мутация диаметра\n",
    "        if mutation_case==1:\n",
    "            new_d=random.choice(list(NRS_Data.ss.keys()))\n",
    "            self.d = new_d\n",
    "            self.s = NRS_Data.ss[new_d]\n",
    "        # мутация типа\n",
    "\n",
    "        # разбиение\n",
    "\n",
    "class GA_Element_InHose(Element):\n",
    "    '''\n",
    "    Класс элемента `Всасывающей рукавной линии` адаптированный для работы ГА.\n",
    "    '''\n",
    "    def __init__(self, name, e_type=1, q=0, s=0, H_in=0, h=0, H_add=0, z=0, p=1, n=1, l=4, ri=1, ro=1, q_out=...):\n",
    "        self.id = 'GA_Element_InHose'\n",
    "        super().__init__(name, e_type, q, s, H_in, h, H_add, z, p, n, l, ri, ro, q_out)\n",
    "\n",
    "    def mutate(self):\n",
    "        pass\n",
    "\n",
    "class GA_Element_Splitter(Element):\n",
    "    '''\n",
    "    Класс элемента `Разветвление` адаптированный для работы ГА.\n",
    "    '''\n",
    "    def __init__(self, name, e_type=1, q=0, s=0, H_in=0, h=0, H_add=0, z=0, p=1, n=1, l=0, ri=1, ro=3, q_out=...):\n",
    "        self.id = 'GA_Element_Splitter'\n",
    "        super().__init__(name, e_type, q, s, H_in, h, H_add, z, p, n, l, ri, ro, q_out)\n",
    "\n",
    "    def mutate(self):\n",
    "        # мутация количества выходов\n",
    "        change_val = random.choice([2,3,4,5])\n",
    "        # if change_val < self.ro:\n",
    "        #     print('Удаляется', self.name)\n",
    "        self.set_ro(change_val)\n",
    "\n",
    "class GA_Element_Joiner(Element):\n",
    "    '''\n",
    "    Класс элемента `Водосборник` адаптированный для работы ГА.\n",
    "    '''\n",
    "    def __init__(self, name, e_type=1, q=0, s=0, H_in=0, h=0, H_add=0, z=0, p=1, n=1, l=0, ri=2, ro=1, q_out=...):\n",
    "        self.id = 'GA_Element_Joiner'\n",
    "        super().__init__(name, e_type, q, s, H_in, h, H_add, z, p, n, l, ri, ro, q_out)\n",
    "\n",
    "    def mutate(self):\n",
    "        # мутация количества входов\n",
    "        change_val = random.choice([2,3,4,5])\n",
    "        self.set_ri(change_val)\n",
    "\n",
    "class GA_Element_Nozzle(Element):\n",
    "    '''\n",
    "    Класс элемента `Ствол` адаптированный для работы ГА.\n",
    "    '''\n",
    "    def __init__(self, name, e_type=1, n_type='Б', q=0, s=0, H_in=0, h=0, H_add=0, z=0, p=1, n=1, l=0, ri=1, ro=0, q_out=...):\n",
    "        '''\n",
    "        `n_type` - тип ствола. `Б` - ручной ствол Б, `А` - ручной ствол А, `Л` - лафетный переносной, `ЛА` - лафетный автомобильный.\n",
    "        '''\n",
    "        self.id = 'GA_Element_Nozzle'\n",
    "        self.n_type = n_type\n",
    "        super().__init__(name, e_type, q, s, H_in, h, H_add, z, p, n, l, ri, ro, q_out)\n",
    "\n",
    "    def mutate(self):\n",
    "        # mutation_case = random.choice([0,1])\n",
    "        # Мутация типа ствола\n",
    "        change_val = random.choice(['А','Б','Л'])\n",
    "        self.n_type = change_val\n",
    "        if change_val=='А':\n",
    "            self.p = NRS_Revision.calc_p(7.4, 40)\n",
    "        if change_val=='Б':\n",
    "            self.p = NRS_Revision.calc_p(3.7, 40)\n",
    "        if change_val=='Л':\n",
    "            self.p = NRS_Revision.calc_p(16, 40)\n",
    "\n",
    "\n",
    "# Правила соединения элементов\n",
    "# Классы которые могут быть присоединены после элемента\n",
    "allowed_append_classes = {\n",
    "        'GA_Element_Pump': (GA_Element_Hose),\n",
    "        'GA_Element_Hose': (GA_Element_Pump,GA_Element_Hose,GA_Element_Nozzle,GA_Element_Joiner,GA_Element_Splitter),\n",
    "        'GA_Element_InHose': (GA_Element_Pump),\n",
    "        'GA_Element_Splitter': (GA_Element_Hose), #,GA_Element_Splitter),\n",
    "        'GA_Element_Joiner': (GA_Element_Pump,GA_Element_Hose,GA_Element_Nozzle,GA_Element_Splitter),\n",
    "        'GA_Element_Nozzle': (),\n",
    "    }\n",
    "# Классы которые могут быть присоединены перед элементом\n",
    "allowed_prepend_classes = {\n",
    "        'GA_Element_Pump': (GA_Element_Hose,GA_Element_Joiner,GA_Element_InHose),\n",
    "        'GA_Element_Hose': (GA_Element_Pump,GA_Element_Hose,GA_Element_Joiner,GA_Element_Splitter),\n",
    "        'GA_Element_InHose': (),\n",
    "        'GA_Element_Splitter': (GA_Element_Hose,GA_Element_Joiner,GA_Element_Splitter),\n",
    "        'GA_Element_Joiner': (GA_Element_Hose),\n",
    "        'GA_Element_Nozzle': (GA_Element_Hose,GA_Element_Joiner),\n",
    "    }\n",
    "\n",
    "\n",
    "\n",
    "#=====================================Оценщик=====================================================================================================\n",
    "class Appraiser(NRS_Revision):\n",
    "    '''\n",
    "    Класс-оценщик состояния модели\n",
    "    '''\n",
    "    \n",
    "    @staticmethod\n",
    "    def print_GA_NRS_model_elements_state(model:GA_model):\n",
    "        for elmnt in model.elmnts:\n",
    "            if isinstance(elmnt, GA_Element_Pump):\n",
    "                print(f'Насос ({elmnt.name}); напор: {elmnt.H_add} м; производительность: {elmnt.q} л/с; напор макс.: {elmnt.H_max}')\n",
    "        print('')\n",
    "        for elmnt in model.elmnts:\n",
    "            if isinstance(elmnt, GA_Element_Hose):\n",
    "                print(f'Рукавная линия ({elmnt.name}), длина: {elmnt.get_L()} м; диаметр: {elmnt.d} мм; сопротивление {elmnt.s}; потеря напора: {elmnt.h} м')\n",
    "        print('')\n",
    "        for elmnt in model.elmnts:\n",
    "            if isinstance(elmnt, GA_Element_Nozzle):\n",
    "                print(f'Ствол ({elmnt.name}): \"{elmnt.n_type}\"; проводимость: {elmnt.p}; напор: {elmnt.H_in}, м; расход: {elmnt.q}, л/с')\n",
    "\n",
    "    @staticmethod\n",
    "    def get_G(model:GA_model):\n",
    "        G = nx.DiGraph()\n",
    "\n",
    "        # Узлы - на каждый элемент\n",
    "        for elmnt in model.elmnts:\n",
    "            G.add_node(elmnt.name, q=elmnt.q)\n",
    "        # Ребра - на каждую связь\n",
    "        for elmnt in model.elmnts:\n",
    "            for elmnt_next in elmnt.elements_next:\n",
    "                G.add_edge(elmnt.name, elmnt_next.name, L=elmnt.get_L())\n",
    "        \n",
    "        return G\n",
    "    \n",
    "    @staticmethod\n",
    "    def get_Ls(G, model:GA_model):\n",
    "        ''' \n",
    "        Расчет расстояний до элементов\n",
    "\n",
    "        # Возвращает\n",
    "\n",
    "        `p`: dict, `min_L`:float, `max_L`:float\n",
    "            `p` - Словарь словарей, где ключ1 - имя насоса, ключ2 - имя ствола, значение - расстояние до него в метрах.\n",
    "            `min_L` - Минимальное расстояние из имеющихся, м.\n",
    "            `max_L` - Максимальное расстояние из имеющихся, м.\n",
    "        '''\n",
    "        max_L=0\n",
    "        min_L=100000\n",
    "        nozzles_names = [n.name for n in model.elmnts_out if n.type==2]\n",
    "        p={}\n",
    "        for e_pump in model.elmnts_in:\n",
    "            paths = nx.shortest_path_length(G, source = e_pump.name, weight='L')\n",
    "            dists = {k:v for k,v in paths.items() if k in nozzles_names}  \n",
    "            p[e_pump.name] = dists\n",
    "            cur_max_L = max(dists.values())\n",
    "            cur_min_L = min(dists.values())\n",
    "            if cur_max_L>max_L: max_L=cur_max_L\n",
    "            if cur_min_L<min_L: min_L=cur_min_L\n",
    "        return p, min_L, max_L\n",
    "    \n",
    "    @staticmethod\n",
    "    def metrics(model:GA_model):\n",
    "        '''\n",
    "        Оценка модели\n",
    "        '''\n",
    "        m={'hoses':0,'nozzles':0}\n",
    "        # Расчет длинн рукавных линий\n",
    "        G = Appraiser.get_G(model)\n",
    "        m['distances'], m['min_L'], m['max_L'] = Appraiser.get_Ls(G, model)        \n",
    "\n",
    "        # Количество рукавов\n",
    "        for elmnt in model.elmnts:\n",
    "            if isinstance(elmnt, GA_Element_Hose):\n",
    "                m['hoses']+=elmnt.n\n",
    "                try:\n",
    "                    m[elmnt.d]+=elmnt.n\n",
    "                except:\n",
    "                    m[elmnt.d]=elmnt.n\n",
    "            if isinstance(elmnt, GA_Element_Nozzle):\n",
    "                m['nozzles']+=elmnt.n\n",
    "                try:\n",
    "                    m[elmnt.n_type]+=1\n",
    "                except:\n",
    "                    m[elmnt.n_type]=1\n",
    "        \n",
    "        # Общий расход\n",
    "        m['Q'] = model.summaryQ()\n",
    "\n",
    "        return m\n",
    "    \n",
    "    @staticmethod\n",
    "    def print_metrics(model:GA_model):\n",
    "        for k, v in Appraiser.metrics(model).items():\n",
    "            print(k,v, sep='\\t')\n",
    "\n",
    "    @staticmethod\n",
    "    def evaluate(metrics: dict, aims: dict):\n",
    "        '''\n",
    "        Оценка модели\n",
    "\n",
    "        `metrics`: dict\n",
    "            Словарь метрик модели\n",
    "        `aims`: dict\n",
    "            Словарь целей оптимизации\n",
    "        ''' \n",
    "        X = []\n",
    "        Y = []\n",
    "        for aim, aim_val in aims.items():\n",
    "            if aim in metrics.keys():\n",
    "                metric_val = metrics[aim]\n",
    "                max_val = max(aim_val, metric_val)\n",
    "                X.append(metric_val/max_val)\n",
    "                Y.append(aim_val/max_val)\n",
    "\n",
    "        # Собственно оценка!\n",
    "        z=[]\n",
    "        for x,y in zip(X,Y):\n",
    "            z.append(abs(y-x))\n",
    "\n",
    "        return np.mean(z)\n",
    "\n",
    "\n",
    "\n",
    "\n",
    "\n",
    "#======================================================Дополнительные инструменты=================================================================\n",
    "def pop_random_element_by_class(lst, element_class=None, lst_left=False):\n",
    "    '''\n",
    "    Извлечение из списка элемента по классу\n",
    "\n",
    "    `lst`\n",
    "        Список элементов\n",
    "\n",
    "    `element_class`\n",
    "        Класс(ы) элементов\n",
    "\n",
    "    `lst_left`\n",
    "        Если True, то список сохраняется, иначе элемент будет удален.\n",
    "    '''\n",
    "    elmnt = None\n",
    "    if element_class is None:\n",
    "        elmnt = random.choice(lst)\n",
    "    else:\n",
    "        if element_class_test(lst, element_class):\n",
    "            while not isinstance(elmnt, element_class):\n",
    "                elmnt = random.choice(lst)\n",
    "        else:\n",
    "            return None\n",
    "        \n",
    "    if lst_left:\n",
    "        return copy.deepcopy(elmnt)\n",
    "    else:\n",
    "        idx = lst.index(elmnt)\n",
    "        return copy.deepcopy(lst.pop(idx))\n",
    "    \n",
    "def element_class_test(lst, element_class):\n",
    "    for elmnt in lst:\n",
    "        if isinstance(elmnt, element_class):\n",
    "            return True\n",
    "    return False\n",
    "\n",
    "def drop_elements_links(lst):\n",
    "    for elmnt in lst:\n",
    "        elmnt.drop_links()\n",
    "\n",
    "\n",
    "#==============================================Рекурсии=========================================================================\n",
    "# Рекурсивное построение дерева\n",
    "def append_new_element(elmnt, elmnts_examples, add_elmnts_p=0.5, lst_left=True):\n",
    "    '''\n",
    "    Рекурсивное построение дерева НРС\n",
    "    '''\n",
    "    global depth\n",
    "    if depth<=0:\n",
    "        print('Достигнут предел рекурсии')\n",
    "        return\n",
    "    depth-=1\n",
    "\n",
    "    # print(len(elements_sack))\n",
    "\n",
    "    # ограничение списка приемлемых классов\n",
    "    allowed_element_classes = allowed_append_classes[elmnt.id]\n",
    "    # print(elmnt.id, 'Можно:')\n",
    "    # print(allowed_element_classes)\n",
    "\n",
    "    if elmnt.ro>0:\n",
    "        # random_elmnt = copy.deepcopy(pop_random_element_by_class(elmnts_examples, element_class=allowed_element_classes, lst_left=lst_left))\n",
    "        # print(len(elmnts_examples))\n",
    "        random_elmnt = pop_random_element_by_class(elmnts_examples, element_class=allowed_element_classes, lst_left=lst_left)\n",
    "        if random_elmnt is None: return\n",
    "        # print(len(elmnts_examples))\n",
    "        if elmnt.append(random_elmnt):\n",
    "            append_new_element(random_elmnt, elmnts_examples, lst_left=lst_left)\n",
    "\n",
    "    for _ in range(elmnt.ro-1):\n",
    "        logger.debug(f'Элемент {type(elmnt)}, выходов {elmnt.ro}')\n",
    "        rnd = random.random()\n",
    "        if rnd<=add_elmnts_p:\n",
    "            # random_elmnt = copy.deepcopy(pop_random_element_by_class(elmnts_examples, element_class=allowed_element_classes, lst_left=lst_left))\n",
    "            # print(len(elmnts_examples))\n",
    "            random_elmnt = pop_random_element_by_class(elmnts_examples, element_class=allowed_element_classes, lst_left=lst_left)\n",
    "            if random_elmnt is None: return\n",
    "            # print(len(elmnts_examples))\n",
    "            if elmnt.append(random_elmnt):\n",
    "                append_new_element(random_elmnt, elmnts_examples, lst_left=lst_left)\n",
    "\n",
    "\n",
    "def fire_dead_elements_try(model:NRS_Model, elmnt: Element):\n",
    "    '''\n",
    "    Рекурсивная попытка удалить мертвые элементы из модели\n",
    "    '''\n",
    "    print(elmnt.name)\n",
    "    if elmnt.type==0 and len(elmnt.elements_next)==0:\n",
    "        elmnt.drop_links(linked_elements=True, current_element=False)\n",
    "        for ep in elmnt.elements_previous:\n",
    "            model = fire_dead_elements_try(model, ep)\n",
    "        model.delElement(elmnt)\n",
    "    elif elmnt.type==1 and (len(elmnt.elements_next)==0 or len(elmnt.elements_previous)==0):\n",
    "        elmnt.drop_links(linked_elements=True, current_element=False)\n",
    "        for en in elmnt.elements_next:\n",
    "            model = fire_dead_elements_try(model, en)\n",
    "        for ep in elmnt.elements_previous:\n",
    "            model = fire_dead_elements_try(model, ep)\n",
    "        model.delElement(elmnt)\n",
    "    elif elmnt.type==2 and len(elmnt.elements_previous)==0:\n",
    "        elmnt.drop_links(linked_elements=True, current_element=False)\n",
    "        for en in elmnt.elements_next:\n",
    "            model = fire_dead_elements_try(model, en)\n",
    "        model.delElement(elmnt)\n",
    "    return model"
   ]
  },
  {
   "cell_type": "markdown",
   "metadata": {},
   "source": [
    "# Пресеты"
   ]
  },
  {
   "cell_type": "code",
   "execution_count": 3,
   "metadata": {},
   "outputs": [
    {
     "name": "stdout",
     "output_type": "stream",
     "text": [
      "Новая модель: Простая НРС с одной РРЛ и одним стволом\n",
      "Расстояние до Н0 40 м\n"
     ]
    },
    {
     "data": {
      "image/png": "[encoded data removed]",
      "text/plain": [
       "<Figure size 640x480 with 1 Axes>"
      ]
     },
     "metadata": {},
     "output_type": "display_data"
    },
    {
     "data": {
      "text/plain": [
       "<networkx.classes.digraph.DiGraph at 0x2a1a10cda90>"
      ]
     },
     "execution_count": 3,
     "metadata": {},
     "output_type": "execute_result"
    }
   ],
   "source": [
    "class Presets():\n",
    "\n",
    "    @staticmethod\n",
    "    def single_line():\n",
    "        '''\n",
    "        Простая НРС с одной РРЛ и одним стволом\n",
    "\n",
    "            |=|>-------------|->\n",
    "        '''\n",
    "        p_nozzleB = NRS_Revision.calc_p(3.7, 40)\n",
    "\n",
    "        pump = GA_Element_Pump('', e_type=1, H_add=40)\n",
    "        hose = GA_Element_Hose('', e_type=1, s=NRS_Data.ss[\"51\"], n=2)\n",
    "        nozzle = GA_Element_Nozzle('', e_type=2, n_type='Б', p=p_nozzleB, q_out = q_out_nozzle)\n",
    "\n",
    "        pump.append(hose).append(nozzle)\n",
    "\n",
    "        model = GA_model('Простая НРС с одной РРЛ и одним стволом')\n",
    "        model.addElements([pump,hose,nozzle])\n",
    "        return model.check_pumps().interpretate()\n",
    "    \n",
    "    @staticmethod\n",
    "    def single_splitter(nozzles_count=2):\n",
    "        '''\n",
    "        Сложная НРС с одним разветвлением и nozzles_count рабочих линий\n",
    "\n",
    "                             ------|->\n",
    "            |=|>------{------|->\n",
    "                             ------|->\n",
    "            \n",
    "        '''\n",
    "        if not nozzles_count in [1,2,3]:\n",
    "            raise ValueError(\"Количество стволов не может быть меньше 1 и больше 3!\")\n",
    "\n",
    "        p_nozzleB = NRS_Revision.calc_p(3.7, 40)\n",
    "\n",
    "        model = GA_model('Сложная НРС с одним разветвлением и nozzles_count рабочих линий')\n",
    "\n",
    "        pump = GA_Element_Pump('', e_type=1, H_add=40)\n",
    "        hoseM = GA_Element_Hose('', e_type=1, d='77', s=NRS_Data.ss[\"77\"], n=2)\n",
    "        spliiter = GA_Element_Splitter('', e_type=1, ri=1, ro=3)\n",
    "        pump.append(hoseM).append(spliiter)\n",
    "\n",
    "        model.addElements([pump,hoseM,spliiter])\n",
    "\n",
    "        for _ in range(nozzles_count):\n",
    "            hoseW = GA_Element_Hose('', e_type=1, d='51', s=NRS_Data.ss[\"51\"], n=2)\n",
    "            nozzle = GA_Element_Nozzle('', e_type=2, n_type='Б', p=p_nozzleB, q_out = q_out_nozzle)\n",
    "            spliiter.append(hoseW).append(nozzle)\n",
    "            model.addElements([hoseW,nozzle])\n",
    "\n",
    "        return model.check_pumps().interpretate()\n",
    "    \n",
    "    @staticmethod\n",
    "    def two_splitter(nozzles_count1=2, nozzles_count2=2):\n",
    "        '''\n",
    "        Сложная НРС с двумя разветвлениями и nozzles_count рабочих линий первого и второго порядка\n",
    "\n",
    "                             ------|->          ------|->\n",
    "            |=|>------{------------------{------|->\n",
    "                             ------|->          ------|->\n",
    "            \n",
    "        '''\n",
    "        if not nozzles_count1 in [1,2]:\n",
    "            raise ValueError(\"Количество стволов не может быть меньше 1 и больше 2!\")\n",
    "        if not nozzles_count2 in [1,2,3]:\n",
    "            raise ValueError(\"Количество стволов не может быть меньше 1 и больше 3!\")\n",
    "\n",
    "        p_nozzleB = NRS_Revision.calc_p(3.7, 40)\n",
    "\n",
    "        model = GA_model('Сложная НРС с двумя разветвлениями и nozzles_count рабочих линий первого и второго порядка')\n",
    "\n",
    "        pump = GA_Element_Pump('', e_type=1, H_add=40)\n",
    "        hoseM1 = GA_Element_Hose('', e_type=1, d='77', s=NRS_Data.ss[\"77\"], n=2)\n",
    "        spliiter1 = GA_Element_Splitter('', e_type=1, ri=1, ro=3)\n",
    "        hoseM2 = GA_Element_Hose('', e_type=1, d='77', s=NRS_Data.ss[\"77\"], n=2)\n",
    "        spliiter2 = GA_Element_Splitter('', e_type=1, ri=1, ro=3)\n",
    "        pump.append(hoseM1).append(spliiter1).append(hoseM2).append(spliiter2)\n",
    "\n",
    "        model.addElements([pump,hoseM1,spliiter1,hoseM2,spliiter2])\n",
    "\n",
    "        for _ in range(nozzles_count1):\n",
    "            hoseW = GA_Element_Hose('', e_type=1, d='51', s=NRS_Data.ss[\"51\"], n=2)\n",
    "            nozzle = GA_Element_Nozzle('', e_type=2, n_type='Б', p=p_nozzleB, q_out = q_out_nozzle)\n",
    "            spliiter1.append(hoseW).append(nozzle)\n",
    "            model.addElements([hoseW,nozzle])\n",
    "        for _ in range(nozzles_count2):\n",
    "            hoseW = GA_Element_Hose('', e_type=1, d='51', s=NRS_Data.ss[\"51\"], n=2)\n",
    "            nozzle = GA_Element_Nozzle('', e_type=2, n_type='Б', p=p_nozzleB, q_out = q_out_nozzle)\n",
    "            spliiter2.append(hoseW).append(nozzle)\n",
    "            model.addElements([hoseW,nozzle])\n",
    "        \n",
    "        return model.check_pumps().interpretate()\n",
    "\n",
    "    @staticmethod\n",
    "    def single_joiner(nozzle_q=20, nozzle_workpress=60):\n",
    "        '''\n",
    "        Сложная НРС с одним водосборником и лафетным стволом\n",
    "\n",
    "            |=|>------\n",
    "                             }------|-,->\n",
    "            |=|>------\n",
    "            \n",
    "        '''\n",
    "\n",
    "        p_nozzleL = NRS_Revision.calc_p(nozzle_q, nozzle_workpress)\n",
    "\n",
    "        model = GA_model('Сложная НРС с одним водосборником и лафетным стволом')\n",
    "\n",
    "        pump1 = GA_Element_Pump('', e_type=1, H_add=80)\n",
    "        hoseM1 = GA_Element_Hose('', e_type=1, d='77', s=NRS_Data.ss[\"77\"], n=2)\n",
    "        pump2 = GA_Element_Pump('', e_type=1, H_add=80)\n",
    "        hoseM2 = GA_Element_Hose('', e_type=1, d='77', s=NRS_Data.ss[\"77\"], n=2)\n",
    "        joiner = GA_Element_Joiner('', e_type=1, ri=2, ro=1)\n",
    "        hoseW1 = GA_Element_Hose('', e_type=1, d='77', s=NRS_Data.ss[\"77\"], n=2)\n",
    "        nozzle = GA_Element_Nozzle('', e_type=2, n_type='Л', p=p_nozzleL, q_out = q_out_nozzle)\n",
    "\n",
    "        pump1.append(hoseM1).append(joiner)\n",
    "        pump2.append(hoseM2).append(joiner)\n",
    "        joiner.append(hoseW1).append(nozzle)\n",
    "\n",
    "        model.addElements([pump1,hoseM1,pump2,hoseM2,joiner,hoseW1,nozzle])\n",
    "\n",
    "        return model.check_pumps().interpretate()\n",
    "    \n",
    "    @staticmethod\n",
    "    def n_components(n=2):\n",
    "        '''\n",
    "        Простая НРС из n компонентов в виде простых НРС\n",
    "\n",
    "            n * |=|>-------------|->\n",
    "            \n",
    "        '''\n",
    "        model = GA_model(f'Простая НРС из {n} компонентов в виде простых НРС')\n",
    "\n",
    "        for _ in range(n):\n",
    "            for e in Presets.single_line().elmnts:\n",
    "                e.name=''\n",
    "                model.addElements([e])\n",
    "\n",
    "        return model.check_pumps().interpretate()\n",
    "\n",
    "\n",
    "model = Presets.single_line()\n",
    "print_NRS_graph(model)"
   ]
  },
  {
   "cell_type": "code",
   "execution_count": 4,
   "metadata": {},
   "outputs": [
    {
     "name": "stdout",
     "output_type": "stream",
     "text": [
      "Новая модель: Сложная НРС с одним разветвлением и nozzles_count рабочих линий\n",
      "Расстояние до Н0 80 м\n"
     ]
    },
    {
     "data": {
      "image/png": "[encoded data removed]",
      "text/plain": [
       "<Figure size 640x480 with 1 Axes>"
      ]
     },
     "metadata": {},
     "output_type": "display_data"
    },
    {
     "data": {
      "text/plain": [
       "<networkx.classes.digraph.DiGraph at 0x2a1a0f14e30>"
      ]
     },
     "execution_count": 4,
     "metadata": {},
     "output_type": "execute_result"
    }
   ],
   "source": [
    "model = Presets.single_splitter(3)\n",
    "print_NRS_graph(model)"
   ]
  },
  {
   "cell_type": "code",
   "execution_count": 5,
   "metadata": {},
   "outputs": [
    {
     "name": "stdout",
     "output_type": "stream",
     "text": [
      "Новая модель: Сложная НРС с двумя разветвлениями и nozzles_count рабочих линий первого и второго порядка\n",
      "Расстояние до Н0 120 м\n"
     ]
    },
    {
     "data": {
      "image/png": "[encoded data removed]",
      "text/plain": [
       "<Figure size 640x480 with 1 Axes>"
      ]
     },
     "metadata": {},
     "output_type": "display_data"
    },
    {
     "data": {
      "text/plain": [
       "<networkx.classes.digraph.DiGraph at 0x2a1a0fa22a0>"
      ]
     },
     "execution_count": 5,
     "metadata": {},
     "output_type": "execute_result"
    }
   ],
   "source": [
    "model = Presets.two_splitter(nozzles_count1=1, nozzles_count2=3)\n",
    "print_NRS_graph(model)"
   ]
  },
  {
   "cell_type": "code",
   "execution_count": 6,
   "metadata": {},
   "outputs": [
    {
     "name": "stdout",
     "output_type": "stream",
     "text": [
      "Новая модель: Сложная НРС с одним водосборником и лафетным стволом\n",
      "Расстояние до Н0 80 м\n",
      "Расстояние до Н2 80 м\n"
     ]
    },
    {
     "data": {
      "image/png": "[encoded data removed]",
      "text/plain": [
       "<Figure size 640x480 with 1 Axes>"
      ]
     },
     "metadata": {},
     "output_type": "display_data"
    },
    {
     "data": {
      "text/plain": [
       "<networkx.classes.digraph.DiGraph at 0x2a1a0fbdac0>"
      ]
     },
     "execution_count": 6,
     "metadata": {},
     "output_type": "execute_result"
    }
   ],
   "source": [
    "model = Presets.single_joiner(30)\n",
    "print_NRS_graph(model)"
   ]
  },
  {
   "cell_type": "code",
   "execution_count": 7,
   "metadata": {},
   "outputs": [
    {
     "name": "stdout",
     "output_type": "stream",
     "text": [
      "Новая модель: Простая НРС из 3 компонентов в виде простых НРС\n",
      "Новая модель: Простая НРС с одной РРЛ и одним стволом\n",
      "Новая модель: Простая НРС с одной РРЛ и одним стволом\n",
      "Новая модель: Простая НРС с одной РРЛ и одним стволом\n",
      "Расстояние до Н0 40 м\n",
      "Расстояние до Н3 40 м\n",
      "Расстояние до Н6 40 м\n"
     ]
    },
    {
     "data": {
      "image/png": "[encoded data removed]",
      "text/plain": [
       "<Figure size 640x480 with 1 Axes>"
      ]
     },
     "metadata": {},
     "output_type": "display_data"
    },
    {
     "data": {
      "text/plain": [
       "<networkx.classes.digraph.DiGraph at 0x2a1a14aec90>"
      ]
     },
     "execution_count": 7,
     "metadata": {},
     "output_type": "execute_result"
    }
   ],
   "source": [
    "model = Presets.n_components(3)\n",
    "print_NRS_graph(model)"
   ]
  },
  {
   "cell_type": "code",
   "execution_count": 8,
   "metadata": {},
   "outputs": [
    {
     "name": "stdout",
     "output_type": "stream",
     "text": [
      "Общий расход системы: 10.640572147070957 л/с\n",
      "\n",
      "all:\n",
      "  Н0\n",
      "  НРЛ1\n",
      "  С2\n",
      "  Н3\n",
      "  НРЛ4\n",
      "  С5\n",
      "  Н6\n",
      "  НРЛ7\n",
      "  С8\n",
      "in:\n",
      "  Н0\n",
      "  Н3\n",
      "  Н6\n",
      "out:\n",
      "  С2\n",
      "  С5\n",
      "  С8\n",
      "Насос (Н0); напор: 40 м; производительность: 3.5468573823569858 л/с; напор макс.: 100\n",
      "Насос (Н3); напор: 40 м; производительность: 3.5468573823569858 л/с; напор макс.: 100\n",
      "Насос (Н6); напор: 40 м; производительность: 3.5468573823569858 л/с; напор макс.: 100\n",
      "\n",
      "Рукавная линия (НРЛ1), длина: 40 м; диаметр: 51 мм; сопротивление 0.13; потеря напора: 3.2426667909999995 м\n",
      "Рукавная линия (НРЛ4), длина: 40 м; диаметр: 51 мм; сопротивление 0.13; потеря напора: 3.2426667909999995 м\n",
      "Рукавная линия (НРЛ7), длина: 40 м; диаметр: 51 мм; сопротивление 0.13; потеря напора: 3.2426667909999995 м\n",
      "\n",
      "Ствол (С2): \"Б\"; проводимость: 0.5850213671311502; напор: 36.757333209, м; расход: 3.5468573823569858, л/с\n",
      "Ствол (С5): \"Б\"; проводимость: 0.5850213671311502; напор: 36.757333209, м; расход: 3.5468573823569858, л/с\n",
      "Ствол (С8): \"Б\"; проводимость: 0.5850213671311502; напор: 36.757333209, м; расход: 3.5468573823569858, л/с\n"
     ]
    }
   ],
   "source": [
    "# Расчет\n",
    "try:\n",
    "    model.calc(accuracy=0.05)\n",
    "except Exception as e:\n",
    "    print(e.args[0])\n",
    "print(f'Общий расход системы: {model.summaryQ()} л/с', end='\\n\\n')\n",
    "\n",
    "# Состав\n",
    "NRS_Revision.print_model_elements(model)\n",
    "Appraiser.print_GA_NRS_model_elements_state(model)"
   ]
  },
  {
   "cell_type": "markdown",
   "metadata": {},
   "source": [
    "# Тесты"
   ]
  },
  {
   "cell_type": "code",
   "execution_count": 9,
   "metadata": {},
   "outputs": [],
   "source": [
    "# p_nozzleB = NRS_Revision.calc_p(3.7, 40)\n",
    "# p_nozzleA = NRS_Revision.calc_p(7.4, 40)\n",
    "# p_nozzleL = NRS_Revision.calc_p(16, 40)\n",
    "# p_nozzleB, p_nozzleA, p_nozzleL"
   ]
  },
  {
   "cell_type": "markdown",
   "metadata": {},
   "source": [
    "# Мутации"
   ]
  },
  {
   "cell_type": "markdown",
   "metadata": {},
   "source": [
    "## Тест макромутаций\n",
    "\n",
    "Макромутации - мутации в структуре модели. Добавление, изменение и удаление элементов модели."
   ]
  },
  {
   "cell_type": "markdown",
   "metadata": {},
   "source": [
    "## Тест корректного удаления элементов"
   ]
  },
  {
   "cell_type": "code",
   "execution_count": 10,
   "metadata": {},
   "outputs": [
    {
     "name": "stdout",
     "output_type": "stream",
     "text": [
      "Новая модель: Сложная НРС с одним разветвлением и nozzles_count рабочих линий\n",
      "Расстояние до Н0 80 м\n"
     ]
    },
    {
     "data": {
      "image/png": "[encoded data removed]",
      "text/plain": [
       "<Figure size 640x480 with 1 Axes>"
      ]
     },
     "metadata": {},
     "output_type": "display_data"
    },
    {
     "data": {
      "text/plain": [
       "<networkx.classes.digraph.DiGraph at 0x2a1a1455a90>"
      ]
     },
     "execution_count": 10,
     "metadata": {},
     "output_type": "execute_result"
    }
   ],
   "source": [
    "model = Presets.single_splitter(3)\n",
    "print_NRS_graph(model)"
   ]
  },
  {
   "cell_type": "code",
   "execution_count": 11,
   "metadata": {},
   "outputs": [
    {
     "name": "stdout",
     "output_type": "stream",
     "text": [
      "Новая модель: Сложная НРС с одним разветвлением и nozzles_count рабочих линий\n",
      "Расстояние до Н0 80 м\n"
     ]
    },
    {
     "data": {
      "image/png": "[encoded data removed]",
      "text/plain": [
       "<Figure size 640x480 with 1 Axes>"
      ]
     },
     "metadata": {},
     "output_type": "display_data"
    },
    {
     "data": {
      "text/plain": [
       "<networkx.classes.digraph.DiGraph at 0x2a1a12f3b60>"
      ]
     },
     "execution_count": 11,
     "metadata": {},
     "output_type": "execute_result"
    }
   ],
   "source": [
    "model = Presets.single_splitter(3)\n",
    "model.getElement('Р2').set_ro(2)\n",
    "for e in model.elmnts:\n",
    "    model.fire_dead_elements_try(e)\n",
    "print_NRS_graph(model)"
   ]
  },
  {
   "cell_type": "markdown",
   "metadata": {},
   "source": [
    "### Проверка обучения\n",
    "\n",
    "С удалением ветвей"
   ]
  },
  {
   "cell_type": "code",
   "execution_count": 59,
   "metadata": {},
   "outputs": [
    {
     "name": "stdout",
     "output_type": "stream",
     "text": [
      "Новая модель: Сложная НРС с одним разветвлением и nozzles_count рабочих линий\n"
     ]
    }
   ],
   "source": [
    "model = Presets.single_splitter(3)"
   ]
  },
  {
   "cell_type": "code",
   "execution_count": 60,
   "metadata": {},
   "outputs": [
    {
     "name": "stdout",
     "output_type": "stream",
     "text": [
      "1\t0.7155945473060672\t10.314327161635969\n",
      "2\t0.6920002722331479\t10.229983666011126\n",
      "3\t0.592106675056075\t10.105199622476627\n",
      "4\t0.4787537927323835\t9.20607932704274\n",
      "5\t0.4613825571650838\t9.987784927571226\n",
      "7\t0.44937667295537076\t10.528049717008315\n",
      "8\t0.4187880356015621\t10.404538397929707\n",
      "14\t0.3624541480319601\t9.939563338561799\n",
      "16\t0.31924445130499923\t11.883999691275035\n",
      "38\t0.2962337026268653\t12.91948338179106\n",
      "53\t0.29041940329749744\t13.181126851612616\n",
      "62\t0.2773947113088758\t13.767237991100592\n",
      "77\t0.2541133822193237\t13.314897800130433\n",
      "85\t0.24203144403446744\t13.858585018448965\n",
      "87\t0.21422820256664177\t14.359730884501122\n",
      "101\t0.20648944169645522\t15.297822991151305\n",
      "111\t0.20284020393605326\t15.128907548300607\n",
      "127\t0.19053954248727845\t14.67572058807247\n",
      "170\t0.18678649800946798\t15.15701904831947\n",
      "202\t0.18549868627059374\t15.098078002650075\n",
      "259\t0.1680770569631338\t12.686532436658979\n",
      "274\t0.16742498910494094\t12.715875490277657\n",
      "275\t0.1587283457299026\t13.107224442154383\n",
      "278\t0.15028394040336182\t13.487222681848717\n",
      "293\t0.14027152032488469\t13.937781585380188\n",
      "303\t0.13222528482908505\t14.299862182691172\n",
      "333\t0.1313569897297124\t14.303221176448657\n",
      "349\t0.1151692826572609\t14.31738228042326\n",
      "402\t0.10731219705573443\t14.67095113249195\n",
      "480\t0.10035954993813108\t15.016197218342457\n",
      "558\t0.10004066404387213\t14.998170118025755\n",
      "614\t0.09369550951438155\t14.533702071852831\n",
      "642\t0.08643682438717881\t14.860342902576953\n",
      "645\t0.08531381821704753\t14.410878180232862\n",
      "648\t0.06812115840938844\t14.048184235213885\n",
      "653\t0.06140680162228588\t14.3503302906335\n",
      "687\t0.05998881727287312\t14.414139586357074\n",
      "694\t0.04405627305259004\t14.517467712633447\n",
      "705\t0.03929857188970224\t14.695849979249115\n",
      "736\t0.039098272855605486\t14.70486343578347\n",
      "745\t0.03271932784589959\t15.008088397907922\n",
      "768\t0.017587467847032356\t15.04155083328546\n",
      "969\t0.016574285281027296\t15.031623653462741\n",
      "1568\t0.0006415148844726529\t15.0289238350133\n",
      "Итог:\t0.0006415148844726529\t15.0289238350133\n"
     ]
    }
   ],
   "source": [
    "aims = {'Q':15, '38дв':0, '51нп':0, '89':0,'110': 0, '150': 0, '200': 0, '225': 0, '250': 0, '300': 0, 'min_L': 400, 'max_L': 400}\n",
    "\n",
    "curQ = Appraiser.evaluate(Appraiser.metrics(model), aims)\n",
    "for i in range(2000):\n",
    "    print(f'{i}\\t', end='\\r')\n",
    "    model_back = copy.deepcopy(model)\n",
    "    to_print = i%100==0\n",
    "    try:\n",
    "        model.mutate(mutation_count=2)\n",
    "        for elmnt in model.elmnts:\n",
    "            model.fire_dead_elements_try(elmnt)\n",
    "        model.drop_q()\n",
    "        kwargs = model.calc(accuracy=0.5)\n",
    "        newQ = Appraiser.evaluate(Appraiser.metrics(model), aims)\n",
    "        if newQ>curQ:\n",
    "            model = model_back\n",
    "        if newQ<curQ:\n",
    "        # if to_print:\n",
    "            curQ=newQ\n",
    "            print(i, newQ, model.summaryQ(), sep='\\t')\n",
    "    except:\n",
    "        # print(i, 'Модель не жизнеспособна')\n",
    "        model = model_back\n",
    "\n",
    "print('Итог:', curQ, model.summaryQ(), sep='\\t')"
   ]
  },
  {
   "cell_type": "code",
   "execution_count": 61,
   "metadata": {},
   "outputs": [
    {
     "name": "stdout",
     "output_type": "stream",
     "text": [
      "Насос (Н0); напор: 125 м; производительность: 15.028923835013302 л/с; напор макс.: 100\n",
      "\n",
      "Рукавная линия (НРЛ1), длина: 280 м; диаметр: 77 мм; сопротивление 0.015; потеря напора: 44.87742651011741 м\n",
      "Рукавная линия (НРЛ3), длина: 120 м; диаметр: 66нп мм; сопротивление 0.077; потеря напора: 10.349820446379507 м\n",
      "Рукавная линия (НРЛ5), длина: 120 м; диаметр: 66 мм; сопротивление 0.034; потеря напора: 4.983831994642598 м\n",
      "Рукавная линия (НРЛ7), длина: 120 м; диаметр: 66 мм; сопротивление 0.034; потеря напора: 4.983831994642598 м\n",
      "\n",
      "Ствол (С4): \"Б\"; проводимость: 0.5850213671311502; напор: 69.77275304350309, м; расход: 4.886688523851191, л/с\n",
      "Ствол (С6): \"Б\"; проводимость: 0.5850213671311502; напор: 75.13874149524, м; расход: 5.071117655581054, л/с\n",
      "Ствол (С8): \"Б\"; проводимость: 0.5850213671311502; напор: 75.13874149524, м; расход: 5.071117655581054, л/с\n",
      "================================================================================\n",
      "hoses\t32\n",
      "nozzles\t3\n",
      "distances\t{'Н0': {'С4': 400, 'С6': 400, 'С8': 400}}\n",
      "min_L\t400\n",
      "max_L\t400\n",
      "77\t14\n",
      "66нп\t6\n",
      "Б\t3\n",
      "66\t12\n",
      "Q\t15.0289238350133\n",
      "Расстояние до Н0 400 м\n"
     ]
    },
    {
     "data": {
      "image/png": "[encoded data removed]",
      "text/plain": [
       "<Figure size 640x480 with 1 Axes>"
      ]
     },
     "metadata": {},
     "output_type": "display_data"
    },
    {
     "data": {
      "text/plain": [
       "<networkx.classes.digraph.DiGraph at 0x2a1a0bc0170>"
      ]
     },
     "execution_count": 61,
     "metadata": {},
     "output_type": "execute_result"
    }
   ],
   "source": [
    "Appraiser.print_GA_NRS_model_elements_state(model)\n",
    "print('='*80)\n",
    "Appraiser.print_metrics(model)\n",
    "print_NRS_graph(model)"
   ]
  }
 ],
 "metadata": {
  "kernelspec": {
   "display_name": "ox",
   "language": "python",
   "name": "python3"
  },
  "language_info": {
   "codemirror_mode": {
    "name": "ipython",
    "version": 3
   },
   "file_extension": ".py",
   "mimetype": "text/x-python",
   "name": "python",
   "nbconvert_exporter": "python",
   "pygments_lexer": "ipython3",
   "version": "3.12.0"
  }
 },
 "nbformat": 4,
 "nbformat_minor": 2
}
