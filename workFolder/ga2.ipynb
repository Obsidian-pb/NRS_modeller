{
 "cells": [
  {
   "cell_type": "markdown",
   "metadata": {},
   "source": [
    "# Тесты с генетическим алгоритмом"
   ]
  },
  {
   "cell_type": "markdown",
   "metadata": {},
   "source": [
    "Требуется подобрать такие параметры НРС, чтобы при заданных условиях (например, при требуемом расходе воды и подаче на требуемое расстояние), состав сил и средств был минимальный.\n",
    "\n",
    "Критерии оптимизации (пример для расхода и расстояния):\n",
    "\n",
    "\n",
    "$$\n",
    "|\\sum_{i=1}^{n}{Q_i}-Q_{треб.}|\\longrightarrow min\n",
    "$$\n",
    "\n",
    "$$\n",
    "|L_{НРС}-L_{треб.}|\\longrightarrow min\n",
    "$$\n",
    "\n"
   ]
  },
  {
   "cell_type": "markdown",
   "metadata": {},
   "source": [
    "Мутации добавления отдельных элементов невозможны, поэтому нужно делать мутации блоками:\n",
    "\n",
    "* ствол с рукавной линией\n",
    "* магистральная рукавная линия\n",
    "\n",
    "Нет, не так!\n",
    "\n",
    "Типы мутаций:\n",
    "\n",
    "* Разбить составной элемент, вставив другой элемент,\n",
    "* Удалить элемент\n",
    "* Изменить параметры элемента (количество рукавов, тип рукавов)\n",
    "* Добавить рабочую рукавную линию\n",
    "\n",
    "Основные категории элементов НРС:\n",
    "\n",
    "* Насос ПА (Pump)\n",
    "* напорная рукавная линия (Hose)\n",
    "* всасывающая рукавная линия (InHose)\n",
    "* разветвление (Splitter)\n",
    "* водосборник (Joiner)\n",
    "* ствол (Nozzle)\n",
    "\n",
    "\n",
    "Также нужно добавить элемент который будет очищать мусор в модели."
   ]
  },
  {
   "cell_type": "markdown",
   "metadata": {},
   "source": [
    "## Обертка над NRS которая будет реализовывать более тонкие функции ГА"
   ]
  },
  {
   "cell_type": "code",
   "execution_count": 1,
   "metadata": {},
   "outputs": [],
   "source": [
    "from nrs import NRS_Model, Element, NRS_Revision, NRS_Observer_E    # классы НРС\n",
    "from nrs import NRS_Data                                            # Табличные данные НРС\n",
    "from nrs import q_out_simple, q_out_nozzle                          # модели расчета параметров\n",
    "import matplotlib.pyplot as plt                                     # библиотеки для отрисовки получаемых данных\n",
    "import networkx as nx\n",
    "import numpy as np\n",
    "import random\n",
    "import copy\n",
    "from functools import reduce\n",
    "\n",
    "import logging\n",
    "logger = logging.getLogger('NRS')\n",
    "# logger.setLevel(logging.DEBUG)\n",
    "# logging.basicConfig(level=logging.DEBUG)"
   ]
  },
  {
   "cell_type": "code",
   "execution_count": 46,
   "metadata": {},
   "outputs": [],
   "source": [
    "def print_NRS_graph(model):\n",
    "    '''\n",
    "    Построение графа НРС\n",
    "    '''\n",
    "    try:\n",
    "        G = nx.DiGraph()\n",
    "        # Узлы - на каждый элемент\n",
    "        for elmnt in model.elmnts:\n",
    "            G.add_node(elmnt.name, q=elmnt.q)\n",
    "        # Ребра - на каждую связь\n",
    "        for elmnt in model.elmnts:\n",
    "            for elmnt_next in elmnt.elements_next:\n",
    "                G.add_edge(elmnt.name, elmnt_next.name, L=elmnt.get_L())\n",
    "\n",
    "        # Расчет расстояния до элементов\n",
    "        for elmnt in model.elmnts_in:\n",
    "            paths = nx.shortest_path_length(G, source = elmnt.name, weight='L')\n",
    "            nx.set_node_attributes(G, paths, 'L')   # Здесь нужна другая логика\n",
    "            print(f'Расстояние до {elmnt.name} {max(paths.values())} м')    \n",
    "\n",
    "        # Печать графа НРС\n",
    "        pos={}\n",
    "        pos_list=[]\n",
    "        level=0\n",
    "        for eo in model.elmnts_in:\n",
    "            v = eo.name\n",
    "            spl = dict(nx.single_source_shortest_path_length(G, v))\n",
    "            for nd, p in spl.items():\n",
    "                if not nd in pos.keys():\n",
    "                    level_rize=level\n",
    "                    cpos = (p,level_rize)\n",
    "                    while cpos in pos_list:\n",
    "                        level_rize+=1\n",
    "                        cpos = (p,level_rize)\n",
    "                    pos[nd]=cpos\n",
    "                    pos_list.append(cpos)\n",
    "            level+=1\n",
    "\n",
    "        nc = [nd[1]['L'] for nd in list(G.nodes(data=True))]\n",
    "        nx.draw(G, pos=pos, with_labels=True, node_color=nc)\n",
    "        plt.show()\n",
    "\n",
    "        return G\n",
    "    except:\n",
    "        print('Полный граф изобразить не возможно, будет отображен упрощенный')\n",
    "        return print_NRS_graph_simple(model)\n",
    "\n",
    "def print_NRS_graph_simple(model):\n",
    "    '''\n",
    "    Построение графа НРС\n",
    "    '''\n",
    "    G = nx.DiGraph()\n",
    "    # Узлы - на каждый элемент\n",
    "    for elmnt in model.elmnts:\n",
    "        G.add_node(elmnt.name, q=elmnt.q)\n",
    "    # Ребра - на каждую связь\n",
    "    for elmnt in model.elmnts:\n",
    "        for elmnt_next in elmnt.elements_next:\n",
    "            G.add_edge(elmnt.name, elmnt_next.name)\n",
    "\n",
    "    nx.draw(G, with_labels=True)\n",
    "    plt.show()\n",
    "\n",
    "    return G\n",
    "# from workFolder.nrs import q_out_simple\n",
    "\n",
    "#=========================================== Классы модели ГА ==============================================\n",
    "class GA_model(NRS_Model):\n",
    "    '''\n",
    "    Класс модели НРС адаптированный для работы ГА\n",
    "    '''\n",
    "    def __init__(self, name):\n",
    "        # self.pumps=[]\n",
    "        # self.hoses=[]\n",
    "        # self.inhoses=[]\n",
    "        # self.splitters=[]\n",
    "        # self.joiners=[]\n",
    "        # self.nozzles=[]\n",
    "        super().__init__(name)\n",
    "\n",
    "    def appendElement(self, elmnt):\n",
    "        \n",
    "        # super().appendElement(elmnt)\n",
    "        name_prefixes={\n",
    "            'GA_Element_Pump': 'Н',\n",
    "            'GA_Element_Hose': 'НРЛ',\n",
    "            'GA_Element_InHose': 'ВРЛ',\n",
    "            'GA_Element_Splitter': 'Р', \n",
    "            'GA_Element_Joiner': 'ВС',\n",
    "            'GA_Element_Nozzle': 'С',\n",
    "        }\n",
    "        if elmnt.name=='': elmnt.name=name_prefixes[elmnt.id]+str(self.counter)\n",
    "\n",
    "        # if isinstance(elmnt, GA_Element_Pump):\n",
    "        #     # self.pumps.append(elmnt)\n",
    "        #     if elmnt.name=='': elmnt.name='Н'+str(self.counter)\n",
    "        # if isinstance(elmnt, GA_Element_Hose):\n",
    "        #     # self.hoses.append(elmnt)\n",
    "        #     if elmnt.name=='': elmnt.name='НРЛ'+str(self.counter)\n",
    "        # if isinstance(elmnt, GA_Element_InHose):\n",
    "        #     # self.inhoses.append(elmnt)\n",
    "        #     if elmnt.name=='': elmnt.name='ВРЛ'+str(self.counter)\n",
    "        # if isinstance(elmnt, GA_Element_Splitter):\n",
    "        #     # self.splitters.append(elmnt)\n",
    "        #     if elmnt.name=='': elmnt.name='Р'+str(self.counter)\n",
    "        # if isinstance(elmnt, GA_Element_Joiner):\n",
    "        #     # self.joiners.append(elmnt)\n",
    "        #     if elmnt.name=='': elmnt.name='ВС'+str(self.counter)\n",
    "        # if isinstance(elmnt, GA_Element_Nozzle):\n",
    "        #     # self.nozzles.append(elmnt)\n",
    "        #     if elmnt.name=='': elmnt.name='Ств'+str(self.counter)\n",
    "            \n",
    "        return super().appendElement(elmnt)\n",
    "\n",
    "    def crossing(self, pair_model):\n",
    "        return self\n",
    "\n",
    "    def mutate(self, mutation_count=1):\n",
    "        '''\n",
    "        Мутация элементов модели\n",
    "        '''\n",
    "        for _ in range(mutation_count):\n",
    "            random.choice(self.elmnts).mutate()\n",
    "\n",
    "\n",
    "    def check_pumps(self):\n",
    "        '''\n",
    "        Проверяет пожарные автомобили. \n",
    "        Для тех из них у которых есть только элементы на выход устанавливается e_type `0` (in).\n",
    "        Для тех у кого имеются и те и те, ставится e_type `1` (inter).\n",
    "        '''\n",
    "        for elmnt in self.elmnts:\n",
    "            if isinstance(elmnt, GA_Element_Pump):\n",
    "                e_in = len(elmnt.elements_previous)\n",
    "                e_out = len(elmnt.elements_next)\n",
    "                if e_in==0 and e_out>0:\n",
    "                    elmnt.type = 0\n",
    "                if e_in>0 and e_out>0:\n",
    "                    elmnt.type = 1\n",
    "        return self\n",
    "    \n",
    "\n",
    "class GA_Element_Pump(Element):\n",
    "    '''\n",
    "    Класс элемента `Пожарного автомобиля с насосом` адаптированный для работы ГА.\n",
    "    '''\n",
    "    def __init__(self, name, e_type, H_min=10, Q_min=0, H_max=100, Q_max=40, \n",
    "        q=0, s=0, H_in=0, h=0, H_add=0, z=0, p=1, n=1, l=0, ri=2, ro=2, q_out=...):\n",
    "        \n",
    "        self.id = 'GA_Element_Pump'\n",
    "        self.H_min = H_min\n",
    "        self.H_max = H_max\n",
    "        self.Q_min = Q_min\n",
    "        self.Q_max = Q_max\n",
    "        super().__init__(name, e_type, q, s, H_in, h, H_add, z, p, n, l, ri, ro, q_out)\n",
    "\n",
    "    def set_H_add(self, H_add):\n",
    "        if H_add > self.H_max:\n",
    "            self.H_add = self.H_max\n",
    "        else:\n",
    "            self.H_add = H_add\n",
    "        if H_add <= self.H_min:\n",
    "            self.H_add = self.H_min\n",
    "        else:\n",
    "            self.H_add = H_add\n",
    "\n",
    "    def mutate(self):\n",
    "        mutation_case = random.choices([0,1,2,3],weights=[4,2,1,1])[0]\n",
    "        # мутация напора\n",
    "        if mutation_case==0:\n",
    "            change_val = random.choice([-5,5])\n",
    "            print('H added')\n",
    "            self.H_add+=change_val\n",
    "        # Мутация производительности насоса\n",
    "        if mutation_case==1:\n",
    "            change_val = random.choice([40,60,70,100])\n",
    "            self.Q_max = change_val\n",
    "        # Мутация количества напорных патрубков\n",
    "        if mutation_case==2:\n",
    "            change_val = random.choice([2,4])\n",
    "            self.set_ro(change_val)\n",
    "        # Мутация всасывающих патрубков\n",
    "        if mutation_case==3:\n",
    "            change_val = random.choice([1,2,3,4])\n",
    "            self.set_ri(change_val)\n",
    "\n",
    "\n",
    "\n",
    "\n",
    "class GA_Element_Hose(Element):\n",
    "    '''\n",
    "    Класс элемента `Рукавной линии` адаптированный для работы ГА.\n",
    "    '''\n",
    "    def __init__(self, name, e_type=1, d='51', q=0, s=0, H_in=0, h=0, H_add=0, z=0, p=1, n=1, l=20, ri=1, ro=1, q_out=...):\n",
    "        self.id = 'GA_Element_Hose'\n",
    "        self.d=d\n",
    "        super().__init__(name, e_type, q, s, H_in, h, H_add, z, p, n, l, ri, ro, q_out)\n",
    "\n",
    "    def mutate(self):\n",
    "        mutation_case = random.choice([0,1])\n",
    "        # мутация количества\n",
    "        if mutation_case==0:\n",
    "            change_val = random.choice([-1,1])\n",
    "            if self.n+change_val>0:\n",
    "                self.n = self.n+change_val\n",
    "        # мутация диаметра\n",
    "        if mutation_case==1:\n",
    "            new_d=random.choice(list(NRS_Data.ss.keys()))\n",
    "            self.d = new_d\n",
    "            self.s = NRS_Data.ss[new_d]\n",
    "        # мутация типа\n",
    "\n",
    "        # разбиение\n",
    "\n",
    "class GA_Element_InHose(Element):\n",
    "    '''\n",
    "    Класс элемента `Всасывающей рукавной линии` адаптированный для работы ГА.\n",
    "    '''\n",
    "    def __init__(self, name, e_type=1, q=0, s=0, H_in=0, h=0, H_add=0, z=0, p=1, n=1, l=4, ri=1, ro=1, q_out=...):\n",
    "        self.id = 'GA_Element_InHose'\n",
    "        super().__init__(name, e_type, q, s, H_in, h, H_add, z, p, n, l, ri, ro, q_out)\n",
    "\n",
    "    def mutate(self):\n",
    "        pass\n",
    "\n",
    "class GA_Element_Splitter(Element):\n",
    "    '''\n",
    "    Класс элемента `Разветвление` адаптированный для работы ГА.\n",
    "    '''\n",
    "    def __init__(self, name, e_type=1, q=0, s=0, H_in=0, h=0, H_add=0, z=0, p=1, n=1, l=0, ri=1, ro=3, q_out=...):\n",
    "        self.id = 'GA_Element_Splitter'\n",
    "        super().__init__(name, e_type, q, s, H_in, h, H_add, z, p, n, l, ri, ro, q_out)\n",
    "\n",
    "    def mutate(self):\n",
    "        # мутация количества выходов\n",
    "        change_val = random.choice([2,3,4,5])\n",
    "        self.set_ro(change_val)\n",
    "\n",
    "class GA_Element_Joiner(Element):\n",
    "    '''\n",
    "    Класс элемента `Водосборник` адаптированный для работы ГА.\n",
    "    '''\n",
    "    def __init__(self, name, e_type=1, q=0, s=0, H_in=0, h=0, H_add=0, z=0, p=1, n=1, l=0, ri=2, ro=1, q_out=...):\n",
    "        self.id = 'GA_Element_Joiner'\n",
    "        super().__init__(name, e_type, q, s, H_in, h, H_add, z, p, n, l, ri, ro, q_out)\n",
    "\n",
    "    def mutate(self):\n",
    "        # мутация количества входов\n",
    "        change_val = random.choice([2,3,4,5])\n",
    "        self.set_ri(change_val)\n",
    "\n",
    "class GA_Element_Nozzle(Element):\n",
    "    '''\n",
    "    Класс элемента `Ствол` адаптированный для работы ГА.\n",
    "    '''\n",
    "    def __init__(self, name, e_type=1, n_type='Б', q=0, s=0, H_in=0, h=0, H_add=0, z=0, p=1, n=1, l=0, ri=1, ro=0, q_out=...):\n",
    "        '''\n",
    "        `n_type` - тип ствола. `Б` - ручной ствол Б, `А` - ручной ствол А, `Л` - лафетный переносной, `ЛА` - лафетный автомобильный.\n",
    "        '''\n",
    "        self.id = 'GA_Element_Nozzle'\n",
    "        self.n_type = n_type\n",
    "        super().__init__(name, e_type, q, s, H_in, h, H_add, z, p, n, l, ri, ro, q_out)\n",
    "\n",
    "    def mutate(self):\n",
    "        # mutation_case = random.choice([0,1])\n",
    "        # Мутация типа ствола\n",
    "        change_val = random.choice(['А','Б','Л'])\n",
    "        self.n_type = change_val\n",
    "        if change_val=='А':\n",
    "            self.p = NRS_Revision.calc_p(7.4, 40)\n",
    "        if change_val=='Б':\n",
    "            self.p = NRS_Revision.calc_p(3.7, 40)\n",
    "        if change_val=='Л':\n",
    "            self.p = NRS_Revision.calc_p(16, 40)\n",
    "\n",
    "\n",
    "# Правила соединения элементов\n",
    "# Классы которые могут быть присоединены после элемента\n",
    "allowed_append_classes = {\n",
    "        'GA_Element_Pump': (GA_Element_Hose),\n",
    "        'GA_Element_Hose': (GA_Element_Pump,GA_Element_Hose,GA_Element_Nozzle,GA_Element_Joiner,GA_Element_Splitter),\n",
    "        'GA_Element_InHose': (GA_Element_Pump),\n",
    "        'GA_Element_Splitter': (GA_Element_Hose), #,GA_Element_Splitter),\n",
    "        'GA_Element_Joiner': (GA_Element_Pump,GA_Element_Hose,GA_Element_Nozzle,GA_Element_Splitter),\n",
    "        'GA_Element_Nozzle': (),\n",
    "    }\n",
    "# Классы которые могут быть присоединены перед элементом\n",
    "allowed_prepend_classes = {\n",
    "        'GA_Element_Pump': (GA_Element_Hose,GA_Element_Joiner,GA_Element_InHose),\n",
    "        'GA_Element_Hose': (GA_Element_Pump,GA_Element_Hose,GA_Element_Joiner,GA_Element_Splitter),\n",
    "        'GA_Element_InHose': (),\n",
    "        'GA_Element_Splitter': (GA_Element_Hose,GA_Element_Joiner,GA_Element_Splitter),\n",
    "        'GA_Element_Joiner': (GA_Element_Hose),\n",
    "        'GA_Element_Nozzle': (GA_Element_Hose,GA_Element_Joiner),\n",
    "    }\n",
    "\n",
    "\n",
    "# (GA_Element_Hose,GA_Element_Pump,GA_Element_Nozzle,GA_Element_Joiner,GA_Element_Splitter,GA_Element_InHose)\n",
    "\n",
    "#======================================================Дополнительные инструменты=================================================================\n",
    "def pop_random_element_by_class(lst, element_class=None, lst_left=False):\n",
    "    '''\n",
    "    Извлечение из списка элемента по классу\n",
    "\n",
    "    `lst`\n",
    "        Список элементов\n",
    "\n",
    "    `element_class`\n",
    "        Класс(ы) элементов\n",
    "\n",
    "    `lst_left`\n",
    "        Если True, то список сохраняется, иначе элемент будет удален.\n",
    "    '''\n",
    "    elmnt = None\n",
    "    if element_class is None:\n",
    "        elmnt = random.choice(lst)\n",
    "    else:\n",
    "        if element_class_test(lst, element_class):\n",
    "            while not isinstance(elmnt, element_class):\n",
    "                elmnt = random.choice(lst)\n",
    "        else:\n",
    "            return None\n",
    "        \n",
    "    if lst_left:\n",
    "        return copy.deepcopy(elmnt)\n",
    "    else:\n",
    "        idx = lst.index(elmnt)\n",
    "        return copy.deepcopy(lst.pop(idx))\n",
    "    \n",
    "def element_class_test(lst, element_class):\n",
    "    for elmnt in lst:\n",
    "        if isinstance(elmnt, element_class):\n",
    "            return True\n",
    "    return False\n",
    "\n",
    "def drop_elements_links(lst):\n",
    "    for elmnt in lst:\n",
    "        elmnt.drop_links()"
   ]
  },
  {
   "cell_type": "markdown",
   "metadata": {},
   "source": [
    "# Тесты"
   ]
  },
  {
   "cell_type": "code",
   "execution_count": 3,
   "metadata": {},
   "outputs": [],
   "source": [
    "p_nozzleB = NRS_Revision.calc_p(3.7, 40)\n",
    "p_nozzleA = NRS_Revision.calc_p(7.4, 40)\n",
    "p_nozzleL = NRS_Revision.calc_p(16, 40)\n",
    "p_nozzleB, p_nozzleA, p_nozzleL\n",
    "\n",
    "def get_elements_sack():\n",
    "    elements_sack = []\n",
    "    elements_sack.append(GA_Element_Pump('', e_type=1, H_add=40))\n",
    "    # elements_sack.append(GA_Element_Pump('', e_type=0, H_add=60))\n",
    "    # elements_sack.append(GA_Element_Pump('', e_type=0, H_add=80))\n",
    "    # elements_sack.append(GA_Element_Hose('', e_type=1, s=NRS_Data.ss[\"51\"], n=2))\n",
    "    # elements_sack.append(GA_Element_Hose('', e_type=1, s=NRS_Data.ss[\"51\"], n=2))\n",
    "    # elements_sack.append(GA_Element_Hose('', e_type=1, s=NRS_Data.ss[\"51\"], n=2))\n",
    "    # elements_sack.append(GA_Element_Hose('', e_type=1, s=NRS_Data.ss[\"51\"], n=2))\n",
    "    elements_sack.append(GA_Element_Hose('', e_type=1, s=NRS_Data.ss[\"51\"], n=2))\n",
    "    elements_sack.append(GA_Element_Hose('', e_type=1, s=NRS_Data.ss[\"51\"], n=4))\n",
    "    elements_sack.append(GA_Element_Hose('', e_type=1, s=NRS_Data.ss[\"51\"], n=6))\n",
    "    # elements_sack.append(GA_Element_Hose('', e_type=1, s=NRS_Data.ss[\"77\"], n=2))\n",
    "    elements_sack.append(GA_Element_Hose('', e_type=1, d='77', s=NRS_Data.ss[\"77\"], n=2))\n",
    "    elements_sack.append(GA_Element_Hose('', e_type=1, d='77', s=NRS_Data.ss[\"77\"], n=4))\n",
    "    elements_sack.append(GA_Element_Hose('', e_type=1, d='77', s=NRS_Data.ss[\"77\"], n=6))\n",
    "    elements_sack.append(GA_Element_Nozzle('', e_type=2, p=p_nozzleB, q_out = q_out_nozzle))\n",
    "    # elements_sack.append(GA_Element_Nozzle('', e_type=2, p=p_nozzleB, q_out = q_out_nozzle))\n",
    "    elements_sack.append(GA_Element_Nozzle('', e_type=2, p=p_nozzleA, q_out = q_out_nozzle))\n",
    "    # elements_sack.append(GA_Element_Nozzle('', e_type=2, p=p_nozzleA, q_out = q_out_nozzle))\n",
    "    # elements_sack.append(GA_Element_Nozzle('', e_type=2, p=p_nozzleL, q_out = q_out_nozzle))\n",
    "    # elements_sack.append(GA_Element_Joiner('', e_type=1, ri=2, ro=1))\n",
    "    elements_sack.append(GA_Element_Splitter('', e_type=1, ri=1, ro=3))\n",
    "    # elements_sack.append(GA_Element_Splitter('', e_type=1, ri=1, ro=3))\n",
    "\n",
    "    return elements_sack"
   ]
  },
  {
   "cell_type": "markdown",
   "metadata": {},
   "source": [
    "## Слепой часовщик"
   ]
  },
  {
   "cell_type": "code",
   "execution_count": 4,
   "metadata": {},
   "outputs": [
    {
     "ename": "NameError",
     "evalue": "name 'elements_sack' is not defined",
     "output_type": "error",
     "traceback": [
      "\u001b[1;31m---------------------------------------------------------------------------\u001b[0m",
      "\u001b[1;31mNameError\u001b[0m                                 Traceback (most recent call last)",
      "\u001b[1;32md:\\Git\\NRS_modeller\\workFolder\\ga2.ipynb Cell 10\u001b[0m line \u001b[0;36m1\n\u001b[1;32m----> <a href='vscode-notebook-cell:/d%3A/Git/NRS_modeller/workFolder/ga2.ipynb#X32sZmlsZQ%3D%3D?line=0'>1</a>\u001b[0m tmp_list \u001b[39m=\u001b[39m [e \u001b[39mfor\u001b[39;00m e \u001b[39min\u001b[39;00m elements_sack]\n\u001b[0;32m      <a href='vscode-notebook-cell:/d%3A/Git/NRS_modeller/workFolder/ga2.ipynb#X32sZmlsZQ%3D%3D?line=2'>3</a>\u001b[0m \u001b[39mwhile\u001b[39;00m \u001b[39mlen\u001b[39m(tmp_list)\u001b[39m>\u001b[39m\u001b[39m0\u001b[39m:\n\u001b[0;32m      <a href='vscode-notebook-cell:/d%3A/Git/NRS_modeller/workFolder/ga2.ipynb#X32sZmlsZQ%3D%3D?line=3'>4</a>\u001b[0m     elmnt \u001b[39m=\u001b[39m tmp_list\u001b[39m.\u001b[39mpop(random\u001b[39m.\u001b[39mrandrange(\u001b[39mlen\u001b[39m(tmp_list)))\n",
      "\u001b[1;31mNameError\u001b[0m: name 'elements_sack' is not defined"
     ]
    }
   ],
   "source": [
    "tmp_list = [e for e in elements_sack]\n",
    "\n",
    "while len(tmp_list)>0:\n",
    "    elmnt = tmp_list.pop(random.randrange(len(tmp_list)))\n",
    "    # next_elmnt  = random.choice(elements_sack)\n",
    "    elements_for_append = [e for e in elements_sack if e!=elmnt]\n",
    "    elmnt.append(random.choice(elements_for_append))\n",
    "\n",
    "# Сборка модели\n",
    "model = GA_model('Тест слепой часовщик')\n",
    "# model.build(pump, interpretate=True).observersInit()\n",
    "# model.addElements([pump, hoseW1, nozzle1], interpretate=True).observersInit()\n",
    "model.addElements(elements_sack).check_pumps().interpretate()  #.observersInit()\n",
    "\n",
    "# Расчет \n",
    "model.calc(accuracy=0.05)\n",
    "print(model.summaryQ(), end='\\n\\n')\n",
    "\n",
    "print('Статус насоса:')\n",
    "NRS_Revision.print_element_state(pump, ['H_add', 'q'])"
   ]
  },
  {
   "cell_type": "code",
   "execution_count": null,
   "metadata": {},
   "outputs": [
    {
     "name": "stdout",
     "output_type": "stream",
     "text": [
      "Расстояние до Н0 0 м\n",
      "Полный граф изобразить не возможно, будет отображен упрощенный\n"
     ]
    },
    {
     "data": {
      "image/png": "[encoded data removed]",
      "text/plain": [
       "<Figure size 640x480 with 1 Axes>"
      ]
     },
     "metadata": {},
     "output_type": "display_data"
    },
    {
     "data": {
      "text/plain": [
       "<networkx.classes.digraph.DiGraph at 0x1b142e6adb0>"
      ]
     },
     "execution_count": 54,
     "metadata": {},
     "output_type": "execute_result"
    }
   ],
   "source": [
    "print_NRS_graph(model)"
   ]
  },
  {
   "cell_type": "code",
   "execution_count": null,
   "metadata": {},
   "outputs": [
    {
     "name": "stdout",
     "output_type": "stream",
     "text": [
      "all:\n",
      "  Н0\n",
      "  Н1\n",
      "  Н2\n",
      "  НРЛ3\n",
      "  НРЛ4\n",
      "  НРЛ5\n",
      "  НРЛ6\n",
      "  НРЛ7\n",
      "  НРЛ8\n",
      "  Ств9\n",
      "  Ств10\n",
      "  Ств11\n",
      "  ВС12\n",
      "  Р13\n",
      "in:\n",
      "  Н0\n",
      "out:\n",
      "  Ств9\n",
      "  Ств10\n",
      "  Ств11\n"
     ]
    }
   ],
   "source": [
    "NRS_Revision.print_model_elements(model)"
   ]
  },
  {
   "cell_type": "markdown",
   "metadata": {},
   "source": [
    "## Построение деревьев"
   ]
  },
  {
   "cell_type": "markdown",
   "metadata": {},
   "source": [
    "### Тест прямого (явного) построения ветви"
   ]
  },
  {
   "cell_type": "code",
   "execution_count": null,
   "metadata": {},
   "outputs": [],
   "source": [
    "elements_sack = get_elements_sack()\n",
    "\n",
    "model = GA_model('Тест деревья')\n",
    "pump = pop_random_element_by_class(elements_sack, GA_Element_Pump, lst_left=True)\n",
    "hose = pop_random_element_by_class(elements_sack, GA_Element_Hose, lst_left=True)\n",
    "nozzle = pop_random_element_by_class(elements_sack, GA_Element_Nozzle, lst_left=True)\n",
    "pump.append(hose).append(nozzle)\n",
    "\n",
    "\n",
    "model.addElements([pump,hose,nozzle]).check_pumps().interpretate()\n",
    "\n",
    "NRS_Revision.print_model_elements(model)\n",
    "\n",
    "print_NRS_graph(model)"
   ]
  },
  {
   "cell_type": "markdown",
   "metadata": {},
   "source": [
    "### Тест рекурсивного построения дерева"
   ]
  },
  {
   "cell_type": "code",
   "execution_count": null,
   "metadata": {},
   "outputs": [
    {
     "name": "stdout",
     "output_type": "stream",
     "text": [
      "Новая модель: Тест дерева - рекурсия\n",
      "11\n",
      "10\n",
      "Достигнут предел рекурсии\n",
      "10\n",
      "all:\n",
      "  Н0\n",
      "  НРЛ1\n",
      "  НРЛ2\n",
      "  НРЛ3\n",
      "  НРЛ4\n",
      "  НРЛ5\n",
      "in:\n",
      "  Н0\n",
      "out:\n",
      "Расстояние до Н0 160 м\n"
     ]
    },
    {
     "data": {
      "image/png": "[encoded data removed]",
      "text/plain": [
       "<Figure size 640x480 with 1 Axes>"
      ]
     },
     "metadata": {},
     "output_type": "display_data"
    },
    {
     "data": {
      "text/plain": [
       "<networkx.classes.digraph.DiGraph at 0x193183e2de0>"
      ]
     },
     "execution_count": 22,
     "metadata": {},
     "output_type": "execute_result"
    }
   ],
   "source": [
    "def append_new_element(elmnt, elmnts_examples, add_elmnts_p=0.5, lst_left=True):\n",
    "    '''\n",
    "    Рекурсивное построение дерева НРС\n",
    "    '''\n",
    "    global depth\n",
    "    if depth<=0:\n",
    "        print('Достигнут предел рекурсии')\n",
    "        return\n",
    "    depth-=1\n",
    "\n",
    "    # print(len(elements_sack))\n",
    "\n",
    "    # ограничение списка приемлемых классов\n",
    "    allowed_element_classes = allowed_append_classes[elmnt.id]\n",
    "    # print(elmnt.id, 'Можно:')\n",
    "    # print(allowed_element_classes)\n",
    "\n",
    "    if elmnt.ro>0:\n",
    "        # random_elmnt = copy.deepcopy(pop_random_element_by_class(elmnts_examples, element_class=allowed_element_classes, lst_left=lst_left))\n",
    "        # print(len(elmnts_examples))\n",
    "        random_elmnt = pop_random_element_by_class(elmnts_examples, element_class=allowed_element_classes, lst_left=lst_left)\n",
    "        if random_elmnt is None: return\n",
    "        # print(len(elmnts_examples))\n",
    "        if elmnt.append(random_elmnt):\n",
    "            append_new_element(random_elmnt, elmnts_examples, lst_left=lst_left)\n",
    "\n",
    "    for _ in range(elmnt.ro-1):\n",
    "        logger.debug(f'Элемент {type(elmnt)}, выходов {elmnt.ro}')\n",
    "        rnd = random.random()\n",
    "        if rnd<=add_elmnts_p:\n",
    "            # random_elmnt = copy.deepcopy(pop_random_element_by_class(elmnts_examples, element_class=allowed_element_classes, lst_left=lst_left))\n",
    "            # print(len(elmnts_examples))\n",
    "            random_elmnt = pop_random_element_by_class(elmnts_examples, element_class=allowed_element_classes, lst_left=lst_left)\n",
    "            if random_elmnt is None: return\n",
    "            # print(len(elmnts_examples))\n",
    "            if elmnt.append(random_elmnt):\n",
    "                append_new_element(random_elmnt, elmnts_examples, lst_left=lst_left)\n",
    "\n",
    "# global depth\n",
    "depth=25\n",
    "\n",
    "\n",
    "# Копия списка элементов (чтобы каждый раз не создавать его заново)\n",
    "elements_sack = get_elements_sack()\n",
    "\n",
    "\n",
    "# Рекурсия\n",
    "model = GA_model('Тест дерева - рекурсия')\n",
    "print(len(elements_sack))\n",
    "pump = pop_random_element_by_class(elements_sack, GA_Element_Pump, lst_left=False)\n",
    "print(len(elements_sack))\n",
    "append_new_element(pump, elements_sack, lst_left=True)  #, add_elmnts_p=1)\n",
    "print(len(elements_sack))\n",
    "\n",
    "model.build(pump).check_pumps().interpretate()\n",
    "\n",
    "# model.addElements([pump,hose,nozzle]).check_pumps().interpretate()\n",
    "\n",
    "NRS_Revision.print_model_elements(model)\n",
    "\n",
    "print_NRS_graph(model)"
   ]
  },
  {
   "cell_type": "code",
   "execution_count": null,
   "metadata": {},
   "outputs": [
    {
     "data": {
      "text/plain": [
       "[<__main__.GA_Element_Hose at 0x1dfd3253800>,\n",
       " <__main__.GA_Element_Hose at 0x1dfd32539e0>,\n",
       " <__main__.GA_Element_Nozzle at 0x1dfd3253b90>,\n",
       " <__main__.GA_Element_Nozzle at 0x1dfd3253c50>]"
      ]
     },
     "execution_count": 5,
     "metadata": {},
     "output_type": "execute_result"
    }
   ],
   "source": [
    "elements_sack"
   ]
  },
  {
   "cell_type": "code",
   "execution_count": null,
   "metadata": {},
   "outputs": [
    {
     "data": {
      "text/plain": [
       "(<__main__.GA_model at 0x193182eb590>, 22)"
      ]
     },
     "execution_count": 18,
     "metadata": {},
     "output_type": "execute_result"
    }
   ],
   "source": [
    "# Расчет\n",
    "# model.calc(iters=10)\n",
    "model.calc(accuracy=0.5)\n",
    "# print(model.summaryQ(), end='\\n\\n')"
   ]
  },
  {
   "cell_type": "code",
   "execution_count": null,
   "metadata": {},
   "outputs": [
    {
     "data": {
      "text/plain": [
       "(<__main__.GA_model at 0x25f87f89ac0>, -2.930278242274653e-11)"
      ]
     },
     "execution_count": 19,
     "metadata": {},
     "output_type": "execute_result"
    }
   ],
   "source": [
    "model.calc(iters=10)"
   ]
  },
  {
   "cell_type": "code",
   "execution_count": null,
   "metadata": {},
   "outputs": [],
   "source": [
    "model.drop_q()"
   ]
  },
  {
   "cell_type": "code",
   "execution_count": null,
   "metadata": {},
   "outputs": [
    {
     "name": "stdout",
     "output_type": "stream",
     "text": [
      "5.224119424357346\n",
      "\n"
     ]
    }
   ],
   "source": [
    "print(model.summaryQ(), end='\\n\\n')"
   ]
  },
  {
   "cell_type": "code",
   "execution_count": null,
   "metadata": {},
   "outputs": [
    {
     "name": "stdout",
     "output_type": "stream",
     "text": [
      "all:\n",
      "  Н0\n",
      "  НРЛ1\n",
      "  НРЛ2\n",
      "  НРЛ3\n",
      "  Р4\n",
      "  НРЛ5\n",
      "  Ств6\n",
      "  НРЛ7\n",
      "  Ств8\n",
      "in:\n",
      "  Н0\n",
      "out:\n",
      "  Ств6\n",
      "  Ств8\n"
     ]
    }
   ],
   "source": [
    "NRS_Revision.print_model_elements(model)"
   ]
  },
  {
   "cell_type": "code",
   "execution_count": null,
   "metadata": {},
   "outputs": [
    {
     "name": "stdout",
     "output_type": "stream",
     "text": [
      "p: 1.1700427342623003\n",
      "q: (1.7898509347521625e-16+2.923048402197803j)\n",
      "H_in: (-6.241206692177597+2.3092022000261308e-16j)\n",
      "p: 0.5850213671311502\n",
      "q: (3.545608462099151+0j)\n",
      "H_in: (36.73145176481843+0j)\n"
     ]
    }
   ],
   "source": [
    "# NRS_Revision.print_element_state(\n",
    "#     NRS_Revision.get_element_by_name(model.elmnts, 'НРЛ1', False),\n",
    "#     ['L', 's']\n",
    "#     )\n",
    "# NRS_Revision.print_element_state(\n",
    "#     NRS_Revision.get_element_by_name(model.elmnts, 'НРЛ3', False),\n",
    "#     ['L', 's']\n",
    "#     )\n",
    "NRS_Revision.print_element_state(\n",
    "    NRS_Revision.get_element_by_name(model.elmnts, 'Ств6', False),\n",
    "    ['p','q', 'H_in']\n",
    "    )\n",
    "NRS_Revision.print_element_state(\n",
    "    NRS_Revision.get_element_by_name(model.elmnts, 'Ств8', False),\n",
    "    ['p','q', 'H_in']\n",
    "    )"
   ]
  },
  {
   "cell_type": "markdown",
   "metadata": {},
   "source": [
    "## Процедура рекурсивного удаления *мертвых* элементов\n",
    "\n",
    "Мертвые здесь - элементы не входящие в ветви:\n",
    "\n",
    "* промежуточные элементы не имеющие соединения на вход и выход\n",
    "* выходы (стволы) не имеющие соединения на вход\n",
    "* входы (насосы) не имеющие соединения на вход"
   ]
  },
  {
   "cell_type": "code",
   "execution_count": null,
   "metadata": {},
   "outputs": [
    {
     "name": "stdout",
     "output_type": "stream",
     "text": [
      "Новая модель: Тест удаления мертвых элементов\n",
      "11\n",
      "all:\n",
      "  Н0\n",
      "  НРЛ1\n",
      "  Р2\n",
      "  НРЛ3\n",
      "  Ств4\n",
      "  НРЛ5\n",
      "in:\n",
      "  Н0\n",
      "out:\n",
      "  Ств4\n",
      "Расстояние до Н0 80 м\n"
     ]
    },
    {
     "data": {
      "image/png": "[encoded data removed]",
      "text/plain": [
       "<Figure size 640x480 with 1 Axes>"
      ]
     },
     "metadata": {},
     "output_type": "display_data"
    },
    {
     "name": "stdout",
     "output_type": "stream",
     "text": [
      "Н0\n",
      "НРЛ1\n",
      "Р2\n",
      "НРЛ3\n",
      "Ств4\n",
      "НРЛ5\n",
      "Р2\n",
      "all:\n",
      "  Н0\n",
      "  НРЛ1\n",
      "  Р2\n",
      "  НРЛ3\n",
      "  Ств4\n",
      "in:\n",
      "  Н0\n",
      "out:\n",
      "  Ств4\n",
      "Расстояние до Н0 80 м\n"
     ]
    },
    {
     "data": {
      "image/png": "[encoded data removed]",
      "text/plain": [
       "<Figure size 640x480 with 1 Axes>"
      ]
     },
     "metadata": {},
     "output_type": "display_data"
    },
    {
     "name": "stdout",
     "output_type": "stream",
     "text": [
      "3.354637193497979\n",
      "\n"
     ]
    }
   ],
   "source": [
    "def fire_dead_elements_try(model:NRS_Model, elmnt: Element):\n",
    "    '''\n",
    "    Рекурсивная попытка удалить мертвые элементы из модели\n",
    "    '''\n",
    "    print(elmnt.name)\n",
    "    if elmnt.type==0 and len(elmnt.elements_next)==0:\n",
    "        elmnt.drop_links(linked_elements=True, current_element=False)\n",
    "        for ep in elmnt.elements_previous:\n",
    "            model = fire_dead_elements_try(model, ep)\n",
    "        model.delElement(elmnt)\n",
    "    elif elmnt.type==1 and (len(elmnt.elements_next)==0 or len(elmnt.elements_previous)==0):\n",
    "        elmnt.drop_links(linked_elements=True, current_element=False)\n",
    "        for en in elmnt.elements_next:\n",
    "            model = fire_dead_elements_try(model, en)\n",
    "        for ep in elmnt.elements_previous:\n",
    "            model = fire_dead_elements_try(model, ep)\n",
    "        model.delElement(elmnt)\n",
    "    elif elmnt.type==2 and len(elmnt.elements_previous)==0:\n",
    "        elmnt.drop_links(linked_elements=True, current_element=False)\n",
    "        for en in elmnt.elements_next:\n",
    "            model = fire_dead_elements_try(model, en)\n",
    "        model.delElement(elmnt)\n",
    "    return model\n",
    "\n",
    "\n",
    "# Копия списка элементов (чтобы каждый раз не создавать его заново)\n",
    "elements_sack = get_elements_sack()\n",
    "\n",
    "# Рекурсия\n",
    "model = GA_model('Тест удаления мертвых элементов')\n",
    "print(len(elements_sack))\n",
    "pump = pop_random_element_by_class(elements_sack, GA_Element_Pump, lst_left=True)\n",
    "hoseM1 = pop_random_element_by_class(elements_sack, GA_Element_Hose, lst_left=True)\n",
    "splitter = pop_random_element_by_class(elements_sack, GA_Element_Splitter, lst_left=True)\n",
    "hoseW1 = pop_random_element_by_class(elements_sack, GA_Element_Hose, lst_left=True)\n",
    "hoseW2 = pop_random_element_by_class(elements_sack, GA_Element_Hose, lst_left=True)\n",
    "hoseW3 = pop_random_element_by_class(elements_sack, GA_Element_Hose, lst_left=True)\n",
    "nozzle = pop_random_element_by_class(elements_sack, GA_Element_Nozzle, lst_left=True)\n",
    "\n",
    "# Живая линия\n",
    "pump.append(hoseM1).append(splitter).append(hoseW1).append(nozzle)\n",
    "# Мертвая линия\n",
    "splitter.append(hoseW2).append(hoseW3)\n",
    "\n",
    "model.build(pump).check_pumps().interpretate()\n",
    "NRS_Revision.print_model_elements(model)\n",
    "print_NRS_graph(model)\n",
    "\n",
    "# Удаление элемента:\n",
    "# fire_dead_elements_try(model, hoseW3).check_pumps().interpretate()\n",
    "for elmnt in model.elmnts:\n",
    "    fire_dead_elements_try(model, elmnt).check_pumps().interpretate()\n",
    "NRS_Revision.print_model_elements(model)\n",
    "print_NRS_graph(model)\n",
    "\n",
    "# Расчет\n",
    "# model.calc(iters=10)\n",
    "model.calc(accuracy=0.5)\n",
    "print(model.summaryQ(), end='\\n\\n')"
   ]
  },
  {
   "cell_type": "code",
   "execution_count": null,
   "metadata": {},
   "outputs": [
    {
     "name": "stdout",
     "output_type": "stream",
     "text": [
      "Новая модель: Тест дерева - рекурсия\n",
      "Достигнут предел рекурсии\n",
      "Достигнут предел рекурсии\n",
      "Достигнут предел рекурсии\n",
      "Достигнут предел рекурсии\n",
      "Достигнут предел рекурсии\n",
      "Достигнут предел рекурсии\n",
      "all:\n",
      "  Н0\n",
      "  НРЛ1\n",
      "  Р2\n",
      "  НРЛ3\n",
      "  НРЛ4\n",
      "  Р5\n",
      "  НРЛ6\n",
      "  НРЛ7\n",
      "  НРЛ8\n",
      "  НРЛ9\n",
      "in:\n",
      "  Н0\n",
      "out:\n",
      "Расстояние до Н0 160 м\n"
     ]
    },
    {
     "data": {
      "image/png": "[encoded data removed]",
      "text/plain": [
       "<Figure size 640x480 with 1 Axes>"
      ]
     },
     "metadata": {},
     "output_type": "display_data"
    },
    {
     "name": "stdout",
     "output_type": "stream",
     "text": [
      "вход в рекурсию Н0\n",
      "Н0\n",
      "вход в рекурсию НРЛ1\n",
      "НРЛ1\n",
      "вход в рекурсию Р2\n",
      "Р2\n",
      "вход в рекурсию НРЛ3\n",
      "НРЛ3\n",
      "вход в рекурсию НРЛ4\n",
      "НРЛ4\n",
      "вход в рекурсию Р5\n",
      "Р5\n",
      "вход в рекурсию НРЛ6\n",
      "НРЛ6\n",
      "вход в рекурсию НРЛ7\n",
      "НРЛ7\n",
      "НРЛ6\n",
      "Р5\n",
      "вход в рекурсию НРЛ8\n",
      "НРЛ8\n",
      "Р5\n",
      "НРЛ4\n",
      "НРЛ3\n",
      "Р2\n",
      "вход в рекурсию НРЛ9\n",
      "НРЛ9\n",
      "Р2\n",
      "НРЛ1\n",
      "Н0\n",
      "all:\n",
      "in:\n",
      "out:\n"
     ]
    },
    {
     "data": {
      "image/png": "[encoded data removed]",
      "text/plain": [
       "<Figure size 640x480 with 1 Axes>"
      ]
     },
     "metadata": {},
     "output_type": "display_data"
    },
    {
     "name": "stdout",
     "output_type": "stream",
     "text": [
      "0\n",
      "\n"
     ]
    }
   ],
   "source": [
    "def append_new_element(elmnt, elmnts_examples, add_elmnts_p=0.5, lst_left=True):\n",
    "    '''\n",
    "    Рекурсивное построение дерева НРС\n",
    "    '''\n",
    "    global depth\n",
    "    if depth<=0:\n",
    "        print('Достигнут предел рекурсии')\n",
    "        return\n",
    "    depth-=1\n",
    "\n",
    "    # print(len(elements_sack))\n",
    "\n",
    "    # ограничение списка приемлемых классов\n",
    "    allowed_element_classes = allowed_append_classes[elmnt.id]\n",
    "    # print(elmnt.id, 'Можно:')\n",
    "    # print(allowed_element_classes)\n",
    "\n",
    "    if elmnt.ro>0:\n",
    "        # random_elmnt = copy.deepcopy(pop_random_element_by_class(elmnts_examples, element_class=allowed_element_classes, lst_left=lst_left))\n",
    "        # print(len(elmnts_examples))\n",
    "        random_elmnt = pop_random_element_by_class(elmnts_examples, element_class=allowed_element_classes, lst_left=lst_left)\n",
    "        if random_elmnt is None: return\n",
    "        # print(len(elmnts_examples))\n",
    "        if elmnt.append(random_elmnt):\n",
    "            append_new_element(random_elmnt, elmnts_examples, lst_left=lst_left)\n",
    "\n",
    "    for _ in range(elmnt.ro-1):\n",
    "        logger.debug(f'Элемент {type(elmnt)}, выходов {elmnt.ro}')\n",
    "        rnd = random.random()\n",
    "        if rnd<=add_elmnts_p:\n",
    "            # random_elmnt = copy.deepcopy(pop_random_element_by_class(elmnts_examples, element_class=allowed_element_classes, lst_left=lst_left))\n",
    "            # print(len(elmnts_examples))\n",
    "            random_elmnt = pop_random_element_by_class(elmnts_examples, element_class=allowed_element_classes, lst_left=lst_left)\n",
    "            if random_elmnt is None: return\n",
    "            # print(len(elmnts_examples))\n",
    "            if elmnt.append(random_elmnt):\n",
    "                append_new_element(random_elmnt, elmnts_examples, lst_left=lst_left)\n",
    "\n",
    "# global depth\n",
    "depth=25\n",
    "\n",
    "\n",
    "# Копия списка элементов (чтобы каждый раз не создавать его заново)\n",
    "elements_sack = get_elements_sack()\n",
    "\n",
    "\n",
    "# Рекурсия\n",
    "model = GA_model('Тест дерева - рекурсия')\n",
    "pump = pop_random_element_by_class(elements_sack, GA_Element_Pump, lst_left=False)\n",
    "append_new_element(pump, elements_sack, lst_left=True)  #, add_elmnts_p=1)\n",
    "\n",
    "\n",
    "model.build(pump).check_pumps().interpretate()\n",
    "NRS_Revision.print_model_elements(model)\n",
    "print_NRS_graph(model)\n",
    "\n",
    "\n",
    "\n",
    "# Удаление элемента:\n",
    "# fire_dead_elements_try(model, hoseW3).check_pumps().interpretate()\n",
    "for elmnt in model.elmnts.copy():\n",
    "    print('вход в рекурсию', elmnt.name)\n",
    "    fire_dead_elements_try(model, elmnt)\n",
    "model.check_pumps().interpretate()\n",
    "NRS_Revision.print_model_elements(model)\n",
    "print_NRS_graph(model)\n",
    "\n",
    "# Расчет\n",
    "# model.calc(iters=10)\n",
    "model.calc(accuracy=0.5)\n",
    "print(model.summaryQ(), end='\\n\\n')"
   ]
  },
  {
   "cell_type": "markdown",
   "metadata": {},
   "source": [
    "## Тест расчета деревьев без корня"
   ]
  },
  {
   "cell_type": "code",
   "execution_count": null,
   "metadata": {},
   "outputs": [
    {
     "name": "stdout",
     "output_type": "stream",
     "text": [
      "Новая модель: Тест расчета деревьев без корня\n",
      "11\n",
      "all:\n",
      "  НРЛ0\n",
      "  Р1\n",
      "  НРЛ2\n",
      "  С3\n",
      "in:\n",
      "out:\n",
      "  С3\n",
      "Полный граф изобразить не возможно, будет отображен упрощенный\n"
     ]
    },
    {
     "data": {
      "image/png": "[encoded data removed]",
      "text/plain": [
       "<Figure size 640x480 with 1 Axes>"
      ]
     },
     "metadata": {},
     "output_type": "display_data"
    },
    {
     "name": "stdout",
     "output_type": "stream",
     "text": [
      "0.0\n",
      "\n"
     ]
    }
   ],
   "source": [
    "# Копия списка элементов (чтобы каждый раз не создавать его заново)\n",
    "elements_sack = get_elements_sack()\n",
    "\n",
    "# Рекурсия\n",
    "model = GA_model('Тест расчета деревьев без корня')\n",
    "print(len(elements_sack))\n",
    "pump = pop_random_element_by_class(elements_sack, GA_Element_Pump, lst_left=True)\n",
    "hoseM1 = pop_random_element_by_class(elements_sack, GA_Element_Hose, lst_left=True)\n",
    "splitter = pop_random_element_by_class(elements_sack, GA_Element_Splitter, lst_left=True)\n",
    "hoseW1 = pop_random_element_by_class(elements_sack, GA_Element_Hose, lst_left=True)\n",
    "hoseW2 = pop_random_element_by_class(elements_sack, GA_Element_Hose, lst_left=True)\n",
    "hoseW3 = pop_random_element_by_class(elements_sack, GA_Element_Hose, lst_left=True)\n",
    "nozzle = pop_random_element_by_class(elements_sack, GA_Element_Nozzle, lst_left=True)\n",
    "\n",
    "# Живая линия\n",
    "hoseM1.append(splitter).append(hoseW1).append(nozzle)\n",
    "# Мертвая линия\n",
    "# splitter.append(hoseW2).append(hoseW3)\n",
    "\n",
    "model.addElements([hoseM1, splitter, hoseW1, nozzle]).check_pumps().interpretate()\n",
    "NRS_Revision.print_model_elements(model)\n",
    "print_NRS_graph(model)\n",
    "\n",
    "# # Удаление элемента:\n",
    "# # fire_dead_elements_try(model, hoseW3).check_pumps().interpretate()\n",
    "# for elmnt in model.elmnts:\n",
    "#     fire_dead_elements_try(model, elmnt).check_pumps().interpretate()\n",
    "# NRS_Revision.print_model_elements(model)\n",
    "# print_NRS_graph(model)\n",
    "\n",
    "# Расчет\n",
    "# model.calc(iters=10)\n",
    "model.calc(accuracy=0.5)\n",
    "print(model.summaryQ(), end='\\n\\n')"
   ]
  },
  {
   "cell_type": "markdown",
   "metadata": {},
   "source": [
    "# Мутации"
   ]
  },
  {
   "cell_type": "markdown",
   "metadata": {},
   "source": [
    "## Тест микромутаций\n",
    "\n",
    "Микромутации - мутации в свойствах элементов"
   ]
  },
  {
   "cell_type": "code",
   "execution_count": 48,
   "metadata": {},
   "outputs": [
    {
     "name": "stdout",
     "output_type": "stream",
     "text": [
      "Новая модель: Тест микромутации\n",
      "10\n",
      "all:\n",
      "  Н0\n",
      "  НРЛ1\n",
      "  Р2\n",
      "  НРЛ3\n",
      "  С4\n",
      "  НРЛ5\n",
      "  НРЛ6\n",
      "  С7\n",
      "in:\n",
      "  Н0\n",
      "out:\n",
      "  С4\n",
      "  С7\n",
      "Общий расход системы: 12.5995551334636 л/с\n",
      "\n",
      "Расстояние до Н0 160 м\n"
     ]
    },
    {
     "data": {
      "image/png": "[encoded data removed]",
      "text/plain": [
       "<Figure size 640x480 with 1 Axes>"
      ]
     },
     "metadata": {},
     "output_type": "display_data"
    },
    {
     "data": {
      "text/plain": [
       "<networkx.classes.digraph.DiGraph at 0x1ad84a3f470>"
      ]
     },
     "execution_count": 48,
     "metadata": {},
     "output_type": "execute_result"
    }
   ],
   "source": [
    "# Копия списка элементов (чтобы каждый раз не создавать его заново)\n",
    "elements_sack = get_elements_sack()\n",
    "\n",
    "# Рекурсия\n",
    "model = GA_model('Тест микромутации')\n",
    "print(len(elements_sack))\n",
    "pump = pop_random_element_by_class(elements_sack, GA_Element_Pump, lst_left=True)\n",
    "hoseM1 = pop_random_element_by_class(elements_sack, GA_Element_Hose, lst_left=True)\n",
    "splitter = pop_random_element_by_class(elements_sack, GA_Element_Splitter, lst_left=True)\n",
    "hoseW1 = pop_random_element_by_class(elements_sack, GA_Element_Hose, lst_left=True)\n",
    "hoseW2 = pop_random_element_by_class(elements_sack, GA_Element_Hose, lst_left=True)\n",
    "hoseW3 = pop_random_element_by_class(elements_sack, GA_Element_Hose, lst_left=True)\n",
    "nozzle1 = pop_random_element_by_class(elements_sack, GA_Element_Nozzle, lst_left=True)\n",
    "nozzle2 = pop_random_element_by_class(elements_sack, GA_Element_Nozzle, lst_left=True)\n",
    "\n",
    "# Живая линия\n",
    "pump.append(hoseM1).append(splitter).append(hoseW1).append(nozzle1)\n",
    "# Мертвая линия\n",
    "splitter.append(hoseW2).append(hoseW3).append(nozzle2)\n",
    "\n",
    "model.build(pump).check_pumps().interpretate()\n",
    "NRS_Revision.print_model_elements(model)\n",
    "\n",
    "# Расчет\n",
    "try:\n",
    "    model.calc(accuracy=0.5)\n",
    "except Exception as e:\n",
    "    print(e.args[0])\n",
    "print(f'Общий расход системы: {model.summaryQ()} л/с', end='\\n\\n')\n",
    "\n",
    "# Схема НРС\n",
    "print_NRS_graph(model)"
   ]
  },
  {
   "cell_type": "code",
   "execution_count": 49,
   "metadata": {},
   "outputs": [],
   "source": [
    "model_original=copy.deepcopy(model)"
   ]
  },
  {
   "cell_type": "code",
   "execution_count": 152,
   "metadata": {},
   "outputs": [
    {
     "name": "stdout",
     "output_type": "stream",
     "text": [
      "Невязки [19.7, (3.598408027577644e-15+58.76646278883014j), (185.9387766115051-1.1257662706205393e-14j)] 61.98053846741699 195.00442506900748\n",
      "Модель не жизнеспособна\n",
      "31.584422731061608\n",
      "\n"
     ]
    }
   ],
   "source": [
    "# model_back = copy.deepcopy(model)\n",
    "# curQ = model.summaryQ()\n",
    "# try:\n",
    "#     model.mutate(mutation_count=2)\n",
    "#     model.drop_q()\n",
    "#     kwargs = model.calc(accuracy=0.5)\n",
    "#     newQ = model.summaryQ()\n",
    "#     if newQ<curQ:\n",
    "#         model = model_back\n",
    "# except:\n",
    "#     print('Модель не жизнеспособна')\n",
    "#     model = model_back\n",
    "\n",
    "# print(model.summaryQ(), end='\\n\\n')\n",
    "# # print(kwargs[-1])"
   ]
  },
  {
   "cell_type": "code",
   "execution_count": 52,
   "metadata": {},
   "outputs": [
    {
     "name": "stdout",
     "output_type": "stream",
     "text": [
      "0 37.504589342209464\n",
      "1 37.504589342209464\n",
      "2 37.504589342209464\n",
      "3 37.504589342209464\n",
      "Модель не жизнеспособна\n",
      "4 37.504589342209464\n",
      "5 37.504589342209464\n",
      "6 37.504589342209464\n",
      "7 37.504589342209464\n",
      "8 37.504589342209464\n",
      "9 37.504589342209464\n",
      "10 37.504589342209464\n",
      "11 37.504589342209464\n",
      "H added\n",
      "12 37.504589342209464\n",
      "13 37.504589342209464\n",
      "H added\n",
      "14 39.16945522646644\n",
      "15 39.16945522646644\n",
      "16 39.16945522646644\n",
      "17 39.16945522646644\n",
      "18 39.16945522646644\n",
      "19 39.16945522646644\n",
      "20 39.16945522646644\n",
      "21 39.16945522646644\n",
      "H added\n",
      "22 40.7688615812731\n",
      "23 40.7688615812731\n",
      "Модель не жизнеспособна\n",
      "24 40.7688615812731\n",
      "Модель не жизнеспособна\n",
      "25 40.7688615812731\n",
      "26 40.7688615812731\n",
      "27 40.7718920398366\n",
      "28 40.7718920398366\n",
      "29 40.7718920398366\n",
      "30 40.775809777160944\n",
      "31 40.775809777160944\n",
      "32 40.775809777160944\n",
      "33 40.775809777160944\n",
      "34 40.77591433219254\n",
      "35 40.77591433219254\n",
      "36 40.77883937370366\n",
      "H added\n",
      "37 40.77883937370366\n",
      "38 40.77883937370366\n",
      "H added\n",
      "39 40.77883937370366\n",
      "40 40.7826520416331\n",
      "41 40.7826520416331\n",
      "42 40.7826520416331\n",
      "43 40.7826520416331\n",
      "H added\n",
      "44 42.3221581404832\n",
      "45 42.3221581404832\n",
      "Модель не жизнеспособна\n",
      "46 42.3221581404832\n",
      "47 42.3221581404832\n",
      "48 42.3221581404832\n",
      "Модель не жизнеспособна\n",
      "49 42.3221581404832\n",
      "50 42.3221581404832\n",
      "51 42.3221581404832\n",
      "52 42.3221581404832\n",
      "53 42.3221581404832\n",
      "54 42.3221581404832\n",
      "55 42.3221581404832\n",
      "56 42.3221581404832\n",
      "57 42.3221581404832\n",
      "58 42.3221581404832\n",
      "59 42.3221581404832\n",
      "60 42.3221581404832\n",
      "61 42.3221581404832\n",
      "62 42.3221581404832\n",
      "63 42.3221581404832\n",
      "H added\n",
      "64 42.3221581404832\n",
      "65 42.32307945155311\n",
      "66 42.32307945155311\n",
      "67 42.32307945155311\n",
      "68 42.32307945155311\n",
      "69 42.32307945155311\n",
      "70 42.32307945155311\n",
      "Модель не жизнеспособна\n",
      "71 42.32307945155311\n",
      "72 42.32307945155311\n",
      "73 42.32307945155311\n",
      "Модель не жизнеспособна\n",
      "74 42.32307945155311\n",
      "75 42.32307945155311\n",
      "76 42.32307945155311\n",
      "Модель не жизнеспособна\n",
      "77 42.32307945155311\n",
      "78 42.32307945155311\n",
      "79 42.32307945155311\n",
      "80 42.32307945155311\n",
      "81 42.32307945155311\n",
      "82 42.32307945155311\n",
      "83 42.32307945155311\n",
      "H added\n",
      "84 43.80759559468216\n",
      "85 43.80759559468216\n",
      "86 43.80759559468216\n",
      "87 43.80759559468216\n",
      "88 43.80759559468216\n",
      "89 43.80759559468216\n",
      "90 43.80759559468216\n",
      "91 43.80759559468216\n",
      "92 43.80759559468216\n",
      "93 43.80759559468216\n",
      "94 43.80759559468216\n",
      "95 43.80759559468216\n",
      "96 43.80759559468216\n",
      "97 43.80759559468216\n",
      "98 43.80759559468216\n",
      "99 43.80759559468216\n"
     ]
    }
   ],
   "source": [
    "for i in range(100):\n",
    "    model_back = copy.deepcopy(model)\n",
    "    curQ = model.summaryQ()\n",
    "    try:\n",
    "        model.mutate(mutation_count=2)\n",
    "        model.drop_q()\n",
    "        kwargs = model.calc(accuracy=0.5)\n",
    "        newQ = model.summaryQ()\n",
    "        if newQ<curQ:\n",
    "            model = model_back\n",
    "    except:\n",
    "        print('Модель не жизнеспособна')\n",
    "        model = model_back\n",
    "\n",
    "    print(i, model.summaryQ(), end='\\n')"
   ]
  },
  {
   "cell_type": "code",
   "execution_count": 53,
   "metadata": {},
   "outputs": [
    {
     "name": "stdout",
     "output_type": "stream",
     "text": [
      "Насос (Н0); напор: 75 м; производительность: 43.80759559468216 л/с; напор макс.: 100\n",
      "\n",
      "Рукавная линия (НРЛ1), длина: 20 м; диаметр: 300 мм; сопротивление 5.6e-06\n",
      "Рукавная линия (НРЛ3), длина: 20 м; диаметр: 200 мм; сопротивление 6e-05\n",
      "Рукавная линия (НРЛ5), длина: 20 м; диаметр: 250 мм; сопротивление 1.36e-05\n",
      "Рукавная линия (НРЛ6), длина: 40 м; диаметр: 250 мм; сопротивление 1.36e-05\n",
      "\n",
      "Ствол (С4): \"Л\"; проводимость: 2.5298221281347035; напор: 74.960448, м; расход: 21.90312459901555, л/с\n",
      "Ствол (С7): \"Л\"; проводимость: 2.5298221281347035; напор: 74.969664, м; расход: 21.904470995666614, л/с\n"
     ]
    }
   ],
   "source": [
    "for elmnt in model.elmnts:\n",
    "    if isinstance(elmnt, GA_Element_Pump):\n",
    "        print(f'Насос ({elmnt.name}); напор: {elmnt.H_add} м; производительность: {elmnt.q} л/с; напор макс.: {elmnt.H_max}')\n",
    "print('')\n",
    "for elmnt in model.elmnts:\n",
    "    if isinstance(elmnt, GA_Element_Hose):\n",
    "        print(f'Рукавная линия ({elmnt.name}), длина: {elmnt.get_L()} м; диаметр: {elmnt.d} мм; сопротивление {elmnt.s}')\n",
    "print('')\n",
    "for elmnt in model.elmnts:\n",
    "    if isinstance(elmnt, GA_Element_Nozzle):\n",
    "        print(f'Ствол ({elmnt.name}): \"{elmnt.n_type}\"; проводимость: {elmnt.p}; напор: {elmnt.H_in}, м; расход: {elmnt.q}, л/с')"
   ]
  },
  {
   "cell_type": "markdown",
   "metadata": {},
   "source": [
    "## Класс-Оценщик"
   ]
  },
  {
   "cell_type": "code",
   "execution_count": 123,
   "metadata": {},
   "outputs": [
    {
     "data": {
      "text/plain": [
       "{'distances': {'Н0': {'С4': 40, 'С7': 80}},\n",
       " 'min_L': 40,\n",
       " 'max_L': 80,\n",
       " '300': 1,\n",
       " '200': 1,\n",
       " 'Л': 2,\n",
       " '250': 3,\n",
       " 'Q': 43.80759559468216}"
      ]
     },
     "execution_count": 123,
     "metadata": {},
     "output_type": "execute_result"
    }
   ],
   "source": [
    "import numpy as np\n",
    "\n",
    "class Appraiser(NRS_Revision):\n",
    "    '''\n",
    "    Класс-оценщик состояния модели\n",
    "    '''\n",
    "    \n",
    "    @staticmethod\n",
    "    def print_GA_NRS_model_elements_state(model:GA_model):\n",
    "        for elmnt in model.elmnts:\n",
    "            if isinstance(elmnt, GA_Element_Pump):\n",
    "                print(f'Насос ({elmnt.name}); напор: {elmnt.H_add} м; производительность: {elmnt.q} л/с; напор макс.: {elmnt.H_max}')\n",
    "        print('')\n",
    "        for elmnt in model.elmnts:\n",
    "            if isinstance(elmnt, GA_Element_Hose):\n",
    "                print(f'Рукавная линия ({elmnt.name}), длина: {elmnt.get_L()} м; диаметр: {elmnt.d} мм; сопротивление {elmnt.s}')\n",
    "        print('')\n",
    "        for elmnt in model.elmnts:\n",
    "            if isinstance(elmnt, GA_Element_Nozzle):\n",
    "                print(f'Ствол ({elmnt.name}): \"{elmnt.n_type}\"; проводимость: {elmnt.p}; напор: {elmnt.H_in}, м; расход: {elmnt.q}, л/с')\n",
    "\n",
    "    @staticmethod\n",
    "    def get_G(model:GA_model):\n",
    "        G = nx.DiGraph()\n",
    "\n",
    "        # Узлы - на каждый элемент\n",
    "        for elmnt in model.elmnts:\n",
    "            G.add_node(elmnt.name, q=elmnt.q)\n",
    "        # Ребра - на каждую связь\n",
    "        for elmnt in model.elmnts:\n",
    "            for elmnt_next in elmnt.elements_next:\n",
    "                G.add_edge(elmnt.name, elmnt_next.name, L=elmnt.get_L())\n",
    "        \n",
    "        return G\n",
    "    \n",
    "    @staticmethod\n",
    "    def get_Ls(G, model:GA_model):\n",
    "        ''' \n",
    "        Расчет расстояний до элементов\n",
    "\n",
    "        # Возвращает\n",
    "\n",
    "        `p`: dict, `min_L`:float, `max_L`:float\n",
    "            `p` - Словарь словарей, где ключ1 - имя насоса, ключ2 - имя ствола, значение - расстояние до него в метрах.\n",
    "            `min_L` - Минимальное расстояние из имеющихся, м.\n",
    "            `max_L` - Максимальное расстояние из имеющихся, м.\n",
    "        '''\n",
    "        max_L=0\n",
    "        min_L=100000\n",
    "        nozzles_names = [n.name for n in model.elmnts_out if n.type==2]\n",
    "        p={}\n",
    "        for e_pump in model.elmnts_in:\n",
    "            paths = nx.shortest_path_length(G, source = e_pump.name, weight='L')\n",
    "            dists = {k:v for k,v in paths.items() if k in nozzles_names}  \n",
    "            p[e_pump.name] = dists\n",
    "            cur_max_L = max(dists.values())\n",
    "            cur_min_L = min(dists.values())\n",
    "            if cur_max_L>max_L: max_L=cur_max_L\n",
    "            if cur_min_L<min_L: min_L=cur_min_L\n",
    "        return p, min_L, max_L\n",
    "    \n",
    "    @staticmethod\n",
    "    def metrics(model:GA_model):\n",
    "        '''\n",
    "        Оценка модели\n",
    "        '''\n",
    "        m={}\n",
    "        # Расчет длинн рукавных линий\n",
    "        G = Appraiser.get_G(model)\n",
    "        # distances, min_L, max_L = Appraiser.get_Ls(G, model)\n",
    "        m['distances'], m['min_L'], m['max_L'] = Appraiser.get_Ls(G, model)        \n",
    "\n",
    "        # Количество рукавов\n",
    "        # hoses = {}\n",
    "        # nozzles = {}\n",
    "        for elmnt in model.elmnts:\n",
    "            if isinstance(elmnt, GA_Element_Hose):\n",
    "                try:\n",
    "                    m[elmnt.d]+=elmnt.n\n",
    "                except:\n",
    "                    m[elmnt.d]=elmnt.n\n",
    "            if isinstance(elmnt, GA_Element_Nozzle):\n",
    "                try:\n",
    "                    m[elmnt.n_type]+=1\n",
    "                except:\n",
    "                    m[elmnt.n_type]=1\n",
    "\n",
    "        # m['hoses']=hoses\n",
    "        # m['nozzles']=nozzles\n",
    "        \n",
    "        # Общий расход\n",
    "        m['Q'] = model.summaryQ()\n",
    "\n",
    "        # \n",
    "        return m\n",
    "\n",
    "    @staticmethod\n",
    "    def evaluate(metrics: dict, aims: dict):\n",
    "        '''\n",
    "        Оценка модели\n",
    "\n",
    "        `metrics`: dict\n",
    "            Словарь метрик модели\n",
    "        `aims`: dict\n",
    "            Словарь целей оптимизации\n",
    "        ''' \n",
    "        # penalty=[]   \n",
    "        X = []\n",
    "        Y = []\n",
    "        for aim, aim_val in aims.items():\n",
    "            metric_val = metrics[aim]\n",
    "            X.append(metric_val)\n",
    "            Y.append(aim_val)\n",
    "            # penalty.append(abs(metric_val-aim_val))\n",
    "\n",
    "        # Исправление Q\n",
    "        q_max = max(X[0], Y[0])\n",
    "        X[0]= X[0]/q_max\n",
    "        Y[0]= Y[0]/q_max\n",
    "\n",
    "        # Собственно оценка!\n",
    "        z=[]\n",
    "        for x,y in zip(X,Y):\n",
    "            # print(abs(y-x))\n",
    "            z.append(abs(y-x))\n",
    "\n",
    "        return np.mean(z)\n",
    "\n",
    "metrics = Appraiser.metrics(model)\n",
    "metrics"
   ]
  },
  {
   "cell_type": "code",
   "execution_count": 124,
   "metadata": {},
   "outputs": [
    {
     "data": {
      "text/plain": [
       "0.1575936251150734"
      ]
     },
     "execution_count": 124,
     "metadata": {},
     "output_type": "execute_result"
    }
   ],
   "source": [
    "aims = {'Q':30, '300': 1}\n",
    "Appraiser.evaluate(metrics, aims)"
   ]
  },
  {
   "cell_type": "code",
   "execution_count": 125,
   "metadata": {},
   "outputs": [
    {
     "data": {
      "text/plain": [
       "0.6575936251150734"
      ]
     },
     "execution_count": 125,
     "metadata": {},
     "output_type": "execute_result"
    }
   ],
   "source": [
    "aims = {'Q':30, '300': 0}\n",
    "Appraiser.evaluate(metrics, aims)"
   ]
  },
  {
   "cell_type": "code",
   "execution_count": null,
   "metadata": {},
   "outputs": [],
   "source": []
  },
  {
   "cell_type": "code",
   "execution_count": null,
   "metadata": {},
   "outputs": [],
   "source": []
  },
  {
   "cell_type": "code",
   "execution_count": null,
   "metadata": {},
   "outputs": [],
   "source": []
  },
  {
   "cell_type": "code",
   "execution_count": 117,
   "metadata": {},
   "outputs": [
    {
     "data": {
      "text/plain": [
       "([1.0, 1], [0.6848127497698532, 1])"
      ]
     },
     "execution_count": 117,
     "metadata": {},
     "output_type": "execute_result"
    }
   ],
   "source": [
    "aims = {'Q':30, '300': 1}\n",
    "X,Y = Appraiser.evaluate(metrics, aims)\n",
    "\n",
    "# Исправление Q\n",
    "q_max = max(X[0], Y[0])\n",
    "X[0]= X[0]/q_max\n",
    "Y[0]= Y[0]/q_max\n",
    "X,Y"
   ]
  },
  {
   "cell_type": "code",
   "execution_count": 120,
   "metadata": {},
   "outputs": [
    {
     "name": "stdout",
     "output_type": "stream",
     "text": [
      "0.3151872502301468\n",
      "0\n",
      "Средняя ошибка 0.1575936251150734\n"
     ]
    }
   ],
   "source": [
    "z=[]\n",
    "for x,y in zip(X,Y):\n",
    "    print(abs(y-x))\n",
    "    z.append(abs(y-x))\n",
    "\n",
    "print(\"Средняя ошибка\", np.mean(z))"
   ]
  },
  {
   "cell_type": "code",
   "execution_count": null,
   "metadata": {},
   "outputs": [],
   "source": []
  },
  {
   "cell_type": "code",
   "execution_count": null,
   "metadata": {},
   "outputs": [],
   "source": []
  },
  {
   "cell_type": "code",
   "execution_count": null,
   "metadata": {},
   "outputs": [],
   "source": []
  },
  {
   "cell_type": "code",
   "execution_count": 95,
   "metadata": {},
   "outputs": [
    {
     "name": "stdout",
     "output_type": "stream",
     "text": [
      "Насос (Н0); напор: 75 м; производительность: 43.80759559468216 л/с; напор макс.: 100\n",
      "\n",
      "Рукавная линия (НРЛ1), длина: 20 м; диаметр: 300 мм; сопротивление 5.6e-06\n",
      "Рукавная линия (НРЛ3), длина: 20 м; диаметр: 200 мм; сопротивление 6e-05\n",
      "Рукавная линия (НРЛ5), длина: 20 м; диаметр: 250 мм; сопротивление 1.36e-05\n",
      "Рукавная линия (НРЛ6), длина: 40 м; диаметр: 250 мм; сопротивление 1.36e-05\n",
      "\n",
      "Ствол (С4): \"Л\"; проводимость: 2.5298221281347035; напор: 74.960448, м; расход: 21.90312459901555, л/с\n",
      "Ствол (С7): \"Л\"; проводимость: 2.5298221281347035; напор: 74.969664, м; расход: 21.904470995666614, л/с\n"
     ]
    }
   ],
   "source": [
    "Appraiser.print_GA_NRS_model_elements_state(model)"
   ]
  }
 ],
 "metadata": {
  "kernelspec": {
   "display_name": "ox",
   "language": "python",
   "name": "python3"
  },
  "language_info": {
   "codemirror_mode": {
    "name": "ipython",
    "version": 3
   },
   "file_extension": ".py",
   "mimetype": "text/x-python",
   "name": "python",
   "nbconvert_exporter": "python",
   "pygments_lexer": "ipython3",
   "version": "3.12.0"
  }
 },
 "nbformat": 4,
 "nbformat_minor": 2
}
