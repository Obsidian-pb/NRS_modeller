{
 "cells": [
  {
   "cell_type": "code",
   "execution_count": 1,
   "metadata": {},
   "outputs": [],
   "source": [
    "from nrs import NRS_Model, Element, NRS_Revision, NRS_Observer_E    # классы НРС\n",
    "from nrs import NRS_Data as nd                                      # Табличные данные НРС\n",
    "from nrs import q_out_simple, q_out_nozzle                          # модели расчета параметров\n",
    "import matplotlib.pyplot as plt                                     # библиотеки для отрисовки получаемых данных"
   ]
  },
  {
   "cell_type": "markdown",
   "metadata": {},
   "source": [
    "# Простая схема с перекачкой\n",
    "![Схема НРС](imgs/pump_to_pump_2_nozzles.png)\n",
    "\n",
    "Схема НРС состоит из:\n",
    "* 2 источников в виде насоса ПА, соединенных последовательно\n",
    "* 1 магистральной рукавной линии\n",
    "* 2 рабочих рукавных линий\n",
    "* 2 приборов подачи воды"
   ]
  },
  {
   "cell_type": "code",
   "execution_count": 54,
   "metadata": {},
   "outputs": [
    {
     "name": "stdout",
     "output_type": "stream",
     "text": [
      "Новый элемент НРС: Н1\n",
      "Новый элемент НРС: Н2\n",
      "Новый элемент НРС: МРЛ1\n",
      "Новый элемент НРС: РРЛ1\n",
      "Новый элемент НРС: РРЛ2\n",
      "Новый элемент НРС: Ств1\n",
      "Новый элемент НРС: Ств2\n",
      "Новая модель: Простая модель от одного насоса к двум стволам, с перекачкой\n",
      "all:\n",
      "  Н1\n",
      "  МРЛ1\n",
      "  Н2\n",
      "  РРЛ1\n",
      "  Ств1\n",
      "  РРЛ2\n",
      "  Ств2\n",
      "in:\n",
      "  Н1\n",
      "out:\n",
      "  Ств1\n",
      "  Ств2\n"
     ]
    }
   ],
   "source": [
    "# Вычисляем проводимость насадка для ствола Б\n",
    "p_nozzleB = NRS_Revision.calc_p(3.7, 40)\n",
    "p_nozzleB\n",
    "\n",
    "# Создаем элементы НРС\n",
    "pump1 = Element('Н1', e_type=0, H_add=20)                                 # Стартовый напор на насосе = 20м    \n",
    "pump2 = Element('Н2', e_type=1, H_add=20)\n",
    "\n",
    "hoseM1 = Element('МРЛ1', e_type=1, s=nd.ss[\"77\"], n=4)\n",
    "hoseW1 = Element('РРЛ1', e_type=1, s=nd.ss[\"51\"], n=3)\n",
    "hoseW2 = Element('РРЛ2', e_type=1, s=nd.ss[\"51\"], n=3)\n",
    "\n",
    "nozzle1 = Element('Ств1', e_type=2, p=p_nozzleB, q_out = q_out_nozzle)\n",
    "nozzle2 = Element('Ств2', e_type=2, p=p_nozzleB, q_out = q_out_nozzle)\n",
    "\n",
    "# Соединяем элементы друг с другом:\n",
    "pump1.append(hoseM1).append(pump2)\n",
    "pump2.append(hoseW1).append(nozzle1)\n",
    "pump2.append(hoseW2).append(nozzle2)\n",
    "\n",
    "# Без наблюдателей\n",
    "\n",
    "# Строим модель и инициируем обозревателей\n",
    "model = NRS_Model('Простая модель от одного насоса к двум стволам, с перекачкой')\n",
    "# model.build(pump1, interpretate=False);\n",
    "model.build(pump1, interpretate=True)\n",
    "\n",
    "# Печатаем состав модели\n",
    "NRS_Revision.print_model_elements(model)"
   ]
  },
  {
   "cell_type": "code",
   "execution_count": 55,
   "metadata": {},
   "outputs": [
    {
     "name": "stdout",
     "output_type": "stream",
     "text": [
      "Расчет НРС не возможен\n",
      "6.716139980210957\n"
     ]
    }
   ],
   "source": [
    "# Рассчет \n",
    "model.calc(accuracy=0.05)\n",
    "print(model.summaryQ())"
   ]
  },
  {
   "cell_type": "code",
   "execution_count": 56,
   "metadata": {},
   "outputs": [
    {
     "name": "stdout",
     "output_type": "stream",
     "text": [
      "elements_next: [<nrs.Element object at 0x000002BC1178BC20>, <nrs.Element object at 0x000002BC119DA480>]\n",
      "elements_previous: [<nrs.Element object at 0x000002BC119D8920>]\n",
      "type: 1\n",
      "name: Н2\n",
      "q: 6.716139980210957\n",
      "s: 0\n",
      "H_in: 17.313725342457275\n",
      "h: 0.0\n",
      "z: 0\n",
      "p: 1\n",
      "n: 1\n",
      "q_out: <function q_out_simple at 0x000002BC10628400>\n",
      "H_add: 20\n",
      "observer: None\n",
      "H_out: 37.313725342457275\n"
     ]
    }
   ],
   "source": [
    "NRS_Revision.print_element_state(pump2)"
   ]
  },
  {
   "cell_type": "code",
   "execution_count": 57,
   "metadata": {},
   "outputs": [
    {
     "name": "stdout",
     "output_type": "stream",
     "text": [
      "8.151344100978687\n",
      "7.9552764308168795\n",
      "7.772273556690172\n",
      "7.6039574750625\n",
      "7.44237673472469\n"
     ]
    }
   ],
   "source": [
    "pump2.set_H_add(40)\n",
    "hoseM1.n = 5\n",
    "model.calc(accuracy=0.005)\n",
    "print(model.summaryQ())\n",
    "hoseM1.n = 8\n",
    "model.calc(accuracy=0.005)\n",
    "print(model.summaryQ())\n",
    "hoseM1.n = 11\n",
    "model.calc(accuracy=0.005)\n",
    "print(model.summaryQ())\n",
    "hoseM1.n = 14\n",
    "model.calc(accuracy=0.005)\n",
    "print(model.summaryQ())\n",
    "hoseM1.n = 17\n",
    "model.calc(accuracy=0.005)\n",
    "print(model.summaryQ())"
   ]
  },
  {
   "cell_type": "code",
   "execution_count": 62,
   "metadata": {},
   "outputs": [
    {
     "name": "stdout",
     "output_type": "stream",
     "text": [
      "Расчет НРС не возможен\n",
      "9.656178472499992\n"
     ]
    }
   ],
   "source": [
    "hoseM1.n = 2\n",
    "model.calc(accuracy=0.005)\n",
    "print(model.summaryQ())"
   ]
  },
  {
   "cell_type": "code",
   "execution_count": 61,
   "metadata": {},
   "outputs": [],
   "source": [
    "# Исправляет перегрев модели, сбрасывая входящие напоры. Для много стартовых моделей неприемлемо, скорее всего.\n",
    "pump1.set_H_in(20)"
   ]
  },
  {
   "cell_type": "code",
   "execution_count": 52,
   "metadata": {},
   "outputs": [
    {
     "data": {
      "text/plain": [
       "<nrs.NRS_Model at 0x2bc11840b00>"
      ]
     },
     "execution_count": 52,
     "metadata": {},
     "output_type": "execute_result"
    }
   ],
   "source": [
    "model.build(pump1, interpretate=True)"
   ]
  },
  {
   "cell_type": "markdown",
   "metadata": {},
   "source": [
    "# Схема со слиянием нескольких элементов в одну линию\n",
    "\n",
    "![Схема НРС](imgs/2_pump_to_1_nozzle.png)\n",
    "\n",
    "Схема НРС состоит из:\n",
    "* 2 источников в виде насоса ПА\n",
    "* 2 магистральных рукавных линий\n",
    "* 1 рабочей рукавной линии\n",
    "* 1 прибора подачи воды"
   ]
  },
  {
   "cell_type": "code",
   "execution_count": 5,
   "metadata": {},
   "outputs": [
    {
     "name": "stdout",
     "output_type": "stream",
     "text": [
      "Проводимость лафетного ствола 2.581988897471611\n",
      "Новый элемент НРС: Н1\n",
      "Новый элемент НРС: Н2\n",
      "Новый элемент НРС: МРЛ1\n",
      "Новый элемент НРС: МРЛ2\n",
      "Новый элемент НРС: РРЛ1\n",
      "Новый элемент НРС: ВС1\n",
      "Новый элемент НРС: Ств1\n",
      "Новая модель: Сложная модель со слиянием нескольких элементов в одну линию\n",
      "all:\n",
      "  Н1\n",
      "  МРЛ1\n",
      "  ВС1\n",
      "  РРЛ1\n",
      "  Ств1\n",
      "  МРЛ2\n",
      "  Н2\n",
      "in:\n",
      "  Н1\n",
      "  Н2\n",
      "out:\n",
      "  Ств1\n"
     ]
    }
   ],
   "source": [
    "# Вычисляем проводимость насадка для ствола Б\n",
    "p_nozzleL = NRS_Revision.calc_p(20, 60)\n",
    "print(f'Проводимость лафетного ствола {p_nozzleL}')\n",
    "\n",
    "# Создаем элементы НРС\n",
    "pump1 = Element('Н1', e_type=0, H_add=80)                                 \n",
    "pump2 = Element('Н2', e_type=0, H_add=80)\n",
    "\n",
    "hoseM1 = Element('МРЛ1', e_type=1, s=nd.ss[\"77\"], n=8)\n",
    "hoseM2 = Element('МРЛ2', e_type=1, s=nd.ss[\"77\"], n=4)\n",
    "hoseW1 = Element('РРЛ1', e_type=1, s=nd.ss[\"77\"], n=4)\n",
    "\n",
    "joiner1 = Element('ВС1', 1)\n",
    "\n",
    "nozzle1 = Element('Ств1', e_type=2, p=p_nozzleL, q_out = q_out_nozzle)\n",
    "\n",
    "# Соединяем элементы друг с другом:\n",
    "pump1.append(hoseM1).append(joiner1)\n",
    "pump2.append(hoseM2).append(joiner1).append(hoseW1).append(nozzle1)\n",
    "\n",
    "# Без наблюдателей\n",
    "\n",
    "# Строим модель и инициируем обозревателей\n",
    "model = NRS_Model('Сложная модель со слиянием нескольких элементов в одну линию')\n",
    "# model.build(pump1, interpretate=False);\n",
    "model.build(pump1, interpretate=True)\n",
    "\n",
    "# Печатаем состав модели\n",
    "NRS_Revision.print_model_elements(model)"
   ]
  },
  {
   "cell_type": "code",
   "execution_count": 6,
   "metadata": {},
   "outputs": [
    {
     "name": "stdout",
     "output_type": "stream",
     "text": [
      "Расчет НРС не возможен\n",
      "18.857260790083174\n"
     ]
    }
   ],
   "source": [
    "model.calc(accuracy=0.005)\n",
    "print(model.summaryQ())"
   ]
  },
  {
   "cell_type": "code",
   "execution_count": 8,
   "metadata": {},
   "outputs": [
    {
     "name": "stdout",
     "output_type": "stream",
     "text": [
      "Насос №1\n",
      "H_add: 80\n",
      "q: 9.428630395041587\n",
      "Насос №2\n",
      "H_add: 80\n",
      "q: 9.428630395041587\n"
     ]
    }
   ],
   "source": [
    "print('Насос №1')\n",
    "NRS_Revision.print_element_state(pump1, ['H_add', 'q'])\n",
    "print('Насос №2')\n",
    "NRS_Revision.print_element_state(pump2, ['H_add', 'q'])"
   ]
  },
  {
   "cell_type": "code",
   "execution_count": 9,
   "metadata": {},
   "outputs": [
    {
     "name": "stdout",
     "output_type": "stream",
     "text": [
      "elements_next: [<nrs.Element object at 0x00000218FC51DC10>]\n",
      "elements_previous: [<nrs.Element object at 0x00000218FC46C830>]\n",
      "type: 1\n",
      "name: МРЛ1\n",
      "q: 9.428630395041587\n",
      "s: 0.015\n",
      "H_in: 80.0\n",
      "h: 10.6642229296875\n",
      "z: 0\n",
      "p: 1\n",
      "n: 8\n",
      "q_out: <function q_out_simple at 0x00000218FB2A5760>\n",
      "H_add: 0\n",
      "observer: None\n",
      "H_out: 69.3357770703125\n"
     ]
    }
   ],
   "source": [
    "NRS_Revision.print_element_state(hoseM1)"
   ]
  },
  {
   "cell_type": "code",
   "execution_count": 10,
   "metadata": {},
   "outputs": [
    {
     "name": "stdout",
     "output_type": "stream",
     "text": [
      "elements_next: [<nrs.Element object at 0x00000218FC51DC10>]\n",
      "elements_previous: [<nrs.Element object at 0x00000218FB29DF70>]\n",
      "type: 1\n",
      "name: МРЛ2\n",
      "q: 9.428630395041587\n",
      "s: 0.015\n",
      "H_in: 80.0\n",
      "h: 5.33211146484375\n",
      "z: 0\n",
      "p: 1\n",
      "n: 4\n",
      "q_out: <function q_out_simple at 0x00000218FB2A5760>\n",
      "H_add: 0\n",
      "observer: None\n",
      "H_out: 74.66788853515625\n"
     ]
    }
   ],
   "source": [
    "NRS_Revision.print_element_state(hoseM2)"
   ]
  },
  {
   "cell_type": "markdown",
   "metadata": {},
   "source": [
    "# Тест рисования графа"
   ]
  },
  {
   "cell_type": "code",
   "execution_count": null,
   "metadata": {},
   "outputs": [],
   "source": [
    "import networkx as nx"
   ]
  },
  {
   "cell_type": "code",
   "execution_count": null,
   "metadata": {},
   "outputs": [],
   "source": []
  }
 ],
 "metadata": {
  "kernelspec": {
   "display_name": "ox_actual",
   "language": "python",
   "name": "python3"
  },
  "language_info": {
   "codemirror_mode": {
    "name": "ipython",
    "version": 3
   },
   "file_extension": ".py",
   "mimetype": "text/x-python",
   "name": "python",
   "nbconvert_exporter": "python",
   "pygments_lexer": "ipython3",
   "version": "3.12.0"
  }
 },
 "nbformat": 4,
 "nbformat_minor": 2
}
