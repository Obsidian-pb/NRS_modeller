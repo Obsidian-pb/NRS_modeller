{
 "cells": [
  {
   "cell_type": "code",
   "execution_count": 1,
   "metadata": {},
   "outputs": [],
   "source": [
    "from nrs import NRS_Model, Element, NRS_Revision, NRS_Observer_E    # классы НРС\n",
    "from nrs import NRS_Data                                            # Табличные данные НРС\n",
    "from nrs import q_out_simple, q_out_nozzle                          # модели расчета параметров\n",
    "import matplotlib.pyplot as plt                                     # библиотеки для отрисовки получаемых данных\n",
    "import networkx as nx\n",
    "\n",
    "import logging\n",
    "logger = logging.getLogger('NRS')\n",
    "logging.basicConfig(level=logging.DEBUG)"
   ]
  },
  {
   "cell_type": "markdown",
   "metadata": {},
   "source": [
    "# Простая схема с перекачкой"
   ]
  },
  {
   "cell_type": "markdown",
   "metadata": {},
   "source": [
    "![Схема НРС](imgs/pump_to_pump_2_nozzles.png)\n",
    "\n",
    "Схема НРС состоит из:\n",
    "* 2 источников в виде насоса ПА, соединенных последовательно\n",
    "* 1 магистральной рукавной линии\n",
    "* 2 рабочих рукавных линий\n",
    "* 2 приборов подачи воды"
   ]
  },
  {
   "cell_type": "code",
   "execution_count": 57,
   "metadata": {},
   "outputs": [
    {
     "name": "stdout",
     "output_type": "stream",
     "text": [
      "Новый элемент НРС: Н1\n",
      "Новый элемент НРС: Н2\n",
      "Новый элемент НРС: МРЛ1\n",
      "Новый элемент НРС: РРЛ1\n",
      "Новый элемент НРС: РРЛ2\n",
      "Новый элемент НРС: Ств1\n",
      "Новый элемент НРС: Ств2\n",
      "Новая модель: Простая модель от одного насоса к двум стволам, с перекачкой\n",
      "all:\n",
      "  Н1\n",
      "  МРЛ1\n",
      "  Н2\n",
      "  РРЛ1\n",
      "  Ств1\n",
      "  РРЛ2\n",
      "  Ств2\n",
      "in:\n",
      "  Н1\n",
      "out:\n",
      "  Ств1\n",
      "  Ств2\n"
     ]
    }
   ],
   "source": [
    "# Вычисляем проводимость насадка для ствола Б\n",
    "p_nozzleB = NRS_Revision.calc_p(3.7, 40)\n",
    "p_nozzleB\n",
    "\n",
    "# Создаем элементы НРС\n",
    "pump1 = Element('Н1', e_type=0, H_add=20)                                 # Стартовый напор на насосе = 20м    \n",
    "pump2 = Element('Н2', e_type=1, H_add=20)\n",
    "\n",
    "hoseM1 = Element('МРЛ1', e_type=1, s=NRS_Data.ss[\"77\"], n=4, l=20)\n",
    "hoseW1 = Element('РРЛ1', e_type=1, s=NRS_Data.ss[\"51\"], n=3, l=20)\n",
    "hoseW2 = Element('РРЛ2', e_type=1, s=NRS_Data.ss[\"51\"], n=6, l=20)\n",
    "\n",
    "nozzle1 = Element('Ств1', e_type=2, p=p_nozzleB, q_out = q_out_nozzle)\n",
    "nozzle2 = Element('Ств2', e_type=2, p=p_nozzleB, q_out = q_out_nozzle)\n",
    "\n",
    "# Соединяем элементы друг с другом:\n",
    "pump1.append(hoseM1).append(pump2)\n",
    "pump2.append(hoseW1).append(nozzle1)\n",
    "pump2.append(hoseW2).append(nozzle2)\n",
    "\n",
    "# Без наблюдателей\n",
    "\n",
    "# Строим модель и инициируем обозревателей\n",
    "model1 = NRS_Model('Простая модель от одного насоса к двум стволам, с перекачкой')\n",
    "# model.build(pump1, interpretate=False);\n",
    "model1.build(pump1, interpretate=True)\n",
    "\n",
    "# Печатаем состав модели\n",
    "NRS_Revision.print_model_elements(model1)"
   ]
  },
  {
   "cell_type": "code",
   "execution_count": 58,
   "metadata": {},
   "outputs": [
    {
     "name": "stdout",
     "output_type": "stream",
     "text": [
      "Расчет НРС не возможен\n",
      "6.552530741280176\n"
     ]
    }
   ],
   "source": [
    "# Рассчет \n",
    "model1.calc(accuracy=0.05)\n",
    "print(model1.summaryQ())"
   ]
  },
  {
   "cell_type": "code",
   "execution_count": 61,
   "metadata": {},
   "outputs": [
    {
     "name": "stdout",
     "output_type": "stream",
     "text": [
      "elements_next: [<nrs.Element object at 0x000001D87A8B68D0>, <nrs.Element object at 0x000001D87A6C9250>]\n",
      "elements_previous: [<nrs.Element object at 0x000001D87A9000D0>]\n",
      "type: 1\n",
      "name: Н2\n",
      "q: 6.552530741280176\n",
      "s: 0\n",
      "H_in: 17.444403938764626\n",
      "h: 0.0\n",
      "z: 0\n",
      "p: 1\n",
      "n: 1\n",
      "q_out: <function q_out_simple at 0x000001D8766E7A60>\n",
      "H_add: 20\n",
      "observer: None\n",
      "l: 0\n",
      "H_out: 37.44440393876462\n"
     ]
    }
   ],
   "source": [
    "NRS_Revision.print_element_state(pump2)"
   ]
  },
  {
   "cell_type": "code",
   "execution_count": 62,
   "metadata": {},
   "outputs": [
    {
     "name": "stdout",
     "output_type": "stream",
     "text": [
      "6.552530741280176\n",
      "8.010999932976922\n"
     ]
    }
   ],
   "source": [
    "print(model1.summaryQ())\n",
    "\n",
    "pump2.set_H_add(40)\n",
    "model1.calc(accuracy=0.005)\n",
    "\n",
    "print(model1.summaryQ())"
   ]
  },
  {
   "cell_type": "code",
   "execution_count": 63,
   "metadata": {},
   "outputs": [
    {
     "name": "stdout",
     "output_type": "stream",
     "text": [
      "7.949194926322782\n",
      "7.767235796493592\n",
      "7.597977324345875\n",
      "7.436205769252888\n",
      "7.289298522659095\n"
     ]
    }
   ],
   "source": [
    "hoseM1.n = 5\n",
    "model1.calc(accuracy=0.005)\n",
    "print(model1.summaryQ())\n",
    "hoseM1.n = 8\n",
    "model1.calc(accuracy=0.005)\n",
    "print(model1.summaryQ())\n",
    "hoseM1.n = 11\n",
    "model1.calc(accuracy=0.005)\n",
    "print(model1.summaryQ())\n",
    "hoseM1.n = 14\n",
    "model1.calc(accuracy=0.005)\n",
    "print(model1.summaryQ())\n",
    "hoseM1.n = 17\n",
    "model1.calc(accuracy=0.005)\n",
    "print(model1.summaryQ())"
   ]
  },
  {
   "cell_type": "code",
   "execution_count": 6,
   "metadata": {},
   "outputs": [
    {
     "name": "stdout",
     "output_type": "stream",
     "text": [
      "8.1449313174344\n"
     ]
    }
   ],
   "source": [
    "hoseM1.n = 2\n",
    "model1.calc(accuracy=0.005)\n",
    "print(model1.summaryQ())"
   ]
  },
  {
   "cell_type": "code",
   "execution_count": 7,
   "metadata": {},
   "outputs": [],
   "source": [
    "# Исправляет перегрев модели, сбрасывая входящие напоры. Для много стартовых моделей неприемлемо, скорее всего.\n",
    "pump1.set_H_in(20)"
   ]
  },
  {
   "cell_type": "code",
   "execution_count": 8,
   "metadata": {},
   "outputs": [
    {
     "data": {
      "text/plain": [
       "<nrs.NRS_Model at 0x1d877a86310>"
      ]
     },
     "execution_count": 8,
     "metadata": {},
     "output_type": "execute_result"
    }
   ],
   "source": [
    "model1.build(pump1, interpretate=True)"
   ]
  },
  {
   "cell_type": "markdown",
   "metadata": {},
   "source": [
    "# Схема со слиянием нескольких элементов в одну линию"
   ]
  },
  {
   "cell_type": "markdown",
   "metadata": {},
   "source": [
    "\n",
    "![Схема НРС](imgs/2_pump_to_1_nozzle.png)\n",
    "\n",
    "Схема НРС состоит из:\n",
    "* 2 источников в виде насоса ПА\n",
    "* 2 магистральных рукавных линий\n",
    "* 1 рабочей рукавной линии\n",
    "* 1 прибора подачи воды"
   ]
  },
  {
   "cell_type": "code",
   "execution_count": 2,
   "metadata": {},
   "outputs": [
    {
     "name": "stderr",
     "output_type": "stream",
     "text": [
      "INFO:NRS:Новый элемент НРС: Н1\n",
      "INFO:NRS:Новый элемент НРС: МРЛ1\n",
      "INFO:NRS:Новый элемент НРС: ВС1\n",
      "INFO:NRS:Новый элемент НРС: РРЛ1\n",
      "INFO:NRS:Новый элемент НРС: Ств1\n",
      "INFO:NRS:Новый элемент НРС: МРЛ2\n",
      "INFO:NRS:Новый элемент НРС: Н2\n",
      "WARNING:NRS:Функция `interpretate` устарела и в будущем будет удалена. Ее использование настоятельно не рекомендуется!\n"
     ]
    },
    {
     "name": "stdout",
     "output_type": "stream",
     "text": [
      "Проводимость лафетного ствола 2.581988897471611\n",
      "Новая модель: Сложная модель со слиянием нескольких элементов в одну линию\n",
      "all:\n",
      "  Н1\n",
      "  МРЛ1\n",
      "  ВС1\n",
      "  РРЛ1\n",
      "  Ств1\n",
      "  МРЛ2\n",
      "  Н2\n",
      "in:\n",
      "  Н1\n",
      "  Н2\n",
      "out:\n",
      "  Ств1\n"
     ]
    }
   ],
   "source": [
    "# Вычисляем проводимость насадка для ствола Б\n",
    "p_nozzleL = NRS_Revision.calc_p(20, 60)\n",
    "print(f'Проводимость лафетного ствола {p_nozzleL}')\n",
    "\n",
    "# Создаем элементы НРС\n",
    "pump1 = Element('Н1', e_type=0, H_add=80)                                 \n",
    "pump2 = Element('Н2', e_type=0, H_add=80)\n",
    "\n",
    "hoseM1 = Element('МРЛ1', e_type=1, s=NRS_Data.ss[\"77\"], n=8, l=20)\n",
    "hoseM2 = Element('МРЛ2', e_type=1, s=NRS_Data.ss[\"77\"], n=4, l=20)\n",
    "hoseW1 = Element('РРЛ1', e_type=1, s=NRS_Data.ss[\"77\"], n=4, l=20)\n",
    "\n",
    "joiner1 = Element('ВС1', e_type=1, ri=2, ro=1)\n",
    "\n",
    "nozzle1 = Element('Ств1', e_type=2, p=p_nozzleL, q_out = q_out_nozzle)\n",
    "\n",
    "# Соединяем элементы друг с другом:\n",
    "pump1.append(hoseM1).append(joiner1)\n",
    "pump2.append(hoseM2).append(joiner1).append(hoseW1).append(nozzle1)\n",
    "\n",
    "# Без наблюдателей\n",
    "\n",
    "# Строим модель и инициируем обозревателей\n",
    "model2 = NRS_Model('Сложная модель со слиянием нескольких элементов в одну линию')\n",
    "# model.build(pump1, interpretate=False);\n",
    "model2.build(pump1, interpretate=True)\n",
    "\n",
    "# Печатаем состав модели\n",
    "NRS_Revision.print_model_elements(model2)"
   ]
  },
  {
   "cell_type": "code",
   "execution_count": 3,
   "metadata": {},
   "outputs": [
    {
     "name": "stderr",
     "output_type": "stream",
     "text": [
      "DEBUG:NRS:Расчет НРС не возможен\n"
     ]
    },
    {
     "name": "stdout",
     "output_type": "stream",
     "text": [
      "18.857260790083174\n"
     ]
    }
   ],
   "source": [
    "model2.calc(accuracy=0.005)\n",
    "print(model2.summaryQ())"
   ]
  },
  {
   "cell_type": "code",
   "execution_count": 4,
   "metadata": {},
   "outputs": [
    {
     "name": "stdout",
     "output_type": "stream",
     "text": [
      "Насос №1\n",
      "H_add: 80\n",
      "q: 9.428630395041587\n",
      "Насос №2\n",
      "H_add: 80\n",
      "q: 9.428630395041587\n"
     ]
    }
   ],
   "source": [
    "print('Насос №1')\n",
    "NRS_Revision.print_element_state(pump1, ['H_add', 'q'])\n",
    "print('Насос №2')\n",
    "NRS_Revision.print_element_state(pump2, ['H_add', 'q'])"
   ]
  },
  {
   "cell_type": "code",
   "execution_count": 5,
   "metadata": {},
   "outputs": [
    {
     "name": "stdout",
     "output_type": "stream",
     "text": [
      "elements_next: [<nrs.Element object at 0x00000253806E0910>]\n",
      "elements_previous: [<nrs.Element object at 0x00000253806E0110>]\n",
      "type: 1\n",
      "name: МРЛ1\n",
      "q: 9.428630395041587\n",
      "s: 0.015\n",
      "H_in: 80.0\n",
      "h: 10.6642229296875\n",
      "z: 0\n",
      "p: 1\n",
      "n: 8\n",
      "q_out: <function q_out_simple at 0x00000253FEEA7C40>\n",
      "H_add: 0\n",
      "observer: None\n",
      "l: 20\n",
      "ri: 1\n",
      "ro: 1\n",
      "H_out: 69.3357770703125\n"
     ]
    }
   ],
   "source": [
    "NRS_Revision.print_element_state(hoseM1)"
   ]
  },
  {
   "cell_type": "code",
   "execution_count": 6,
   "metadata": {},
   "outputs": [
    {
     "name": "stdout",
     "output_type": "stream",
     "text": [
      "elements_next: [<nrs.Element object at 0x00000253806E0910>]\n",
      "elements_previous: [<nrs.Element object at 0x00000253FF9B1290>]\n",
      "type: 1\n",
      "name: МРЛ2\n",
      "q: 9.428630395041587\n",
      "s: 0.015\n",
      "H_in: 80.0\n",
      "h: 5.33211146484375\n",
      "z: 0\n",
      "p: 1\n",
      "n: 4\n",
      "q_out: <function q_out_simple at 0x00000253FEEA7C40>\n",
      "H_add: 0\n",
      "observer: None\n",
      "l: 20\n",
      "ri: 1\n",
      "ro: 1\n",
      "H_out: 74.66788853515625\n"
     ]
    }
   ],
   "source": [
    "NRS_Revision.print_element_state(hoseM2)"
   ]
  },
  {
   "cell_type": "code",
   "execution_count": 7,
   "metadata": {},
   "outputs": [
    {
     "data": {
      "text/plain": [
       "80.0"
      ]
     },
     "execution_count": 7,
     "metadata": {},
     "output_type": "execute_result"
    }
   ],
   "source": [
    "hoseM1.H_in"
   ]
  },
  {
   "cell_type": "code",
   "execution_count": 8,
   "metadata": {},
   "outputs": [
    {
     "name": "stdout",
     "output_type": "stream",
     "text": [
      "H_add: 0\n",
      "H_out: 69.3357770703125\n",
      "q: 9.428630395041587\n",
      "H_in: 80.0\n",
      "h: 10.6642229296875\n"
     ]
    }
   ],
   "source": [
    "# hoseM1.get_h()\n",
    "NRS_Revision.print_element_state(hoseM1, ['H_add', 'H_out', 'q', 'H_in', 'h'])"
   ]
  },
  {
   "cell_type": "code",
   "execution_count": 9,
   "metadata": {},
   "outputs": [
    {
     "name": "stdout",
     "output_type": "stream",
     "text": [
      "90.6642229296875\n"
     ]
    }
   ],
   "source": [
    "print(hoseM1.h + hoseM1.H_in)"
   ]
  },
  {
   "cell_type": "markdown",
   "metadata": {},
   "source": [
    "# Тест рисования графа\n",
    "\n",
    "Оставлено на будущую работу"
   ]
  },
  {
   "cell_type": "code",
   "execution_count": 12,
   "metadata": {},
   "outputs": [
    {
     "name": "stderr",
     "output_type": "stream",
     "text": [
      "INFO:NRS:Новый элемент НРС: Н1\n",
      "INFO:NRS:Новый элемент НРС: МРЛ Н-Р1\n",
      "INFO:NRS:Новый элемент НРС: Р1\n",
      "INFO:NRS:Новый элемент НРС: МРЛ Р1-Р2\n",
      "INFO:NRS:Новый элемент НРС: Р2\n",
      "INFO:NRS:Новый элемент НРС: РРЛ Р2-1\n",
      "INFO:NRS:Новый элемент НРС: Ствол Р2-1(Б)\n",
      "INFO:NRS:Новый элемент НРС: РРЛ Р2-2\n",
      "INFO:NRS:Новый элемент НРС: Ствол Р2-2(А)\n",
      "INFO:NRS:Новый элемент НРС: РРЛ Р2-3\n",
      "INFO:NRS:Новый элемент НРС: Ствол Р2-3(Б)\n",
      "INFO:NRS:Новый элемент НРС: РРЛ Р1-1\n",
      "INFO:NRS:Новый элемент НРС: Ствол Р1-1(Б)\n",
      "INFO:NRS:Новый элемент НРС: РРЛ Р1-2\n",
      "INFO:NRS:Новый элемент НРС: Ствол Р1-2(Б)\n",
      "WARNING:NRS:Функция `interpretate` устарела и в будущем будет удалена. Ее использование настоятельно не рекомендуется!\n",
      "DEBUG:NRS:Расчет НРС не возможен\n"
     ]
    },
    {
     "name": "stdout",
     "output_type": "stream",
     "text": [
      "Новая модель: Модель от одного насоса к пяти стволам через два разветвления\n",
      "16.65105346870495\n"
     ]
    }
   ],
   "source": [
    "# Создаем модель НРС\n",
    "model3 = NRS_Model('Модель от одного насоса к пяти стволам через два разветвления')\n",
    "\n",
    "# Создаем элементы модели\n",
    "pump = Element('Н1', 0, H_add=40)\n",
    "hoseM_1 = Element('МРЛ Н-Р1', 1, s=NRS_Data.ss[\"77\"], n=3, l=20)\n",
    "\n",
    "splitter_1 = Element('Р1', 1, ri=1, ro=3)\n",
    "hoseW_11 = Element('РРЛ Р1-1', 1, s=NRS_Data.ss[\"51\"], n=3, l=20)\n",
    "nozzle_11 = Element('Ствол Р1-1(Б)', 2, p=0.585, q_out = q_out_nozzle)\n",
    "hoseW_12 = Element('РРЛ Р1-2', 1, s=NRS_Data.ss[\"51\"], n=1, l=20)\n",
    "nozzle_12 = Element('Ствол Р1-2(Б)', 2, p=0.585, q_out = q_out_nozzle)\n",
    "hoseM_12 = Element('МРЛ Р1-Р2', 1, s=NRS_Data.ss[\"77\"], n=3, l=20)\n",
    "\n",
    "splitter_2 = Element('Р2', 1, ri=1, ro=3)\n",
    "hoseW_21 = Element('РРЛ Р2-1', 1, s=NRS_Data.ss[\"51\"], n=1, l=20)\n",
    "nozzle_21 = Element('Ствол Р2-1(Б)', 2, p=0.585, q_out = q_out_nozzle)\n",
    "hoseW_22 = Element('РРЛ Р2-2', 1, s=NRS_Data.ss[\"77\"], n=1, l=20)\n",
    "nozzle_22 = Element('Ствол Р2-2(А)', 2, p=1.17, q_out = q_out_nozzle)\n",
    "hoseW_23 = Element('РРЛ Р2-3', 1, s=NRS_Data.ss[\"51\"], n=3, l=20)\n",
    "nozzle_23 = Element('Ствол Р2-3(Б)', 2, p=0.585, q_out = q_out_nozzle)\n",
    "\n",
    "# Соединяем элементы модели вместе в НРС\n",
    "pump.append(hoseM_1).append(splitter_1).append(hoseM_12).append(splitter_2)\n",
    "\n",
    "splitter_1.append(hoseW_11).append(nozzle_11)   # Рукавная линия к стволу №1\n",
    "splitter_1.append(hoseW_12).append(nozzle_12)   # Рукавная линия к стволу №2\n",
    "\n",
    "splitter_2.append(hoseW_21).append(nozzle_21)   # Рукавная линия к стволу №3\n",
    "splitter_2.append(hoseW_22).append(nozzle_22)   # Рукавная линия к стволу №4\n",
    "splitter_2.append(hoseW_23).append(nozzle_23)   # Рукавная линия к стволу №5\n",
    "\n",
    "# Добавляем обозревателей\n",
    "NRS_Observer_E(pump, ['q', 'H_in'])\n",
    "NRS_Observer_E(nozzle_11, ['q', 'H_in'])\n",
    "NRS_Observer_E(nozzle_12, ['q', 'H_in'])\n",
    "NRS_Observer_E(nozzle_21, ['q', 'H_in'])\n",
    "NRS_Observer_E(nozzle_22, ['q', 'H_in'])\n",
    "NRS_Observer_E(nozzle_23, ['q', 'H_in'])\n",
    "\n",
    "# Строим модель и инициируем обозревателей\n",
    "model3.build(pump, interpretate=True)\n",
    "model3.observersInit()\n",
    "\n",
    "# Расчет\n",
    "model3.calc(accuracy=0.005)\n",
    "print(model3.summaryQ())"
   ]
  },
  {
   "cell_type": "code",
   "execution_count": 13,
   "metadata": {},
   "outputs": [
    {
     "name": "stdout",
     "output_type": "stream",
     "text": [
      "Расстояние до Н1 180 м\n"
     ]
    },
    {
     "data": {
      "image/png": "[encoded data removed]",
      "text/plain": [
       "<Figure size 640x480 with 1 Axes>"
      ]
     },
     "metadata": {},
     "output_type": "display_data"
    }
   ],
   "source": [
    "model = model3\n",
    "# Построение графа НРС\n",
    "G = nx.DiGraph()\n",
    "# Узлы - на каждый элемент\n",
    "for elmnt in model.elmnts:\n",
    "    G.add_node(elmnt.name, q=elmnt.q)\n",
    "# Ребра - на каждую связь\n",
    "for elmnt in model.elmnts:\n",
    "    for elmnt_next in elmnt.elements_next:\n",
    "        G.add_edge(elmnt.name, elmnt_next.name, L=elmnt.get_L())\n",
    "\n",
    "# Расчет расстояния до элементов\n",
    "# for elmnt in model.elmnts_out:\n",
    "#     paths = nx.shortest_path_length(G, target = elmnt.name, weight='L')\n",
    "#     nx.set_node_attributes(G, paths, 'L')   # Здесь нужна другая логика\n",
    "#     print(f'Расстояние до {elmnt.name} {max(paths.values())} м')\n",
    "for elmnt in model.elmnts_in:\n",
    "    paths = nx.shortest_path_length(G, source = elmnt.name, weight='L')\n",
    "    nx.set_node_attributes(G, paths, 'L')   # Здесь нужна другая логика\n",
    "    print(f'Расстояние до {elmnt.name} {max(paths.values())} м')    \n",
    "\n",
    "# Печать графа НРС\n",
    "pos={}\n",
    "pos_list=[]\n",
    "level=0\n",
    "for eo in model.elmnts_in:\n",
    "    v = eo.name\n",
    "    spl = dict(nx.single_source_shortest_path_length(G, v))\n",
    "    for nd, p in spl.items():\n",
    "        if not nd in pos.keys():\n",
    "            level_rize=level\n",
    "            cpos = (p,level_rize)\n",
    "            while cpos in pos_list:\n",
    "                level_rize+=1\n",
    "                cpos = (p,level_rize)\n",
    "            pos[nd]=cpos\n",
    "            pos_list.append(cpos)\n",
    "    level+=1\n",
    "\n",
    "# nc = [nd[1]['q'] for nd in list(G.nodes(data=True))]\n",
    "nc = [nd[1]['L'] for nd in list(G.nodes(data=True))]\n",
    "nx.draw(G, pos=pos, with_labels=True, node_color=nc)\n",
    "plt.show()"
   ]
  },
  {
   "cell_type": "code",
   "execution_count": 14,
   "metadata": {},
   "outputs": [
    {
     "data": {
      "text/plain": [
       "[('Н1', {'q': 16.65105346870495, 'L': 0}),\n",
       " ('МРЛ Н-Р1', {'q': 16.65105346870495, 'L': 0}),\n",
       " ('Р1', {'q': 16.65105346870495, 'L': 60}),\n",
       " ('МРЛ Р1-Р2', {'q': 10.766175275413213, 'L': 60}),\n",
       " ('Р2', {'q': 10.766175275413213, 'L': 120}),\n",
       " ('РРЛ Р2-1', {'q': 2.702849207520263, 'L': 120}),\n",
       " ('Ствол Р2-1(Б)', {'q': 2.702849207520263, 'L': 140}),\n",
       " ('РРЛ Р2-2', {'q': 5.468817291420171, 'L': 120}),\n",
       " ('Ствол Р2-2(А)', {'q': 5.468817291420171, 'L': 140}),\n",
       " ('РРЛ Р2-3', {'q': 2.594508776472779, 'L': 120}),\n",
       " ('Ствол Р2-3(Б)', {'q': 2.594508776472779, 'L': 180}),\n",
       " ('РРЛ Р1-1', {'q': 2.882282693010855, 'L': 60}),\n",
       " ('Ствол Р1-1(Б)', {'q': 2.882282693010855, 'L': 120}),\n",
       " ('РРЛ Р1-2', {'q': 3.002595500280884, 'L': 60}),\n",
       " ('Ствол Р1-2(Б)', {'q': 3.002595500280884, 'L': 80})]"
      ]
     },
     "execution_count": 14,
     "metadata": {},
     "output_type": "execute_result"
    }
   ],
   "source": [
    "list(G.nodes(data=True))"
   ]
  }
 ],
 "metadata": {
  "kernelspec": {
   "display_name": "ox_actual",
   "language": "python",
   "name": "python3"
  },
  "language_info": {
   "codemirror_mode": {
    "name": "ipython",
    "version": 3
   },
   "file_extension": ".py",
   "mimetype": "text/x-python",
   "name": "python",
   "nbconvert_exporter": "python",
   "pygments_lexer": "ipython3",
   "version": "3.11.6"
  }
 },
 "nbformat": 4,
 "nbformat_minor": 2
}
